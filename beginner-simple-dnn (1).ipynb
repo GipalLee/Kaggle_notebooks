{
 "cells": [
  {
   "cell_type": "markdown",
   "metadata": {
    "papermill": {
     "duration": 0.015,
     "end_time": "2021-01-30T20:25:36.160717",
     "exception": false,
     "start_time": "2021-01-30T20:25:36.145717",
     "status": "completed"
    },
    "tags": []
   },
   "source": [
    "# Simple DNN\n",
    "\n",
    "DNN (Deep Neural Network)\n",
    "* **DNN (Deep Neural Network):** A **deep neural network (DNN)** is an artificial neural network (ANN) with multiple layers between the input and output layers\n",
    "* **DNN (Deep Neural Network):** has multiple hidden layers \n",
    "* If there are many layers, it cause **vanishing gradient problem**, So it is key point to prevent **overfitting**\n",
    "* Our **DNN** is focusing on classification which ficture is, when **DNN** gets ficture of 10 classes (CIFAR-10)\n",
    "* We are using Keras module\n",
    "\n",
    "<hr>\n",
    "\n",
    "How to use this notebook :\n",
    "\n",
    "There is only minimum explanation\n",
    "\n",
    "This notebook could be helpful for who want to see how code works right away\n",
    "\n",
    "Please upvote if it was helpful !\n",
    "\n",
    "<hr>\n",
    "\n",
    "## Content\n",
    "1. [Import Libraries](#one)\n",
    "2. [Prepare Data](#two)\n",
    "3. [Modeling](#three)\n",
    "4. [Training & Evaluation](#four)\n",
    "\n",
    "<hr>"
   ]
  },
  {
   "cell_type": "markdown",
   "metadata": {
    "papermill": {
     "duration": 0.013271,
     "end_time": "2021-01-30T20:25:36.187672",
     "exception": false,
     "start_time": "2021-01-30T20:25:36.174401",
     "status": "completed"
    },
    "tags": []
   },
   "source": [
    "<a id=\"one\"></a>\n",
    "# 1. Import Libraries"
   ]
  },
  {
   "cell_type": "code",
   "execution_count": 1,
   "metadata": {
    "_cell_guid": "b1076dfc-b9ad-4769-8c92-a6c4dae69d19",
    "_uuid": "8f2839f25d086af736a60e9eeb907d3b93b6e0e5",
    "execution": {
     "iopub.execute_input": "2021-01-30T20:25:36.225219Z",
     "iopub.status.busy": "2021-01-30T20:25:36.224409Z",
     "iopub.status.idle": "2021-01-30T20:25:44.267291Z",
     "shell.execute_reply": "2021-01-30T20:25:44.266387Z"
    },
    "papermill": {
     "duration": 8.066304,
     "end_time": "2021-01-30T20:25:44.267535",
     "exception": false,
     "start_time": "2021-01-30T20:25:36.201231",
     "status": "completed"
    },
    "tags": []
   },
   "outputs": [],
   "source": [
    "from keras import layers, models\n",
    "import numpy as np # to use reshape()\n",
    "from keras import datasets  # we can bring our data from here\n",
    "from keras.utils import np_utils  # to_categorical\n",
    "import matplotlib.pyplot as plt\n"
   ]
  },
  {
   "cell_type": "markdown",
   "metadata": {
    "papermill": {
     "duration": 0.013338,
     "end_time": "2021-01-30T20:25:44.295627",
     "exception": false,
     "start_time": "2021-01-30T20:25:44.282289",
     "status": "completed"
    },
    "tags": []
   },
   "source": [
    "<a id=\"two\"></a>\n",
    "# 2. Prepare Data"
   ]
  },
  {
   "attachments": {},
   "cell_type": "markdown",
   "metadata": {
    "papermill": {
     "duration": 0.013521,
     "end_time": "2021-01-30T20:25:44.322875",
     "exception": false,
     "start_time": "2021-01-30T20:25:44.309354",
     "status": "completed"
    },
    "tags": []
   },
   "source": [
    "* 60000 data ( 50000 for training, 10000 for test)\n",
    "* 32 * 32 * 3 (RGB image),(each pixel can have 0~255 value)\n",
    "* 0 ~ 9 (10 classes)\n",
    "* https://www.cs.toronto.edu/~kriz/cifar.html"
   ]
  },
  {
   "cell_type": "code",
   "execution_count": 2,
   "metadata": {
    "execution": {
     "iopub.execute_input": "2021-01-30T20:25:44.356835Z",
     "iopub.status.busy": "2021-01-30T20:25:44.356044Z",
     "iopub.status.idle": "2021-01-30T20:25:59.402334Z",
     "shell.execute_reply": "2021-01-30T20:25:59.400767Z"
    },
    "papermill": {
     "duration": 15.065953,
     "end_time": "2021-01-30T20:25:59.402635",
     "exception": false,
     "start_time": "2021-01-30T20:25:44.336682",
     "status": "completed"
    },
    "tags": []
   },
   "outputs": [
    {
     "name": "stdout",
     "output_type": "stream",
     "text": [
      "Downloading data from https://www.cs.toronto.edu/~kriz/cifar-10-python.tar.gz\n",
      "170500096/170498071 [==============================] - 12s 0us/step\n"
     ]
    }
   ],
   "source": [
    "# bring our data\n",
    "\n",
    "(X_train, y_train), (X_test, y_test) = datasets.cifar10.load_data()"
   ]
  },
  {
   "cell_type": "code",
   "execution_count": 3,
   "metadata": {
    "execution": {
     "iopub.execute_input": "2021-01-30T20:25:59.496879Z",
     "iopub.status.busy": "2021-01-30T20:25:59.496188Z",
     "iopub.status.idle": "2021-01-30T20:25:59.500010Z",
     "shell.execute_reply": "2021-01-30T20:25:59.500657Z"
    },
    "papermill": {
     "duration": 0.050365,
     "end_time": "2021-01-30T20:25:59.500883",
     "exception": false,
     "start_time": "2021-01-30T20:25:59.450518",
     "status": "completed"
    },
    "tags": []
   },
   "outputs": [
    {
     "name": "stdout",
     "output_type": "stream",
     "text": [
      "(50000, 32, 32, 3)\n",
      "(10000, 32, 32, 3)\n"
     ]
    }
   ],
   "source": [
    "# check \n",
    "\n",
    "print(X_train.shape)\n",
    "print(X_test.shape)\n"
   ]
  },
  {
   "cell_type": "code",
   "execution_count": 4,
   "metadata": {
    "execution": {
     "iopub.execute_input": "2021-01-30T20:25:59.590813Z",
     "iopub.status.busy": "2021-01-30T20:25:59.588996Z",
     "iopub.status.idle": "2021-01-30T20:25:59.604579Z",
     "shell.execute_reply": "2021-01-30T20:25:59.605095Z"
    },
    "papermill": {
     "duration": 0.062457,
     "end_time": "2021-01-30T20:25:59.605333",
     "exception": false,
     "start_time": "2021-01-30T20:25:59.542876",
     "status": "completed"
    },
    "tags": []
   },
   "outputs": [
    {
     "data": {
      "text/plain": [
       "array([[[ 59,  62,  63],\n",
       "        [ 43,  46,  45],\n",
       "        [ 50,  48,  43],\n",
       "        ...,\n",
       "        [158, 132, 108],\n",
       "        [152, 125, 102],\n",
       "        [148, 124, 103]],\n",
       "\n",
       "       [[ 16,  20,  20],\n",
       "        [  0,   0,   0],\n",
       "        [ 18,   8,   0],\n",
       "        ...,\n",
       "        [123,  88,  55],\n",
       "        [119,  83,  50],\n",
       "        [122,  87,  57]],\n",
       "\n",
       "       [[ 25,  24,  21],\n",
       "        [ 16,   7,   0],\n",
       "        [ 49,  27,   8],\n",
       "        ...,\n",
       "        [118,  84,  50],\n",
       "        [120,  84,  50],\n",
       "        [109,  73,  42]],\n",
       "\n",
       "       ...,\n",
       "\n",
       "       [[208, 170,  96],\n",
       "        [201, 153,  34],\n",
       "        [198, 161,  26],\n",
       "        ...,\n",
       "        [160, 133,  70],\n",
       "        [ 56,  31,   7],\n",
       "        [ 53,  34,  20]],\n",
       "\n",
       "       [[180, 139,  96],\n",
       "        [173, 123,  42],\n",
       "        [186, 144,  30],\n",
       "        ...,\n",
       "        [184, 148,  94],\n",
       "        [ 97,  62,  34],\n",
       "        [ 83,  53,  34]],\n",
       "\n",
       "       [[177, 144, 116],\n",
       "        [168, 129,  94],\n",
       "        [179, 142,  87],\n",
       "        ...,\n",
       "        [216, 184, 140],\n",
       "        [151, 118,  84],\n",
       "        [123,  92,  72]]], dtype=uint8)"
      ]
     },
     "execution_count": 4,
     "metadata": {},
     "output_type": "execute_result"
    }
   ],
   "source": [
    "# check\n",
    "\n",
    "X_train[0]"
   ]
  },
  {
   "cell_type": "code",
   "execution_count": 5,
   "metadata": {
    "execution": {
     "iopub.execute_input": "2021-01-30T20:25:59.723656Z",
     "iopub.status.busy": "2021-01-30T20:25:59.717756Z",
     "iopub.status.idle": "2021-01-30T20:25:59.886222Z",
     "shell.execute_reply": "2021-01-30T20:25:59.885451Z"
    },
    "papermill": {
     "duration": 0.240992,
     "end_time": "2021-01-30T20:25:59.886398",
     "exception": false,
     "start_time": "2021-01-30T20:25:59.645406",
     "status": "completed"
    },
    "tags": []
   },
   "outputs": [
    {
     "data": {
      "image/png": "[encoded data removed]",
      "text/plain": [
       "<Figure size 432x288 with 1 Axes>"
      ]
     },
     "metadata": {
      "needs_background": "light"
     },
     "output_type": "display_data"
    }
   ],
   "source": [
    "# check\n",
    "\n",
    "plt.imshow(X_train[0])\n",
    "plt.show()"
   ]
  },
  {
   "cell_type": "code",
   "execution_count": 6,
   "metadata": {
    "execution": {
     "iopub.execute_input": "2021-01-30T20:25:59.974083Z",
     "iopub.status.busy": "2021-01-30T20:25:59.972832Z",
     "iopub.status.idle": "2021-01-30T20:25:59.978424Z",
     "shell.execute_reply": "2021-01-30T20:25:59.977630Z"
    },
    "papermill": {
     "duration": 0.051768,
     "end_time": "2021-01-30T20:25:59.978598",
     "exception": false,
     "start_time": "2021-01-30T20:25:59.926830",
     "status": "completed"
    },
    "tags": []
   },
   "outputs": [],
   "source": [
    "# we change from output(0~9) to output((0 or 1) * 10) vector\n",
    "\n",
    "Y_train = np_utils.to_categorical(y_train)\n",
    "Y_test = np_utils.to_categorical(y_test)"
   ]
  },
  {
   "cell_type": "code",
   "execution_count": 7,
   "metadata": {
    "execution": {
     "iopub.execute_input": "2021-01-30T20:26:00.065850Z",
     "iopub.status.busy": "2021-01-30T20:26:00.065154Z",
     "iopub.status.idle": "2021-01-30T20:26:00.598893Z",
     "shell.execute_reply": "2021-01-30T20:26:00.598034Z"
    },
    "papermill": {
     "duration": 0.580378,
     "end_time": "2021-01-30T20:26:00.599243",
     "exception": false,
     "start_time": "2021-01-30T20:26:00.018865",
     "status": "completed"
    },
    "tags": []
   },
   "outputs": [],
   "source": [
    "# we need to change 3 dimention data to 2 dimention for training\n",
    "\n",
    "L, W, H, C = X_train.shape # L = data count, W = width, H = heigh, C = RGB\n",
    "\n",
    "# DNN handle 2-dimention vector data type, so we need to change to (first line = data count, second = W*H*C)\n",
    "X_train = X_train.reshape(-1,W*H*C) # -1 means auto\n",
    "X_test = X_test.reshape(-1,W*H*C)"
   ]
  },
  {
   "cell_type": "code",
   "execution_count": 8,
   "metadata": {
    "execution": {
     "iopub.execute_input": "2021-01-30T20:26:00.693431Z",
     "iopub.status.busy": "2021-01-30T20:26:00.692583Z",
     "iopub.status.idle": "2021-01-30T20:26:00.700085Z",
     "shell.execute_reply": "2021-01-30T20:26:00.699424Z"
    },
    "papermill": {
     "duration": 0.050717,
     "end_time": "2021-01-30T20:26:00.700271",
     "exception": false,
     "start_time": "2021-01-30T20:26:00.649554",
     "status": "completed"
    },
    "tags": []
   },
   "outputs": [
    {
     "data": {
      "text/plain": [
       "(50000, 3072)"
      ]
     },
     "execution_count": 8,
     "metadata": {},
     "output_type": "execute_result"
    }
   ],
   "source": [
    "X_train.shape"
   ]
  },
  {
   "cell_type": "code",
   "execution_count": 9,
   "metadata": {
    "execution": {
     "iopub.execute_input": "2021-01-30T20:26:00.784515Z",
     "iopub.status.busy": "2021-01-30T20:26:00.783298Z",
     "iopub.status.idle": "2021-01-30T20:26:01.560299Z",
     "shell.execute_reply": "2021-01-30T20:26:01.559728Z"
    },
    "papermill": {
     "duration": 0.817415,
     "end_time": "2021-01-30T20:26:01.560464",
     "exception": false,
     "start_time": "2021-01-30T20:26:00.743049",
     "status": "completed"
    },
    "tags": []
   },
   "outputs": [],
   "source": [
    "# normalization\n",
    "\n",
    "X_train = X_train / 255.0\n",
    "X_test = X_test / 255.0"
   ]
  },
  {
   "cell_type": "code",
   "execution_count": 10,
   "metadata": {
    "execution": {
     "iopub.execute_input": "2021-01-30T20:26:01.643143Z",
     "iopub.status.busy": "2021-01-30T20:26:01.641987Z",
     "iopub.status.idle": "2021-01-30T20:26:01.646018Z",
     "shell.execute_reply": "2021-01-30T20:26:01.645438Z"
    },
    "papermill": {
     "duration": 0.048581,
     "end_time": "2021-01-30T20:26:01.646158",
     "exception": false,
     "start_time": "2021-01-30T20:26:01.597577",
     "status": "completed"
    },
    "tags": []
   },
   "outputs": [],
   "source": [
    "def Data_func():\n",
    "    (X_train, y_train), (X_test, y_test) = datasets.cifar10.load_data()\n",
    "\n",
    "    Y_train = np_utils.to_categorical(y_train)\n",
    "    Y_test = np_utils.to_categorical(y_test)\n",
    "\n",
    "    L, W, H, C = X_train.shape \n",
    "    \n",
    "    X_train = X_train.reshape(-1, W * H * C)\n",
    "    X_test = X_test.reshape(-1, W * H * C)\n",
    "\n",
    "    # normalization\n",
    "    X_train = X_train / 255.0\n",
    "    X_test = X_test / 255.0\n",
    "\n",
    "    return (X_train, Y_train), (X_test, Y_test)"
   ]
  },
  {
   "cell_type": "markdown",
   "metadata": {
    "papermill": {
     "duration": 0.036269,
     "end_time": "2021-01-30T20:26:01.719612",
     "exception": false,
     "start_time": "2021-01-30T20:26:01.683343",
     "status": "completed"
    },
    "tags": []
   },
   "source": [
    "<a id=\"three\"></a>\n",
    "# 3. Modeliing"
   ]
  },
  {
   "cell_type": "markdown",
   "metadata": {
    "papermill": {
     "duration": 0.03646,
     "end_time": "2021-01-30T20:26:01.792979",
     "exception": false,
     "start_time": "2021-01-30T20:26:01.756519",
     "status": "completed"
    },
    "tags": []
   },
   "source": [
    "* We use relu activation function for preventing overfitting\n",
    "* Dropout(P) means Send a signal with P probability"
   ]
  },
  {
   "cell_type": "code",
   "execution_count": 11,
   "metadata": {
    "execution": {
     "iopub.execute_input": "2021-01-30T20:26:01.879477Z",
     "iopub.status.busy": "2021-01-30T20:26:01.878791Z",
     "iopub.status.idle": "2021-01-30T20:26:01.882287Z",
     "shell.execute_reply": "2021-01-30T20:26:01.882846Z"
    },
    "papermill": {
     "duration": 0.051842,
     "end_time": "2021-01-30T20:26:01.883042",
     "exception": false,
     "start_time": "2021-01-30T20:26:01.831200",
     "status": "completed"
    },
    "tags": []
   },
   "outputs": [],
   "source": [
    "class DNN(models.Sequential):\n",
    "    def __init__(self, Nin, Nh_l, Pd_l, Nout):\n",
    "        super().__init__()\n",
    "        \n",
    "        # first hidden layer\n",
    "        self.add(layers.Dense(Nh_l[0], activation='relu',\n",
    "                              input_shape=(Nin,), name='Hidden-1'))\n",
    "        self.add(layers.Dropout(Pd_l[0]))      \n",
    "        \n",
    "        # second hidden layer (we dont have to set input_shape, keras do it)\n",
    "        self.add(layers.Dense(Nh_l[1], activation='relu',\n",
    "                              name='Hidden-2'))\n",
    "        self.add(layers.Dropout(Pd_l[1]))\n",
    "\n",
    "        \n",
    "        # output layer\n",
    "        self.add(layers.Dense(Nout, activation='softmax'))\n",
    "\n",
    "        self.compile(loss='categorical_crossentropy',\n",
    "                     optimizer='adam',\n",
    "                     metrics=['accuracy'])"
   ]
  },
  {
   "cell_type": "markdown",
   "metadata": {
    "papermill": {
     "duration": 0.037782,
     "end_time": "2021-01-30T20:26:01.958111",
     "exception": false,
     "start_time": "2021-01-30T20:26:01.920329",
     "status": "completed"
    },
    "tags": []
   },
   "source": [
    "<a id=\"four\"></a>\n",
    "# 4. Training & Evaluation"
   ]
  },
  {
   "cell_type": "code",
   "execution_count": 12,
   "metadata": {
    "execution": {
     "iopub.execute_input": "2021-01-30T20:26:02.043873Z",
     "iopub.status.busy": "2021-01-30T20:26:02.043187Z",
     "iopub.status.idle": "2021-01-30T20:26:02.047409Z",
     "shell.execute_reply": "2021-01-30T20:26:02.048050Z"
    },
    "papermill": {
     "duration": 0.052991,
     "end_time": "2021-01-30T20:26:02.048277",
     "exception": false,
     "start_time": "2021-01-30T20:26:01.995286",
     "status": "completed"
    },
    "tags": []
   },
   "outputs": [],
   "source": [
    "# check for accuracy\n",
    "def plot_acc(history, title=None):\n",
    "    # summarize history for accuracy\n",
    "    if not isinstance(history, dict):\n",
    "        history = history.history\n",
    "\n",
    "    plt.plot(history['accuracy'])\n",
    "    plt.plot(history['val_accuracy'])\n",
    "    if title is not None:\n",
    "        plt.title(title)\n",
    "    plt.ylabel('Accuracy')\n",
    "    plt.xlabel('Epoch')\n",
    "    plt.legend(['Training', 'Verification'], loc=0)\n",
    "    # plt.show()\n",
    "    \n",
    "# check for loss\n",
    "def plot_loss(history, title=None):\n",
    "    # summarize history for loss\n",
    "    if not isinstance(history, dict):\n",
    "        history = history.history\n",
    "\n",
    "    plt.plot(history['loss'])     # training loss\n",
    "    plt.plot(history['val_loss']) # validation loss\n",
    "    if title is not None:\n",
    "        plt.title(title)\n",
    "    plt.ylabel('Loss')\n",
    "    plt.xlabel('Epoch')\n",
    "    plt.legend(['Training', 'Verification'], loc=0)\n",
    "    # plt.show()"
   ]
  },
  {
   "cell_type": "code",
   "execution_count": 13,
   "metadata": {
    "execution": {
     "iopub.execute_input": "2021-01-30T20:26:02.147631Z",
     "iopub.status.busy": "2021-01-30T20:26:02.146601Z",
     "iopub.status.idle": "2021-01-30T20:30:23.055754Z",
     "shell.execute_reply": "2021-01-30T20:30:23.056354Z"
    },
    "papermill": {
     "duration": 260.962192,
     "end_time": "2021-01-30T20:30:23.056551",
     "exception": false,
     "start_time": "2021-01-30T20:26:02.094359",
     "status": "completed"
    },
    "tags": []
   },
   "outputs": [
    {
     "name": "stdout",
     "output_type": "stream",
     "text": [
      "Epoch 1/100\n",
      "400/400 [==============================] - 4s 8ms/step - loss: 2.0386 - accuracy: 0.2546 - val_loss: 1.7980 - val_accuracy: 0.3543\n",
      "Epoch 2/100\n",
      "400/400 [==============================] - 3s 6ms/step - loss: 1.7610 - accuracy: 0.3734 - val_loss: 1.7175 - val_accuracy: 0.3867\n",
      "Epoch 3/100\n",
      "400/400 [==============================] - 2s 6ms/step - loss: 1.6848 - accuracy: 0.3939 - val_loss: 1.6990 - val_accuracy: 0.3938\n",
      "Epoch 4/100\n",
      "400/400 [==============================] - 2s 6ms/step - loss: 1.6271 - accuracy: 0.4168 - val_loss: 1.6591 - val_accuracy: 0.4093\n",
      "Epoch 5/100\n",
      "400/400 [==============================] - 2s 6ms/step - loss: 1.6047 - accuracy: 0.4328 - val_loss: 1.6926 - val_accuracy: 0.3915\n",
      "Epoch 6/100\n",
      "400/400 [==============================] - 3s 6ms/step - loss: 1.5738 - accuracy: 0.4411 - val_loss: 1.6164 - val_accuracy: 0.4241\n",
      "Epoch 7/100\n",
      "400/400 [==============================] - 3s 6ms/step - loss: 1.5571 - accuracy: 0.4442 - val_loss: 1.6030 - val_accuracy: 0.4294\n",
      "Epoch 8/100\n",
      "400/400 [==============================] - 2s 6ms/step - loss: 1.5447 - accuracy: 0.4523 - val_loss: 1.5850 - val_accuracy: 0.4395\n",
      "Epoch 9/100\n",
      "400/400 [==============================] - 2s 6ms/step - loss: 1.5152 - accuracy: 0.4572 - val_loss: 1.5863 - val_accuracy: 0.4367\n",
      "Epoch 10/100\n",
      "400/400 [==============================] - 3s 7ms/step - loss: 1.4948 - accuracy: 0.4707 - val_loss: 1.5487 - val_accuracy: 0.4475\n",
      "Epoch 11/100\n",
      "400/400 [==============================] - 2s 6ms/step - loss: 1.4798 - accuracy: 0.4731 - val_loss: 1.5705 - val_accuracy: 0.4420\n",
      "Epoch 12/100\n",
      "400/400 [==============================] - 2s 6ms/step - loss: 1.4778 - accuracy: 0.4753 - val_loss: 1.5589 - val_accuracy: 0.4475\n",
      "Epoch 13/100\n",
      "400/400 [==============================] - 3s 6ms/step - loss: 1.4615 - accuracy: 0.4830 - val_loss: 1.6152 - val_accuracy: 0.4345\n",
      "Epoch 14/100\n",
      "400/400 [==============================] - 2s 6ms/step - loss: 1.4464 - accuracy: 0.4829 - val_loss: 1.5146 - val_accuracy: 0.4663\n",
      "Epoch 15/100\n",
      "400/400 [==============================] - 3s 6ms/step - loss: 1.4305 - accuracy: 0.4912 - val_loss: 1.5553 - val_accuracy: 0.4483\n",
      "Epoch 16/100\n",
      "400/400 [==============================] - 2s 6ms/step - loss: 1.4256 - accuracy: 0.4934 - val_loss: 1.5402 - val_accuracy: 0.4502\n",
      "Epoch 17/100\n",
      "400/400 [==============================] - 2s 6ms/step - loss: 1.4071 - accuracy: 0.5004 - val_loss: 1.5187 - val_accuracy: 0.4613\n",
      "Epoch 18/100\n",
      "400/400 [==============================] - 3s 6ms/step - loss: 1.4079 - accuracy: 0.4973 - val_loss: 1.5558 - val_accuracy: 0.4527\n",
      "Epoch 19/100\n",
      "400/400 [==============================] - 3s 7ms/step - loss: 1.3920 - accuracy: 0.5082 - val_loss: 1.5098 - val_accuracy: 0.4741\n",
      "Epoch 20/100\n",
      "400/400 [==============================] - 2s 6ms/step - loss: 1.3928 - accuracy: 0.5020 - val_loss: 1.4976 - val_accuracy: 0.4728\n",
      "Epoch 21/100\n",
      "400/400 [==============================] - 2s 6ms/step - loss: 1.4019 - accuracy: 0.5019 - val_loss: 1.5131 - val_accuracy: 0.4704\n",
      "Epoch 22/100\n",
      "400/400 [==============================] - 3s 6ms/step - loss: 1.3713 - accuracy: 0.5140 - val_loss: 1.4912 - val_accuracy: 0.4727\n",
      "Epoch 23/100\n",
      "400/400 [==============================] - 2s 6ms/step - loss: 1.3591 - accuracy: 0.5149 - val_loss: 1.4931 - val_accuracy: 0.4767\n",
      "Epoch 24/100\n",
      "400/400 [==============================] - 3s 6ms/step - loss: 1.3695 - accuracy: 0.5113 - val_loss: 1.4979 - val_accuracy: 0.4699\n",
      "Epoch 25/100\n",
      "400/400 [==============================] - 3s 6ms/step - loss: 1.3616 - accuracy: 0.5159 - val_loss: 1.5002 - val_accuracy: 0.4740\n",
      "Epoch 26/100\n",
      "400/400 [==============================] - 3s 6ms/step - loss: 1.3503 - accuracy: 0.5220 - val_loss: 1.4996 - val_accuracy: 0.4715\n",
      "Epoch 27/100\n",
      "400/400 [==============================] - 2s 6ms/step - loss: 1.3486 - accuracy: 0.5221 - val_loss: 1.4913 - val_accuracy: 0.4704\n",
      "Epoch 28/100\n",
      "400/400 [==============================] - 2s 6ms/step - loss: 1.3330 - accuracy: 0.5248 - val_loss: 1.5018 - val_accuracy: 0.4688\n",
      "Epoch 29/100\n",
      "400/400 [==============================] - 2s 6ms/step - loss: 1.3384 - accuracy: 0.5199 - val_loss: 1.4930 - val_accuracy: 0.4785\n",
      "Epoch 30/100\n",
      "400/400 [==============================] - 2s 6ms/step - loss: 1.3285 - accuracy: 0.5281 - val_loss: 1.4880 - val_accuracy: 0.4761\n",
      "Epoch 31/100\n",
      "400/400 [==============================] - 3s 6ms/step - loss: 1.3289 - accuracy: 0.5265 - val_loss: 1.4862 - val_accuracy: 0.4793\n",
      "Epoch 32/100\n",
      "400/400 [==============================] - 3s 7ms/step - loss: 1.3244 - accuracy: 0.5292 - val_loss: 1.4720 - val_accuracy: 0.4805\n",
      "Epoch 33/100\n",
      "400/400 [==============================] - 3s 6ms/step - loss: 1.3091 - accuracy: 0.5327 - val_loss: 1.4913 - val_accuracy: 0.4726\n",
      "Epoch 34/100\n",
      "400/400 [==============================] - 3s 6ms/step - loss: 1.3152 - accuracy: 0.5308 - val_loss: 1.4889 - val_accuracy: 0.4772\n",
      "Epoch 35/100\n",
      "400/400 [==============================] - 3s 6ms/step - loss: 1.3210 - accuracy: 0.5297 - val_loss: 1.5343 - val_accuracy: 0.4594\n",
      "Epoch 36/100\n",
      "400/400 [==============================] - 3s 6ms/step - loss: 1.3213 - accuracy: 0.5289 - val_loss: 1.5296 - val_accuracy: 0.4612\n",
      "Epoch 37/100\n",
      "400/400 [==============================] - 3s 6ms/step - loss: 1.2993 - accuracy: 0.5419 - val_loss: 1.5242 - val_accuracy: 0.4679\n",
      "Epoch 38/100\n",
      "400/400 [==============================] - 3s 6ms/step - loss: 1.2932 - accuracy: 0.5387 - val_loss: 1.4984 - val_accuracy: 0.4769\n",
      "Epoch 39/100\n",
      "400/400 [==============================] - 3s 6ms/step - loss: 1.3062 - accuracy: 0.5320 - val_loss: 1.5146 - val_accuracy: 0.4700\n",
      "Epoch 40/100\n",
      "400/400 [==============================] - 2s 6ms/step - loss: 1.3150 - accuracy: 0.5303 - val_loss: 1.4910 - val_accuracy: 0.4828\n",
      "Epoch 41/100\n",
      "400/400 [==============================] - 3s 6ms/step - loss: 1.3008 - accuracy: 0.5399 - val_loss: 1.4860 - val_accuracy: 0.4824\n",
      "Epoch 42/100\n",
      "400/400 [==============================] - 3s 6ms/step - loss: 1.2843 - accuracy: 0.5416 - val_loss: 1.4793 - val_accuracy: 0.4877\n",
      "Epoch 43/100\n",
      "400/400 [==============================] - 2s 6ms/step - loss: 1.2784 - accuracy: 0.5440 - val_loss: 1.4870 - val_accuracy: 0.4808\n",
      "Epoch 44/100\n",
      "400/400 [==============================] - 3s 6ms/step - loss: 1.2832 - accuracy: 0.5432 - val_loss: 1.5129 - val_accuracy: 0.4792\n",
      "Epoch 45/100\n",
      "400/400 [==============================] - 3s 7ms/step - loss: 1.2879 - accuracy: 0.5441 - val_loss: 1.4982 - val_accuracy: 0.4765\n",
      "Epoch 46/100\n",
      "400/400 [==============================] - 2s 6ms/step - loss: 1.2784 - accuracy: 0.5434 - val_loss: 1.5148 - val_accuracy: 0.4748\n",
      "Epoch 47/100\n",
      "400/400 [==============================] - 3s 6ms/step - loss: 1.2746 - accuracy: 0.5480 - val_loss: 1.5117 - val_accuracy: 0.4724\n",
      "Epoch 48/100\n",
      "400/400 [==============================] - 3s 6ms/step - loss: 1.2667 - accuracy: 0.5505 - val_loss: 1.4944 - val_accuracy: 0.4791\n",
      "Epoch 49/100\n",
      "400/400 [==============================] - 3s 6ms/step - loss: 1.2660 - accuracy: 0.5489 - val_loss: 1.5241 - val_accuracy: 0.4719\n",
      "Epoch 50/100\n",
      "400/400 [==============================] - 2s 6ms/step - loss: 1.2589 - accuracy: 0.5486 - val_loss: 1.5212 - val_accuracy: 0.4758\n",
      "Epoch 51/100\n",
      "400/400 [==============================] - 3s 6ms/step - loss: 1.2681 - accuracy: 0.5487 - val_loss: 1.5229 - val_accuracy: 0.4759\n",
      "Epoch 52/100\n",
      "400/400 [==============================] - 3s 6ms/step - loss: 1.2547 - accuracy: 0.5513 - val_loss: 1.4853 - val_accuracy: 0.4877\n",
      "Epoch 53/100\n",
      "400/400 [==============================] - 2s 6ms/step - loss: 1.2591 - accuracy: 0.5543 - val_loss: 1.5461 - val_accuracy: 0.4754\n",
      "Epoch 54/100\n",
      "400/400 [==============================] - 3s 6ms/step - loss: 1.2570 - accuracy: 0.5499 - val_loss: 1.5052 - val_accuracy: 0.4813\n",
      "Epoch 55/100\n",
      "400/400 [==============================] - 3s 6ms/step - loss: 1.2489 - accuracy: 0.5541 - val_loss: 1.5288 - val_accuracy: 0.4720\n",
      "Epoch 56/100\n",
      "400/400 [==============================] - 3s 6ms/step - loss: 1.2484 - accuracy: 0.5518 - val_loss: 1.4989 - val_accuracy: 0.4884\n",
      "Epoch 57/100\n",
      "400/400 [==============================] - 2s 6ms/step - loss: 1.2434 - accuracy: 0.5562 - val_loss: 1.4907 - val_accuracy: 0.4844\n",
      "Epoch 58/100\n",
      "400/400 [==============================] - 3s 7ms/step - loss: 1.2272 - accuracy: 0.5604 - val_loss: 1.4874 - val_accuracy: 0.4833\n",
      "Epoch 59/100\n",
      "400/400 [==============================] - 3s 7ms/step - loss: 1.2317 - accuracy: 0.5616 - val_loss: 1.4861 - val_accuracy: 0.4866\n",
      "Epoch 60/100\n",
      "400/400 [==============================] - 3s 6ms/step - loss: 1.2143 - accuracy: 0.5701 - val_loss: 1.5335 - val_accuracy: 0.4754\n",
      "Epoch 61/100\n",
      "400/400 [==============================] - 3s 6ms/step - loss: 1.2419 - accuracy: 0.5587 - val_loss: 1.4842 - val_accuracy: 0.4904\n",
      "Epoch 62/100\n",
      "400/400 [==============================] - 3s 6ms/step - loss: 1.2205 - accuracy: 0.5623 - val_loss: 1.5337 - val_accuracy: 0.4775\n",
      "Epoch 63/100\n",
      "400/400 [==============================] - 3s 6ms/step - loss: 1.2364 - accuracy: 0.5554 - val_loss: 1.5134 - val_accuracy: 0.4783\n",
      "Epoch 64/100\n",
      "400/400 [==============================] - 3s 6ms/step - loss: 1.2382 - accuracy: 0.5601 - val_loss: 1.5346 - val_accuracy: 0.4771\n",
      "Epoch 65/100\n",
      "400/400 [==============================] - 2s 6ms/step - loss: 1.2196 - accuracy: 0.5670 - val_loss: 1.5019 - val_accuracy: 0.4844\n",
      "Epoch 66/100\n",
      "400/400 [==============================] - 2s 6ms/step - loss: 1.2112 - accuracy: 0.5697 - val_loss: 1.5154 - val_accuracy: 0.4779\n",
      "Epoch 67/100\n",
      "400/400 [==============================] - 3s 6ms/step - loss: 1.2331 - accuracy: 0.5593 - val_loss: 1.5476 - val_accuracy: 0.4763\n",
      "Epoch 68/100\n",
      "400/400 [==============================] - 3s 6ms/step - loss: 1.2163 - accuracy: 0.5631 - val_loss: 1.4963 - val_accuracy: 0.4857\n",
      "Epoch 69/100\n",
      "400/400 [==============================] - 3s 6ms/step - loss: 1.2056 - accuracy: 0.5686 - val_loss: 1.5093 - val_accuracy: 0.4900\n",
      "Epoch 70/100\n",
      "400/400 [==============================] - 2s 6ms/step - loss: 1.2184 - accuracy: 0.5641 - val_loss: 1.5007 - val_accuracy: 0.4867\n",
      "Epoch 71/100\n",
      "400/400 [==============================] - 3s 7ms/step - loss: 1.2083 - accuracy: 0.5656 - val_loss: 1.5411 - val_accuracy: 0.4759\n",
      "Epoch 72/100\n",
      "400/400 [==============================] - 3s 6ms/step - loss: 1.2102 - accuracy: 0.5657 - val_loss: 1.5103 - val_accuracy: 0.4925\n",
      "Epoch 73/100\n",
      "400/400 [==============================] - 3s 6ms/step - loss: 1.2055 - accuracy: 0.5679 - val_loss: 1.5206 - val_accuracy: 0.4836\n",
      "Epoch 74/100\n",
      "400/400 [==============================] - 3s 6ms/step - loss: 1.1991 - accuracy: 0.5729 - val_loss: 1.5147 - val_accuracy: 0.4811\n",
      "Epoch 75/100\n",
      "400/400 [==============================] - 3s 6ms/step - loss: 1.2055 - accuracy: 0.5655 - val_loss: 1.5169 - val_accuracy: 0.4822\n",
      "Epoch 76/100\n",
      "400/400 [==============================] - 3s 6ms/step - loss: 1.1972 - accuracy: 0.5763 - val_loss: 1.5117 - val_accuracy: 0.4851\n",
      "Epoch 77/100\n",
      "400/400 [==============================] - 3s 6ms/step - loss: 1.2103 - accuracy: 0.5683 - val_loss: 1.5223 - val_accuracy: 0.4816\n",
      "Epoch 78/100\n",
      "400/400 [==============================] - 3s 6ms/step - loss: 1.2081 - accuracy: 0.5704 - val_loss: 1.5617 - val_accuracy: 0.4771\n",
      "Epoch 79/100\n",
      "400/400 [==============================] - 2s 6ms/step - loss: 1.1959 - accuracy: 0.5694 - val_loss: 1.5550 - val_accuracy: 0.4761\n",
      "Epoch 80/100\n",
      "400/400 [==============================] - 3s 6ms/step - loss: 1.1944 - accuracy: 0.5703 - val_loss: 1.5265 - val_accuracy: 0.4792\n",
      "Epoch 81/100\n",
      "400/400 [==============================] - 3s 6ms/step - loss: 1.1939 - accuracy: 0.5718 - val_loss: 1.5176 - val_accuracy: 0.4834\n",
      "Epoch 82/100\n",
      "400/400 [==============================] - 3s 7ms/step - loss: 1.1941 - accuracy: 0.5724 - val_loss: 1.5257 - val_accuracy: 0.4818\n",
      "Epoch 83/100\n",
      "400/400 [==============================] - 3s 7ms/step - loss: 1.1837 - accuracy: 0.5785 - val_loss: 1.5257 - val_accuracy: 0.4834\n",
      "Epoch 84/100\n",
      "400/400 [==============================] - 3s 7ms/step - loss: 1.1890 - accuracy: 0.5758 - val_loss: 1.5224 - val_accuracy: 0.4826\n",
      "Epoch 85/100\n",
      "400/400 [==============================] - 2s 6ms/step - loss: 1.1731 - accuracy: 0.5792 - val_loss: 1.5339 - val_accuracy: 0.4828\n",
      "Epoch 86/100\n",
      "400/400 [==============================] - 2s 6ms/step - loss: 1.1871 - accuracy: 0.5735 - val_loss: 1.6088 - val_accuracy: 0.4703\n",
      "Epoch 87/100\n",
      "400/400 [==============================] - 2s 6ms/step - loss: 1.1858 - accuracy: 0.5756 - val_loss: 1.5256 - val_accuracy: 0.4768\n",
      "Epoch 88/100\n",
      "400/400 [==============================] - 3s 6ms/step - loss: 1.1829 - accuracy: 0.5743 - val_loss: 1.5448 - val_accuracy: 0.4786\n",
      "Epoch 89/100\n",
      "400/400 [==============================] - 2s 6ms/step - loss: 1.1681 - accuracy: 0.5826 - val_loss: 1.5264 - val_accuracy: 0.4820\n",
      "Epoch 90/100\n",
      "400/400 [==============================] - 3s 6ms/step - loss: 1.1824 - accuracy: 0.5747 - val_loss: 1.5270 - val_accuracy: 0.4871\n",
      "Epoch 91/100\n",
      "400/400 [==============================] - 2s 6ms/step - loss: 1.1639 - accuracy: 0.5827 - val_loss: 1.5525 - val_accuracy: 0.4753\n",
      "Epoch 92/100\n",
      "400/400 [==============================] - 2s 6ms/step - loss: 1.1706 - accuracy: 0.5805 - val_loss: 1.5352 - val_accuracy: 0.4834\n",
      "Epoch 93/100\n",
      "400/400 [==============================] - 2s 6ms/step - loss: 1.1670 - accuracy: 0.5801 - val_loss: 1.5465 - val_accuracy: 0.4793\n",
      "Epoch 94/100\n",
      "400/400 [==============================] - 2s 6ms/step - loss: 1.1588 - accuracy: 0.5865 - val_loss: 1.5372 - val_accuracy: 0.4807\n",
      "Epoch 95/100\n",
      "400/400 [==============================] - 3s 6ms/step - loss: 1.1661 - accuracy: 0.5842 - val_loss: 1.5767 - val_accuracy: 0.4737\n",
      "Epoch 96/100\n",
      "400/400 [==============================] - 3s 7ms/step - loss: 1.1598 - accuracy: 0.5828 - val_loss: 1.5826 - val_accuracy: 0.4803\n",
      "Epoch 97/100\n",
      "400/400 [==============================] - 3s 7ms/step - loss: 1.1645 - accuracy: 0.5833 - val_loss: 1.6072 - val_accuracy: 0.4690\n",
      "Epoch 98/100\n",
      "400/400 [==============================] - 3s 6ms/step - loss: 1.1838 - accuracy: 0.5733 - val_loss: 1.5469 - val_accuracy: 0.4803\n",
      "Epoch 99/100\n",
      "400/400 [==============================] - 2s 6ms/step - loss: 1.1693 - accuracy: 0.5810 - val_loss: 1.5283 - val_accuracy: 0.4824\n",
      "Epoch 100/100\n",
      "400/400 [==============================] - 2s 6ms/step - loss: 1.1744 - accuracy: 0.5850 - val_loss: 1.5189 - val_accuracy: 0.4869\n",
      "100/100 [==============================] - 0s 3ms/step - loss: 1.4893 - accuracy: 0.4936\n",
      "Test Loss and Accuracy -> [1.4893457889556885, 0.4936000108718872]\n"
     ]
    },
    {
     "data": {
      "image/png": "[encoded data removed]",
      "text/plain": [
       "<Figure size 432x288 with 1 Axes>"
      ]
     },
     "metadata": {
      "needs_background": "light"
     },
     "output_type": "display_data"
    },
    {
     "data": {
      "image/png": "[encoded data removed]",
      "text/plain": [
       "<Figure size 432x288 with 1 Axes>"
      ]
     },
     "metadata": {
      "needs_background": "light"
     },
     "output_type": "display_data"
    }
   ],
   "source": [
    "def main(Pd_l=[0.0, 0.0]):\n",
    "    Nh_l = [100, 50]\n",
    "    number_of_class = 10\n",
    "    Nout = number_of_class\n",
    "\n",
    "    (X_train, Y_train), (X_test, Y_test) = Data_func()\n",
    "    model = DNN(X_train.shape[1], Nh_l, Pd_l, Nout)\n",
    "    history = model.fit(X_train, Y_train, epochs=100, batch_size=100, validation_split=0.2)\n",
    "\n",
    "    performace_test = model.evaluate(X_test, Y_test, batch_size=100)\n",
    "    print('Test Loss and Accuracy ->', performace_test)\n",
    "\n",
    "    plot_acc(history, '(a) Changes in accuracy')\n",
    "    plt.show()\n",
    "    plot_loss(history, '(b) Changes in loss')\n",
    "    plt.show()\n",
    "\n",
    "\n",
    "if __name__ == '__main__':\n",
    "    main(Pd_l=[0.0, 0.0])"
   ]
  },
  {
   "cell_type": "markdown",
   "metadata": {
    "papermill": {
     "duration": 1.495021,
     "end_time": "2021-01-30T20:30:26.118813",
     "exception": false,
     "start_time": "2021-01-30T20:30:24.623792",
     "status": "completed"
    },
    "tags": []
   },
   "source": [
    "## Reference\n",
    "* Coding chef 3 minute deep learning  -(https://github.com/jskDr/keraspp/blob/master/ex3_2_dnn_cifar10_cl.py)"
   ]
  }
 ],
 "metadata": {
  "kernelspec": {
   "display_name": "Python 3",
   "language": "python",
   "name": "python3"
  },
  "language_info": {
   "codemirror_mode": {
    "name": "ipython",
    "version": 3
   },
   "file_extension": ".py",
   "mimetype": "text/x-python",
   "name": "python",
   "nbconvert_exporter": "python",
   "pygments_lexer": "ipython3",
   "version": "3.7.9"
  },
  "papermill": {
   "default_parameters": {},
   "duration": 301.115329,
   "end_time": "2021-01-30T20:30:29.248254",
   "environment_variables": {},
   "exception": null,
   "input_path": "__notebook__.ipynb",
   "output_path": "__notebook__.ipynb",
   "parameters": {},
   "start_time": "2021-01-30T20:25:28.132925",
   "version": "2.2.2"
  }
 },
 "nbformat": 4,
 "nbformat_minor": 4
}
