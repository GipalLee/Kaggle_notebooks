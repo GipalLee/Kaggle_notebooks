{
 "cells": [
  {
   "cell_type": "markdown",
   "metadata": {
    "papermill": {
     "duration": 0.011937,
     "end_time": "2021-01-25T05:42:46.516126",
     "exception": false,
     "start_time": "2021-01-25T05:42:46.504189",
     "status": "completed"
    },
    "tags": []
   },
   "source": [
    "# Simple LSTM \n",
    "\n",
    "LSTM (Long term Short Term memory)\n",
    "* **RNN (Recurrent Neural Network)** has problem about long term memory, **LSTM** has improvement about that\n",
    "* Our **LSTM** is focusing on predicting some movie is good or not, when **LSTM** gets people's reputation\n",
    "\n",
    "<hr>\n",
    "\n",
    "How to use this notebook :\n",
    "\n",
    "There is only minimum explanation\n",
    "\n",
    "This notebook could be helpful for who want to see how code works right away\n",
    "\n",
    "Please upvote if it was helpful !\n",
    "\n",
    "<hr>\n",
    "\n",
    "## Content\n",
    "1. [Libraries import](#one)\n",
    "2. [Prepare Data](#two)\n",
    "3. [Modeling](#three)\n",
    "4. [Training & Evaluation](#four)\n",
    "\n",
    "<hr>"
   ]
  },
  {
   "cell_type": "markdown",
   "metadata": {
    "papermill": {
     "duration": 0.008571,
     "end_time": "2021-01-25T05:42:46.534368",
     "exception": false,
     "start_time": "2021-01-25T05:42:46.525797",
     "status": "completed"
    },
    "tags": []
   },
   "source": [
    "<a id=\"one\"></a>\n",
    "# 1. Libraries import"
   ]
  },
  {
   "cell_type": "code",
   "execution_count": 1,
   "metadata": {
    "_cell_guid": "b1076dfc-b9ad-4769-8c92-a6c4dae69d19",
    "_uuid": "8f2839f25d086af736a60e9eeb907d3b93b6e0e5",
    "execution": {
     "iopub.execute_input": "2021-01-25T05:42:46.558571Z",
     "iopub.status.busy": "2021-01-25T05:42:46.557929Z",
     "iopub.status.idle": "2021-01-25T05:42:53.274590Z",
     "shell.execute_reply": "2021-01-25T05:42:53.273811Z"
    },
    "papermill": {
     "duration": 6.731171,
     "end_time": "2021-01-25T05:42:53.274726",
     "exception": false,
     "start_time": "2021-01-25T05:42:46.543555",
     "status": "completed"
    },
    "tags": []
   },
   "outputs": [],
   "source": [
    "from keras.preprocessing import sequence\n",
    "from keras.datasets import imdb # IMDB is public data from keras \n",
    "from keras import layers, models\n"
   ]
  },
  {
   "cell_type": "markdown",
   "metadata": {
    "papermill": {
     "duration": 0.013497,
     "end_time": "2021-01-25T05:42:53.302435",
     "exception": false,
     "start_time": "2021-01-25T05:42:53.288938",
     "status": "completed"
    },
    "tags": []
   },
   "source": [
    "<a id=\"two\"></a>\n",
    "# 2. Prepare Data"
   ]
  },
  {
   "cell_type": "code",
   "execution_count": 2,
   "metadata": {
    "execution": {
     "iopub.execute_input": "2021-01-25T05:42:53.332746Z",
     "iopub.status.busy": "2021-01-25T05:42:53.331954Z",
     "iopub.status.idle": "2021-01-25T05:43:01.558978Z",
     "shell.execute_reply": "2021-01-25T05:43:01.558407Z"
    },
    "papermill": {
     "duration": 8.243537,
     "end_time": "2021-01-25T05:43:01.559085",
     "exception": false,
     "start_time": "2021-01-25T05:42:53.315548",
     "status": "completed"
    },
    "tags": []
   },
   "outputs": [
    {
     "name": "stdout",
     "output_type": "stream",
     "text": [
      "Downloading data from https://storage.googleapis.com/tensorflow/tf-keras-datasets/imdb.npz\n",
      "17465344/17464789 [==============================] - 0s 0us/step\n"
     ]
    }
   ],
   "source": [
    "(x_train, y_train), (x_test, y_test) = imdb.load_data(num_words=20000)"
   ]
  },
  {
   "cell_type": "code",
   "execution_count": 3,
   "metadata": {
    "execution": {
     "iopub.execute_input": "2021-01-25T05:43:01.588556Z",
     "iopub.status.busy": "2021-01-25T05:43:01.587386Z",
     "iopub.status.idle": "2021-01-25T05:43:01.591959Z",
     "shell.execute_reply": "2021-01-25T05:43:01.592650Z"
    },
    "papermill": {
     "duration": 0.022328,
     "end_time": "2021-01-25T05:43:01.592801",
     "exception": false,
     "start_time": "2021-01-25T05:43:01.570473",
     "status": "completed"
    },
    "tags": []
   },
   "outputs": [
    {
     "data": {
      "text/plain": [
       "(25000,)"
      ]
     },
     "execution_count": 3,
     "metadata": {},
     "output_type": "execute_result"
    }
   ],
   "source": [
    "x_train.shape\n",
    "\n",
    "# 25000 binary movie reputation\n",
    "# 1 = recommend, 2 = not recommend"
   ]
  },
  {
   "cell_type": "code",
   "execution_count": 4,
   "metadata": {
    "execution": {
     "iopub.execute_input": "2021-01-25T05:43:01.638854Z",
     "iopub.status.busy": "2021-01-25T05:43:01.637913Z",
     "iopub.status.idle": "2021-01-25T05:43:01.642007Z",
     "shell.execute_reply": "2021-01-25T05:43:01.641202Z"
    },
    "papermill": {
     "duration": 0.032365,
     "end_time": "2021-01-25T05:43:01.642161",
     "exception": false,
     "start_time": "2021-01-25T05:43:01.609796",
     "status": "completed"
    },
    "tags": []
   },
   "outputs": [],
   "source": [
    "class Data:\n",
    "    def __init__(self, max_features=20000, maxlen=80):\n",
    "        \n",
    "        (x_train, y_train), (x_test, y_test) = imdb.load_data(num_words=max_features)\n",
    "        # load_data() = bring data from imdb\n",
    "        # max_features = words's maximum frequency\n",
    "        \n",
    "        x_train = sequence.pad_sequences(x_train, maxlen=maxlen) \n",
    "        x_test = sequence.pad_sequences(x_test, maxlen=maxlen)\n",
    "        # pad_sequences() = make every sequence have same length\n",
    "\n",
    "        self.x_train, self.y_train = x_train, y_train\n",
    "        self.x_test, self.y_test = x_test, y_test\n"
   ]
  },
  {
   "cell_type": "markdown",
   "metadata": {
    "papermill": {
     "duration": 0.011165,
     "end_time": "2021-01-25T05:43:01.668278",
     "exception": false,
     "start_time": "2021-01-25T05:43:01.657113",
     "status": "completed"
    },
    "tags": []
   },
   "source": [
    "<a id=\"three\"></a>\n",
    "# 3. Modeliing"
   ]
  },
  {
   "cell_type": "code",
   "execution_count": 5,
   "metadata": {
    "execution": {
     "iopub.execute_input": "2021-01-25T05:43:01.701916Z",
     "iopub.status.busy": "2021-01-25T05:43:01.701078Z",
     "iopub.status.idle": "2021-01-25T05:43:01.704136Z",
     "shell.execute_reply": "2021-01-25T05:43:01.703331Z"
    },
    "papermill": {
     "duration": 0.024677,
     "end_time": "2021-01-25T05:43:01.704260",
     "exception": false,
     "start_time": "2021-01-25T05:43:01.679583",
     "status": "completed"
    },
    "tags": []
   },
   "outputs": [],
   "source": [
    "class RNN_LSTM(models.Model):\n",
    "    def __init__(self, max_features, maxlen):\n",
    "        \n",
    "        # input (80 element)\n",
    "        x = layers.Input((maxlen,))\n",
    "        \n",
    "        # embedding = every element change to be words(128 length) \n",
    "        # 128 is output vector size\n",
    "        h = layers.Embedding(max_features, 128)(x)\n",
    "        \n",
    "        # 128 nodes, dropout and recurrent_dropout set 20%\n",
    "        h = layers.LSTM(128, dropout=0.2, recurrent_dropout=0.2)(h)\n",
    "        \n",
    "        # output (activation fuction = sigmoid)\n",
    "        y = layers.Dense(1, activation='sigmoid')(h)\n",
    "        super().__init__(x, y)\n",
    "\n",
    "        # model compile (set oprimizer function and loss function)\n",
    "        self.compile(loss='binary_crossentropy',\n",
    "                     optimizer='adam', metrics=['accuracy'])\n"
   ]
  },
  {
   "cell_type": "markdown",
   "metadata": {
    "papermill": {
     "duration": 0.016736,
     "end_time": "2021-01-25T05:43:01.738565",
     "exception": false,
     "start_time": "2021-01-25T05:43:01.721829",
     "status": "completed"
    },
    "tags": []
   },
   "source": [
    "<a id=\"four\"></a>\n",
    "# 4. Training & Evaluation"
   ]
  },
  {
   "cell_type": "code",
   "execution_count": 6,
   "metadata": {
    "execution": {
     "iopub.execute_input": "2021-01-25T05:43:01.776249Z",
     "iopub.status.busy": "2021-01-25T05:43:01.775481Z",
     "iopub.status.idle": "2021-01-25T05:43:01.784158Z",
     "shell.execute_reply": "2021-01-25T05:43:01.784937Z"
    },
    "papermill": {
     "duration": 0.029448,
     "end_time": "2021-01-25T05:43:01.785067",
     "exception": false,
     "start_time": "2021-01-25T05:43:01.755619",
     "status": "completed"
    },
    "tags": []
   },
   "outputs": [],
   "source": [
    "class Machine:\n",
    "    def __init__(self,\n",
    "                 max_features=20000,\n",
    "                 maxlen=80):\n",
    "        self.data = Data(max_features, maxlen)\n",
    "        self.model = RNN_LSTM(max_features, maxlen)\n",
    "\n",
    "    def run(self, epochs=3, batch_size=32):\n",
    "        data = self.data\n",
    "        model = self.model\n",
    "        print('Training stage')\n",
    "        print('==============')\n",
    "        \n",
    "        # training LSTM\n",
    "        model.fit(data.x_train, data.y_train,\n",
    "                  batch_size=batch_size,\n",
    "                  epochs=epochs,\n",
    "                  validation_data=(data.x_test, data.y_test))\n",
    "\n",
    "        score, acc = model.evaluate(data.x_test, data.y_test,\n",
    "                                    batch_size=batch_size)\n",
    "        print('Test performance: accuracy={0}, loss={1}'.format(acc, score))\n",
    "        \n",
    "  "
   ]
  },
  {
   "cell_type": "code",
   "execution_count": 7,
   "metadata": {
    "execution": {
     "iopub.execute_input": "2021-01-25T05:43:01.823670Z",
     "iopub.status.busy": "2021-01-25T05:43:01.822878Z",
     "iopub.status.idle": "2021-01-25T05:51:06.636611Z",
     "shell.execute_reply": "2021-01-25T05:51:06.635742Z"
    },
    "papermill": {
     "duration": 484.834567,
     "end_time": "2021-01-25T05:51:06.636755",
     "exception": false,
     "start_time": "2021-01-25T05:43:01.802188",
     "status": "completed"
    },
    "tags": []
   },
   "outputs": [
    {
     "name": "stdout",
     "output_type": "stream",
     "text": [
      "Training stage\n",
      "==============\n",
      "Epoch 1/3\n",
      "782/782 [==============================] - 152s 195ms/step - loss: 0.4258 - accuracy: 0.8008 - val_loss: 0.3685 - val_accuracy: 0.8379\n",
      "Epoch 2/3\n",
      "782/782 [==============================] - 151s 194ms/step - loss: 0.2556 - accuracy: 0.8977 - val_loss: 0.3835 - val_accuracy: 0.8377\n",
      "Epoch 3/3\n",
      "782/782 [==============================] - 153s 195ms/step - loss: 0.1646 - accuracy: 0.9387 - val_loss: 0.4560 - val_accuracy: 0.8221\n",
      "782/782 [==============================] - 17s 21ms/step - loss: 0.4560 - accuracy: 0.8221\n",
      "Test performance: accuracy=0.8221200108528137, loss=0.45595741271972656\n"
     ]
    }
   ],
   "source": [
    "def main():\n",
    "    m = Machine()\n",
    "    m.run()\n",
    "\n",
    "if __name__ == '__main__':\n",
    "    main()"
   ]
  },
  {
   "cell_type": "markdown",
   "metadata": {
    "papermill": {
     "duration": 1.392188,
     "end_time": "2021-01-25T05:51:09.307940",
     "exception": false,
     "start_time": "2021-01-25T05:51:07.915752",
     "status": "completed"
    },
    "tags": []
   },
   "source": [
    "## Reference\n",
    "* Coding chef 3 minute deep learning  - [ex5_1_lstm_imdb](https://github.com/jskDr/keraspp/blob/master/ex5_1_lstm_imdb_cl.py)"
   ]
  },
  {
   "cell_type": "code",
   "execution_count": null,
   "metadata": {
    "papermill": {
     "duration": 1.383211,
     "end_time": "2021-01-25T05:51:12.087191",
     "exception": false,
     "start_time": "2021-01-25T05:51:10.703980",
     "status": "completed"
    },
    "tags": []
   },
   "outputs": [],
   "source": []
  }
 ],
 "metadata": {
  "kernelspec": {
   "display_name": "Python 3",
   "language": "python",
   "name": "python3"
  },
  "language_info": {
   "codemirror_mode": {
    "name": "ipython",
    "version": 3
   },
   "file_extension": ".py",
   "mimetype": "text/x-python",
   "name": "python",
   "nbconvert_exporter": "python",
   "pygments_lexer": "ipython3",
   "version": "3.7.6"
  },
  "papermill": {
   "duration": 512.88131,
   "end_time": "2021-01-25T05:51:13.577865",
   "environment_variables": {},
   "exception": null,
   "input_path": "__notebook__.ipynb",
   "output_path": "__notebook__.ipynb",
   "parameters": {},
   "start_time": "2021-01-25T05:42:40.696555",
   "version": "2.1.0"
  }
 },
 "nbformat": 4,
 "nbformat_minor": 4
}
