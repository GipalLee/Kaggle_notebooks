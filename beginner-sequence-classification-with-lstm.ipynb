{
 "cells": [
  {
   "cell_type": "markdown",
   "metadata": {
    "papermill": {
     "duration": 0.010631,
     "end_time": "2021-02-02T15:08:02.755578",
     "exception": false,
     "start_time": "2021-02-02T15:08:02.744947",
     "status": "completed"
    },
    "tags": []
   },
   "source": [
    "# Sequence Classification with LSTM\n",
    "<hr>\n",
    "\n",
    "LSTM (Long term Short Term memory)\n",
    "* **RNN (Recurrent Neural Network)** has problem about long term memory, **LSTM** has improvement about that\n",
    "* Our **LSTM** is focusing on classification some movie's review is good or not, when **LSTM** gets people's review\n",
    "* We will use Keras module\n",
    "\n",
    "<hr>\n",
    "\n",
    "\n",
    "How to use this notebook :\n",
    "\n",
    "There is only minimum explanation\n",
    "\n",
    "This notebook could be helpful for who want to see how code works right away\n",
    "\n",
    "Please upvote if it was helpful.! \n",
    "<hr>\n",
    "\n",
    "## Content\n",
    "1. [Import libraries](#one)\n",
    "2. [Prepare Data](#two)\n",
    "3. [Modeling](#three)\n",
    "4. [Training and Evaluation](#four)"
   ]
  },
  {
   "cell_type": "markdown",
   "metadata": {
    "papermill": {
     "duration": 0.009361,
     "end_time": "2021-02-02T15:08:02.774851",
     "exception": false,
     "start_time": "2021-02-02T15:08:02.765490",
     "status": "completed"
    },
    "tags": []
   },
   "source": [
    "<a id=\"one\"></a>\n",
    "# 1. Import libraries"
   ]
  },
  {
   "cell_type": "code",
   "execution_count": 1,
   "metadata": {
    "_cell_guid": "b1076dfc-b9ad-4769-8c92-a6c4dae69d19",
    "_uuid": "8f2839f25d086af736a60e9eeb907d3b93b6e0e5",
    "execution": {
     "iopub.execute_input": "2021-02-02T15:08:02.801628Z",
     "iopub.status.busy": "2021-02-02T15:08:02.800940Z",
     "iopub.status.idle": "2021-02-02T15:08:08.917237Z",
     "shell.execute_reply": "2021-02-02T15:08:08.916372Z"
    },
    "papermill": {
     "duration": 6.132751,
     "end_time": "2021-02-02T15:08:08.917452",
     "exception": false,
     "start_time": "2021-02-02T15:08:02.784701",
     "status": "completed"
    },
    "tags": []
   },
   "outputs": [],
   "source": [
    "import numpy\n",
    "from keras.datasets import imdb\n",
    "from keras.models import Sequential\n",
    "from keras.layers import Dense\n",
    "from keras.layers import LSTM\n",
    "from keras.layers.embeddings import Embedding\n",
    "from keras.preprocessing import sequence\n",
    "# fix random seed for reproducibility\n",
    "numpy.random.seed(7)\n"
   ]
  },
  {
   "cell_type": "markdown",
   "metadata": {
    "papermill": {
     "duration": 0.0094,
     "end_time": "2021-02-02T15:08:08.937057",
     "exception": false,
     "start_time": "2021-02-02T15:08:08.927657",
     "status": "completed"
    },
    "tags": []
   },
   "source": [
    "<a id=\"two\"></a>\n",
    "\n",
    "# 2. Prepare Data"
   ]
  },
  {
   "cell_type": "code",
   "execution_count": 2,
   "metadata": {
    "execution": {
     "iopub.execute_input": "2021-02-02T15:08:08.962239Z",
     "iopub.status.busy": "2021-02-02T15:08:08.961613Z",
     "iopub.status.idle": "2021-02-02T15:08:18.015327Z",
     "shell.execute_reply": "2021-02-02T15:08:18.014801Z"
    },
    "papermill": {
     "duration": 9.068678,
     "end_time": "2021-02-02T15:08:18.015505",
     "exception": false,
     "start_time": "2021-02-02T15:08:08.946827",
     "status": "completed"
    },
    "tags": []
   },
   "outputs": [
    {
     "name": "stdout",
     "output_type": "stream",
     "text": [
      "Downloading data from https://storage.googleapis.com/tensorflow/tf-keras-datasets/imdb.npz\n",
      "17465344/17464789 [==============================] - 0s 0us/step\n"
     ]
    },
    {
     "name": "stderr",
     "output_type": "stream",
     "text": [
      "<string>:6: VisibleDeprecationWarning: Creating an ndarray from ragged nested sequences (which is a list-or-tuple of lists-or-tuples-or ndarrays with different lengths or shapes) is deprecated. If you meant to do this, you must specify 'dtype=object' when creating the ndarray\n",
      "/opt/conda/lib/python3.7/site-packages/tensorflow/python/keras/datasets/imdb.py:159: VisibleDeprecationWarning: Creating an ndarray from ragged nested sequences (which is a list-or-tuple of lists-or-tuples-or ndarrays with different lengths or shapes) is deprecated. If you meant to do this, you must specify 'dtype=object' when creating the ndarray\n",
      "  x_train, y_train = np.array(xs[:idx]), np.array(labels[:idx])\n",
      "/opt/conda/lib/python3.7/site-packages/tensorflow/python/keras/datasets/imdb.py:160: VisibleDeprecationWarning: Creating an ndarray from ragged nested sequences (which is a list-or-tuple of lists-or-tuples-or ndarrays with different lengths or shapes) is deprecated. If you meant to do this, you must specify 'dtype=object' when creating the ndarray\n",
      "  x_test, y_test = np.array(xs[idx:]), np.array(labels[idx:])\n"
     ]
    }
   ],
   "source": [
    "# imdb data already was split with 50 : 50, we cant change that\n",
    "# top_words mean frequency ranking\n",
    "top_words = 5000\n",
    "(X_train, y_train), (X_test, y_test) = imdb.load_data(num_words=top_words)"
   ]
  },
  {
   "cell_type": "code",
   "execution_count": 3,
   "metadata": {
    "execution": {
     "iopub.execute_input": "2021-02-02T15:08:18.053611Z",
     "iopub.status.busy": "2021-02-02T15:08:18.052672Z",
     "iopub.status.idle": "2021-02-02T15:08:18.055858Z",
     "shell.execute_reply": "2021-02-02T15:08:18.056354Z"
    },
    "papermill": {
     "duration": 0.028265,
     "end_time": "2021-02-02T15:08:18.056539",
     "exception": false,
     "start_time": "2021-02-02T15:08:18.028274",
     "status": "completed"
    },
    "tags": []
   },
   "outputs": [
    {
     "name": "stdout",
     "output_type": "stream",
     "text": [
      "review for training: 25000\n",
      "review for testing: 25000\n",
      "category : 2\n"
     ]
    }
   ],
   "source": [
    "print('review for training: {}'.format(len(X_train)))\n",
    "print('review for testing: {}'.format(len(X_test)))\n",
    "num_classes = max(y_train) +1 \n",
    "print('category : {}'.format(num_classes))\n"
   ]
  },
  {
   "cell_type": "code",
   "execution_count": 4,
   "metadata": {
    "execution": {
     "iopub.execute_input": "2021-02-02T15:08:18.085297Z",
     "iopub.status.busy": "2021-02-02T15:08:18.084700Z",
     "iopub.status.idle": "2021-02-02T15:08:18.090370Z",
     "shell.execute_reply": "2021-02-02T15:08:18.090925Z"
    },
    "papermill": {
     "duration": 0.022024,
     "end_time": "2021-02-02T15:08:18.091139",
     "exception": false,
     "start_time": "2021-02-02T15:08:18.069115",
     "status": "completed"
    },
    "tags": []
   },
   "outputs": [
    {
     "name": "stdout",
     "output_type": "stream",
     "text": [
      "[1, 14, 22, 16, 43, 530, 973, 1622, 1385, 65, 458, 4468, 66, 3941, 4, 173, 36, 256, 5, 25, 100, 43, 838, 112, 50, 670, 2, 9, 35, 480, 284, 5, 150, 4, 172, 112, 167, 2, 336, 385, 39, 4, 172, 4536, 1111, 17, 546, 38, 13, 447, 4, 192, 50, 16, 6, 147, 2025, 19, 14, 22, 4, 1920, 4613, 469, 4, 22, 71, 87, 12, 16, 43, 530, 38, 76, 15, 13, 1247, 4, 22, 17, 515, 17, 12, 16, 626, 18, 2, 5, 62, 386, 12, 8, 316, 8, 106, 5, 4, 2223, 2, 16, 480, 66, 3785, 33, 4, 130, 12, 16, 38, 619, 5, 25, 124, 51, 36, 135, 48, 25, 1415, 33, 6, 22, 12, 215, 28, 77, 52, 5, 14, 407, 16, 82, 2, 8, 4, 107, 117, 2, 15, 256, 4, 2, 7, 3766, 5, 723, 36, 71, 43, 530, 476, 26, 400, 317, 46, 7, 4, 2, 1029, 13, 104, 88, 4, 381, 15, 297, 98, 32, 2071, 56, 26, 141, 6, 194, 2, 18, 4, 226, 22, 21, 134, 476, 26, 480, 5, 144, 30, 2, 18, 51, 36, 28, 224, 92, 25, 104, 4, 226, 65, 16, 38, 1334, 88, 12, 16, 283, 5, 16, 4472, 113, 103, 32, 15, 16, 2, 19, 178, 32]\n",
      "1\n"
     ]
    }
   ],
   "source": [
    "print(X_train[0])\n",
    "print(y_train[0])\n"
   ]
  },
  {
   "cell_type": "markdown",
   "metadata": {
    "papermill": {
     "duration": 0.013101,
     "end_time": "2021-02-02T15:08:18.118267",
     "exception": false,
     "start_time": "2021-02-02T15:08:18.105166",
     "status": "completed"
    },
    "tags": []
   },
   "source": [
    "* **numbers** in X_train means ranking of word frequency\n",
    "* **lable 1** in y_train means positive"
   ]
  },
  {
   "cell_type": "markdown",
   "metadata": {
    "papermill": {
     "duration": 0.013062,
     "end_time": "2021-02-02T15:08:18.144612",
     "exception": false,
     "start_time": "2021-02-02T15:08:18.131550",
     "status": "completed"
    },
    "tags": []
   },
   "source": [
    "We can check what number means in X_train"
   ]
  },
  {
   "cell_type": "code",
   "execution_count": 5,
   "metadata": {
    "execution": {
     "iopub.execute_input": "2021-02-02T15:08:18.176693Z",
     "iopub.status.busy": "2021-02-02T15:08:18.175994Z",
     "iopub.status.idle": "2021-02-02T15:08:18.606466Z",
     "shell.execute_reply": "2021-02-02T15:08:18.606968Z"
    },
    "papermill": {
     "duration": 0.449294,
     "end_time": "2021-02-02T15:08:18.607169",
     "exception": false,
     "start_time": "2021-02-02T15:08:18.157875",
     "status": "completed"
    },
    "tags": []
   },
   "outputs": [
    {
     "name": "stdout",
     "output_type": "stream",
     "text": [
      "Downloading data from https://storage.googleapis.com/tensorflow/tf-keras-datasets/imdb_word_index.json\n",
      "1646592/1641221 [==============================] - 0s 0us/step\n"
     ]
    }
   ],
   "source": [
    "word_to_index = imdb.get_word_index()\n",
    "index_to_word = {}\n",
    "for key, value in word_to_index.items():\n",
    "    index_to_word[value+3] = key"
   ]
  },
  {
   "cell_type": "code",
   "execution_count": 6,
   "metadata": {
    "execution": {
     "iopub.execute_input": "2021-02-02T15:08:18.639320Z",
     "iopub.status.busy": "2021-02-02T15:08:18.638692Z",
     "iopub.status.idle": "2021-02-02T15:08:18.644222Z",
     "shell.execute_reply": "2021-02-02T15:08:18.643605Z"
    },
    "papermill": {
     "duration": 0.022684,
     "end_time": "2021-02-02T15:08:18.644364",
     "exception": false,
     "start_time": "2021-02-02T15:08:18.621680",
     "status": "completed"
    },
    "tags": []
   },
   "outputs": [
    {
     "name": "stdout",
     "output_type": "stream",
     "text": [
      "frequency ranking first : the\n"
     ]
    }
   ],
   "source": [
    "# we need to plus +3 than what we want\n",
    "print('frequency ranking first : {}'.format(index_to_word[4]))\n"
   ]
  },
  {
   "cell_type": "markdown",
   "metadata": {
    "papermill": {
     "duration": 0.015476,
     "end_time": "2021-02-02T15:08:18.674814",
     "exception": false,
     "start_time": "2021-02-02T15:08:18.659338",
     "status": "completed"
    },
    "tags": []
   },
   "source": [
    "## Truncate and Pad\n",
    "* **Truncate** : cut the length\n",
    "* **Pad** : put meaningless length\n",
    "* Because we need to put all the same length input sequences for modeling"
   ]
  },
  {
   "cell_type": "code",
   "execution_count": 7,
   "metadata": {
    "execution": {
     "iopub.execute_input": "2021-02-02T15:08:18.714720Z",
     "iopub.status.busy": "2021-02-02T15:08:18.713790Z",
     "iopub.status.idle": "2021-02-02T15:08:21.470248Z",
     "shell.execute_reply": "2021-02-02T15:08:21.469703Z"
    },
    "papermill": {
     "duration": 2.78091,
     "end_time": "2021-02-02T15:08:21.470412",
     "exception": false,
     "start_time": "2021-02-02T15:08:18.689502",
     "status": "completed"
    },
    "tags": []
   },
   "outputs": [],
   "source": [
    "# truncate and pad input sequences\n",
    "max_review_length = 500\n",
    "X_train = sequence.pad_sequences(X_train, maxlen=max_review_length)\n",
    "X_test = sequence.pad_sequences(X_test, maxlen=max_review_length)"
   ]
  },
  {
   "cell_type": "markdown",
   "metadata": {
    "papermill": {
     "duration": 0.014645,
     "end_time": "2021-02-02T15:08:21.500324",
     "exception": false,
     "start_time": "2021-02-02T15:08:21.485679",
     "status": "completed"
    },
    "tags": []
   },
   "source": [
    "<a id=\"three\"></a>\n",
    "# 3. Modeling"
   ]
  },
  {
   "cell_type": "code",
   "execution_count": 8,
   "metadata": {
    "execution": {
     "iopub.execute_input": "2021-02-02T15:08:21.536680Z",
     "iopub.status.busy": "2021-02-02T15:08:21.536066Z",
     "iopub.status.idle": "2021-02-02T15:08:22.085614Z",
     "shell.execute_reply": "2021-02-02T15:08:22.085050Z"
    },
    "papermill": {
     "duration": 0.570135,
     "end_time": "2021-02-02T15:08:22.085771",
     "exception": false,
     "start_time": "2021-02-02T15:08:21.515636",
     "status": "completed"
    },
    "tags": []
   },
   "outputs": [
    {
     "name": "stdout",
     "output_type": "stream",
     "text": [
      "Model: \"sequential\"\n",
      "_________________________________________________________________\n",
      "Layer (type)                 Output Shape              Param #   \n",
      "=================================================================\n",
      "embedding (Embedding)        (None, 500, 32)           160000    \n",
      "_________________________________________________________________\n",
      "lstm (LSTM)                  (None, 100)               53200     \n",
      "_________________________________________________________________\n",
      "dense (Dense)                (None, 1)                 101       \n",
      "=================================================================\n",
      "Total params: 213,301\n",
      "Trainable params: 213,301\n",
      "Non-trainable params: 0\n",
      "_________________________________________________________________\n",
      "None\n"
     ]
    }
   ],
   "source": [
    "# The first layer is the Embedded layer that uses 32 length vectors to represent each word\n",
    "embedding_vecor_length = 32\n",
    "model = Sequential()\n",
    "model.add(Embedding(top_words, embedding_vecor_length, input_length=max_review_length))\n",
    "model.add(LSTM(100))\n",
    "model.add(Dense(1, activation='sigmoid'))\n",
    "model.compile(loss='binary_crossentropy', optimizer='adam', metrics=['accuracy'])\n",
    "print(model.summary())\n"
   ]
  },
  {
   "cell_type": "markdown",
   "metadata": {
    "papermill": {
     "duration": 0.015473,
     "end_time": "2021-02-02T15:08:22.116696",
     "exception": false,
     "start_time": "2021-02-02T15:08:22.101223",
     "status": "completed"
    },
    "tags": []
   },
   "source": [
    "<a id=\"four\"></a>\n",
    "# 4. Training and Evaluation"
   ]
  },
  {
   "cell_type": "code",
   "execution_count": 9,
   "metadata": {
    "execution": {
     "iopub.execute_input": "2021-02-02T15:08:22.153791Z",
     "iopub.status.busy": "2021-02-02T15:08:22.153082Z",
     "iopub.status.idle": "2021-02-02T15:20:19.370845Z",
     "shell.execute_reply": "2021-02-02T15:20:19.371338Z"
    },
    "papermill": {
     "duration": 717.239313,
     "end_time": "2021-02-02T15:20:19.371546",
     "exception": false,
     "start_time": "2021-02-02T15:08:22.132233",
     "status": "completed"
    },
    "tags": []
   },
   "outputs": [
    {
     "name": "stdout",
     "output_type": "stream",
     "text": [
      "Epoch 1/3\n",
      "391/391 [==============================] - 223s 566ms/step - loss: 0.5680 - accuracy: 0.6847 - val_loss: 0.4457 - val_accuracy: 0.7872\n",
      "Epoch 2/3\n",
      "391/391 [==============================] - 215s 549ms/step - loss: 0.2909 - accuracy: 0.8865 - val_loss: 0.3023 - val_accuracy: 0.8768\n",
      "Epoch 3/3\n",
      "391/391 [==============================] - 215s 551ms/step - loss: 0.2259 - accuracy: 0.9133 - val_loss: 0.3293 - val_accuracy: 0.8648\n",
      "Accuracy: 86.48%\n"
     ]
    }
   ],
   "source": [
    "model.fit(X_train, y_train, validation_data=(X_test, y_test), epochs=3, batch_size=64)\n",
    "# Final evaluation of the model\n",
    "scores = model.evaluate(X_test, y_test, verbose=0)\n",
    "print(\"Accuracy: %.2f%%\" % (scores[1]*100))"
   ]
  }
 ],
 "metadata": {
  "kernelspec": {
   "display_name": "Python 3",
   "language": "python",
   "name": "python3"
  },
  "language_info": {
   "codemirror_mode": {
    "name": "ipython",
    "version": 3
   },
   "file_extension": ".py",
   "mimetype": "text/x-python",
   "name": "python",
   "nbconvert_exporter": "python",
   "pygments_lexer": "ipython3",
   "version": "3.7.9"
  },
  "papermill": {
   "default_parameters": {},
   "duration": 743.764079,
   "end_time": "2021-02-02T15:20:20.850762",
   "environment_variables": {},
   "exception": null,
   "input_path": "__notebook__.ipynb",
   "output_path": "__notebook__.ipynb",
   "parameters": {},
   "start_time": "2021-02-02T15:07:57.086683",
   "version": "2.2.2"
  }
 },
 "nbformat": 4,
 "nbformat_minor": 4
}
