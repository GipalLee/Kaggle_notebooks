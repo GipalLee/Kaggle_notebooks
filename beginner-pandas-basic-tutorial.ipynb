{
 "cells": [
  {
   "cell_type": "markdown",
   "metadata": {
    "papermill": {
     "duration": 0.071746,
     "end_time": "2021-01-23T09:50:48.245488",
     "exception": false,
     "start_time": "2021-01-23T09:50:48.173742",
     "status": "completed"
    },
    "tags": []
   },
   "source": [
    "# Pandas Basic Tutorial for Beginners\n",
    "\n",
    "\n",
    "How to use this notebook :\n",
    "\n",
    "There is only minimum explanation\n",
    "\n",
    "This notebook could be helpful for who want to see how code works right away\n",
    "\n",
    "If this notebook help you, ***upvote*** please ! \n",
    "<hr>"
   ]
  },
  {
   "cell_type": "markdown",
   "metadata": {
    "papermill": {
     "duration": 0.069167,
     "end_time": "2021-01-23T09:50:48.383425",
     "exception": false,
     "start_time": "2021-01-23T09:50:48.314258",
     "status": "completed"
    },
    "tags": []
   },
   "source": [
    "<HR>\n",
    "\n",
    "\n",
    "## 1. Import Library"
   ]
  },
  {
   "cell_type": "code",
   "execution_count": 1,
   "metadata": {
    "_cell_guid": "b1076dfc-b9ad-4769-8c92-a6c4dae69d19",
    "_uuid": "8f2839f25d086af736a60e9eeb907d3b93b6e0e5",
    "execution": {
     "iopub.execute_input": "2021-01-23T09:50:48.530643Z",
     "iopub.status.busy": "2021-01-23T09:50:48.529873Z",
     "iopub.status.idle": "2021-01-23T09:50:49.578698Z",
     "shell.execute_reply": "2021-01-23T09:50:49.579235Z"
    },
    "papermill": {
     "duration": 1.126452,
     "end_time": "2021-01-23T09:50:49.579445",
     "exception": false,
     "start_time": "2021-01-23T09:50:48.452993",
     "status": "completed"
    },
    "tags": []
   },
   "outputs": [
    {
     "name": "stdout",
     "output_type": "stream",
     "text": [
      "['upload_DJIA_table.csv', 'Combined_News_DJIA.csv', 'RedditNews.csv']\n"
     ]
    }
   ],
   "source": [
    "import numpy as np\n",
    "import pandas as pd\n",
    "import seaborn as sns\n",
    "import matplotlib.pyplot as plt\n",
    "\n",
    "import os\n",
    "print(os.listdir(\"../input/stocknews\"))"
   ]
  },
  {
   "cell_type": "markdown",
   "metadata": {
    "papermill": {
     "duration": 0.070627,
     "end_time": "2021-01-23T09:50:49.720487",
     "exception": false,
     "start_time": "2021-01-23T09:50:49.649860",
     "status": "completed"
    },
    "tags": []
   },
   "source": [
    "<hr>\n",
    "\n",
    "## 2. Pandas Data Structure\n",
    "Pandas has two types of data structures\n",
    "\n",
    "1. **Series** - one dimensional labeled array\n",
    "2. **DataFrame** - two dimensional data "
   ]
  },
  {
   "cell_type": "markdown",
   "metadata": {
    "papermill": {
     "duration": 0.070312,
     "end_time": "2021-01-23T09:50:49.862749",
     "exception": false,
     "start_time": "2021-01-23T09:50:49.792437",
     "status": "completed"
    },
    "tags": []
   },
   "source": [
    "<hr>\n",
    "\n",
    "### Series ###"
   ]
  },
  {
   "cell_type": "code",
   "execution_count": 2,
   "metadata": {
    "execution": {
     "iopub.execute_input": "2021-01-23T09:50:50.015512Z",
     "iopub.status.busy": "2021-01-23T09:50:50.014494Z",
     "iopub.status.idle": "2021-01-23T09:50:50.018067Z",
     "shell.execute_reply": "2021-01-23T09:50:50.017298Z"
    },
    "papermill": {
     "duration": 0.085645,
     "end_time": "2021-01-23T09:50:50.018192",
     "exception": false,
     "start_time": "2021-01-23T09:50:49.932547",
     "status": "completed"
    },
    "tags": []
   },
   "outputs": [],
   "source": [
    "Series = pd.Series([3,-5,7,4], index = ['a','b','c','d'])\n"
   ]
  },
  {
   "cell_type": "code",
   "execution_count": 3,
   "metadata": {
    "execution": {
     "iopub.execute_input": "2021-01-23T09:50:50.165075Z",
     "iopub.status.busy": "2021-01-23T09:50:50.164112Z",
     "iopub.status.idle": "2021-01-23T09:50:50.168546Z",
     "shell.execute_reply": "2021-01-23T09:50:50.167989Z"
    },
    "papermill": {
     "duration": 0.080624,
     "end_time": "2021-01-23T09:50:50.168659",
     "exception": false,
     "start_time": "2021-01-23T09:50:50.088035",
     "status": "completed"
    },
    "tags": []
   },
   "outputs": [
    {
     "data": {
      "text/plain": [
       "pandas.core.series.Series"
      ]
     },
     "execution_count": 3,
     "metadata": {},
     "output_type": "execute_result"
    }
   ],
   "source": [
    "type(Series)"
   ]
  },
  {
   "cell_type": "code",
   "execution_count": 4,
   "metadata": {
    "execution": {
     "iopub.execute_input": "2021-01-23T09:50:50.320706Z",
     "iopub.status.busy": "2021-01-23T09:50:50.319655Z",
     "iopub.status.idle": "2021-01-23T09:50:50.324058Z",
     "shell.execute_reply": "2021-01-23T09:50:50.324576Z"
    },
    "papermill": {
     "duration": 0.084285,
     "end_time": "2021-01-23T09:50:50.324716",
     "exception": false,
     "start_time": "2021-01-23T09:50:50.240431",
     "status": "completed"
    },
    "tags": []
   },
   "outputs": [
    {
     "data": {
      "text/plain": [
       "a    3\n",
       "b   -5\n",
       "c    7\n",
       "d    4\n",
       "dtype: int64"
      ]
     },
     "execution_count": 4,
     "metadata": {},
     "output_type": "execute_result"
    }
   ],
   "source": [
    "Series"
   ]
  },
  {
   "cell_type": "markdown",
   "metadata": {
    "papermill": {
     "duration": 0.070735,
     "end_time": "2021-01-23T09:50:50.467259",
     "exception": false,
     "start_time": "2021-01-23T09:50:50.396524",
     "status": "completed"
    },
    "tags": []
   },
   "source": [
    "<hr>\n",
    "\n",
    "### DataFrame ###"
   ]
  },
  {
   "cell_type": "code",
   "execution_count": 5,
   "metadata": {
    "execution": {
     "iopub.execute_input": "2021-01-23T09:50:50.613460Z",
     "iopub.status.busy": "2021-01-23T09:50:50.612463Z",
     "iopub.status.idle": "2021-01-23T09:50:50.620884Z",
     "shell.execute_reply": "2021-01-23T09:50:50.621412Z"
    },
    "papermill": {
     "duration": 0.082986,
     "end_time": "2021-01-23T09:50:50.621579",
     "exception": false,
     "start_time": "2021-01-23T09:50:50.538593",
     "status": "completed"
    },
    "tags": []
   },
   "outputs": [],
   "source": [
    "data = {'Country' : ['Belgium','India','Brazil'],\n",
    "        'Capital' : ['Brussels','New Delhi','Brassilia'],\n",
    "        'Population' : [1234,1234,1234]}\n",
    "datas= pd.DataFrame(data,columns=['Country','Capital','Population'])"
   ]
  },
  {
   "cell_type": "code",
   "execution_count": 6,
   "metadata": {
    "execution": {
     "iopub.execute_input": "2021-01-23T09:50:50.767487Z",
     "iopub.status.busy": "2021-01-23T09:50:50.766466Z",
     "iopub.status.idle": "2021-01-23T09:50:50.773122Z",
     "shell.execute_reply": "2021-01-23T09:50:50.773654Z"
    },
    "papermill": {
     "duration": 0.081356,
     "end_time": "2021-01-23T09:50:50.773809",
     "exception": false,
     "start_time": "2021-01-23T09:50:50.692453",
     "status": "completed"
    },
    "tags": []
   },
   "outputs": [
    {
     "name": "stdout",
     "output_type": "stream",
     "text": [
      "<class 'dict'>\n",
      "<class 'pandas.core.frame.DataFrame'>\n"
     ]
    }
   ],
   "source": [
    "print(type(data))\n",
    "print(type(datas))"
   ]
  },
  {
   "cell_type": "code",
   "execution_count": 7,
   "metadata": {
    "execution": {
     "iopub.execute_input": "2021-01-23T09:50:50.922661Z",
     "iopub.status.busy": "2021-01-23T09:50:50.921995Z",
     "iopub.status.idle": "2021-01-23T09:50:50.928419Z",
     "shell.execute_reply": "2021-01-23T09:50:50.928936Z"
    },
    "papermill": {
     "duration": 0.08276,
     "end_time": "2021-01-23T09:50:50.929075",
     "exception": false,
     "start_time": "2021-01-23T09:50:50.846315",
     "status": "completed"
    },
    "tags": []
   },
   "outputs": [
    {
     "name": "stdout",
     "output_type": "stream",
     "text": [
      "{'Name': ['John', 'James', 'Awi', 'Kewi'], 'Age': [15, 16, 17, 18]}\n"
     ]
    }
   ],
   "source": [
    "dictionary={\"Name\":[\"John\",\"James\",\"Awi\",\"Kewi\"],\n",
    "           \"Age\":[15,16,17,18]}\n",
    "print(dictionary)"
   ]
  },
  {
   "cell_type": "code",
   "execution_count": 8,
   "metadata": {
    "execution": {
     "iopub.execute_input": "2021-01-23T09:50:51.090644Z",
     "iopub.status.busy": "2021-01-23T09:50:51.089784Z",
     "iopub.status.idle": "2021-01-23T09:50:51.094050Z",
     "shell.execute_reply": "2021-01-23T09:50:51.093267Z"
    },
    "papermill": {
     "duration": 0.090342,
     "end_time": "2021-01-23T09:50:51.094204",
     "exception": false,
     "start_time": "2021-01-23T09:50:51.003862",
     "status": "completed"
    },
    "tags": []
   },
   "outputs": [
    {
     "name": "stdout",
     "output_type": "stream",
     "text": [
      "    Name  Age\n",
      "0   John   15\n",
      "1  James   16\n",
      "2    Awi   17\n",
      "3   Kewi   18\n"
     ]
    }
   ],
   "source": [
    "data_dict = pd.DataFrame(data=dictionary,index=range(4),columns=[\"Name\",\"Age\"])\n",
    "print(data_dict)"
   ]
  },
  {
   "cell_type": "code",
   "execution_count": 9,
   "metadata": {
    "execution": {
     "iopub.execute_input": "2021-01-23T09:50:51.251343Z",
     "iopub.status.busy": "2021-01-23T09:50:51.250675Z",
     "iopub.status.idle": "2021-01-23T09:50:51.254941Z",
     "shell.execute_reply": "2021-01-23T09:50:51.254298Z"
    },
    "papermill": {
     "duration": 0.087229,
     "end_time": "2021-01-23T09:50:51.255052",
     "exception": false,
     "start_time": "2021-01-23T09:50:51.167823",
     "status": "completed"
    },
    "tags": []
   },
   "outputs": [
    {
     "name": "stdout",
     "output_type": "stream",
     "text": [
      "     Name  Age\n",
      "0    King   25\n",
      "1  Arthur   35\n",
      "2   Jurdi   45\n",
      "3   Hirdi   55\n"
     ]
    }
   ],
   "source": [
    "dict_new={\"Name\":[\"King\",\"Arthur\",\"Jurdi\",\"Hirdi\"],\n",
    "           \"Age\":[25,35,45,55]}\n",
    "dict_new=pd.DataFrame(data=dict_new,index=range(4),columns=[\"Name\",\"Age\"])\n",
    "print(dict_new)\n"
   ]
  },
  {
   "cell_type": "code",
   "execution_count": 10,
   "metadata": {
    "execution": {
     "iopub.execute_input": "2021-01-23T09:50:51.411869Z",
     "iopub.status.busy": "2021-01-23T09:50:51.410928Z",
     "iopub.status.idle": "2021-01-23T09:50:51.415504Z",
     "shell.execute_reply": "2021-01-23T09:50:51.414710Z"
    },
    "papermill": {
     "duration": 0.087791,
     "end_time": "2021-01-23T09:50:51.415670",
     "exception": false,
     "start_time": "2021-01-23T09:50:51.327879",
     "status": "completed"
    },
    "tags": []
   },
   "outputs": [
    {
     "name": "stdout",
     "output_type": "stream",
     "text": [
      "     Name  Age\n",
      "0    John   15\n",
      "1   James   16\n",
      "2     Awi   17\n",
      "3    Kewi   18\n",
      "4    King   25\n",
      "5  Arthur   35\n",
      "6   Jurdi   45\n",
      "7   Hirdi   55\n"
     ]
    }
   ],
   "source": [
    "data_dict = pd.concat([data_dict,dict_new],axis = 0, ignore_index=True)\n",
    "print(data_dict)"
   ]
  },
  {
   "cell_type": "markdown",
   "metadata": {
    "papermill": {
     "duration": 0.073771,
     "end_time": "2021-01-23T09:50:51.565354",
     "exception": false,
     "start_time": "2021-01-23T09:50:51.491583",
     "status": "completed"
    },
    "tags": []
   },
   "source": [
    "<hr>\n",
    "\n",
    "## 3. CSV, Excel and SQL databases\n",
    "With pandas, we can open CSV, Excel and SQL databases"
   ]
  },
  {
   "cell_type": "markdown",
   "metadata": {
    "papermill": {
     "duration": 0.073427,
     "end_time": "2021-01-23T09:50:51.712841",
     "exception": false,
     "start_time": "2021-01-23T09:50:51.639414",
     "status": "completed"
    },
    "tags": []
   },
   "source": [
    "<hr>\n",
    "\n",
    "### CSV"
   ]
  },
  {
   "cell_type": "code",
   "execution_count": 11,
   "metadata": {
    "execution": {
     "iopub.execute_input": "2021-01-23T09:50:51.870997Z",
     "iopub.status.busy": "2021-01-23T09:50:51.870267Z",
     "iopub.status.idle": "2021-01-23T09:50:51.887746Z",
     "shell.execute_reply": "2021-01-23T09:50:51.886852Z"
    },
    "papermill": {
     "duration": 0.09945,
     "end_time": "2021-01-23T09:50:51.887864",
     "exception": false,
     "start_time": "2021-01-23T09:50:51.788414",
     "status": "completed"
    },
    "tags": []
   },
   "outputs": [
    {
     "data": {
      "text/plain": [
       "pandas.core.frame.DataFrame"
      ]
     },
     "execution_count": 11,
     "metadata": {},
     "output_type": "execute_result"
    }
   ],
   "source": [
    "df = pd.read_csv(\"../input/stocknews/upload_DJIA_table.csv\")\n",
    "type(df)"
   ]
  },
  {
   "cell_type": "code",
   "execution_count": 12,
   "metadata": {
    "execution": {
     "iopub.execute_input": "2021-01-23T09:50:52.056007Z",
     "iopub.status.busy": "2021-01-23T09:50:52.054942Z",
     "iopub.status.idle": "2021-01-23T09:50:52.077680Z",
     "shell.execute_reply": "2021-01-23T09:50:52.078552Z"
    },
    "papermill": {
     "duration": 0.115714,
     "end_time": "2021-01-23T09:50:52.078753",
     "exception": false,
     "start_time": "2021-01-23T09:50:51.963039",
     "status": "completed"
    },
    "tags": []
   },
   "outputs": [
    {
     "data": {
      "text/html": [
       "<div>\n",
       "<style scoped>\n",
       "    .dataframe tbody tr th:only-of-type {\n",
       "        vertical-align: middle;\n",
       "    }\n",
       "\n",
       "    .dataframe tbody tr th {\n",
       "        vertical-align: top;\n",
       "    }\n",
       "\n",
       "    .dataframe thead th {\n",
       "        text-align: right;\n",
       "    }\n",
       "</style>\n",
       "<table border=\"1\" class=\"dataframe\">\n",
       "  <thead>\n",
       "    <tr style=\"text-align: right;\">\n",
       "      <th></th>\n",
       "      <th>Date</th>\n",
       "      <th>Open</th>\n",
       "      <th>High</th>\n",
       "      <th>Low</th>\n",
       "      <th>Close</th>\n",
       "      <th>Volume</th>\n",
       "      <th>Adj Close</th>\n",
       "    </tr>\n",
       "  </thead>\n",
       "  <tbody>\n",
       "    <tr>\n",
       "      <th>0</th>\n",
       "      <td>2016-07-01</td>\n",
       "      <td>17924.240234</td>\n",
       "      <td>18002.380859</td>\n",
       "      <td>17916.910156</td>\n",
       "      <td>17949.369141</td>\n",
       "      <td>82160000</td>\n",
       "      <td>17949.369141</td>\n",
       "    </tr>\n",
       "    <tr>\n",
       "      <th>1</th>\n",
       "      <td>2016-06-30</td>\n",
       "      <td>17712.759766</td>\n",
       "      <td>17930.609375</td>\n",
       "      <td>17711.800781</td>\n",
       "      <td>17929.990234</td>\n",
       "      <td>133030000</td>\n",
       "      <td>17929.990234</td>\n",
       "    </tr>\n",
       "    <tr>\n",
       "      <th>2</th>\n",
       "      <td>2016-06-29</td>\n",
       "      <td>17456.019531</td>\n",
       "      <td>17704.509766</td>\n",
       "      <td>17456.019531</td>\n",
       "      <td>17694.679688</td>\n",
       "      <td>106380000</td>\n",
       "      <td>17694.679688</td>\n",
       "    </tr>\n",
       "    <tr>\n",
       "      <th>3</th>\n",
       "      <td>2016-06-28</td>\n",
       "      <td>17190.509766</td>\n",
       "      <td>17409.720703</td>\n",
       "      <td>17190.509766</td>\n",
       "      <td>17409.720703</td>\n",
       "      <td>112190000</td>\n",
       "      <td>17409.720703</td>\n",
       "    </tr>\n",
       "    <tr>\n",
       "      <th>4</th>\n",
       "      <td>2016-06-27</td>\n",
       "      <td>17355.210938</td>\n",
       "      <td>17355.210938</td>\n",
       "      <td>17063.080078</td>\n",
       "      <td>17140.240234</td>\n",
       "      <td>138740000</td>\n",
       "      <td>17140.240234</td>\n",
       "    </tr>\n",
       "  </tbody>\n",
       "</table>\n",
       "</div>"
      ],
      "text/plain": [
       "         Date          Open          High           Low         Close  \\\n",
       "0  2016-07-01  17924.240234  18002.380859  17916.910156  17949.369141   \n",
       "1  2016-06-30  17712.759766  17930.609375  17711.800781  17929.990234   \n",
       "2  2016-06-29  17456.019531  17704.509766  17456.019531  17694.679688   \n",
       "3  2016-06-28  17190.509766  17409.720703  17190.509766  17409.720703   \n",
       "4  2016-06-27  17355.210938  17355.210938  17063.080078  17140.240234   \n",
       "\n",
       "      Volume     Adj Close  \n",
       "0   82160000  17949.369141  \n",
       "1  133030000  17929.990234  \n",
       "2  106380000  17694.679688  \n",
       "3  112190000  17409.720703  \n",
       "4  138740000  17140.240234  "
      ]
     },
     "execution_count": 12,
     "metadata": {},
     "output_type": "execute_result"
    }
   ],
   "source": [
    "df.head()"
   ]
  },
  {
   "cell_type": "markdown",
   "metadata": {
    "papermill": {
     "duration": 0.07674,
     "end_time": "2021-01-23T09:50:52.242009",
     "exception": false,
     "start_time": "2021-01-23T09:50:52.165269",
     "status": "completed"
    },
    "tags": []
   },
   "source": [
    "<hr>\n",
    "\n",
    "### Excel"
   ]
  },
  {
   "cell_type": "code",
   "execution_count": 13,
   "metadata": {
    "execution": {
     "iopub.execute_input": "2021-01-23T09:50:52.394966Z",
     "iopub.status.busy": "2021-01-23T09:50:52.394298Z",
     "iopub.status.idle": "2021-01-23T09:50:52.397311Z",
     "shell.execute_reply": "2021-01-23T09:50:52.397933Z"
    },
    "papermill": {
     "duration": 0.081435,
     "end_time": "2021-01-23T09:50:52.398078",
     "exception": false,
     "start_time": "2021-01-23T09:50:52.316643",
     "status": "completed"
    },
    "tags": []
   },
   "outputs": [],
   "source": [
    "# pd.read_excel('filename')\n",
    "# pd.to_excel('dir/dataFrame.xlsx', sheet_name='Sheet1')"
   ]
  },
  {
   "cell_type": "markdown",
   "metadata": {
    "papermill": {
     "duration": 0.074647,
     "end_time": "2021-01-23T09:50:52.548042",
     "exception": false,
     "start_time": "2021-01-23T09:50:52.473395",
     "status": "completed"
    },
    "tags": []
   },
   "source": [
    "<hr>\n",
    "\n",
    "### Others (json,SQL,table,html)"
   ]
  },
  {
   "cell_type": "code",
   "execution_count": 14,
   "metadata": {
    "execution": {
     "iopub.execute_input": "2021-01-23T09:50:52.702507Z",
     "iopub.status.busy": "2021-01-23T09:50:52.701847Z",
     "iopub.status.idle": "2021-01-23T09:50:52.704840Z",
     "shell.execute_reply": "2021-01-23T09:50:52.705298Z"
    },
    "papermill": {
     "duration": 0.081709,
     "end_time": "2021-01-23T09:50:52.705457",
     "exception": false,
     "start_time": "2021-01-23T09:50:52.623748",
     "status": "completed"
    },
    "tags": []
   },
   "outputs": [],
   "source": [
    "# pd.read_sql(query,connection_object) -> Reads from a SQL table/database\n",
    "# pd.read_table(filename) -> From a delimited text file(like TSV)\n",
    "# pd.read_json(json_string) -> Reads from a json formatted string, URL or file\n",
    "# pd.read_html(url) -> Parses an html URL, string or file and extracts tables to a list of dataframes\n",
    "# pd.read_clipboard() -> Takes the contentes of your clipboard and passes it to read_table()\n",
    "# pd.DataFrame(dict) -> From a dict, keys for columns names, values for data as lists"
   ]
  },
  {
   "cell_type": "markdown",
   "metadata": {
    "papermill": {
     "duration": 0.076376,
     "end_time": "2021-01-23T09:50:52.857982",
     "exception": false,
     "start_time": "2021-01-23T09:50:52.781606",
     "status": "completed"
    },
    "tags": []
   },
   "source": [
    "<hr>\n",
    "\n",
    "## 4. Exporting Data"
   ]
  },
  {
   "cell_type": "code",
   "execution_count": 15,
   "metadata": {
    "execution": {
     "iopub.execute_input": "2021-01-23T09:50:53.014600Z",
     "iopub.status.busy": "2021-01-23T09:50:53.013930Z",
     "iopub.status.idle": "2021-01-23T09:50:53.017952Z",
     "shell.execute_reply": "2021-01-23T09:50:53.017309Z"
    },
    "papermill": {
     "duration": 0.084294,
     "end_time": "2021-01-23T09:50:53.018061",
     "exception": false,
     "start_time": "2021-01-23T09:50:52.933767",
     "status": "completed"
    },
    "tags": []
   },
   "outputs": [],
   "source": [
    "# df.to_csv(filename) -> Writes to a CSV file\n",
    "# df.to_excel(filename) -> Writes on an Excel file\n",
    "# df.to_sql(table_name, connection_object) -> Writes to a SQL table\n",
    "# df.to_json(filename) -> Writes to a file in JSON format\n",
    "# df.to_html(filename) -> Saves as an HTML table\n",
    "# df.to_clipboard() -> Writes to the clipboard"
   ]
  },
  {
   "cell_type": "markdown",
   "metadata": {
    "papermill": {
     "duration": 0.075667,
     "end_time": "2021-01-23T09:50:53.169347",
     "exception": false,
     "start_time": "2021-01-23T09:50:53.093680",
     "status": "completed"
    },
    "tags": []
   },
   "source": [
    "<hr>\n",
    "\n",
    "## 5. Create Test Objects"
   ]
  },
  {
   "cell_type": "code",
   "execution_count": 16,
   "metadata": {
    "execution": {
     "iopub.execute_input": "2021-01-23T09:50:53.337952Z",
     "iopub.status.busy": "2021-01-23T09:50:53.337285Z",
     "iopub.status.idle": "2021-01-23T09:50:53.341673Z",
     "shell.execute_reply": "2021-01-23T09:50:53.342270Z"
    },
    "papermill": {
     "duration": 0.096723,
     "end_time": "2021-01-23T09:50:53.342427",
     "exception": false,
     "start_time": "2021-01-23T09:50:53.245704",
     "status": "completed"
    },
    "tags": []
   },
   "outputs": [
    {
     "data": {
      "text/html": [
       "<div>\n",
       "<style scoped>\n",
       "    .dataframe tbody tr th:only-of-type {\n",
       "        vertical-align: middle;\n",
       "    }\n",
       "\n",
       "    .dataframe tbody tr th {\n",
       "        vertical-align: top;\n",
       "    }\n",
       "\n",
       "    .dataframe thead th {\n",
       "        text-align: right;\n",
       "    }\n",
       "</style>\n",
       "<table border=\"1\" class=\"dataframe\">\n",
       "  <thead>\n",
       "    <tr style=\"text-align: right;\">\n",
       "      <th></th>\n",
       "      <th>0</th>\n",
       "      <th>1</th>\n",
       "      <th>2</th>\n",
       "      <th>3</th>\n",
       "      <th>4</th>\n",
       "    </tr>\n",
       "  </thead>\n",
       "  <tbody>\n",
       "    <tr>\n",
       "      <th>0</th>\n",
       "      <td>0.079987</td>\n",
       "      <td>0.990892</td>\n",
       "      <td>0.542602</td>\n",
       "      <td>0.041492</td>\n",
       "      <td>0.849208</td>\n",
       "    </tr>\n",
       "    <tr>\n",
       "      <th>1</th>\n",
       "      <td>0.014538</td>\n",
       "      <td>0.407688</td>\n",
       "      <td>0.633259</td>\n",
       "      <td>0.327477</td>\n",
       "      <td>0.590802</td>\n",
       "    </tr>\n",
       "    <tr>\n",
       "      <th>2</th>\n",
       "      <td>0.727928</td>\n",
       "      <td>0.262746</td>\n",
       "      <td>0.001388</td>\n",
       "      <td>0.807345</td>\n",
       "      <td>0.074656</td>\n",
       "    </tr>\n",
       "    <tr>\n",
       "      <th>3</th>\n",
       "      <td>0.359111</td>\n",
       "      <td>0.502413</td>\n",
       "      <td>0.118469</td>\n",
       "      <td>0.367131</td>\n",
       "      <td>0.316516</td>\n",
       "    </tr>\n",
       "    <tr>\n",
       "      <th>4</th>\n",
       "      <td>0.174078</td>\n",
       "      <td>0.707695</td>\n",
       "      <td>0.872556</td>\n",
       "      <td>0.557113</td>\n",
       "      <td>0.366775</td>\n",
       "    </tr>\n",
       "    <tr>\n",
       "      <th>5</th>\n",
       "      <td>0.952046</td>\n",
       "      <td>0.245119</td>\n",
       "      <td>0.942422</td>\n",
       "      <td>0.025148</td>\n",
       "      <td>0.946349</td>\n",
       "    </tr>\n",
       "    <tr>\n",
       "      <th>6</th>\n",
       "      <td>0.681208</td>\n",
       "      <td>0.606787</td>\n",
       "      <td>0.774219</td>\n",
       "      <td>0.155576</td>\n",
       "      <td>0.651608</td>\n",
       "    </tr>\n",
       "    <tr>\n",
       "      <th>7</th>\n",
       "      <td>0.403565</td>\n",
       "      <td>0.044592</td>\n",
       "      <td>0.198140</td>\n",
       "      <td>0.563371</td>\n",
       "      <td>0.239393</td>\n",
       "    </tr>\n",
       "    <tr>\n",
       "      <th>8</th>\n",
       "      <td>0.118897</td>\n",
       "      <td>0.606927</td>\n",
       "      <td>0.176265</td>\n",
       "      <td>0.338542</td>\n",
       "      <td>0.130643</td>\n",
       "    </tr>\n",
       "    <tr>\n",
       "      <th>9</th>\n",
       "      <td>0.952440</td>\n",
       "      <td>0.765005</td>\n",
       "      <td>0.430695</td>\n",
       "      <td>0.752751</td>\n",
       "      <td>0.205990</td>\n",
       "    </tr>\n",
       "    <tr>\n",
       "      <th>10</th>\n",
       "      <td>0.094345</td>\n",
       "      <td>0.204601</td>\n",
       "      <td>0.129730</td>\n",
       "      <td>0.856123</td>\n",
       "      <td>0.695770</td>\n",
       "    </tr>\n",
       "    <tr>\n",
       "      <th>11</th>\n",
       "      <td>0.322770</td>\n",
       "      <td>0.918767</td>\n",
       "      <td>0.010910</td>\n",
       "      <td>0.858337</td>\n",
       "      <td>0.041189</td>\n",
       "    </tr>\n",
       "    <tr>\n",
       "      <th>12</th>\n",
       "      <td>0.536552</td>\n",
       "      <td>0.802935</td>\n",
       "      <td>0.755466</td>\n",
       "      <td>0.174184</td>\n",
       "      <td>0.128185</td>\n",
       "    </tr>\n",
       "    <tr>\n",
       "      <th>13</th>\n",
       "      <td>0.934140</td>\n",
       "      <td>0.491255</td>\n",
       "      <td>0.893840</td>\n",
       "      <td>0.990108</td>\n",
       "      <td>0.426249</td>\n",
       "    </tr>\n",
       "    <tr>\n",
       "      <th>14</th>\n",
       "      <td>0.455379</td>\n",
       "      <td>0.006715</td>\n",
       "      <td>0.003053</td>\n",
       "      <td>0.030443</td>\n",
       "      <td>0.976829</td>\n",
       "    </tr>\n",
       "    <tr>\n",
       "      <th>15</th>\n",
       "      <td>0.804975</td>\n",
       "      <td>0.711867</td>\n",
       "      <td>0.395941</td>\n",
       "      <td>0.666985</td>\n",
       "      <td>0.915895</td>\n",
       "    </tr>\n",
       "    <tr>\n",
       "      <th>16</th>\n",
       "      <td>0.568599</td>\n",
       "      <td>0.918973</td>\n",
       "      <td>0.798957</td>\n",
       "      <td>0.389853</td>\n",
       "      <td>0.820829</td>\n",
       "    </tr>\n",
       "    <tr>\n",
       "      <th>17</th>\n",
       "      <td>0.563633</td>\n",
       "      <td>0.399048</td>\n",
       "      <td>0.566778</td>\n",
       "      <td>0.695937</td>\n",
       "      <td>0.925728</td>\n",
       "    </tr>\n",
       "    <tr>\n",
       "      <th>18</th>\n",
       "      <td>0.579349</td>\n",
       "      <td>0.812183</td>\n",
       "      <td>0.856742</td>\n",
       "      <td>0.016949</td>\n",
       "      <td>0.294876</td>\n",
       "    </tr>\n",
       "    <tr>\n",
       "      <th>19</th>\n",
       "      <td>0.163004</td>\n",
       "      <td>0.633337</td>\n",
       "      <td>0.520080</td>\n",
       "      <td>0.803809</td>\n",
       "      <td>0.348814</td>\n",
       "    </tr>\n",
       "  </tbody>\n",
       "</table>\n",
       "</div>"
      ],
      "text/plain": [
       "           0         1         2         3         4\n",
       "0   0.079987  0.990892  0.542602  0.041492  0.849208\n",
       "1   0.014538  0.407688  0.633259  0.327477  0.590802\n",
       "2   0.727928  0.262746  0.001388  0.807345  0.074656\n",
       "3   0.359111  0.502413  0.118469  0.367131  0.316516\n",
       "4   0.174078  0.707695  0.872556  0.557113  0.366775\n",
       "5   0.952046  0.245119  0.942422  0.025148  0.946349\n",
       "6   0.681208  0.606787  0.774219  0.155576  0.651608\n",
       "7   0.403565  0.044592  0.198140  0.563371  0.239393\n",
       "8   0.118897  0.606927  0.176265  0.338542  0.130643\n",
       "9   0.952440  0.765005  0.430695  0.752751  0.205990\n",
       "10  0.094345  0.204601  0.129730  0.856123  0.695770\n",
       "11  0.322770  0.918767  0.010910  0.858337  0.041189\n",
       "12  0.536552  0.802935  0.755466  0.174184  0.128185\n",
       "13  0.934140  0.491255  0.893840  0.990108  0.426249\n",
       "14  0.455379  0.006715  0.003053  0.030443  0.976829\n",
       "15  0.804975  0.711867  0.395941  0.666985  0.915895\n",
       "16  0.568599  0.918973  0.798957  0.389853  0.820829\n",
       "17  0.563633  0.399048  0.566778  0.695937  0.925728\n",
       "18  0.579349  0.812183  0.856742  0.016949  0.294876\n",
       "19  0.163004  0.633337  0.520080  0.803809  0.348814"
      ]
     },
     "execution_count": 16,
     "metadata": {},
     "output_type": "execute_result"
    }
   ],
   "source": [
    "pd.DataFrame(np.random.rand(20,5)) # row , column"
   ]
  },
  {
   "cell_type": "markdown",
   "metadata": {
    "papermill": {
     "duration": 0.075742,
     "end_time": "2021-01-23T09:50:53.494474",
     "exception": false,
     "start_time": "2021-01-23T09:50:53.418732",
     "status": "completed"
    },
    "tags": []
   },
   "source": [
    "<hr>\n",
    "\n",
    "## 6. Summarize Data"
   ]
  },
  {
   "cell_type": "markdown",
   "metadata": {
    "papermill": {
     "duration": 0.077001,
     "end_time": "2021-01-23T09:50:53.648280",
     "exception": false,
     "start_time": "2021-01-23T09:50:53.571279",
     "status": "completed"
    },
    "tags": []
   },
   "source": [
    "<hr>\n",
    "\n",
    "### df.info()\n",
    "This Code provides detailed information about our data.\n"
   ]
  },
  {
   "cell_type": "code",
   "execution_count": 17,
   "metadata": {
    "execution": {
     "iopub.execute_input": "2021-01-23T09:50:53.806266Z",
     "iopub.status.busy": "2021-01-23T09:50:53.805086Z",
     "iopub.status.idle": "2021-01-23T09:50:53.820318Z",
     "shell.execute_reply": "2021-01-23T09:50:53.819643Z"
    },
    "papermill": {
     "duration": 0.095166,
     "end_time": "2021-01-23T09:50:53.820448",
     "exception": false,
     "start_time": "2021-01-23T09:50:53.725282",
     "status": "completed"
    },
    "tags": []
   },
   "outputs": [
    {
     "name": "stdout",
     "output_type": "stream",
     "text": [
      "<class 'pandas.core.frame.DataFrame'>\n",
      "RangeIndex: 1989 entries, 0 to 1988\n",
      "Data columns (total 7 columns):\n",
      " #   Column     Non-Null Count  Dtype  \n",
      "---  ------     --------------  -----  \n",
      " 0   Date       1989 non-null   object \n",
      " 1   Open       1989 non-null   float64\n",
      " 2   High       1989 non-null   float64\n",
      " 3   Low        1989 non-null   float64\n",
      " 4   Close      1989 non-null   float64\n",
      " 5   Volume     1989 non-null   int64  \n",
      " 6   Adj Close  1989 non-null   float64\n",
      "dtypes: float64(5), int64(1), object(1)\n",
      "memory usage: 108.9+ KB\n"
     ]
    }
   ],
   "source": [
    "df.info()"
   ]
  },
  {
   "cell_type": "markdown",
   "metadata": {
    "papermill": {
     "duration": 0.077343,
     "end_time": "2021-01-23T09:50:53.974990",
     "exception": false,
     "start_time": "2021-01-23T09:50:53.897647",
     "status": "completed"
    },
    "tags": []
   },
   "source": [
    "<hr>\n",
    "\n",
    "### df.shape()\n",
    "This code shows us the number of rows and columns."
   ]
  },
  {
   "cell_type": "code",
   "execution_count": 18,
   "metadata": {
    "execution": {
     "iopub.execute_input": "2021-01-23T09:50:54.133857Z",
     "iopub.status.busy": "2021-01-23T09:50:54.133163Z",
     "iopub.status.idle": "2021-01-23T09:50:54.137110Z",
     "shell.execute_reply": "2021-01-23T09:50:54.137578Z"
    },
    "papermill": {
     "duration": 0.086214,
     "end_time": "2021-01-23T09:50:54.137720",
     "exception": false,
     "start_time": "2021-01-23T09:50:54.051506",
     "status": "completed"
    },
    "tags": []
   },
   "outputs": [
    {
     "data": {
      "text/plain": [
       "(1989, 7)"
      ]
     },
     "execution_count": 18,
     "metadata": {},
     "output_type": "execute_result"
    }
   ],
   "source": [
    "df.shape"
   ]
  },
  {
   "cell_type": "markdown",
   "metadata": {
    "papermill": {
     "duration": 0.077755,
     "end_time": "2021-01-23T09:50:54.292847",
     "exception": false,
     "start_time": "2021-01-23T09:50:54.215092",
     "status": "completed"
    },
    "tags": []
   },
   "source": [
    "<hr>\n",
    "\n",
    "### df.index\n",
    "This code shows the total number of index found."
   ]
  },
  {
   "cell_type": "code",
   "execution_count": 19,
   "metadata": {
    "execution": {
     "iopub.execute_input": "2021-01-23T09:50:54.453330Z",
     "iopub.status.busy": "2021-01-23T09:50:54.452608Z",
     "iopub.status.idle": "2021-01-23T09:50:54.456988Z",
     "shell.execute_reply": "2021-01-23T09:50:54.456335Z"
    },
    "papermill": {
     "duration": 0.086656,
     "end_time": "2021-01-23T09:50:54.457096",
     "exception": false,
     "start_time": "2021-01-23T09:50:54.370440",
     "status": "completed"
    },
    "tags": []
   },
   "outputs": [
    {
     "data": {
      "text/plain": [
       "RangeIndex(start=0, stop=1989, step=1)"
      ]
     },
     "execution_count": 19,
     "metadata": {},
     "output_type": "execute_result"
    }
   ],
   "source": [
    "df.index"
   ]
  },
  {
   "cell_type": "markdown",
   "metadata": {
    "papermill": {
     "duration": 0.078162,
     "end_time": "2021-01-23T09:50:54.613790",
     "exception": false,
     "start_time": "2021-01-23T09:50:54.535628",
     "status": "completed"
    },
    "tags": []
   },
   "source": [
    "<hr>\n",
    "\n",
    "### df.columns\n",
    "This code shows all the columns contained in the data we have examined."
   ]
  },
  {
   "cell_type": "code",
   "execution_count": 20,
   "metadata": {
    "execution": {
     "iopub.execute_input": "2021-01-23T09:50:54.776894Z",
     "iopub.status.busy": "2021-01-23T09:50:54.775934Z",
     "iopub.status.idle": "2021-01-23T09:50:54.780468Z",
     "shell.execute_reply": "2021-01-23T09:50:54.779947Z"
    },
    "papermill": {
     "duration": 0.08889,
     "end_time": "2021-01-23T09:50:54.780582",
     "exception": false,
     "start_time": "2021-01-23T09:50:54.691692",
     "status": "completed"
    },
    "tags": []
   },
   "outputs": [
    {
     "data": {
      "text/plain": [
       "Index(['Date', 'Open', 'High', 'Low', 'Close', 'Volume', 'Adj Close'], dtype='object')"
      ]
     },
     "execution_count": 20,
     "metadata": {},
     "output_type": "execute_result"
    }
   ],
   "source": [
    "df.columns"
   ]
  },
  {
   "cell_type": "code",
   "execution_count": 21,
   "metadata": {
    "execution": {
     "iopub.execute_input": "2021-01-23T09:50:54.943470Z",
     "iopub.status.busy": "2021-01-23T09:50:54.942630Z",
     "iopub.status.idle": "2021-01-23T09:50:54.946649Z",
     "shell.execute_reply": "2021-01-23T09:50:54.947299Z"
    },
    "papermill": {
     "duration": 0.08805,
     "end_time": "2021-01-23T09:50:54.947501",
     "exception": false,
     "start_time": "2021-01-23T09:50:54.859451",
     "status": "completed"
    },
    "tags": []
   },
   "outputs": [
    {
     "name": "stdout",
     "output_type": "stream",
     "text": [
      "Date\n",
      "Open\n",
      "High\n",
      "Low\n",
      "Close\n",
      "Volume\n",
      "Adj Close\n"
     ]
    }
   ],
   "source": [
    "for col in df.columns:\n",
    "    print(col)"
   ]
  },
  {
   "cell_type": "markdown",
   "metadata": {
    "papermill": {
     "duration": 0.07859,
     "end_time": "2021-01-23T09:50:55.105005",
     "exception": false,
     "start_time": "2021-01-23T09:50:55.026415",
     "status": "completed"
    },
    "tags": []
   },
   "source": [
    "<hr>\n",
    "\n",
    "### df.count()\n",
    "This code shows us how many pieces of data are in each column."
   ]
  },
  {
   "cell_type": "code",
   "execution_count": 22,
   "metadata": {
    "execution": {
     "iopub.execute_input": "2021-01-23T09:50:55.271081Z",
     "iopub.status.busy": "2021-01-23T09:50:55.270284Z",
     "iopub.status.idle": "2021-01-23T09:50:55.274134Z",
     "shell.execute_reply": "2021-01-23T09:50:55.273610Z"
    },
    "papermill": {
     "duration": 0.090756,
     "end_time": "2021-01-23T09:50:55.274242",
     "exception": false,
     "start_time": "2021-01-23T09:50:55.183486",
     "status": "completed"
    },
    "tags": []
   },
   "outputs": [
    {
     "data": {
      "text/plain": [
       "Date         1989\n",
       "Open         1989\n",
       "High         1989\n",
       "Low          1989\n",
       "Close        1989\n",
       "Volume       1989\n",
       "Adj Close    1989\n",
       "dtype: int64"
      ]
     },
     "execution_count": 22,
     "metadata": {},
     "output_type": "execute_result"
    }
   ],
   "source": [
    "df.count()"
   ]
  },
  {
   "cell_type": "markdown",
   "metadata": {
    "papermill": {
     "duration": 0.078726,
     "end_time": "2021-01-23T09:50:55.431832",
     "exception": false,
     "start_time": "2021-01-23T09:50:55.353106",
     "status": "completed"
    },
    "tags": []
   },
   "source": [
    "<hr>\n",
    "\n",
    "### df.sum()\n",
    "This code shows us the sum of the data in each column."
   ]
  },
  {
   "cell_type": "code",
   "execution_count": 23,
   "metadata": {
    "execution": {
     "iopub.execute_input": "2021-01-23T09:50:55.595156Z",
     "iopub.status.busy": "2021-01-23T09:50:55.594491Z",
     "iopub.status.idle": "2021-01-23T09:50:55.607514Z",
     "shell.execute_reply": "2021-01-23T09:50:55.606904Z"
    },
    "papermill": {
     "duration": 0.096765,
     "end_time": "2021-01-23T09:50:55.607646",
     "exception": false,
     "start_time": "2021-01-23T09:50:55.510881",
     "status": "completed"
    },
    "tags": []
   },
   "outputs": [
    {
     "data": {
      "text/plain": [
       "Date         2016-07-012016-06-302016-06-292016-06-282016-0...\n",
       "Open                                               2.67702e+07\n",
       "High                                               2.69337e+07\n",
       "Low                                                2.65988e+07\n",
       "Close                                               2.6778e+07\n",
       "Volume                                            323831020000\n",
       "Adj Close                                           2.6778e+07\n",
       "dtype: object"
      ]
     },
     "execution_count": 23,
     "metadata": {},
     "output_type": "execute_result"
    }
   ],
   "source": [
    "df.sum()"
   ]
  },
  {
   "cell_type": "code",
   "execution_count": 24,
   "metadata": {
    "execution": {
     "iopub.execute_input": "2021-01-23T09:50:55.785356Z",
     "iopub.status.busy": "2021-01-23T09:50:55.784290Z",
     "iopub.status.idle": "2021-01-23T09:50:55.788873Z",
     "shell.execute_reply": "2021-01-23T09:50:55.788281Z"
    },
    "papermill": {
     "duration": 0.100942,
     "end_time": "2021-01-23T09:50:55.788994",
     "exception": false,
     "start_time": "2021-01-23T09:50:55.688052",
     "status": "completed"
    },
    "tags": []
   },
   "outputs": [
    {
     "data": {
      "text/html": [
       "<div>\n",
       "<style scoped>\n",
       "    .dataframe tbody tr th:only-of-type {\n",
       "        vertical-align: middle;\n",
       "    }\n",
       "\n",
       "    .dataframe tbody tr th {\n",
       "        vertical-align: top;\n",
       "    }\n",
       "\n",
       "    .dataframe thead th {\n",
       "        text-align: right;\n",
       "    }\n",
       "</style>\n",
       "<table border=\"1\" class=\"dataframe\">\n",
       "  <thead>\n",
       "    <tr style=\"text-align: right;\">\n",
       "      <th></th>\n",
       "      <th>Date</th>\n",
       "      <th>Open</th>\n",
       "      <th>High</th>\n",
       "      <th>Low</th>\n",
       "      <th>Close</th>\n",
       "      <th>Volume</th>\n",
       "      <th>Adj Close</th>\n",
       "    </tr>\n",
       "  </thead>\n",
       "  <tbody>\n",
       "    <tr>\n",
       "      <th>1988</th>\n",
       "      <td>2008-08-08</td>\n",
       "      <td>11432.089844</td>\n",
       "      <td>11759.959961</td>\n",
       "      <td>11388.040039</td>\n",
       "      <td>11734.320312</td>\n",
       "      <td>212830000</td>\n",
       "      <td>11734.320312</td>\n",
       "    </tr>\n",
       "    <tr>\n",
       "      <th>1093</th>\n",
       "      <td>2012-02-28</td>\n",
       "      <td>12976.740234</td>\n",
       "      <td>13021.509766</td>\n",
       "      <td>12952.820312</td>\n",
       "      <td>13005.120117</td>\n",
       "      <td>114490000</td>\n",
       "      <td>13005.120117</td>\n",
       "    </tr>\n",
       "    <tr>\n",
       "      <th>865</th>\n",
       "      <td>2013-01-25</td>\n",
       "      <td>13825.330078</td>\n",
       "      <td>13895.980469</td>\n",
       "      <td>13825.330078</td>\n",
       "      <td>13895.980469</td>\n",
       "      <td>130300000</td>\n",
       "      <td>13895.980469</td>\n",
       "    </tr>\n",
       "  </tbody>\n",
       "</table>\n",
       "</div>"
      ],
      "text/plain": [
       "            Date          Open          High           Low         Close  \\\n",
       "1988  2008-08-08  11432.089844  11759.959961  11388.040039  11734.320312   \n",
       "1093  2012-02-28  12976.740234  13021.509766  12952.820312  13005.120117   \n",
       "865   2013-01-25  13825.330078  13895.980469  13825.330078  13895.980469   \n",
       "\n",
       "         Volume     Adj Close  \n",
       "1988  212830000  11734.320312  \n",
       "1093  114490000  13005.120117  \n",
       "865   130300000  13895.980469  "
      ]
     },
     "execution_count": 24,
     "metadata": {},
     "output_type": "execute_result"
    }
   ],
   "source": [
    "df.sample(3)"
   ]
  },
  {
   "cell_type": "markdown",
   "metadata": {
    "papermill": {
     "duration": 0.08064,
     "end_time": "2021-01-23T09:50:55.951252",
     "exception": false,
     "start_time": "2021-01-23T09:50:55.870612",
     "status": "completed"
    },
    "tags": []
   },
   "source": [
    "<hr>\n",
    "\n",
    "### df.cumsum()\n",
    "This code gives us cumulative sum of the data."
   ]
  },
  {
   "cell_type": "code",
   "execution_count": 25,
   "metadata": {
    "execution": {
     "iopub.execute_input": "2021-01-23T09:50:56.139983Z",
     "iopub.status.busy": "2021-01-23T09:50:56.130823Z",
     "iopub.status.idle": "2021-01-23T09:50:56.144235Z",
     "shell.execute_reply": "2021-01-23T09:50:56.144788Z"
    },
    "papermill": {
     "duration": 0.113498,
     "end_time": "2021-01-23T09:50:56.144938",
     "exception": false,
     "start_time": "2021-01-23T09:50:56.031440",
     "status": "completed"
    },
    "tags": []
   },
   "outputs": [
    {
     "data": {
      "text/html": [
       "<div>\n",
       "<style scoped>\n",
       "    .dataframe tbody tr th:only-of-type {\n",
       "        vertical-align: middle;\n",
       "    }\n",
       "\n",
       "    .dataframe tbody tr th {\n",
       "        vertical-align: top;\n",
       "    }\n",
       "\n",
       "    .dataframe thead th {\n",
       "        text-align: right;\n",
       "    }\n",
       "</style>\n",
       "<table border=\"1\" class=\"dataframe\">\n",
       "  <thead>\n",
       "    <tr style=\"text-align: right;\">\n",
       "      <th></th>\n",
       "      <th>Date</th>\n",
       "      <th>Open</th>\n",
       "      <th>High</th>\n",
       "      <th>Low</th>\n",
       "      <th>Close</th>\n",
       "      <th>Volume</th>\n",
       "      <th>Adj Close</th>\n",
       "    </tr>\n",
       "  </thead>\n",
       "  <tbody>\n",
       "    <tr>\n",
       "      <th>0</th>\n",
       "      <td>2016-07-01</td>\n",
       "      <td>17924.240234</td>\n",
       "      <td>18002.380859</td>\n",
       "      <td>17916.910156</td>\n",
       "      <td>17949.369141</td>\n",
       "      <td>82160000</td>\n",
       "      <td>17949.369141</td>\n",
       "    </tr>\n",
       "    <tr>\n",
       "      <th>1</th>\n",
       "      <td>2016-07-012016-06-30</td>\n",
       "      <td>35637.000000</td>\n",
       "      <td>35932.990234</td>\n",
       "      <td>35628.710937</td>\n",
       "      <td>35879.359375</td>\n",
       "      <td>215190000</td>\n",
       "      <td>35879.359375</td>\n",
       "    </tr>\n",
       "    <tr>\n",
       "      <th>2</th>\n",
       "      <td>2016-07-012016-06-302016-06-29</td>\n",
       "      <td>53093.019531</td>\n",
       "      <td>53637.500000</td>\n",
       "      <td>53084.730468</td>\n",
       "      <td>53574.039063</td>\n",
       "      <td>321570000</td>\n",
       "      <td>53574.039063</td>\n",
       "    </tr>\n",
       "    <tr>\n",
       "      <th>3</th>\n",
       "      <td>2016-07-012016-06-302016-06-292016-06-28</td>\n",
       "      <td>70283.529297</td>\n",
       "      <td>71047.220703</td>\n",
       "      <td>70275.240234</td>\n",
       "      <td>70983.759766</td>\n",
       "      <td>433760000</td>\n",
       "      <td>70983.759766</td>\n",
       "    </tr>\n",
       "    <tr>\n",
       "      <th>4</th>\n",
       "      <td>2016-07-012016-06-302016-06-292016-06-282016-0...</td>\n",
       "      <td>87638.740235</td>\n",
       "      <td>88402.431641</td>\n",
       "      <td>87338.320312</td>\n",
       "      <td>88124.000000</td>\n",
       "      <td>572500000</td>\n",
       "      <td>88124.000000</td>\n",
       "    </tr>\n",
       "  </tbody>\n",
       "</table>\n",
       "</div>"
      ],
      "text/plain": [
       "                                                Date          Open  \\\n",
       "0                                         2016-07-01  17924.240234   \n",
       "1                               2016-07-012016-06-30  35637.000000   \n",
       "2                     2016-07-012016-06-302016-06-29  53093.019531   \n",
       "3           2016-07-012016-06-302016-06-292016-06-28  70283.529297   \n",
       "4  2016-07-012016-06-302016-06-292016-06-282016-0...  87638.740235   \n",
       "\n",
       "           High           Low         Close     Volume     Adj Close  \n",
       "0  18002.380859  17916.910156  17949.369141   82160000  17949.369141  \n",
       "1  35932.990234  35628.710937  35879.359375  215190000  35879.359375  \n",
       "2  53637.500000  53084.730468  53574.039063  321570000  53574.039063  \n",
       "3  71047.220703  70275.240234  70983.759766  433760000  70983.759766  \n",
       "4  88402.431641  87338.320312  88124.000000  572500000  88124.000000  "
      ]
     },
     "execution_count": 25,
     "metadata": {},
     "output_type": "execute_result"
    }
   ],
   "source": [
    "df.cumsum().head()"
   ]
  },
  {
   "cell_type": "markdown",
   "metadata": {
    "papermill": {
     "duration": 0.081264,
     "end_time": "2021-01-23T09:50:56.307854",
     "exception": false,
     "start_time": "2021-01-23T09:50:56.226590",
     "status": "completed"
    },
    "tags": []
   },
   "source": [
    "<hr>\n",
    "\n",
    "### df.min()\n",
    "This code brings us the smallest of the data."
   ]
  },
  {
   "cell_type": "code",
   "execution_count": 26,
   "metadata": {
    "execution": {
     "iopub.execute_input": "2021-01-23T09:50:56.477243Z",
     "iopub.status.busy": "2021-01-23T09:50:56.476229Z",
     "iopub.status.idle": "2021-01-23T09:50:56.483913Z",
     "shell.execute_reply": "2021-01-23T09:50:56.483255Z"
    },
    "papermill": {
     "duration": 0.095151,
     "end_time": "2021-01-23T09:50:56.484025",
     "exception": false,
     "start_time": "2021-01-23T09:50:56.388874",
     "status": "completed"
    },
    "tags": []
   },
   "outputs": [
    {
     "data": {
      "text/plain": [
       "Date         2008-08-08\n",
       "Open            6547.01\n",
       "High            6709.61\n",
       "Low             6469.95\n",
       "Close           6547.05\n",
       "Volume          8410000\n",
       "Adj Close       6547.05\n",
       "dtype: object"
      ]
     },
     "execution_count": 26,
     "metadata": {},
     "output_type": "execute_result"
    }
   ],
   "source": [
    "df.min()"
   ]
  },
  {
   "cell_type": "markdown",
   "metadata": {
    "papermill": {
     "duration": 0.081622,
     "end_time": "2021-01-23T09:50:56.646867",
     "exception": false,
     "start_time": "2021-01-23T09:50:56.565245",
     "status": "completed"
    },
    "tags": []
   },
   "source": [
    "<hr>\n",
    "\n",
    "### df.max()\n",
    "This code brings up the largest among the data."
   ]
  },
  {
   "cell_type": "code",
   "execution_count": 27,
   "metadata": {
    "execution": {
     "iopub.execute_input": "2021-01-23T09:50:56.817560Z",
     "iopub.status.busy": "2021-01-23T09:50:56.816853Z",
     "iopub.status.idle": "2021-01-23T09:50:56.824612Z",
     "shell.execute_reply": "2021-01-23T09:50:56.824007Z"
    },
    "papermill": {
     "duration": 0.096116,
     "end_time": "2021-01-23T09:50:56.824727",
     "exception": false,
     "start_time": "2021-01-23T09:50:56.728611",
     "status": "completed"
    },
    "tags": []
   },
   "outputs": [
    {
     "data": {
      "text/plain": [
       "Date         2016-07-01\n",
       "Open            18315.1\n",
       "High            18351.4\n",
       "Low             18272.6\n",
       "Close           18312.4\n",
       "Volume        674920000\n",
       "Adj Close       18312.4\n",
       "dtype: object"
      ]
     },
     "execution_count": 27,
     "metadata": {},
     "output_type": "execute_result"
    }
   ],
   "source": [
    "df.max()"
   ]
  },
  {
   "cell_type": "markdown",
   "metadata": {
    "papermill": {
     "duration": 0.082324,
     "end_time": "2021-01-23T09:50:56.990091",
     "exception": false,
     "start_time": "2021-01-23T09:50:56.907767",
     "status": "completed"
    },
    "tags": []
   },
   "source": [
    "<hr>\n",
    "\n",
    "### idxmin()\n",
    "This code fetches the smallest value in the data,\n",
    "The use on series and dataframe is different\n"
   ]
  },
  {
   "cell_type": "code",
   "execution_count": 28,
   "metadata": {
    "execution": {
     "iopub.execute_input": "2021-01-23T09:50:57.159810Z",
     "iopub.status.busy": "2021-01-23T09:50:57.158924Z",
     "iopub.status.idle": "2021-01-23T09:50:57.162467Z",
     "shell.execute_reply": "2021-01-23T09:50:57.163205Z"
    },
    "papermill": {
     "duration": 0.091828,
     "end_time": "2021-01-23T09:50:57.163412",
     "exception": false,
     "start_time": "2021-01-23T09:50:57.071584",
     "status": "completed"
    },
    "tags": []
   },
   "outputs": [
    {
     "name": "stdout",
     "output_type": "stream",
     "text": [
      "df:  1842\n",
      "series b\n"
     ]
    }
   ],
   "source": [
    "print(\"df: \",df['Open'].idxmin())\n",
    "print(\"series\", Series.idxmin())"
   ]
  },
  {
   "cell_type": "markdown",
   "metadata": {
    "papermill": {
     "duration": 0.082578,
     "end_time": "2021-01-23T09:50:57.329153",
     "exception": false,
     "start_time": "2021-01-23T09:50:57.246575",
     "status": "completed"
    },
    "tags": []
   },
   "source": [
    "<hr>\n",
    "\n",
    "### idxmax()\n",
    "This code returns the largest value in the data."
   ]
  },
  {
   "cell_type": "code",
   "execution_count": 29,
   "metadata": {
    "execution": {
     "iopub.execute_input": "2021-01-23T09:50:57.500828Z",
     "iopub.status.busy": "2021-01-23T09:50:57.500082Z",
     "iopub.status.idle": "2021-01-23T09:50:57.505223Z",
     "shell.execute_reply": "2021-01-23T09:50:57.504356Z"
    },
    "papermill": {
     "duration": 0.093545,
     "end_time": "2021-01-23T09:50:57.505394",
     "exception": false,
     "start_time": "2021-01-23T09:50:57.411849",
     "status": "completed"
    },
    "tags": []
   },
   "outputs": [
    {
     "name": "stdout",
     "output_type": "stream",
     "text": [
      "df:  282\n",
      "series:  c\n"
     ]
    }
   ],
   "source": [
    "print(\"df: \",df['Open'].idxmax())\n",
    "print(\"series: \",Series.idxmax())"
   ]
  },
  {
   "cell_type": "markdown",
   "metadata": {
    "papermill": {
     "duration": 0.082473,
     "end_time": "2021-01-23T09:50:57.671297",
     "exception": false,
     "start_time": "2021-01-23T09:50:57.588824",
     "status": "completed"
    },
    "tags": []
   },
   "source": [
    "<hr>\n",
    "\n",
    "### df.describe()\n",
    "\n",
    "This code provides basic statistical information about the data. \n",
    "The numerical column is based"
   ]
  },
  {
   "cell_type": "code",
   "execution_count": 30,
   "metadata": {
    "execution": {
     "iopub.execute_input": "2021-01-23T09:50:57.847473Z",
     "iopub.status.busy": "2021-01-23T09:50:57.846632Z",
     "iopub.status.idle": "2021-01-23T09:50:57.874278Z",
     "shell.execute_reply": "2021-01-23T09:50:57.873677Z"
    },
    "papermill": {
     "duration": 0.11951,
     "end_time": "2021-01-23T09:50:57.874421",
     "exception": false,
     "start_time": "2021-01-23T09:50:57.754911",
     "status": "completed"
    },
    "tags": []
   },
   "outputs": [
    {
     "data": {
      "text/html": [
       "<div>\n",
       "<style scoped>\n",
       "    .dataframe tbody tr th:only-of-type {\n",
       "        vertical-align: middle;\n",
       "    }\n",
       "\n",
       "    .dataframe tbody tr th {\n",
       "        vertical-align: top;\n",
       "    }\n",
       "\n",
       "    .dataframe thead th {\n",
       "        text-align: right;\n",
       "    }\n",
       "</style>\n",
       "<table border=\"1\" class=\"dataframe\">\n",
       "  <thead>\n",
       "    <tr style=\"text-align: right;\">\n",
       "      <th></th>\n",
       "      <th>Open</th>\n",
       "      <th>High</th>\n",
       "      <th>Low</th>\n",
       "      <th>Close</th>\n",
       "      <th>Volume</th>\n",
       "      <th>Adj Close</th>\n",
       "    </tr>\n",
       "  </thead>\n",
       "  <tbody>\n",
       "    <tr>\n",
       "      <th>count</th>\n",
       "      <td>1989.000000</td>\n",
       "      <td>1989.000000</td>\n",
       "      <td>1989.000000</td>\n",
       "      <td>1989.000000</td>\n",
       "      <td>1.989000e+03</td>\n",
       "      <td>1989.000000</td>\n",
       "    </tr>\n",
       "    <tr>\n",
       "      <th>mean</th>\n",
       "      <td>13459.116048</td>\n",
       "      <td>13541.303173</td>\n",
       "      <td>13372.931728</td>\n",
       "      <td>13463.032255</td>\n",
       "      <td>1.628110e+08</td>\n",
       "      <td>13463.032255</td>\n",
       "    </tr>\n",
       "    <tr>\n",
       "      <th>std</th>\n",
       "      <td>3143.281634</td>\n",
       "      <td>3136.271725</td>\n",
       "      <td>3150.420934</td>\n",
       "      <td>3144.006996</td>\n",
       "      <td>9.392343e+07</td>\n",
       "      <td>3144.006996</td>\n",
       "    </tr>\n",
       "    <tr>\n",
       "      <th>min</th>\n",
       "      <td>6547.009766</td>\n",
       "      <td>6709.609863</td>\n",
       "      <td>6469.950195</td>\n",
       "      <td>6547.049805</td>\n",
       "      <td>8.410000e+06</td>\n",
       "      <td>6547.049805</td>\n",
       "    </tr>\n",
       "    <tr>\n",
       "      <th>25%</th>\n",
       "      <td>10907.339844</td>\n",
       "      <td>11000.980469</td>\n",
       "      <td>10824.759766</td>\n",
       "      <td>10913.379883</td>\n",
       "      <td>1.000000e+08</td>\n",
       "      <td>10913.379883</td>\n",
       "    </tr>\n",
       "    <tr>\n",
       "      <th>50%</th>\n",
       "      <td>13022.049805</td>\n",
       "      <td>13088.110352</td>\n",
       "      <td>12953.129883</td>\n",
       "      <td>13025.580078</td>\n",
       "      <td>1.351700e+08</td>\n",
       "      <td>13025.580078</td>\n",
       "    </tr>\n",
       "    <tr>\n",
       "      <th>75%</th>\n",
       "      <td>16477.699219</td>\n",
       "      <td>16550.070312</td>\n",
       "      <td>16392.769531</td>\n",
       "      <td>16478.410156</td>\n",
       "      <td>1.926000e+08</td>\n",
       "      <td>16478.410156</td>\n",
       "    </tr>\n",
       "    <tr>\n",
       "      <th>max</th>\n",
       "      <td>18315.060547</td>\n",
       "      <td>18351.359375</td>\n",
       "      <td>18272.560547</td>\n",
       "      <td>18312.390625</td>\n",
       "      <td>6.749200e+08</td>\n",
       "      <td>18312.390625</td>\n",
       "    </tr>\n",
       "  </tbody>\n",
       "</table>\n",
       "</div>"
      ],
      "text/plain": [
       "               Open          High           Low         Close        Volume  \\\n",
       "count   1989.000000   1989.000000   1989.000000   1989.000000  1.989000e+03   \n",
       "mean   13459.116048  13541.303173  13372.931728  13463.032255  1.628110e+08   \n",
       "std     3143.281634   3136.271725   3150.420934   3144.006996  9.392343e+07   \n",
       "min     6547.009766   6709.609863   6469.950195   6547.049805  8.410000e+06   \n",
       "25%    10907.339844  11000.980469  10824.759766  10913.379883  1.000000e+08   \n",
       "50%    13022.049805  13088.110352  12953.129883  13025.580078  1.351700e+08   \n",
       "75%    16477.699219  16550.070312  16392.769531  16478.410156  1.926000e+08   \n",
       "max    18315.060547  18351.359375  18272.560547  18312.390625  6.749200e+08   \n",
       "\n",
       "          Adj Close  \n",
       "count   1989.000000  \n",
       "mean   13463.032255  \n",
       "std     3144.006996  \n",
       "min     6547.049805  \n",
       "25%    10913.379883  \n",
       "50%    13025.580078  \n",
       "75%    16478.410156  \n",
       "max    18312.390625  "
      ]
     },
     "execution_count": 30,
     "metadata": {},
     "output_type": "execute_result"
    }
   ],
   "source": [
    "df.describe()"
   ]
  },
  {
   "cell_type": "code",
   "execution_count": 31,
   "metadata": {
    "execution": {
     "iopub.execute_input": "2021-01-23T09:50:58.053078Z",
     "iopub.status.busy": "2021-01-23T09:50:58.050882Z",
     "iopub.status.idle": "2021-01-23T09:50:58.068695Z",
     "shell.execute_reply": "2021-01-23T09:50:58.068144Z"
    },
    "papermill": {
     "duration": 0.110095,
     "end_time": "2021-01-23T09:50:58.068815",
     "exception": false,
     "start_time": "2021-01-23T09:50:57.958720",
     "status": "completed"
    },
    "tags": []
   },
   "outputs": [
    {
     "data": {
      "text/html": [
       "<div>\n",
       "<style scoped>\n",
       "    .dataframe tbody tr th:only-of-type {\n",
       "        vertical-align: middle;\n",
       "    }\n",
       "\n",
       "    .dataframe tbody tr th {\n",
       "        vertical-align: top;\n",
       "    }\n",
       "\n",
       "    .dataframe thead th {\n",
       "        text-align: right;\n",
       "    }\n",
       "</style>\n",
       "<table border=\"1\" class=\"dataframe\">\n",
       "  <thead>\n",
       "    <tr style=\"text-align: right;\">\n",
       "      <th></th>\n",
       "      <th>Open</th>\n",
       "      <th>High</th>\n",
       "      <th>Low</th>\n",
       "    </tr>\n",
       "  </thead>\n",
       "  <tbody>\n",
       "    <tr>\n",
       "      <th>count</th>\n",
       "      <td>1989.000000</td>\n",
       "      <td>1989.000000</td>\n",
       "      <td>1989.000000</td>\n",
       "    </tr>\n",
       "    <tr>\n",
       "      <th>mean</th>\n",
       "      <td>13459.116048</td>\n",
       "      <td>13541.303173</td>\n",
       "      <td>13372.931728</td>\n",
       "    </tr>\n",
       "    <tr>\n",
       "      <th>std</th>\n",
       "      <td>3143.281634</td>\n",
       "      <td>3136.271725</td>\n",
       "      <td>3150.420934</td>\n",
       "    </tr>\n",
       "    <tr>\n",
       "      <th>min</th>\n",
       "      <td>6547.009766</td>\n",
       "      <td>6709.609863</td>\n",
       "      <td>6469.950195</td>\n",
       "    </tr>\n",
       "    <tr>\n",
       "      <th>25%</th>\n",
       "      <td>10907.339844</td>\n",
       "      <td>11000.980469</td>\n",
       "      <td>10824.759766</td>\n",
       "    </tr>\n",
       "    <tr>\n",
       "      <th>50%</th>\n",
       "      <td>13022.049805</td>\n",
       "      <td>13088.110352</td>\n",
       "      <td>12953.129883</td>\n",
       "    </tr>\n",
       "    <tr>\n",
       "      <th>75%</th>\n",
       "      <td>16477.699219</td>\n",
       "      <td>16550.070312</td>\n",
       "      <td>16392.769531</td>\n",
       "    </tr>\n",
       "    <tr>\n",
       "      <th>max</th>\n",
       "      <td>18315.060547</td>\n",
       "      <td>18351.359375</td>\n",
       "      <td>18272.560547</td>\n",
       "    </tr>\n",
       "  </tbody>\n",
       "</table>\n",
       "</div>"
      ],
      "text/plain": [
       "               Open          High           Low\n",
       "count   1989.000000   1989.000000   1989.000000\n",
       "mean   13459.116048  13541.303173  13372.931728\n",
       "std     3143.281634   3136.271725   3150.420934\n",
       "min     6547.009766   6709.609863   6469.950195\n",
       "25%    10907.339844  11000.980469  10824.759766\n",
       "50%    13022.049805  13088.110352  12953.129883\n",
       "75%    16477.699219  16550.070312  16392.769531\n",
       "max    18315.060547  18351.359375  18272.560547"
      ]
     },
     "execution_count": 31,
     "metadata": {},
     "output_type": "execute_result"
    }
   ],
   "source": [
    "df[['Open','High','Low']].describe()"
   ]
  },
  {
   "cell_type": "markdown",
   "metadata": {
    "papermill": {
     "duration": 0.08326,
     "end_time": "2021-01-23T09:50:58.236254",
     "exception": false,
     "start_time": "2021-01-23T09:50:58.152994",
     "status": "completed"
    },
    "tags": []
   },
   "source": [
    "<hr>\n",
    "\n",
    "### df.mean()\n",
    "This code returns the mean value for the numeric column."
   ]
  },
  {
   "cell_type": "code",
   "execution_count": 32,
   "metadata": {
    "execution": {
     "iopub.execute_input": "2021-01-23T09:50:58.417897Z",
     "iopub.status.busy": "2021-01-23T09:50:58.417063Z",
     "iopub.status.idle": "2021-01-23T09:50:58.421181Z",
     "shell.execute_reply": "2021-01-23T09:50:58.420575Z"
    },
    "papermill": {
     "duration": 0.100479,
     "end_time": "2021-01-23T09:50:58.421300",
     "exception": false,
     "start_time": "2021-01-23T09:50:58.320821",
     "status": "completed"
    },
    "tags": []
   },
   "outputs": [
    {
     "data": {
      "text/plain": [
       "Open         1.345912e+04\n",
       "High         1.354130e+04\n",
       "Low          1.337293e+04\n",
       "Close        1.346303e+04\n",
       "Volume       1.628110e+08\n",
       "Adj Close    1.346303e+04\n",
       "dtype: float64"
      ]
     },
     "execution_count": 32,
     "metadata": {},
     "output_type": "execute_result"
    }
   ],
   "source": [
    "df.mean()"
   ]
  },
  {
   "cell_type": "markdown",
   "metadata": {
    "papermill": {
     "duration": 0.08554,
     "end_time": "2021-01-23T09:50:58.592135",
     "exception": false,
     "start_time": "2021-01-23T09:50:58.506595",
     "status": "completed"
    },
    "tags": []
   },
   "source": [
    "<hr>\n",
    "\n",
    "### df.median()\n",
    "This code returns median for columns with numeric values."
   ]
  },
  {
   "cell_type": "code",
   "execution_count": 33,
   "metadata": {
    "execution": {
     "iopub.execute_input": "2021-01-23T09:50:58.769966Z",
     "iopub.status.busy": "2021-01-23T09:50:58.767069Z",
     "iopub.status.idle": "2021-01-23T09:50:58.774517Z",
     "shell.execute_reply": "2021-01-23T09:50:58.773962Z"
    },
    "papermill": {
     "duration": 0.097904,
     "end_time": "2021-01-23T09:50:58.774633",
     "exception": false,
     "start_time": "2021-01-23T09:50:58.676729",
     "status": "completed"
    },
    "tags": []
   },
   "outputs": [
    {
     "data": {
      "text/plain": [
       "Open         1.302205e+04\n",
       "High         1.308811e+04\n",
       "Low          1.295313e+04\n",
       "Close        1.302558e+04\n",
       "Volume       1.351700e+08\n",
       "Adj Close    1.302558e+04\n",
       "dtype: float64"
      ]
     },
     "execution_count": 33,
     "metadata": {},
     "output_type": "execute_result"
    }
   ],
   "source": [
    "df.median()"
   ]
  },
  {
   "cell_type": "markdown",
   "metadata": {
    "papermill": {
     "duration": 0.084781,
     "end_time": "2021-01-23T09:50:58.944536",
     "exception": false,
     "start_time": "2021-01-23T09:50:58.859755",
     "status": "completed"
    },
    "tags": []
   },
   "source": [
    "<hr>\n",
    "\n",
    "### df.quantile([0.25,0.75])\n",
    "This code calculates the values 0.25 and 0.75 of the columns for each column."
   ]
  },
  {
   "cell_type": "code",
   "execution_count": 34,
   "metadata": {
    "execution": {
     "iopub.execute_input": "2021-01-23T09:50:59.121528Z",
     "iopub.status.busy": "2021-01-23T09:50:59.120806Z",
     "iopub.status.idle": "2021-01-23T09:50:59.131766Z",
     "shell.execute_reply": "2021-01-23T09:50:59.132310Z"
    },
    "papermill": {
     "duration": 0.102298,
     "end_time": "2021-01-23T09:50:59.132473",
     "exception": false,
     "start_time": "2021-01-23T09:50:59.030175",
     "status": "completed"
    },
    "tags": []
   },
   "outputs": [
    {
     "data": {
      "text/html": [
       "<div>\n",
       "<style scoped>\n",
       "    .dataframe tbody tr th:only-of-type {\n",
       "        vertical-align: middle;\n",
       "    }\n",
       "\n",
       "    .dataframe tbody tr th {\n",
       "        vertical-align: top;\n",
       "    }\n",
       "\n",
       "    .dataframe thead th {\n",
       "        text-align: right;\n",
       "    }\n",
       "</style>\n",
       "<table border=\"1\" class=\"dataframe\">\n",
       "  <thead>\n",
       "    <tr style=\"text-align: right;\">\n",
       "      <th></th>\n",
       "      <th>Open</th>\n",
       "      <th>High</th>\n",
       "      <th>Low</th>\n",
       "      <th>Close</th>\n",
       "      <th>Volume</th>\n",
       "      <th>Adj Close</th>\n",
       "    </tr>\n",
       "  </thead>\n",
       "  <tbody>\n",
       "    <tr>\n",
       "      <th>0.25</th>\n",
       "      <td>10907.339844</td>\n",
       "      <td>11000.980469</td>\n",
       "      <td>10824.759766</td>\n",
       "      <td>10913.379883</td>\n",
       "      <td>100000000.0</td>\n",
       "      <td>10913.379883</td>\n",
       "    </tr>\n",
       "    <tr>\n",
       "      <th>0.75</th>\n",
       "      <td>16477.699219</td>\n",
       "      <td>16550.070312</td>\n",
       "      <td>16392.769531</td>\n",
       "      <td>16478.410156</td>\n",
       "      <td>192600000.0</td>\n",
       "      <td>16478.410156</td>\n",
       "    </tr>\n",
       "  </tbody>\n",
       "</table>\n",
       "</div>"
      ],
      "text/plain": [
       "              Open          High           Low         Close       Volume  \\\n",
       "0.25  10907.339844  11000.980469  10824.759766  10913.379883  100000000.0   \n",
       "0.75  16477.699219  16550.070312  16392.769531  16478.410156  192600000.0   \n",
       "\n",
       "         Adj Close  \n",
       "0.25  10913.379883  \n",
       "0.75  16478.410156  "
      ]
     },
     "execution_count": 34,
     "metadata": {},
     "output_type": "execute_result"
    }
   ],
   "source": [
    "df.quantile([0.25,0.75])"
   ]
  },
  {
   "cell_type": "code",
   "execution_count": 35,
   "metadata": {
    "execution": {
     "iopub.execute_input": "2021-01-23T09:50:59.308178Z",
     "iopub.status.busy": "2021-01-23T09:50:59.307544Z",
     "iopub.status.idle": "2021-01-23T09:50:59.319883Z",
     "shell.execute_reply": "2021-01-23T09:50:59.320486Z"
    },
    "papermill": {
     "duration": 0.102094,
     "end_time": "2021-01-23T09:50:59.320630",
     "exception": false,
     "start_time": "2021-01-23T09:50:59.218536",
     "status": "completed"
    },
    "tags": []
   },
   "outputs": [
    {
     "data": {
      "text/html": [
       "<div>\n",
       "<style scoped>\n",
       "    .dataframe tbody tr th:only-of-type {\n",
       "        vertical-align: middle;\n",
       "    }\n",
       "\n",
       "    .dataframe tbody tr th {\n",
       "        vertical-align: top;\n",
       "    }\n",
       "\n",
       "    .dataframe thead th {\n",
       "        text-align: right;\n",
       "    }\n",
       "</style>\n",
       "<table border=\"1\" class=\"dataframe\">\n",
       "  <thead>\n",
       "    <tr style=\"text-align: right;\">\n",
       "      <th></th>\n",
       "      <th>Open</th>\n",
       "      <th>High</th>\n",
       "      <th>Low</th>\n",
       "      <th>Close</th>\n",
       "      <th>Volume</th>\n",
       "      <th>Adj Close</th>\n",
       "    </tr>\n",
       "  </thead>\n",
       "  <tbody>\n",
       "    <tr>\n",
       "      <th>0.5</th>\n",
       "      <td>13022.049805</td>\n",
       "      <td>13088.110352</td>\n",
       "      <td>12953.129883</td>\n",
       "      <td>13025.580078</td>\n",
       "      <td>135170000.0</td>\n",
       "      <td>13025.580078</td>\n",
       "    </tr>\n",
       "  </tbody>\n",
       "</table>\n",
       "</div>"
      ],
      "text/plain": [
       "             Open          High           Low         Close       Volume  \\\n",
       "0.5  13022.049805  13088.110352  12953.129883  13025.580078  135170000.0   \n",
       "\n",
       "        Adj Close  \n",
       "0.5  13025.580078  "
      ]
     },
     "execution_count": 35,
     "metadata": {},
     "output_type": "execute_result"
    }
   ],
   "source": [
    "df.quantile([0.5])"
   ]
  },
  {
   "cell_type": "markdown",
   "metadata": {
    "papermill": {
     "duration": 0.087505,
     "end_time": "2021-01-23T09:50:59.496624",
     "exception": false,
     "start_time": "2021-01-23T09:50:59.409119",
     "status": "completed"
    },
    "tags": []
   },
   "source": [
    "<hr>\n",
    "\n",
    "### df.var()\n",
    "This code calculates the variance value for each column with a numeric value."
   ]
  },
  {
   "cell_type": "code",
   "execution_count": 36,
   "metadata": {
    "execution": {
     "iopub.execute_input": "2021-01-23T09:50:59.674076Z",
     "iopub.status.busy": "2021-01-23T09:50:59.673290Z",
     "iopub.status.idle": "2021-01-23T09:50:59.681585Z",
     "shell.execute_reply": "2021-01-23T09:50:59.682185Z"
    },
    "papermill": {
     "duration": 0.099018,
     "end_time": "2021-01-23T09:50:59.682341",
     "exception": false,
     "start_time": "2021-01-23T09:50:59.583323",
     "status": "completed"
    },
    "tags": []
   },
   "outputs": [
    {
     "data": {
      "text/plain": [
       "Open         9.880219e+06\n",
       "High         9.836200e+06\n",
       "Low          9.925152e+06\n",
       "Close        9.884780e+06\n",
       "Volume       8.821610e+15\n",
       "Adj Close    9.884780e+06\n",
       "dtype: float64"
      ]
     },
     "execution_count": 36,
     "metadata": {},
     "output_type": "execute_result"
    }
   ],
   "source": [
    "df.var()"
   ]
  },
  {
   "cell_type": "markdown",
   "metadata": {
    "papermill": {
     "duration": 0.087393,
     "end_time": "2021-01-23T09:50:59.857825",
     "exception": false,
     "start_time": "2021-01-23T09:50:59.770432",
     "status": "completed"
    },
    "tags": []
   },
   "source": [
    "<hr>\n",
    "\n",
    "### df.std()\n",
    "\n",
    "This code calculates the standard deviation value for each column with numeric value."
   ]
  },
  {
   "cell_type": "code",
   "execution_count": 37,
   "metadata": {
    "execution": {
     "iopub.execute_input": "2021-01-23T09:51:00.043082Z",
     "iopub.status.busy": "2021-01-23T09:51:00.042390Z",
     "iopub.status.idle": "2021-01-23T09:51:00.051123Z",
     "shell.execute_reply": "2021-01-23T09:51:00.051669Z"
    },
    "papermill": {
     "duration": 0.105132,
     "end_time": "2021-01-23T09:51:00.051815",
     "exception": false,
     "start_time": "2021-01-23T09:50:59.946683",
     "status": "completed"
    },
    "tags": []
   },
   "outputs": [
    {
     "data": {
      "text/plain": [
       "Open         3.143282e+03\n",
       "High         3.136272e+03\n",
       "Low          3.150421e+03\n",
       "Close        3.144007e+03\n",
       "Volume       9.392343e+07\n",
       "Adj Close    3.144007e+03\n",
       "dtype: float64"
      ]
     },
     "execution_count": 37,
     "metadata": {},
     "output_type": "execute_result"
    }
   ],
   "source": [
    "df.std()"
   ]
  },
  {
   "cell_type": "markdown",
   "metadata": {
    "papermill": {
     "duration": 0.08697,
     "end_time": "2021-01-23T09:51:00.225892",
     "exception": false,
     "start_time": "2021-01-23T09:51:00.138922",
     "status": "completed"
    },
    "tags": []
   },
   "source": [
    "<hr>\n",
    "\n",
    "### df.cummax()\n",
    "\n",
    "This code calculates the cumulative max value between the data."
   ]
  },
  {
   "cell_type": "code",
   "execution_count": 38,
   "metadata": {
    "execution": {
     "iopub.execute_input": "2021-01-23T09:51:00.405043Z",
     "iopub.status.busy": "2021-01-23T09:51:00.404421Z",
     "iopub.status.idle": "2021-01-23T09:51:00.424598Z",
     "shell.execute_reply": "2021-01-23T09:51:00.425056Z"
    },
    "papermill": {
     "duration": 0.110616,
     "end_time": "2021-01-23T09:51:00.425212",
     "exception": false,
     "start_time": "2021-01-23T09:51:00.314596",
     "status": "completed"
    },
    "tags": []
   },
   "outputs": [
    {
     "data": {
      "text/html": [
       "<div>\n",
       "<style scoped>\n",
       "    .dataframe tbody tr th:only-of-type {\n",
       "        vertical-align: middle;\n",
       "    }\n",
       "\n",
       "    .dataframe tbody tr th {\n",
       "        vertical-align: top;\n",
       "    }\n",
       "\n",
       "    .dataframe thead th {\n",
       "        text-align: right;\n",
       "    }\n",
       "</style>\n",
       "<table border=\"1\" class=\"dataframe\">\n",
       "  <thead>\n",
       "    <tr style=\"text-align: right;\">\n",
       "      <th></th>\n",
       "      <th>Date</th>\n",
       "      <th>Open</th>\n",
       "      <th>High</th>\n",
       "      <th>Low</th>\n",
       "      <th>Close</th>\n",
       "      <th>Volume</th>\n",
       "      <th>Adj Close</th>\n",
       "    </tr>\n",
       "  </thead>\n",
       "  <tbody>\n",
       "    <tr>\n",
       "      <th>0</th>\n",
       "      <td>2016-07-01</td>\n",
       "      <td>17924.240234</td>\n",
       "      <td>18002.380859</td>\n",
       "      <td>17916.910156</td>\n",
       "      <td>17949.369141</td>\n",
       "      <td>82160000</td>\n",
       "      <td>17949.369141</td>\n",
       "    </tr>\n",
       "    <tr>\n",
       "      <th>1</th>\n",
       "      <td>2016-07-01</td>\n",
       "      <td>17924.240234</td>\n",
       "      <td>18002.380859</td>\n",
       "      <td>17916.910156</td>\n",
       "      <td>17949.369141</td>\n",
       "      <td>133030000</td>\n",
       "      <td>17949.369141</td>\n",
       "    </tr>\n",
       "    <tr>\n",
       "      <th>2</th>\n",
       "      <td>2016-07-01</td>\n",
       "      <td>17924.240234</td>\n",
       "      <td>18002.380859</td>\n",
       "      <td>17916.910156</td>\n",
       "      <td>17949.369141</td>\n",
       "      <td>133030000</td>\n",
       "      <td>17949.369141</td>\n",
       "    </tr>\n",
       "    <tr>\n",
       "      <th>3</th>\n",
       "      <td>2016-07-01</td>\n",
       "      <td>17924.240234</td>\n",
       "      <td>18002.380859</td>\n",
       "      <td>17916.910156</td>\n",
       "      <td>17949.369141</td>\n",
       "      <td>133030000</td>\n",
       "      <td>17949.369141</td>\n",
       "    </tr>\n",
       "    <tr>\n",
       "      <th>4</th>\n",
       "      <td>2016-07-01</td>\n",
       "      <td>17924.240234</td>\n",
       "      <td>18002.380859</td>\n",
       "      <td>17916.910156</td>\n",
       "      <td>17949.369141</td>\n",
       "      <td>138740000</td>\n",
       "      <td>17949.369141</td>\n",
       "    </tr>\n",
       "    <tr>\n",
       "      <th>...</th>\n",
       "      <td>...</td>\n",
       "      <td>...</td>\n",
       "      <td>...</td>\n",
       "      <td>...</td>\n",
       "      <td>...</td>\n",
       "      <td>...</td>\n",
       "      <td>...</td>\n",
       "    </tr>\n",
       "    <tr>\n",
       "      <th>1984</th>\n",
       "      <td>2016-07-01</td>\n",
       "      <td>18315.060547</td>\n",
       "      <td>18351.359375</td>\n",
       "      <td>18272.560547</td>\n",
       "      <td>18312.390625</td>\n",
       "      <td>674920000</td>\n",
       "      <td>18312.390625</td>\n",
       "    </tr>\n",
       "    <tr>\n",
       "      <th>1985</th>\n",
       "      <td>2016-07-01</td>\n",
       "      <td>18315.060547</td>\n",
       "      <td>18351.359375</td>\n",
       "      <td>18272.560547</td>\n",
       "      <td>18312.390625</td>\n",
       "      <td>674920000</td>\n",
       "      <td>18312.390625</td>\n",
       "    </tr>\n",
       "    <tr>\n",
       "      <th>1986</th>\n",
       "      <td>2016-07-01</td>\n",
       "      <td>18315.060547</td>\n",
       "      <td>18351.359375</td>\n",
       "      <td>18272.560547</td>\n",
       "      <td>18312.390625</td>\n",
       "      <td>674920000</td>\n",
       "      <td>18312.390625</td>\n",
       "    </tr>\n",
       "    <tr>\n",
       "      <th>1987</th>\n",
       "      <td>2016-07-01</td>\n",
       "      <td>18315.060547</td>\n",
       "      <td>18351.359375</td>\n",
       "      <td>18272.560547</td>\n",
       "      <td>18312.390625</td>\n",
       "      <td>674920000</td>\n",
       "      <td>18312.390625</td>\n",
       "    </tr>\n",
       "    <tr>\n",
       "      <th>1988</th>\n",
       "      <td>2016-07-01</td>\n",
       "      <td>18315.060547</td>\n",
       "      <td>18351.359375</td>\n",
       "      <td>18272.560547</td>\n",
       "      <td>18312.390625</td>\n",
       "      <td>674920000</td>\n",
       "      <td>18312.390625</td>\n",
       "    </tr>\n",
       "  </tbody>\n",
       "</table>\n",
       "<p>1989 rows × 7 columns</p>\n",
       "</div>"
      ],
      "text/plain": [
       "            Date          Open          High           Low         Close  \\\n",
       "0     2016-07-01  17924.240234  18002.380859  17916.910156  17949.369141   \n",
       "1     2016-07-01  17924.240234  18002.380859  17916.910156  17949.369141   \n",
       "2     2016-07-01  17924.240234  18002.380859  17916.910156  17949.369141   \n",
       "3     2016-07-01  17924.240234  18002.380859  17916.910156  17949.369141   \n",
       "4     2016-07-01  17924.240234  18002.380859  17916.910156  17949.369141   \n",
       "...          ...           ...           ...           ...           ...   \n",
       "1984  2016-07-01  18315.060547  18351.359375  18272.560547  18312.390625   \n",
       "1985  2016-07-01  18315.060547  18351.359375  18272.560547  18312.390625   \n",
       "1986  2016-07-01  18315.060547  18351.359375  18272.560547  18312.390625   \n",
       "1987  2016-07-01  18315.060547  18351.359375  18272.560547  18312.390625   \n",
       "1988  2016-07-01  18315.060547  18351.359375  18272.560547  18312.390625   \n",
       "\n",
       "         Volume     Adj Close  \n",
       "0      82160000  17949.369141  \n",
       "1     133030000  17949.369141  \n",
       "2     133030000  17949.369141  \n",
       "3     133030000  17949.369141  \n",
       "4     138740000  17949.369141  \n",
       "...         ...           ...  \n",
       "1984  674920000  18312.390625  \n",
       "1985  674920000  18312.390625  \n",
       "1986  674920000  18312.390625  \n",
       "1987  674920000  18312.390625  \n",
       "1988  674920000  18312.390625  \n",
       "\n",
       "[1989 rows x 7 columns]"
      ]
     },
     "execution_count": 38,
     "metadata": {},
     "output_type": "execute_result"
    }
   ],
   "source": [
    "df.cummax()"
   ]
  },
  {
   "cell_type": "markdown",
   "metadata": {
    "papermill": {
     "duration": 0.087971,
     "end_time": "2021-01-23T09:51:00.601214",
     "exception": false,
     "start_time": "2021-01-23T09:51:00.513243",
     "status": "completed"
    },
    "tags": []
   },
   "source": [
    "<hr>\n",
    "\n",
    "### df.cummin()\n",
    "This code returns the cumulative min value of the data.\n"
   ]
  },
  {
   "cell_type": "code",
   "execution_count": 39,
   "metadata": {
    "execution": {
     "iopub.execute_input": "2021-01-23T09:51:00.798425Z",
     "iopub.status.busy": "2021-01-23T09:51:00.797678Z",
     "iopub.status.idle": "2021-01-23T09:51:00.802029Z",
     "shell.execute_reply": "2021-01-23T09:51:00.801457Z"
    },
    "papermill": {
     "duration": 0.112669,
     "end_time": "2021-01-23T09:51:00.802150",
     "exception": false,
     "start_time": "2021-01-23T09:51:00.689481",
     "status": "completed"
    },
    "tags": []
   },
   "outputs": [
    {
     "data": {
      "text/html": [
       "<div>\n",
       "<style scoped>\n",
       "    .dataframe tbody tr th:only-of-type {\n",
       "        vertical-align: middle;\n",
       "    }\n",
       "\n",
       "    .dataframe tbody tr th {\n",
       "        vertical-align: top;\n",
       "    }\n",
       "\n",
       "    .dataframe thead th {\n",
       "        text-align: right;\n",
       "    }\n",
       "</style>\n",
       "<table border=\"1\" class=\"dataframe\">\n",
       "  <thead>\n",
       "    <tr style=\"text-align: right;\">\n",
       "      <th></th>\n",
       "      <th>Date</th>\n",
       "      <th>Open</th>\n",
       "      <th>High</th>\n",
       "      <th>Low</th>\n",
       "      <th>Close</th>\n",
       "      <th>Volume</th>\n",
       "      <th>Adj Close</th>\n",
       "    </tr>\n",
       "  </thead>\n",
       "  <tbody>\n",
       "    <tr>\n",
       "      <th>0</th>\n",
       "      <td>2016-07-01</td>\n",
       "      <td>17924.240234</td>\n",
       "      <td>18002.380859</td>\n",
       "      <td>17916.910156</td>\n",
       "      <td>17949.369141</td>\n",
       "      <td>82160000</td>\n",
       "      <td>17949.369141</td>\n",
       "    </tr>\n",
       "    <tr>\n",
       "      <th>1</th>\n",
       "      <td>2016-06-30</td>\n",
       "      <td>17712.759766</td>\n",
       "      <td>17930.609375</td>\n",
       "      <td>17711.800781</td>\n",
       "      <td>17929.990234</td>\n",
       "      <td>82160000</td>\n",
       "      <td>17929.990234</td>\n",
       "    </tr>\n",
       "    <tr>\n",
       "      <th>2</th>\n",
       "      <td>2016-06-29</td>\n",
       "      <td>17456.019531</td>\n",
       "      <td>17704.509766</td>\n",
       "      <td>17456.019531</td>\n",
       "      <td>17694.679688</td>\n",
       "      <td>82160000</td>\n",
       "      <td>17694.679688</td>\n",
       "    </tr>\n",
       "    <tr>\n",
       "      <th>3</th>\n",
       "      <td>2016-06-28</td>\n",
       "      <td>17190.509766</td>\n",
       "      <td>17409.720703</td>\n",
       "      <td>17190.509766</td>\n",
       "      <td>17409.720703</td>\n",
       "      <td>82160000</td>\n",
       "      <td>17409.720703</td>\n",
       "    </tr>\n",
       "    <tr>\n",
       "      <th>4</th>\n",
       "      <td>2016-06-27</td>\n",
       "      <td>17190.509766</td>\n",
       "      <td>17355.210938</td>\n",
       "      <td>17063.080078</td>\n",
       "      <td>17140.240234</td>\n",
       "      <td>82160000</td>\n",
       "      <td>17140.240234</td>\n",
       "    </tr>\n",
       "    <tr>\n",
       "      <th>...</th>\n",
       "      <td>...</td>\n",
       "      <td>...</td>\n",
       "      <td>...</td>\n",
       "      <td>...</td>\n",
       "      <td>...</td>\n",
       "      <td>...</td>\n",
       "      <td>...</td>\n",
       "    </tr>\n",
       "    <tr>\n",
       "      <th>1984</th>\n",
       "      <td>2008-08-14</td>\n",
       "      <td>6547.009766</td>\n",
       "      <td>6709.609863</td>\n",
       "      <td>6469.950195</td>\n",
       "      <td>6547.049805</td>\n",
       "      <td>8410000</td>\n",
       "      <td>6547.049805</td>\n",
       "    </tr>\n",
       "    <tr>\n",
       "      <th>1985</th>\n",
       "      <td>2008-08-13</td>\n",
       "      <td>6547.009766</td>\n",
       "      <td>6709.609863</td>\n",
       "      <td>6469.950195</td>\n",
       "      <td>6547.049805</td>\n",
       "      <td>8410000</td>\n",
       "      <td>6547.049805</td>\n",
       "    </tr>\n",
       "    <tr>\n",
       "      <th>1986</th>\n",
       "      <td>2008-08-12</td>\n",
       "      <td>6547.009766</td>\n",
       "      <td>6709.609863</td>\n",
       "      <td>6469.950195</td>\n",
       "      <td>6547.049805</td>\n",
       "      <td>8410000</td>\n",
       "      <td>6547.049805</td>\n",
       "    </tr>\n",
       "    <tr>\n",
       "      <th>1987</th>\n",
       "      <td>2008-08-11</td>\n",
       "      <td>6547.009766</td>\n",
       "      <td>6709.609863</td>\n",
       "      <td>6469.950195</td>\n",
       "      <td>6547.049805</td>\n",
       "      <td>8410000</td>\n",
       "      <td>6547.049805</td>\n",
       "    </tr>\n",
       "    <tr>\n",
       "      <th>1988</th>\n",
       "      <td>2008-08-08</td>\n",
       "      <td>6547.009766</td>\n",
       "      <td>6709.609863</td>\n",
       "      <td>6469.950195</td>\n",
       "      <td>6547.049805</td>\n",
       "      <td>8410000</td>\n",
       "      <td>6547.049805</td>\n",
       "    </tr>\n",
       "  </tbody>\n",
       "</table>\n",
       "<p>1989 rows × 7 columns</p>\n",
       "</div>"
      ],
      "text/plain": [
       "            Date          Open          High           Low         Close  \\\n",
       "0     2016-07-01  17924.240234  18002.380859  17916.910156  17949.369141   \n",
       "1     2016-06-30  17712.759766  17930.609375  17711.800781  17929.990234   \n",
       "2     2016-06-29  17456.019531  17704.509766  17456.019531  17694.679688   \n",
       "3     2016-06-28  17190.509766  17409.720703  17190.509766  17409.720703   \n",
       "4     2016-06-27  17190.509766  17355.210938  17063.080078  17140.240234   \n",
       "...          ...           ...           ...           ...           ...   \n",
       "1984  2008-08-14   6547.009766   6709.609863   6469.950195   6547.049805   \n",
       "1985  2008-08-13   6547.009766   6709.609863   6469.950195   6547.049805   \n",
       "1986  2008-08-12   6547.009766   6709.609863   6469.950195   6547.049805   \n",
       "1987  2008-08-11   6547.009766   6709.609863   6469.950195   6547.049805   \n",
       "1988  2008-08-08   6547.009766   6709.609863   6469.950195   6547.049805   \n",
       "\n",
       "        Volume     Adj Close  \n",
       "0     82160000  17949.369141  \n",
       "1     82160000  17929.990234  \n",
       "2     82160000  17694.679688  \n",
       "3     82160000  17409.720703  \n",
       "4     82160000  17140.240234  \n",
       "...        ...           ...  \n",
       "1984   8410000   6547.049805  \n",
       "1985   8410000   6547.049805  \n",
       "1986   8410000   6547.049805  \n",
       "1987   8410000   6547.049805  \n",
       "1988   8410000   6547.049805  \n",
       "\n",
       "[1989 rows x 7 columns]"
      ]
     },
     "execution_count": 39,
     "metadata": {},
     "output_type": "execute_result"
    }
   ],
   "source": [
    "df.cummin()"
   ]
  },
  {
   "cell_type": "markdown",
   "metadata": {
    "papermill": {
     "duration": 0.094115,
     "end_time": "2021-01-23T09:51:00.989291",
     "exception": false,
     "start_time": "2021-01-23T09:51:00.895176",
     "status": "completed"
    },
    "tags": []
   },
   "source": [
    "<hr>\n",
    "\n",
    "### df['columnName'].cumproad()\n",
    "This code returns the cumulative production of the data."
   ]
  },
  {
   "cell_type": "code",
   "execution_count": 40,
   "metadata": {
    "execution": {
     "iopub.execute_input": "2021-01-23T09:51:01.172949Z",
     "iopub.status.busy": "2021-01-23T09:51:01.172305Z",
     "iopub.status.idle": "2021-01-23T09:51:01.179353Z",
     "shell.execute_reply": "2021-01-23T09:51:01.179951Z"
    },
    "papermill": {
     "duration": 0.099541,
     "end_time": "2021-01-23T09:51:01.180089",
     "exception": false,
     "start_time": "2021-01-23T09:51:01.080548",
     "status": "completed"
    },
    "tags": []
   },
   "outputs": [
    {
     "data": {
      "text/plain": [
       "0    1.792424e+04\n",
       "1    3.174878e+08\n",
       "2    5.542073e+12\n",
       "3    9.527105e+16\n",
       "4    1.653449e+21\n",
       "Name: Open, dtype: float64"
      ]
     },
     "execution_count": 40,
     "metadata": {},
     "output_type": "execute_result"
    }
   ],
   "source": [
    "df['Open'].cumprod().head()"
   ]
  },
  {
   "cell_type": "markdown",
   "metadata": {
    "papermill": {
     "duration": 0.090552,
     "end_time": "2021-01-23T09:51:01.360197",
     "exception": false,
     "start_time": "2021-01-23T09:51:01.269645",
     "status": "completed"
    },
    "tags": []
   },
   "source": [
    "<hr>\n",
    "\n",
    "### len(df)\n",
    "This code gives you how many data there is."
   ]
  },
  {
   "cell_type": "code",
   "execution_count": 41,
   "metadata": {
    "execution": {
     "iopub.execute_input": "2021-01-23T09:51:01.544045Z",
     "iopub.status.busy": "2021-01-23T09:51:01.543400Z",
     "iopub.status.idle": "2021-01-23T09:51:01.548996Z",
     "shell.execute_reply": "2021-01-23T09:51:01.549516Z"
    },
    "papermill": {
     "duration": 0.098743,
     "end_time": "2021-01-23T09:51:01.549658",
     "exception": false,
     "start_time": "2021-01-23T09:51:01.450915",
     "status": "completed"
    },
    "tags": []
   },
   "outputs": [
    {
     "data": {
      "text/plain": [
       "1989"
      ]
     },
     "execution_count": 41,
     "metadata": {},
     "output_type": "execute_result"
    }
   ],
   "source": [
    "len(df)"
   ]
  },
  {
   "cell_type": "markdown",
   "metadata": {
    "papermill": {
     "duration": 0.090539,
     "end_time": "2021-01-23T09:51:01.731595",
     "exception": false,
     "start_time": "2021-01-23T09:51:01.641056",
     "status": "completed"
    },
    "tags": []
   },
   "source": [
    "<hr>\n",
    "\n",
    "### df.isnull()\n",
    "Checks for null values, returns boolean."
   ]
  },
  {
   "cell_type": "code",
   "execution_count": 42,
   "metadata": {
    "execution": {
     "iopub.execute_input": "2021-01-23T09:51:01.917483Z",
     "iopub.status.busy": "2021-01-23T09:51:01.916457Z",
     "iopub.status.idle": "2021-01-23T09:51:01.932048Z",
     "shell.execute_reply": "2021-01-23T09:51:01.931529Z"
    },
    "papermill": {
     "duration": 0.109498,
     "end_time": "2021-01-23T09:51:01.932166",
     "exception": false,
     "start_time": "2021-01-23T09:51:01.822668",
     "status": "completed"
    },
    "tags": []
   },
   "outputs": [
    {
     "data": {
      "text/html": [
       "<div>\n",
       "<style scoped>\n",
       "    .dataframe tbody tr th:only-of-type {\n",
       "        vertical-align: middle;\n",
       "    }\n",
       "\n",
       "    .dataframe tbody tr th {\n",
       "        vertical-align: top;\n",
       "    }\n",
       "\n",
       "    .dataframe thead th {\n",
       "        text-align: right;\n",
       "    }\n",
       "</style>\n",
       "<table border=\"1\" class=\"dataframe\">\n",
       "  <thead>\n",
       "    <tr style=\"text-align: right;\">\n",
       "      <th></th>\n",
       "      <th>Date</th>\n",
       "      <th>Open</th>\n",
       "      <th>High</th>\n",
       "      <th>Low</th>\n",
       "      <th>Close</th>\n",
       "      <th>Volume</th>\n",
       "      <th>Adj Close</th>\n",
       "    </tr>\n",
       "  </thead>\n",
       "  <tbody>\n",
       "    <tr>\n",
       "      <th>0</th>\n",
       "      <td>False</td>\n",
       "      <td>False</td>\n",
       "      <td>False</td>\n",
       "      <td>False</td>\n",
       "      <td>False</td>\n",
       "      <td>False</td>\n",
       "      <td>False</td>\n",
       "    </tr>\n",
       "    <tr>\n",
       "      <th>1</th>\n",
       "      <td>False</td>\n",
       "      <td>False</td>\n",
       "      <td>False</td>\n",
       "      <td>False</td>\n",
       "      <td>False</td>\n",
       "      <td>False</td>\n",
       "      <td>False</td>\n",
       "    </tr>\n",
       "    <tr>\n",
       "      <th>2</th>\n",
       "      <td>False</td>\n",
       "      <td>False</td>\n",
       "      <td>False</td>\n",
       "      <td>False</td>\n",
       "      <td>False</td>\n",
       "      <td>False</td>\n",
       "      <td>False</td>\n",
       "    </tr>\n",
       "    <tr>\n",
       "      <th>3</th>\n",
       "      <td>False</td>\n",
       "      <td>False</td>\n",
       "      <td>False</td>\n",
       "      <td>False</td>\n",
       "      <td>False</td>\n",
       "      <td>False</td>\n",
       "      <td>False</td>\n",
       "    </tr>\n",
       "    <tr>\n",
       "      <th>4</th>\n",
       "      <td>False</td>\n",
       "      <td>False</td>\n",
       "      <td>False</td>\n",
       "      <td>False</td>\n",
       "      <td>False</td>\n",
       "      <td>False</td>\n",
       "      <td>False</td>\n",
       "    </tr>\n",
       "  </tbody>\n",
       "</table>\n",
       "</div>"
      ],
      "text/plain": [
       "    Date   Open   High    Low  Close  Volume  Adj Close\n",
       "0  False  False  False  False  False   False      False\n",
       "1  False  False  False  False  False   False      False\n",
       "2  False  False  False  False  False   False      False\n",
       "3  False  False  False  False  False   False      False\n",
       "4  False  False  False  False  False   False      False"
      ]
     },
     "execution_count": 42,
     "metadata": {},
     "output_type": "execute_result"
    }
   ],
   "source": [
    "df.isnull().head()"
   ]
  },
  {
   "cell_type": "code",
   "execution_count": 43,
   "metadata": {
    "execution": {
     "iopub.execute_input": "2021-01-23T09:51:02.124257Z",
     "iopub.status.busy": "2021-01-23T09:51:02.121445Z",
     "iopub.status.idle": "2021-01-23T09:51:02.127558Z",
     "shell.execute_reply": "2021-01-23T09:51:02.128057Z"
    },
    "papermill": {
     "duration": 0.102885,
     "end_time": "2021-01-23T09:51:02.128194",
     "exception": false,
     "start_time": "2021-01-23T09:51:02.025309",
     "status": "completed"
    },
    "tags": []
   },
   "outputs": [
    {
     "data": {
      "text/plain": [
       "Date         0\n",
       "Open         0\n",
       "High         0\n",
       "Low          0\n",
       "Close        0\n",
       "Volume       0\n",
       "Adj Close    0\n",
       "dtype: int64"
      ]
     },
     "execution_count": 43,
     "metadata": {},
     "output_type": "execute_result"
    }
   ],
   "source": [
    "df.isnull().sum()"
   ]
  },
  {
   "cell_type": "markdown",
   "metadata": {
    "papermill": {
     "duration": 0.09079,
     "end_time": "2021-01-23T09:51:02.309872",
     "exception": false,
     "start_time": "2021-01-23T09:51:02.219082",
     "status": "completed"
    },
    "tags": []
   },
   "source": [
    "<hr>\n",
    "\n",
    "### df.corr()\n",
    "\n",
    "It gives information about the correlation between the data."
   ]
  },
  {
   "cell_type": "code",
   "execution_count": 44,
   "metadata": {
    "execution": {
     "iopub.execute_input": "2021-01-23T09:51:02.519751Z",
     "iopub.status.busy": "2021-01-23T09:51:02.518359Z",
     "iopub.status.idle": "2021-01-23T09:51:02.546097Z",
     "shell.execute_reply": "2021-01-23T09:51:02.546965Z"
    },
    "papermill": {
     "duration": 0.144657,
     "end_time": "2021-01-23T09:51:02.547178",
     "exception": false,
     "start_time": "2021-01-23T09:51:02.402521",
     "status": "completed"
    },
    "tags": []
   },
   "outputs": [
    {
     "data": {
      "text/html": [
       "<div>\n",
       "<style scoped>\n",
       "    .dataframe tbody tr th:only-of-type {\n",
       "        vertical-align: middle;\n",
       "    }\n",
       "\n",
       "    .dataframe tbody tr th {\n",
       "        vertical-align: top;\n",
       "    }\n",
       "\n",
       "    .dataframe thead th {\n",
       "        text-align: right;\n",
       "    }\n",
       "</style>\n",
       "<table border=\"1\" class=\"dataframe\">\n",
       "  <thead>\n",
       "    <tr style=\"text-align: right;\">\n",
       "      <th></th>\n",
       "      <th>Open</th>\n",
       "      <th>High</th>\n",
       "      <th>Low</th>\n",
       "      <th>Close</th>\n",
       "      <th>Volume</th>\n",
       "      <th>Adj Close</th>\n",
       "    </tr>\n",
       "  </thead>\n",
       "  <tbody>\n",
       "    <tr>\n",
       "      <th>Open</th>\n",
       "      <td>1.000000</td>\n",
       "      <td>0.999592</td>\n",
       "      <td>0.999436</td>\n",
       "      <td>0.998991</td>\n",
       "      <td>-0.691621</td>\n",
       "      <td>0.998991</td>\n",
       "    </tr>\n",
       "    <tr>\n",
       "      <th>High</th>\n",
       "      <td>0.999592</td>\n",
       "      <td>1.000000</td>\n",
       "      <td>0.999373</td>\n",
       "      <td>0.999546</td>\n",
       "      <td>-0.686997</td>\n",
       "      <td>0.999546</td>\n",
       "    </tr>\n",
       "    <tr>\n",
       "      <th>Low</th>\n",
       "      <td>0.999436</td>\n",
       "      <td>0.999373</td>\n",
       "      <td>1.000000</td>\n",
       "      <td>0.999595</td>\n",
       "      <td>-0.699572</td>\n",
       "      <td>0.999595</td>\n",
       "    </tr>\n",
       "    <tr>\n",
       "      <th>Close</th>\n",
       "      <td>0.998991</td>\n",
       "      <td>0.999546</td>\n",
       "      <td>0.999595</td>\n",
       "      <td>1.000000</td>\n",
       "      <td>-0.694281</td>\n",
       "      <td>1.000000</td>\n",
       "    </tr>\n",
       "    <tr>\n",
       "      <th>Volume</th>\n",
       "      <td>-0.691621</td>\n",
       "      <td>-0.686997</td>\n",
       "      <td>-0.699572</td>\n",
       "      <td>-0.694281</td>\n",
       "      <td>1.000000</td>\n",
       "      <td>-0.694281</td>\n",
       "    </tr>\n",
       "    <tr>\n",
       "      <th>Adj Close</th>\n",
       "      <td>0.998991</td>\n",
       "      <td>0.999546</td>\n",
       "      <td>0.999595</td>\n",
       "      <td>1.000000</td>\n",
       "      <td>-0.694281</td>\n",
       "      <td>1.000000</td>\n",
       "    </tr>\n",
       "  </tbody>\n",
       "</table>\n",
       "</div>"
      ],
      "text/plain": [
       "               Open      High       Low     Close    Volume  Adj Close\n",
       "Open       1.000000  0.999592  0.999436  0.998991 -0.691621   0.998991\n",
       "High       0.999592  1.000000  0.999373  0.999546 -0.686997   0.999546\n",
       "Low        0.999436  0.999373  1.000000  0.999595 -0.699572   0.999595\n",
       "Close      0.998991  0.999546  0.999595  1.000000 -0.694281   1.000000\n",
       "Volume    -0.691621 -0.686997 -0.699572 -0.694281  1.000000  -0.694281\n",
       "Adj Close  0.998991  0.999546  0.999595  1.000000 -0.694281   1.000000"
      ]
     },
     "execution_count": 44,
     "metadata": {},
     "output_type": "execute_result"
    }
   ],
   "source": [
    "df.corr()"
   ]
  },
  {
   "cell_type": "code",
   "execution_count": 45,
   "metadata": {
    "execution": {
     "iopub.execute_input": "2021-01-23T09:51:02.763896Z",
     "iopub.status.busy": "2021-01-23T09:51:02.763096Z",
     "iopub.status.idle": "2021-01-23T09:51:03.205895Z",
     "shell.execute_reply": "2021-01-23T09:51:03.205354Z"
    },
    "papermill": {
     "duration": 0.543857,
     "end_time": "2021-01-23T09:51:03.206008",
     "exception": false,
     "start_time": "2021-01-23T09:51:02.662151",
     "status": "completed"
    },
    "tags": []
   },
   "outputs": [
    {
     "data": {
      "image/png": "[encoded data removed]",
      "text/plain": [
       "<Figure size 432x288 with 2 Axes>"
      ]
     },
     "metadata": {
      "needs_background": "light"
     },
     "output_type": "display_data"
    }
   ],
   "source": [
    "import seaborn as sns\n",
    "sns.heatmap(df.corr(),annot=True)\n",
    "plt.show()"
   ]
  },
  {
   "cell_type": "markdown",
   "metadata": {
    "papermill": {
     "duration": 0.09404,
     "end_time": "2021-01-23T09:51:03.393055",
     "exception": false,
     "start_time": "2021-01-23T09:51:03.299015",
     "status": "completed"
    },
    "tags": []
   },
   "source": [
    "<hr>\n",
    "\n",
    "## 7. Selection & Filtering"
   ]
  },
  {
   "cell_type": "markdown",
   "metadata": {
    "papermill": {
     "duration": 0.09324,
     "end_time": "2021-01-23T09:51:03.581945",
     "exception": false,
     "start_time": "2021-01-23T09:51:03.488705",
     "status": "completed"
    },
    "tags": []
   },
   "source": [
    "<hr>\n",
    "\n",
    "### Series['b']\n",
    "This code returns data with a value of B in series."
   ]
  },
  {
   "cell_type": "code",
   "execution_count": 46,
   "metadata": {
    "execution": {
     "iopub.execute_input": "2021-01-23T09:51:03.780456Z",
     "iopub.status.busy": "2021-01-23T09:51:03.779338Z",
     "iopub.status.idle": "2021-01-23T09:51:03.783430Z",
     "shell.execute_reply": "2021-01-23T09:51:03.782787Z"
    },
    "papermill": {
     "duration": 0.108234,
     "end_time": "2021-01-23T09:51:03.783542",
     "exception": false,
     "start_time": "2021-01-23T09:51:03.675308",
     "status": "completed"
    },
    "tags": []
   },
   "outputs": [
    {
     "data": {
      "text/plain": [
       "-5"
      ]
     },
     "execution_count": 46,
     "metadata": {},
     "output_type": "execute_result"
    }
   ],
   "source": [
    "Series['b']"
   ]
  },
  {
   "cell_type": "markdown",
   "metadata": {
    "papermill": {
     "duration": 0.098984,
     "end_time": "2021-01-23T09:51:03.982071",
     "exception": false,
     "start_time": "2021-01-23T09:51:03.883087",
     "status": "completed"
    },
    "tags": []
   },
   "source": [
    "<hr>\n",
    "\n",
    "### df[n:n]\n",
    "This code fetches data from N to N."
   ]
  },
  {
   "cell_type": "code",
   "execution_count": 47,
   "metadata": {
    "execution": {
     "iopub.execute_input": "2021-01-23T09:51:04.218572Z",
     "iopub.status.busy": "2021-01-23T09:51:04.217947Z",
     "iopub.status.idle": "2021-01-23T09:51:04.232514Z",
     "shell.execute_reply": "2021-01-23T09:51:04.231956Z"
    },
    "papermill": {
     "duration": 0.155955,
     "end_time": "2021-01-23T09:51:04.232632",
     "exception": false,
     "start_time": "2021-01-23T09:51:04.076677",
     "status": "completed"
    },
    "tags": []
   },
   "outputs": [
    {
     "data": {
      "text/html": [
       "<div>\n",
       "<style scoped>\n",
       "    .dataframe tbody tr th:only-of-type {\n",
       "        vertical-align: middle;\n",
       "    }\n",
       "\n",
       "    .dataframe tbody tr th {\n",
       "        vertical-align: top;\n",
       "    }\n",
       "\n",
       "    .dataframe thead th {\n",
       "        text-align: right;\n",
       "    }\n",
       "</style>\n",
       "<table border=\"1\" class=\"dataframe\">\n",
       "  <thead>\n",
       "    <tr style=\"text-align: right;\">\n",
       "      <th></th>\n",
       "      <th>Date</th>\n",
       "      <th>Open</th>\n",
       "      <th>High</th>\n",
       "      <th>Low</th>\n",
       "      <th>Close</th>\n",
       "      <th>Volume</th>\n",
       "      <th>Adj Close</th>\n",
       "    </tr>\n",
       "  </thead>\n",
       "  <tbody>\n",
       "    <tr>\n",
       "      <th>1982</th>\n",
       "      <td>2008-08-18</td>\n",
       "      <td>11659.650391</td>\n",
       "      <td>11690.429688</td>\n",
       "      <td>11434.120117</td>\n",
       "      <td>11479.389648</td>\n",
       "      <td>156290000</td>\n",
       "      <td>11479.389648</td>\n",
       "    </tr>\n",
       "    <tr>\n",
       "      <th>1983</th>\n",
       "      <td>2008-08-15</td>\n",
       "      <td>11611.209961</td>\n",
       "      <td>11709.889648</td>\n",
       "      <td>11599.730469</td>\n",
       "      <td>11659.900391</td>\n",
       "      <td>215040000</td>\n",
       "      <td>11659.900391</td>\n",
       "    </tr>\n",
       "    <tr>\n",
       "      <th>1984</th>\n",
       "      <td>2008-08-14</td>\n",
       "      <td>11532.070312</td>\n",
       "      <td>11718.280273</td>\n",
       "      <td>11450.889648</td>\n",
       "      <td>11615.929688</td>\n",
       "      <td>159790000</td>\n",
       "      <td>11615.929688</td>\n",
       "    </tr>\n",
       "    <tr>\n",
       "      <th>1985</th>\n",
       "      <td>2008-08-13</td>\n",
       "      <td>11632.809570</td>\n",
       "      <td>11633.780273</td>\n",
       "      <td>11453.339844</td>\n",
       "      <td>11532.959961</td>\n",
       "      <td>182550000</td>\n",
       "      <td>11532.959961</td>\n",
       "    </tr>\n",
       "    <tr>\n",
       "      <th>1986</th>\n",
       "      <td>2008-08-12</td>\n",
       "      <td>11781.700195</td>\n",
       "      <td>11782.349609</td>\n",
       "      <td>11601.519531</td>\n",
       "      <td>11642.469727</td>\n",
       "      <td>173590000</td>\n",
       "      <td>11642.469727</td>\n",
       "    </tr>\n",
       "    <tr>\n",
       "      <th>1987</th>\n",
       "      <td>2008-08-11</td>\n",
       "      <td>11729.669922</td>\n",
       "      <td>11867.110352</td>\n",
       "      <td>11675.530273</td>\n",
       "      <td>11782.349609</td>\n",
       "      <td>183190000</td>\n",
       "      <td>11782.349609</td>\n",
       "    </tr>\n",
       "    <tr>\n",
       "      <th>1988</th>\n",
       "      <td>2008-08-08</td>\n",
       "      <td>11432.089844</td>\n",
       "      <td>11759.959961</td>\n",
       "      <td>11388.040039</td>\n",
       "      <td>11734.320312</td>\n",
       "      <td>212830000</td>\n",
       "      <td>11734.320312</td>\n",
       "    </tr>\n",
       "  </tbody>\n",
       "</table>\n",
       "</div>"
      ],
      "text/plain": [
       "            Date          Open          High           Low         Close  \\\n",
       "1982  2008-08-18  11659.650391  11690.429688  11434.120117  11479.389648   \n",
       "1983  2008-08-15  11611.209961  11709.889648  11599.730469  11659.900391   \n",
       "1984  2008-08-14  11532.070312  11718.280273  11450.889648  11615.929688   \n",
       "1985  2008-08-13  11632.809570  11633.780273  11453.339844  11532.959961   \n",
       "1986  2008-08-12  11781.700195  11782.349609  11601.519531  11642.469727   \n",
       "1987  2008-08-11  11729.669922  11867.110352  11675.530273  11782.349609   \n",
       "1988  2008-08-08  11432.089844  11759.959961  11388.040039  11734.320312   \n",
       "\n",
       "         Volume     Adj Close  \n",
       "1982  156290000  11479.389648  \n",
       "1983  215040000  11659.900391  \n",
       "1984  159790000  11615.929688  \n",
       "1985  182550000  11532.959961  \n",
       "1986  173590000  11642.469727  \n",
       "1987  183190000  11782.349609  \n",
       "1988  212830000  11734.320312  "
      ]
     },
     "execution_count": 47,
     "metadata": {},
     "output_type": "execute_result"
    }
   ],
   "source": [
    "df[1982:]"
   ]
  },
  {
   "cell_type": "markdown",
   "metadata": {
    "papermill": {
     "duration": 0.095493,
     "end_time": "2021-01-23T09:51:04.423158",
     "exception": false,
     "start_time": "2021-01-23T09:51:04.327665",
     "status": "completed"
    },
    "tags": []
   },
   "source": [
    "<hr>\n",
    "\n",
    "### df.iloc[[n],[n]]\n",
    "This code brings the data in the N row and N column in the DataFrame."
   ]
  },
  {
   "cell_type": "code",
   "execution_count": 48,
   "metadata": {
    "execution": {
     "iopub.execute_input": "2021-01-23T09:51:04.621890Z",
     "iopub.status.busy": "2021-01-23T09:51:04.621152Z",
     "iopub.status.idle": "2021-01-23T09:51:04.624352Z",
     "shell.execute_reply": "2021-01-23T09:51:04.624914Z"
    },
    "papermill": {
     "duration": 0.107055,
     "end_time": "2021-01-23T09:51:04.625058",
     "exception": false,
     "start_time": "2021-01-23T09:51:04.518003",
     "status": "completed"
    },
    "tags": []
   },
   "outputs": [
    {
     "data": {
      "text/html": [
       "<div>\n",
       "<style scoped>\n",
       "    .dataframe tbody tr th:only-of-type {\n",
       "        vertical-align: middle;\n",
       "    }\n",
       "\n",
       "    .dataframe tbody tr th {\n",
       "        vertical-align: top;\n",
       "    }\n",
       "\n",
       "    .dataframe thead th {\n",
       "        text-align: right;\n",
       "    }\n",
       "</style>\n",
       "<table border=\"1\" class=\"dataframe\">\n",
       "  <thead>\n",
       "    <tr style=\"text-align: right;\">\n",
       "      <th></th>\n",
       "      <th>Low</th>\n",
       "    </tr>\n",
       "  </thead>\n",
       "  <tbody>\n",
       "    <tr>\n",
       "      <th>0</th>\n",
       "      <td>17916.910156</td>\n",
       "    </tr>\n",
       "  </tbody>\n",
       "</table>\n",
       "</div>"
      ],
      "text/plain": [
       "            Low\n",
       "0  17916.910156"
      ]
     },
     "execution_count": 48,
     "metadata": {},
     "output_type": "execute_result"
    }
   ],
   "source": [
    "df.iloc[[0],[3]]"
   ]
  },
  {
   "cell_type": "markdown",
   "metadata": {
    "papermill": {
     "duration": 0.095447,
     "end_time": "2021-01-23T09:51:04.815759",
     "exception": false,
     "start_time": "2021-01-23T09:51:04.720312",
     "status": "completed"
    },
    "tags": []
   },
   "source": [
    "<hr>\n",
    "\n",
    "### df.loc[n:n]\n",
    "This code allows us to fetch the data in the range we specify."
   ]
  },
  {
   "cell_type": "code",
   "execution_count": 49,
   "metadata": {
    "execution": {
     "iopub.execute_input": "2021-01-23T09:51:05.037255Z",
     "iopub.status.busy": "2021-01-23T09:51:05.036174Z",
     "iopub.status.idle": "2021-01-23T09:51:05.040233Z",
     "shell.execute_reply": "2021-01-23T09:51:05.040814Z"
    },
    "papermill": {
     "duration": 0.124385,
     "end_time": "2021-01-23T09:51:05.040967",
     "exception": false,
     "start_time": "2021-01-23T09:51:04.916582",
     "status": "completed"
    },
    "tags": []
   },
   "outputs": [
    {
     "data": {
      "text/html": [
       "<div>\n",
       "<style scoped>\n",
       "    .dataframe tbody tr th:only-of-type {\n",
       "        vertical-align: middle;\n",
       "    }\n",
       "\n",
       "    .dataframe tbody tr th {\n",
       "        vertical-align: top;\n",
       "    }\n",
       "\n",
       "    .dataframe thead th {\n",
       "        text-align: right;\n",
       "    }\n",
       "</style>\n",
       "<table border=\"1\" class=\"dataframe\">\n",
       "  <thead>\n",
       "    <tr style=\"text-align: right;\">\n",
       "      <th></th>\n",
       "      <th>Date</th>\n",
       "      <th>Open</th>\n",
       "      <th>High</th>\n",
       "      <th>Low</th>\n",
       "      <th>Close</th>\n",
       "      <th>Volume</th>\n",
       "      <th>Adj Close</th>\n",
       "    </tr>\n",
       "  </thead>\n",
       "  <tbody>\n",
       "    <tr>\n",
       "      <th>5</th>\n",
       "      <td>2016-06-24</td>\n",
       "      <td>17946.630859</td>\n",
       "      <td>17946.630859</td>\n",
       "      <td>17356.339844</td>\n",
       "      <td>17400.750000</td>\n",
       "      <td>239000000</td>\n",
       "      <td>17400.750000</td>\n",
       "    </tr>\n",
       "    <tr>\n",
       "      <th>6</th>\n",
       "      <td>2016-06-23</td>\n",
       "      <td>17844.109375</td>\n",
       "      <td>18011.070312</td>\n",
       "      <td>17844.109375</td>\n",
       "      <td>18011.070312</td>\n",
       "      <td>98070000</td>\n",
       "      <td>18011.070312</td>\n",
       "    </tr>\n",
       "    <tr>\n",
       "      <th>7</th>\n",
       "      <td>2016-06-22</td>\n",
       "      <td>17832.669922</td>\n",
       "      <td>17920.160156</td>\n",
       "      <td>17770.359375</td>\n",
       "      <td>17780.830078</td>\n",
       "      <td>89440000</td>\n",
       "      <td>17780.830078</td>\n",
       "    </tr>\n",
       "  </tbody>\n",
       "</table>\n",
       "</div>"
      ],
      "text/plain": [
       "         Date          Open          High           Low         Close  \\\n",
       "5  2016-06-24  17946.630859  17946.630859  17356.339844  17400.750000   \n",
       "6  2016-06-23  17844.109375  18011.070312  17844.109375  18011.070312   \n",
       "7  2016-06-22  17832.669922  17920.160156  17770.359375  17780.830078   \n",
       "\n",
       "      Volume     Adj Close  \n",
       "5  239000000  17400.750000  \n",
       "6   98070000  18011.070312  \n",
       "7   89440000  17780.830078  "
      ]
     },
     "execution_count": 49,
     "metadata": {},
     "output_type": "execute_result"
    }
   ],
   "source": [
    "df.loc[5:7]"
   ]
  },
  {
   "cell_type": "markdown",
   "metadata": {
    "papermill": {
     "duration": 0.096356,
     "end_time": "2021-01-23T09:51:05.234712",
     "exception": false,
     "start_time": "2021-01-23T09:51:05.138356",
     "status": "completed"
    },
    "tags": []
   },
   "source": [
    "<hr>\n",
    "\n",
    "### df['columnName'].nunique()\n",
    "This code shows how many of the data that is not repeated."
   ]
  },
  {
   "cell_type": "code",
   "execution_count": 50,
   "metadata": {
    "execution": {
     "iopub.execute_input": "2021-01-23T09:51:05.434076Z",
     "iopub.status.busy": "2021-01-23T09:51:05.433410Z",
     "iopub.status.idle": "2021-01-23T09:51:05.436971Z",
     "shell.execute_reply": "2021-01-23T09:51:05.437667Z"
    },
    "papermill": {
     "duration": 0.106033,
     "end_time": "2021-01-23T09:51:05.437816",
     "exception": false,
     "start_time": "2021-01-23T09:51:05.331783",
     "status": "completed"
    },
    "tags": []
   },
   "outputs": [
    {
     "data": {
      "text/plain": [
       "1980"
      ]
     },
     "execution_count": 50,
     "metadata": {},
     "output_type": "execute_result"
    }
   ],
   "source": [
    "df['Open'].nunique()"
   ]
  },
  {
   "cell_type": "markdown",
   "metadata": {
    "papermill": {
     "duration": 0.096304,
     "end_time": "2021-01-23T09:51:05.630983",
     "exception": false,
     "start_time": "2021-01-23T09:51:05.534679",
     "status": "completed"
    },
    "tags": []
   },
   "source": [
    "<hr>\n",
    "\n",
    "### df['columnName'].unique()\n",
    "This code shows which of the data is repeated."
   ]
  },
  {
   "cell_type": "code",
   "execution_count": 51,
   "metadata": {
    "execution": {
     "iopub.execute_input": "2021-01-23T09:51:05.827721Z",
     "iopub.status.busy": "2021-01-23T09:51:05.827062Z",
     "iopub.status.idle": "2021-01-23T09:51:05.835225Z",
     "shell.execute_reply": "2021-01-23T09:51:05.835718Z"
    },
    "papermill": {
     "duration": 0.107962,
     "end_time": "2021-01-23T09:51:05.835870",
     "exception": false,
     "start_time": "2021-01-23T09:51:05.727908",
     "status": "completed"
    },
    "tags": []
   },
   "outputs": [
    {
     "data": {
      "text/plain": [
       "array([17924.240234, 17712.759766, 17456.019531, ..., 11781.700195,\n",
       "       11729.669922, 11432.089844])"
      ]
     },
     "execution_count": 51,
     "metadata": {},
     "output_type": "execute_result"
    }
   ],
   "source": [
    "df['Open'].unique()"
   ]
  },
  {
   "cell_type": "markdown",
   "metadata": {
    "papermill": {
     "duration": 0.115236,
     "end_time": "2021-01-23T09:51:06.049006",
     "exception": false,
     "start_time": "2021-01-23T09:51:05.933770",
     "status": "completed"
    },
    "tags": []
   },
   "source": [
    "<hr>\n",
    "\n",
    "### df.sample(frac=0.5)\n",
    "This code selects the fractions of random rows and fetches the data to that extent."
   ]
  },
  {
   "cell_type": "code",
   "execution_count": 52,
   "metadata": {
    "execution": {
     "iopub.execute_input": "2021-01-23T09:51:06.267276Z",
     "iopub.status.busy": "2021-01-23T09:51:06.266317Z",
     "iopub.status.idle": "2021-01-23T09:51:06.270059Z",
     "shell.execute_reply": "2021-01-23T09:51:06.270707Z"
    },
    "papermill": {
     "duration": 0.123659,
     "end_time": "2021-01-23T09:51:06.270882",
     "exception": false,
     "start_time": "2021-01-23T09:51:06.147223",
     "status": "completed"
    },
    "tags": []
   },
   "outputs": [
    {
     "data": {
      "text/html": [
       "<div>\n",
       "<style scoped>\n",
       "    .dataframe tbody tr th:only-of-type {\n",
       "        vertical-align: middle;\n",
       "    }\n",
       "\n",
       "    .dataframe tbody tr th {\n",
       "        vertical-align: top;\n",
       "    }\n",
       "\n",
       "    .dataframe thead th {\n",
       "        text-align: right;\n",
       "    }\n",
       "</style>\n",
       "<table border=\"1\" class=\"dataframe\">\n",
       "  <thead>\n",
       "    <tr style=\"text-align: right;\">\n",
       "      <th></th>\n",
       "      <th>Date</th>\n",
       "      <th>Open</th>\n",
       "      <th>High</th>\n",
       "      <th>Low</th>\n",
       "      <th>Close</th>\n",
       "      <th>Volume</th>\n",
       "      <th>Adj Close</th>\n",
       "    </tr>\n",
       "  </thead>\n",
       "  <tbody>\n",
       "    <tr>\n",
       "      <th>1974</th>\n",
       "      <td>2008-08-28</td>\n",
       "      <td>11499.870117</td>\n",
       "      <td>11715.179688</td>\n",
       "      <td>11499.790039</td>\n",
       "      <td>11715.179688</td>\n",
       "      <td>149150000</td>\n",
       "      <td>11715.179688</td>\n",
       "    </tr>\n",
       "    <tr>\n",
       "      <th>561</th>\n",
       "      <td>2014-04-10</td>\n",
       "      <td>16437.240234</td>\n",
       "      <td>16456.119141</td>\n",
       "      <td>16153.339844</td>\n",
       "      <td>16170.219727</td>\n",
       "      <td>112550000</td>\n",
       "      <td>16170.219727</td>\n",
       "    </tr>\n",
       "    <tr>\n",
       "      <th>13</th>\n",
       "      <td>2016-06-14</td>\n",
       "      <td>17710.769531</td>\n",
       "      <td>17733.919922</td>\n",
       "      <td>17595.789062</td>\n",
       "      <td>17674.820312</td>\n",
       "      <td>93740000</td>\n",
       "      <td>17674.820312</td>\n",
       "    </tr>\n",
       "    <tr>\n",
       "      <th>923</th>\n",
       "      <td>2012-10-31</td>\n",
       "      <td>13107.440430</td>\n",
       "      <td>13189.080078</td>\n",
       "      <td>13052.070312</td>\n",
       "      <td>13096.459961</td>\n",
       "      <td>138160000</td>\n",
       "      <td>13096.459961</td>\n",
       "    </tr>\n",
       "    <tr>\n",
       "      <th>521</th>\n",
       "      <td>2014-06-09</td>\n",
       "      <td>16926.080078</td>\n",
       "      <td>16970.169922</td>\n",
       "      <td>16912.919922</td>\n",
       "      <td>16943.099609</td>\n",
       "      <td>67130000</td>\n",
       "      <td>16943.099609</td>\n",
       "    </tr>\n",
       "  </tbody>\n",
       "</table>\n",
       "</div>"
      ],
      "text/plain": [
       "            Date          Open          High           Low         Close  \\\n",
       "1974  2008-08-28  11499.870117  11715.179688  11499.790039  11715.179688   \n",
       "561   2014-04-10  16437.240234  16456.119141  16153.339844  16170.219727   \n",
       "13    2016-06-14  17710.769531  17733.919922  17595.789062  17674.820312   \n",
       "923   2012-10-31  13107.440430  13189.080078  13052.070312  13096.459961   \n",
       "521   2014-06-09  16926.080078  16970.169922  16912.919922  16943.099609   \n",
       "\n",
       "         Volume     Adj Close  \n",
       "1974  149150000  11715.179688  \n",
       "561   112550000  16170.219727  \n",
       "13     93740000  17674.820312  \n",
       "923   138160000  13096.459961  \n",
       "521    67130000  16943.099609  "
      ]
     },
     "execution_count": 52,
     "metadata": {},
     "output_type": "execute_result"
    }
   ],
   "source": [
    "df.sample(frac=0.5).head()"
   ]
  },
  {
   "cell_type": "markdown",
   "metadata": {
    "papermill": {
     "duration": 0.097711,
     "end_time": "2021-01-23T09:51:06.470135",
     "exception": false,
     "start_time": "2021-01-23T09:51:06.372424",
     "status": "completed"
    },
    "tags": []
   },
   "source": [
    "<hr>\n",
    "\n",
    "### df.nlargest(n,'columnName')\n",
    "This code brings N from the column where we have specified the largest data\n"
   ]
  },
  {
   "cell_type": "code",
   "execution_count": 53,
   "metadata": {
    "execution": {
     "iopub.execute_input": "2021-01-23T09:51:06.673589Z",
     "iopub.status.busy": "2021-01-23T09:51:06.672485Z",
     "iopub.status.idle": "2021-01-23T09:51:06.691643Z",
     "shell.execute_reply": "2021-01-23T09:51:06.692114Z"
    },
    "papermill": {
     "duration": 0.122936,
     "end_time": "2021-01-23T09:51:06.692265",
     "exception": false,
     "start_time": "2021-01-23T09:51:06.569329",
     "status": "completed"
    },
    "tags": []
   },
   "outputs": [
    {
     "data": {
      "text/html": [
       "<div>\n",
       "<style scoped>\n",
       "    .dataframe tbody tr th:only-of-type {\n",
       "        vertical-align: middle;\n",
       "    }\n",
       "\n",
       "    .dataframe tbody tr th {\n",
       "        vertical-align: top;\n",
       "    }\n",
       "\n",
       "    .dataframe thead th {\n",
       "        text-align: right;\n",
       "    }\n",
       "</style>\n",
       "<table border=\"1\" class=\"dataframe\">\n",
       "  <thead>\n",
       "    <tr style=\"text-align: right;\">\n",
       "      <th></th>\n",
       "      <th>Date</th>\n",
       "      <th>Open</th>\n",
       "      <th>High</th>\n",
       "      <th>Low</th>\n",
       "      <th>Close</th>\n",
       "      <th>Volume</th>\n",
       "      <th>Adj Close</th>\n",
       "    </tr>\n",
       "  </thead>\n",
       "  <tbody>\n",
       "    <tr>\n",
       "      <th>282</th>\n",
       "      <td>2015-05-20</td>\n",
       "      <td>18315.060547</td>\n",
       "      <td>18350.130859</td>\n",
       "      <td>18272.560547</td>\n",
       "      <td>18285.400391</td>\n",
       "      <td>80190000</td>\n",
       "      <td>18285.400391</td>\n",
       "    </tr>\n",
       "    <tr>\n",
       "      <th>283</th>\n",
       "      <td>2015-05-19</td>\n",
       "      <td>18300.480469</td>\n",
       "      <td>18351.359375</td>\n",
       "      <td>18261.349609</td>\n",
       "      <td>18312.390625</td>\n",
       "      <td>87200000</td>\n",
       "      <td>18312.390625</td>\n",
       "    </tr>\n",
       "    <tr>\n",
       "      <th>280</th>\n",
       "      <td>2015-05-22</td>\n",
       "      <td>18286.869141</td>\n",
       "      <td>18286.869141</td>\n",
       "      <td>18217.140625</td>\n",
       "      <td>18232.019531</td>\n",
       "      <td>78890000</td>\n",
       "      <td>18232.019531</td>\n",
       "    </tr>\n",
       "    <tr>\n",
       "      <th>281</th>\n",
       "      <td>2015-05-21</td>\n",
       "      <td>18285.869141</td>\n",
       "      <td>18314.890625</td>\n",
       "      <td>18249.900391</td>\n",
       "      <td>18285.740234</td>\n",
       "      <td>84270000</td>\n",
       "      <td>18285.740234</td>\n",
       "    </tr>\n",
       "    <tr>\n",
       "      <th>337</th>\n",
       "      <td>2015-03-03</td>\n",
       "      <td>18281.949219</td>\n",
       "      <td>18281.949219</td>\n",
       "      <td>18136.880859</td>\n",
       "      <td>18203.369141</td>\n",
       "      <td>83830000</td>\n",
       "      <td>18203.369141</td>\n",
       "    </tr>\n",
       "  </tbody>\n",
       "</table>\n",
       "</div>"
      ],
      "text/plain": [
       "           Date          Open          High           Low         Close  \\\n",
       "282  2015-05-20  18315.060547  18350.130859  18272.560547  18285.400391   \n",
       "283  2015-05-19  18300.480469  18351.359375  18261.349609  18312.390625   \n",
       "280  2015-05-22  18286.869141  18286.869141  18217.140625  18232.019531   \n",
       "281  2015-05-21  18285.869141  18314.890625  18249.900391  18285.740234   \n",
       "337  2015-03-03  18281.949219  18281.949219  18136.880859  18203.369141   \n",
       "\n",
       "       Volume     Adj Close  \n",
       "282  80190000  18285.400391  \n",
       "283  87200000  18312.390625  \n",
       "280  78890000  18232.019531  \n",
       "281  84270000  18285.740234  \n",
       "337  83830000  18203.369141  "
      ]
     },
     "execution_count": 53,
     "metadata": {},
     "output_type": "execute_result"
    }
   ],
   "source": [
    "df.nlargest(5,'Open')"
   ]
  },
  {
   "cell_type": "markdown",
   "metadata": {
    "papermill": {
     "duration": 0.099094,
     "end_time": "2021-01-23T09:51:06.889661",
     "exception": false,
     "start_time": "2021-01-23T09:51:06.790567",
     "status": "completed"
    },
    "tags": []
   },
   "source": [
    "<hr>\n",
    "\n",
    "### df.nsmallest(n,'columnName')\n",
    "This code brings N from the column where we have specified the smallest data."
   ]
  },
  {
   "cell_type": "code",
   "execution_count": 54,
   "metadata": {
    "execution": {
     "iopub.execute_input": "2021-01-23T09:51:07.091399Z",
     "iopub.status.busy": "2021-01-23T09:51:07.090714Z",
     "iopub.status.idle": "2021-01-23T09:51:07.103795Z",
     "shell.execute_reply": "2021-01-23T09:51:07.104303Z"
    },
    "papermill": {
     "duration": 0.115407,
     "end_time": "2021-01-23T09:51:07.104461",
     "exception": false,
     "start_time": "2021-01-23T09:51:06.989054",
     "status": "completed"
    },
    "tags": []
   },
   "outputs": [
    {
     "data": {
      "text/html": [
       "<div>\n",
       "<style scoped>\n",
       "    .dataframe tbody tr th:only-of-type {\n",
       "        vertical-align: middle;\n",
       "    }\n",
       "\n",
       "    .dataframe tbody tr th {\n",
       "        vertical-align: top;\n",
       "    }\n",
       "\n",
       "    .dataframe thead th {\n",
       "        text-align: right;\n",
       "    }\n",
       "</style>\n",
       "<table border=\"1\" class=\"dataframe\">\n",
       "  <thead>\n",
       "    <tr style=\"text-align: right;\">\n",
       "      <th></th>\n",
       "      <th>Date</th>\n",
       "      <th>Open</th>\n",
       "      <th>High</th>\n",
       "      <th>Low</th>\n",
       "      <th>Close</th>\n",
       "      <th>Volume</th>\n",
       "      <th>Adj Close</th>\n",
       "    </tr>\n",
       "  </thead>\n",
       "  <tbody>\n",
       "    <tr>\n",
       "      <th>1842</th>\n",
       "      <td>2009-03-10</td>\n",
       "      <td>6547.009766</td>\n",
       "      <td>6926.490234</td>\n",
       "      <td>6546.609863</td>\n",
       "      <td>6926.490234</td>\n",
       "      <td>640020000</td>\n",
       "      <td>6926.490234</td>\n",
       "    </tr>\n",
       "    <tr>\n",
       "      <th>1844</th>\n",
       "      <td>2009-03-06</td>\n",
       "      <td>6595.160156</td>\n",
       "      <td>6755.169922</td>\n",
       "      <td>6469.950195</td>\n",
       "      <td>6626.939941</td>\n",
       "      <td>425170000</td>\n",
       "      <td>6626.939941</td>\n",
       "    </tr>\n",
       "    <tr>\n",
       "      <th>1843</th>\n",
       "      <td>2009-03-09</td>\n",
       "      <td>6625.740234</td>\n",
       "      <td>6709.609863</td>\n",
       "      <td>6516.859863</td>\n",
       "      <td>6547.049805</td>\n",
       "      <td>365990000</td>\n",
       "      <td>6547.049805</td>\n",
       "    </tr>\n",
       "  </tbody>\n",
       "</table>\n",
       "</div>"
      ],
      "text/plain": [
       "            Date         Open         High          Low        Close  \\\n",
       "1842  2009-03-10  6547.009766  6926.490234  6546.609863  6926.490234   \n",
       "1844  2009-03-06  6595.160156  6755.169922  6469.950195  6626.939941   \n",
       "1843  2009-03-09  6625.740234  6709.609863  6516.859863  6547.049805   \n",
       "\n",
       "         Volume    Adj Close  \n",
       "1842  640020000  6926.490234  \n",
       "1844  425170000  6626.939941  \n",
       "1843  365990000  6547.049805  "
      ]
     },
     "execution_count": 54,
     "metadata": {},
     "output_type": "execute_result"
    }
   ],
   "source": [
    "df.nsmallest(3,'Open')"
   ]
  },
  {
   "cell_type": "markdown",
   "metadata": {
    "papermill": {
     "duration": 0.099059,
     "end_time": "2021-01-23T09:51:07.304199",
     "exception": false,
     "start_time": "2021-01-23T09:51:07.205140",
     "status": "completed"
    },
    "tags": []
   },
   "source": [
    "<hr>\n",
    "\n",
    "### df[df.columnNAME <  5]\n",
    "This code returns the column name we have specified, which is less than 5."
   ]
  },
  {
   "cell_type": "code",
   "execution_count": 55,
   "metadata": {
    "execution": {
     "iopub.execute_input": "2021-01-23T09:51:07.512790Z",
     "iopub.status.busy": "2021-01-23T09:51:07.512131Z",
     "iopub.status.idle": "2021-01-23T09:51:07.545447Z",
     "shell.execute_reply": "2021-01-23T09:51:07.544862Z"
    },
    "papermill": {
     "duration": 0.14007,
     "end_time": "2021-01-23T09:51:07.545569",
     "exception": false,
     "start_time": "2021-01-23T09:51:07.405499",
     "status": "completed"
    },
    "tags": []
   },
   "outputs": [
    {
     "data": {
      "text/html": [
       "<div>\n",
       "<style scoped>\n",
       "    .dataframe tbody tr th:only-of-type {\n",
       "        vertical-align: middle;\n",
       "    }\n",
       "\n",
       "    .dataframe tbody tr th {\n",
       "        vertical-align: top;\n",
       "    }\n",
       "\n",
       "    .dataframe thead th {\n",
       "        text-align: right;\n",
       "    }\n",
       "</style>\n",
       "<table border=\"1\" class=\"dataframe\">\n",
       "  <thead>\n",
       "    <tr style=\"text-align: right;\">\n",
       "      <th></th>\n",
       "      <th>Date</th>\n",
       "      <th>Open</th>\n",
       "      <th>High</th>\n",
       "      <th>Low</th>\n",
       "      <th>Close</th>\n",
       "      <th>Volume</th>\n",
       "      <th>Adj Close</th>\n",
       "    </tr>\n",
       "  </thead>\n",
       "  <tbody>\n",
       "    <tr>\n",
       "      <th>280</th>\n",
       "      <td>2015-05-22</td>\n",
       "      <td>18286.869141</td>\n",
       "      <td>18286.869141</td>\n",
       "      <td>18217.140625</td>\n",
       "      <td>18232.019531</td>\n",
       "      <td>78890000</td>\n",
       "      <td>18232.019531</td>\n",
       "    </tr>\n",
       "    <tr>\n",
       "      <th>281</th>\n",
       "      <td>2015-05-21</td>\n",
       "      <td>18285.869141</td>\n",
       "      <td>18314.890625</td>\n",
       "      <td>18249.900391</td>\n",
       "      <td>18285.740234</td>\n",
       "      <td>84270000</td>\n",
       "      <td>18285.740234</td>\n",
       "    </tr>\n",
       "    <tr>\n",
       "      <th>282</th>\n",
       "      <td>2015-05-20</td>\n",
       "      <td>18315.060547</td>\n",
       "      <td>18350.130859</td>\n",
       "      <td>18272.560547</td>\n",
       "      <td>18285.400391</td>\n",
       "      <td>80190000</td>\n",
       "      <td>18285.400391</td>\n",
       "    </tr>\n",
       "    <tr>\n",
       "      <th>283</th>\n",
       "      <td>2015-05-19</td>\n",
       "      <td>18300.480469</td>\n",
       "      <td>18351.359375</td>\n",
       "      <td>18261.349609</td>\n",
       "      <td>18312.390625</td>\n",
       "      <td>87200000</td>\n",
       "      <td>18312.390625</td>\n",
       "    </tr>\n",
       "  </tbody>\n",
       "</table>\n",
       "</div>"
      ],
      "text/plain": [
       "           Date          Open          High           Low         Close  \\\n",
       "280  2015-05-22  18286.869141  18286.869141  18217.140625  18232.019531   \n",
       "281  2015-05-21  18285.869141  18314.890625  18249.900391  18285.740234   \n",
       "282  2015-05-20  18315.060547  18350.130859  18272.560547  18285.400391   \n",
       "283  2015-05-19  18300.480469  18351.359375  18261.349609  18312.390625   \n",
       "\n",
       "       Volume     Adj Close  \n",
       "280  78890000  18232.019531  \n",
       "281  84270000  18285.740234  \n",
       "282  80190000  18285.400391  \n",
       "283  87200000  18312.390625  "
      ]
     },
     "execution_count": 55,
     "metadata": {},
     "output_type": "execute_result"
    }
   ],
   "source": [
    "df[df.Open > 18281.949219]"
   ]
  },
  {
   "cell_type": "markdown",
   "metadata": {
    "papermill": {
     "duration": 0.098479,
     "end_time": "2021-01-23T09:51:07.744155",
     "exception": false,
     "start_time": "2021-01-23T09:51:07.645676",
     "status": "completed"
    },
    "tags": []
   },
   "source": [
    "<hr>\n",
    "\n",
    "### Create Filter"
   ]
  },
  {
   "cell_type": "code",
   "execution_count": 56,
   "metadata": {
    "execution": {
     "iopub.execute_input": "2021-01-23T09:51:07.958482Z",
     "iopub.status.busy": "2021-01-23T09:51:07.957796Z",
     "iopub.status.idle": "2021-01-23T09:51:07.960887Z",
     "shell.execute_reply": "2021-01-23T09:51:07.961476Z"
    },
    "papermill": {
     "duration": 0.117347,
     "end_time": "2021-01-23T09:51:07.961625",
     "exception": false,
     "start_time": "2021-01-23T09:51:07.844278",
     "status": "completed"
    },
    "tags": []
   },
   "outputs": [
    {
     "data": {
      "text/html": [
       "<div>\n",
       "<style scoped>\n",
       "    .dataframe tbody tr th:only-of-type {\n",
       "        vertical-align: middle;\n",
       "    }\n",
       "\n",
       "    .dataframe tbody tr th {\n",
       "        vertical-align: top;\n",
       "    }\n",
       "\n",
       "    .dataframe thead th {\n",
       "        text-align: right;\n",
       "    }\n",
       "</style>\n",
       "<table border=\"1\" class=\"dataframe\">\n",
       "  <thead>\n",
       "    <tr style=\"text-align: right;\">\n",
       "      <th></th>\n",
       "      <th>Date</th>\n",
       "      <th>Open</th>\n",
       "      <th>High</th>\n",
       "      <th>Low</th>\n",
       "      <th>Close</th>\n",
       "      <th>Volume</th>\n",
       "      <th>Adj Close</th>\n",
       "    </tr>\n",
       "  </thead>\n",
       "  <tbody>\n",
       "    <tr>\n",
       "      <th>0</th>\n",
       "      <td>2016-07-01</td>\n",
       "      <td>17924.240234</td>\n",
       "      <td>18002.380859</td>\n",
       "      <td>17916.910156</td>\n",
       "      <td>17949.369141</td>\n",
       "      <td>82160000</td>\n",
       "      <td>17949.369141</td>\n",
       "    </tr>\n",
       "    <tr>\n",
       "      <th>1</th>\n",
       "      <td>2016-06-30</td>\n",
       "      <td>17712.759766</td>\n",
       "      <td>17930.609375</td>\n",
       "      <td>17711.800781</td>\n",
       "      <td>17929.990234</td>\n",
       "      <td>133030000</td>\n",
       "      <td>17929.990234</td>\n",
       "    </tr>\n",
       "    <tr>\n",
       "      <th>2</th>\n",
       "      <td>2016-06-29</td>\n",
       "      <td>17456.019531</td>\n",
       "      <td>17704.509766</td>\n",
       "      <td>17456.019531</td>\n",
       "      <td>17694.679688</td>\n",
       "      <td>106380000</td>\n",
       "      <td>17694.679688</td>\n",
       "    </tr>\n",
       "    <tr>\n",
       "      <th>3</th>\n",
       "      <td>2016-06-28</td>\n",
       "      <td>17190.509766</td>\n",
       "      <td>17409.720703</td>\n",
       "      <td>17190.509766</td>\n",
       "      <td>17409.720703</td>\n",
       "      <td>112190000</td>\n",
       "      <td>17409.720703</td>\n",
       "    </tr>\n",
       "  </tbody>\n",
       "</table>\n",
       "</div>"
      ],
      "text/plain": [
       "         Date          Open          High           Low         Close  \\\n",
       "0  2016-07-01  17924.240234  18002.380859  17916.910156  17949.369141   \n",
       "1  2016-06-30  17712.759766  17930.609375  17711.800781  17929.990234   \n",
       "2  2016-06-29  17456.019531  17704.509766  17456.019531  17694.679688   \n",
       "3  2016-06-28  17190.509766  17409.720703  17190.509766  17409.720703   \n",
       "\n",
       "      Volume     Adj Close  \n",
       "0   82160000  17949.369141  \n",
       "1  133030000  17929.990234  \n",
       "2  106380000  17694.679688  \n",
       "3  112190000  17409.720703  "
      ]
     },
     "execution_count": 56,
     "metadata": {},
     "output_type": "execute_result"
    }
   ],
   "source": [
    "filters = df.Date > '2016-06-27'\n",
    "df[filters]"
   ]
  },
  {
   "cell_type": "markdown",
   "metadata": {
    "papermill": {
     "duration": 0.100355,
     "end_time": "2021-01-23T09:51:08.165512",
     "exception": false,
     "start_time": "2021-01-23T09:51:08.065157",
     "status": "completed"
    },
    "tags": []
   },
   "source": [
    "<hr>\n",
    "\n",
    "### df.filter(regex='code')\n",
    "This code allows regex to filter any data we want.  \n",
    "\n",
    "regex = regular expression"
   ]
  },
  {
   "cell_type": "code",
   "execution_count": 57,
   "metadata": {
    "execution": {
     "iopub.execute_input": "2021-01-23T09:51:08.380713Z",
     "iopub.status.busy": "2021-01-23T09:51:08.378978Z",
     "iopub.status.idle": "2021-01-23T09:51:08.383077Z",
     "shell.execute_reply": "2021-01-23T09:51:08.383583Z"
    },
    "papermill": {
     "duration": 0.117059,
     "end_time": "2021-01-23T09:51:08.383731",
     "exception": false,
     "start_time": "2021-01-23T09:51:08.266672",
     "status": "completed"
    },
    "tags": []
   },
   "outputs": [
    {
     "data": {
      "text/html": [
       "<div>\n",
       "<style scoped>\n",
       "    .dataframe tbody tr th:only-of-type {\n",
       "        vertical-align: middle;\n",
       "    }\n",
       "\n",
       "    .dataframe tbody tr th {\n",
       "        vertical-align: top;\n",
       "    }\n",
       "\n",
       "    .dataframe thead th {\n",
       "        text-align: right;\n",
       "    }\n",
       "</style>\n",
       "<table border=\"1\" class=\"dataframe\">\n",
       "  <thead>\n",
       "    <tr style=\"text-align: right;\">\n",
       "      <th></th>\n",
       "      <th>Low</th>\n",
       "    </tr>\n",
       "  </thead>\n",
       "  <tbody>\n",
       "    <tr>\n",
       "      <th>0</th>\n",
       "      <td>17916.910156</td>\n",
       "    </tr>\n",
       "    <tr>\n",
       "      <th>1</th>\n",
       "      <td>17711.800781</td>\n",
       "    </tr>\n",
       "    <tr>\n",
       "      <th>2</th>\n",
       "      <td>17456.019531</td>\n",
       "    </tr>\n",
       "    <tr>\n",
       "      <th>3</th>\n",
       "      <td>17190.509766</td>\n",
       "    </tr>\n",
       "    <tr>\n",
       "      <th>4</th>\n",
       "      <td>17063.080078</td>\n",
       "    </tr>\n",
       "  </tbody>\n",
       "</table>\n",
       "</div>"
      ],
      "text/plain": [
       "            Low\n",
       "0  17916.910156\n",
       "1  17711.800781\n",
       "2  17456.019531\n",
       "3  17190.509766\n",
       "4  17063.080078"
      ]
     },
     "execution_count": 57,
     "metadata": {},
     "output_type": "execute_result"
    }
   ],
   "source": [
    "df.filter(regex='^L').head()"
   ]
  },
  {
   "cell_type": "markdown",
   "metadata": {
    "papermill": {
     "duration": 0.107148,
     "end_time": "2021-01-23T09:51:08.596941",
     "exception": false,
     "start_time": "2021-01-23T09:51:08.489793",
     "status": "completed"
    },
    "tags": []
   },
   "source": [
    "## 8. Sort Data"
   ]
  },
  {
   "cell_type": "markdown",
   "metadata": {
    "papermill": {
     "duration": 0.101229,
     "end_time": "2021-01-23T09:51:08.799266",
     "exception": false,
     "start_time": "2021-01-23T09:51:08.698037",
     "status": "completed"
    },
    "tags": []
   },
   "source": [
    "<hr>\n",
    "\n",
    "### df.sort_values('columnName')\n",
    "This code sorts the column we specify in the form of low to high."
   ]
  },
  {
   "cell_type": "code",
   "execution_count": 58,
   "metadata": {
    "execution": {
     "iopub.execute_input": "2021-01-23T09:51:09.010474Z",
     "iopub.status.busy": "2021-01-23T09:51:09.009789Z",
     "iopub.status.idle": "2021-01-23T09:51:09.022349Z",
     "shell.execute_reply": "2021-01-23T09:51:09.022881Z"
    },
    "papermill": {
     "duration": 0.121484,
     "end_time": "2021-01-23T09:51:09.023019",
     "exception": false,
     "start_time": "2021-01-23T09:51:08.901535",
     "status": "completed"
    },
    "tags": []
   },
   "outputs": [
    {
     "data": {
      "text/html": [
       "<div>\n",
       "<style scoped>\n",
       "    .dataframe tbody tr th:only-of-type {\n",
       "        vertical-align: middle;\n",
       "    }\n",
       "\n",
       "    .dataframe tbody tr th {\n",
       "        vertical-align: top;\n",
       "    }\n",
       "\n",
       "    .dataframe thead th {\n",
       "        text-align: right;\n",
       "    }\n",
       "</style>\n",
       "<table border=\"1\" class=\"dataframe\">\n",
       "  <thead>\n",
       "    <tr style=\"text-align: right;\">\n",
       "      <th></th>\n",
       "      <th>Date</th>\n",
       "      <th>Open</th>\n",
       "      <th>High</th>\n",
       "      <th>Low</th>\n",
       "      <th>Close</th>\n",
       "      <th>Volume</th>\n",
       "      <th>Adj Close</th>\n",
       "    </tr>\n",
       "  </thead>\n",
       "  <tbody>\n",
       "    <tr>\n",
       "      <th>1842</th>\n",
       "      <td>2009-03-10</td>\n",
       "      <td>6547.009766</td>\n",
       "      <td>6926.490234</td>\n",
       "      <td>6546.609863</td>\n",
       "      <td>6926.490234</td>\n",
       "      <td>640020000</td>\n",
       "      <td>6926.490234</td>\n",
       "    </tr>\n",
       "    <tr>\n",
       "      <th>1844</th>\n",
       "      <td>2009-03-06</td>\n",
       "      <td>6595.160156</td>\n",
       "      <td>6755.169922</td>\n",
       "      <td>6469.950195</td>\n",
       "      <td>6626.939941</td>\n",
       "      <td>425170000</td>\n",
       "      <td>6626.939941</td>\n",
       "    </tr>\n",
       "    <tr>\n",
       "      <th>1843</th>\n",
       "      <td>2009-03-09</td>\n",
       "      <td>6625.740234</td>\n",
       "      <td>6709.609863</td>\n",
       "      <td>6516.859863</td>\n",
       "      <td>6547.049805</td>\n",
       "      <td>365990000</td>\n",
       "      <td>6547.049805</td>\n",
       "    </tr>\n",
       "    <tr>\n",
       "      <th>1846</th>\n",
       "      <td>2009-03-04</td>\n",
       "      <td>6726.500000</td>\n",
       "      <td>6979.220215</td>\n",
       "      <td>6726.419922</td>\n",
       "      <td>6875.839844</td>\n",
       "      <td>464830000</td>\n",
       "      <td>6875.839844</td>\n",
       "    </tr>\n",
       "    <tr>\n",
       "      <th>1847</th>\n",
       "      <td>2009-03-03</td>\n",
       "      <td>6764.810059</td>\n",
       "      <td>6855.290039</td>\n",
       "      <td>6705.629883</td>\n",
       "      <td>6726.020020</td>\n",
       "      <td>445280000</td>\n",
       "      <td>6726.020020</td>\n",
       "    </tr>\n",
       "  </tbody>\n",
       "</table>\n",
       "</div>"
      ],
      "text/plain": [
       "            Date         Open         High          Low        Close  \\\n",
       "1842  2009-03-10  6547.009766  6926.490234  6546.609863  6926.490234   \n",
       "1844  2009-03-06  6595.160156  6755.169922  6469.950195  6626.939941   \n",
       "1843  2009-03-09  6625.740234  6709.609863  6516.859863  6547.049805   \n",
       "1846  2009-03-04  6726.500000  6979.220215  6726.419922  6875.839844   \n",
       "1847  2009-03-03  6764.810059  6855.290039  6705.629883  6726.020020   \n",
       "\n",
       "         Volume    Adj Close  \n",
       "1842  640020000  6926.490234  \n",
       "1844  425170000  6626.939941  \n",
       "1843  365990000  6547.049805  \n",
       "1846  464830000  6875.839844  \n",
       "1847  445280000  6726.020020  "
      ]
     },
     "execution_count": 58,
     "metadata": {},
     "output_type": "execute_result"
    }
   ],
   "source": [
    "df.sort_values('Open').head()"
   ]
  },
  {
   "cell_type": "markdown",
   "metadata": {
    "papermill": {
     "duration": 0.10067,
     "end_time": "2021-01-23T09:51:09.225094",
     "exception": false,
     "start_time": "2021-01-23T09:51:09.124424",
     "status": "completed"
    },
    "tags": []
   },
   "source": [
    "<hr>\n",
    "\n",
    "### df.sort_values('columnName',ascending=False)\n",
    "This code is the column we specify in the form of high to low."
   ]
  },
  {
   "cell_type": "code",
   "execution_count": 59,
   "metadata": {
    "execution": {
     "iopub.execute_input": "2021-01-23T09:51:09.430959Z",
     "iopub.status.busy": "2021-01-23T09:51:09.430233Z",
     "iopub.status.idle": "2021-01-23T09:51:09.445706Z",
     "shell.execute_reply": "2021-01-23T09:51:09.446172Z"
    },
    "papermill": {
     "duration": 0.12086,
     "end_time": "2021-01-23T09:51:09.446331",
     "exception": false,
     "start_time": "2021-01-23T09:51:09.325471",
     "status": "completed"
    },
    "tags": []
   },
   "outputs": [
    {
     "data": {
      "text/html": [
       "<div>\n",
       "<style scoped>\n",
       "    .dataframe tbody tr th:only-of-type {\n",
       "        vertical-align: middle;\n",
       "    }\n",
       "\n",
       "    .dataframe tbody tr th {\n",
       "        vertical-align: top;\n",
       "    }\n",
       "\n",
       "    .dataframe thead th {\n",
       "        text-align: right;\n",
       "    }\n",
       "</style>\n",
       "<table border=\"1\" class=\"dataframe\">\n",
       "  <thead>\n",
       "    <tr style=\"text-align: right;\">\n",
       "      <th></th>\n",
       "      <th>Date</th>\n",
       "      <th>Open</th>\n",
       "      <th>High</th>\n",
       "      <th>Low</th>\n",
       "      <th>Close</th>\n",
       "      <th>Volume</th>\n",
       "      <th>Adj Close</th>\n",
       "    </tr>\n",
       "  </thead>\n",
       "  <tbody>\n",
       "    <tr>\n",
       "      <th>1988</th>\n",
       "      <td>2008-08-08</td>\n",
       "      <td>11432.089844</td>\n",
       "      <td>11759.959961</td>\n",
       "      <td>11388.040039</td>\n",
       "      <td>11734.320312</td>\n",
       "      <td>212830000</td>\n",
       "      <td>11734.320312</td>\n",
       "    </tr>\n",
       "    <tr>\n",
       "      <th>1987</th>\n",
       "      <td>2008-08-11</td>\n",
       "      <td>11729.669922</td>\n",
       "      <td>11867.110352</td>\n",
       "      <td>11675.530273</td>\n",
       "      <td>11782.349609</td>\n",
       "      <td>183190000</td>\n",
       "      <td>11782.349609</td>\n",
       "    </tr>\n",
       "    <tr>\n",
       "      <th>1986</th>\n",
       "      <td>2008-08-12</td>\n",
       "      <td>11781.700195</td>\n",
       "      <td>11782.349609</td>\n",
       "      <td>11601.519531</td>\n",
       "      <td>11642.469727</td>\n",
       "      <td>173590000</td>\n",
       "      <td>11642.469727</td>\n",
       "    </tr>\n",
       "    <tr>\n",
       "      <th>1985</th>\n",
       "      <td>2008-08-13</td>\n",
       "      <td>11632.809570</td>\n",
       "      <td>11633.780273</td>\n",
       "      <td>11453.339844</td>\n",
       "      <td>11532.959961</td>\n",
       "      <td>182550000</td>\n",
       "      <td>11532.959961</td>\n",
       "    </tr>\n",
       "    <tr>\n",
       "      <th>1984</th>\n",
       "      <td>2008-08-14</td>\n",
       "      <td>11532.070312</td>\n",
       "      <td>11718.280273</td>\n",
       "      <td>11450.889648</td>\n",
       "      <td>11615.929688</td>\n",
       "      <td>159790000</td>\n",
       "      <td>11615.929688</td>\n",
       "    </tr>\n",
       "  </tbody>\n",
       "</table>\n",
       "</div>"
      ],
      "text/plain": [
       "            Date          Open          High           Low         Close  \\\n",
       "1988  2008-08-08  11432.089844  11759.959961  11388.040039  11734.320312   \n",
       "1987  2008-08-11  11729.669922  11867.110352  11675.530273  11782.349609   \n",
       "1986  2008-08-12  11781.700195  11782.349609  11601.519531  11642.469727   \n",
       "1985  2008-08-13  11632.809570  11633.780273  11453.339844  11532.959961   \n",
       "1984  2008-08-14  11532.070312  11718.280273  11450.889648  11615.929688   \n",
       "\n",
       "         Volume     Adj Close  \n",
       "1988  212830000  11734.320312  \n",
       "1987  183190000  11782.349609  \n",
       "1986  173590000  11642.469727  \n",
       "1985  182550000  11532.959961  \n",
       "1984  159790000  11615.929688  "
      ]
     },
     "execution_count": 59,
     "metadata": {},
     "output_type": "execute_result"
    }
   ],
   "source": [
    "df.sort_values(by='Date', ascending=True).head()"
   ]
  },
  {
   "cell_type": "markdown",
   "metadata": {
    "papermill": {
     "duration": 0.102767,
     "end_time": "2021-01-23T09:51:09.652649",
     "exception": false,
     "start_time": "2021-01-23T09:51:09.549882",
     "status": "completed"
    },
    "tags": []
   },
   "source": [
    "<hr>\n",
    "\n",
    "### df.sort_index()\n",
    "This code sorts from small to larger according to the DataFrame index."
   ]
  },
  {
   "cell_type": "code",
   "execution_count": 60,
   "metadata": {
    "execution": {
     "iopub.execute_input": "2021-01-23T09:51:09.859803Z",
     "iopub.status.busy": "2021-01-23T09:51:09.859123Z",
     "iopub.status.idle": "2021-01-23T09:51:09.873207Z",
     "shell.execute_reply": "2021-01-23T09:51:09.872660Z"
    },
    "papermill": {
     "duration": 0.118798,
     "end_time": "2021-01-23T09:51:09.873314",
     "exception": false,
     "start_time": "2021-01-23T09:51:09.754516",
     "status": "completed"
    },
    "tags": []
   },
   "outputs": [
    {
     "data": {
      "text/html": [
       "<div>\n",
       "<style scoped>\n",
       "    .dataframe tbody tr th:only-of-type {\n",
       "        vertical-align: middle;\n",
       "    }\n",
       "\n",
       "    .dataframe tbody tr th {\n",
       "        vertical-align: top;\n",
       "    }\n",
       "\n",
       "    .dataframe thead th {\n",
       "        text-align: right;\n",
       "    }\n",
       "</style>\n",
       "<table border=\"1\" class=\"dataframe\">\n",
       "  <thead>\n",
       "    <tr style=\"text-align: right;\">\n",
       "      <th></th>\n",
       "      <th>Date</th>\n",
       "      <th>Open</th>\n",
       "      <th>High</th>\n",
       "      <th>Low</th>\n",
       "      <th>Close</th>\n",
       "      <th>Volume</th>\n",
       "      <th>Adj Close</th>\n",
       "    </tr>\n",
       "  </thead>\n",
       "  <tbody>\n",
       "    <tr>\n",
       "      <th>0</th>\n",
       "      <td>2016-07-01</td>\n",
       "      <td>17924.240234</td>\n",
       "      <td>18002.380859</td>\n",
       "      <td>17916.910156</td>\n",
       "      <td>17949.369141</td>\n",
       "      <td>82160000</td>\n",
       "      <td>17949.369141</td>\n",
       "    </tr>\n",
       "    <tr>\n",
       "      <th>1</th>\n",
       "      <td>2016-06-30</td>\n",
       "      <td>17712.759766</td>\n",
       "      <td>17930.609375</td>\n",
       "      <td>17711.800781</td>\n",
       "      <td>17929.990234</td>\n",
       "      <td>133030000</td>\n",
       "      <td>17929.990234</td>\n",
       "    </tr>\n",
       "    <tr>\n",
       "      <th>2</th>\n",
       "      <td>2016-06-29</td>\n",
       "      <td>17456.019531</td>\n",
       "      <td>17704.509766</td>\n",
       "      <td>17456.019531</td>\n",
       "      <td>17694.679688</td>\n",
       "      <td>106380000</td>\n",
       "      <td>17694.679688</td>\n",
       "    </tr>\n",
       "    <tr>\n",
       "      <th>3</th>\n",
       "      <td>2016-06-28</td>\n",
       "      <td>17190.509766</td>\n",
       "      <td>17409.720703</td>\n",
       "      <td>17190.509766</td>\n",
       "      <td>17409.720703</td>\n",
       "      <td>112190000</td>\n",
       "      <td>17409.720703</td>\n",
       "    </tr>\n",
       "    <tr>\n",
       "      <th>4</th>\n",
       "      <td>2016-06-27</td>\n",
       "      <td>17355.210938</td>\n",
       "      <td>17355.210938</td>\n",
       "      <td>17063.080078</td>\n",
       "      <td>17140.240234</td>\n",
       "      <td>138740000</td>\n",
       "      <td>17140.240234</td>\n",
       "    </tr>\n",
       "  </tbody>\n",
       "</table>\n",
       "</div>"
      ],
      "text/plain": [
       "         Date          Open          High           Low         Close  \\\n",
       "0  2016-07-01  17924.240234  18002.380859  17916.910156  17949.369141   \n",
       "1  2016-06-30  17712.759766  17930.609375  17711.800781  17929.990234   \n",
       "2  2016-06-29  17456.019531  17704.509766  17456.019531  17694.679688   \n",
       "3  2016-06-28  17190.509766  17409.720703  17190.509766  17409.720703   \n",
       "4  2016-06-27  17355.210938  17355.210938  17063.080078  17140.240234   \n",
       "\n",
       "      Volume     Adj Close  \n",
       "0   82160000  17949.369141  \n",
       "1  133030000  17929.990234  \n",
       "2  106380000  17694.679688  \n",
       "3  112190000  17409.720703  \n",
       "4  138740000  17140.240234  "
      ]
     },
     "execution_count": 60,
     "metadata": {},
     "output_type": "execute_result"
    }
   ],
   "source": [
    "df.sort_index().head()"
   ]
  },
  {
   "cell_type": "markdown",
   "metadata": {
    "papermill": {
     "duration": 0.115435,
     "end_time": "2021-01-23T09:51:10.094511",
     "exception": false,
     "start_time": "2021-01-23T09:51:09.979076",
     "status": "completed"
    },
    "tags": []
   },
   "source": [
    "<hr>\n",
    "\n",
    "# 9. Rename & Defining New & Change columns"
   ]
  },
  {
   "cell_type": "markdown",
   "metadata": {
    "papermill": {
     "duration": 0.101476,
     "end_time": "2021-01-23T09:51:10.298228",
     "exception": false,
     "start_time": "2021-01-23T09:51:10.196752",
     "status": "completed"
    },
    "tags": []
   },
   "source": [
    "<hr>\n",
    "\n",
    "### df.rename(columns={'columnName':newColumnName'})"
   ]
  },
  {
   "cell_type": "code",
   "execution_count": 61,
   "metadata": {
    "execution": {
     "iopub.execute_input": "2021-01-23T09:51:10.507047Z",
     "iopub.status.busy": "2021-01-23T09:51:10.506418Z",
     "iopub.status.idle": "2021-01-23T09:51:10.520818Z",
     "shell.execute_reply": "2021-01-23T09:51:10.520178Z"
    },
    "papermill": {
     "duration": 0.119649,
     "end_time": "2021-01-23T09:51:10.520926",
     "exception": false,
     "start_time": "2021-01-23T09:51:10.401277",
     "status": "completed"
    },
    "tags": []
   },
   "outputs": [
    {
     "data": {
      "text/html": [
       "<div>\n",
       "<style scoped>\n",
       "    .dataframe tbody tr th:only-of-type {\n",
       "        vertical-align: middle;\n",
       "    }\n",
       "\n",
       "    .dataframe tbody tr th {\n",
       "        vertical-align: top;\n",
       "    }\n",
       "\n",
       "    .dataframe thead th {\n",
       "        text-align: right;\n",
       "    }\n",
       "</style>\n",
       "<table border=\"1\" class=\"dataframe\">\n",
       "  <thead>\n",
       "    <tr style=\"text-align: right;\">\n",
       "      <th></th>\n",
       "      <th>Date</th>\n",
       "      <th>Open</th>\n",
       "      <th>High</th>\n",
       "      <th>Low</th>\n",
       "      <th>Close</th>\n",
       "      <th>Volume</th>\n",
       "      <th>Adjclose</th>\n",
       "    </tr>\n",
       "  </thead>\n",
       "  <tbody>\n",
       "    <tr>\n",
       "      <th>0</th>\n",
       "      <td>2016-07-01</td>\n",
       "      <td>17924.240234</td>\n",
       "      <td>18002.380859</td>\n",
       "      <td>17916.910156</td>\n",
       "      <td>17949.369141</td>\n",
       "      <td>82160000</td>\n",
       "      <td>17949.369141</td>\n",
       "    </tr>\n",
       "    <tr>\n",
       "      <th>1</th>\n",
       "      <td>2016-06-30</td>\n",
       "      <td>17712.759766</td>\n",
       "      <td>17930.609375</td>\n",
       "      <td>17711.800781</td>\n",
       "      <td>17929.990234</td>\n",
       "      <td>133030000</td>\n",
       "      <td>17929.990234</td>\n",
       "    </tr>\n",
       "    <tr>\n",
       "      <th>2</th>\n",
       "      <td>2016-06-29</td>\n",
       "      <td>17456.019531</td>\n",
       "      <td>17704.509766</td>\n",
       "      <td>17456.019531</td>\n",
       "      <td>17694.679688</td>\n",
       "      <td>106380000</td>\n",
       "      <td>17694.679688</td>\n",
       "    </tr>\n",
       "    <tr>\n",
       "      <th>3</th>\n",
       "      <td>2016-06-28</td>\n",
       "      <td>17190.509766</td>\n",
       "      <td>17409.720703</td>\n",
       "      <td>17190.509766</td>\n",
       "      <td>17409.720703</td>\n",
       "      <td>112190000</td>\n",
       "      <td>17409.720703</td>\n",
       "    </tr>\n",
       "    <tr>\n",
       "      <th>4</th>\n",
       "      <td>2016-06-27</td>\n",
       "      <td>17355.210938</td>\n",
       "      <td>17355.210938</td>\n",
       "      <td>17063.080078</td>\n",
       "      <td>17140.240234</td>\n",
       "      <td>138740000</td>\n",
       "      <td>17140.240234</td>\n",
       "    </tr>\n",
       "  </tbody>\n",
       "</table>\n",
       "</div>"
      ],
      "text/plain": [
       "         Date          Open          High           Low         Close  \\\n",
       "0  2016-07-01  17924.240234  18002.380859  17916.910156  17949.369141   \n",
       "1  2016-06-30  17712.759766  17930.609375  17711.800781  17929.990234   \n",
       "2  2016-06-29  17456.019531  17704.509766  17456.019531  17694.679688   \n",
       "3  2016-06-28  17190.509766  17409.720703  17190.509766  17409.720703   \n",
       "4  2016-06-27  17355.210938  17355.210938  17063.080078  17140.240234   \n",
       "\n",
       "      Volume      Adjclose  \n",
       "0   82160000  17949.369141  \n",
       "1  133030000  17929.990234  \n",
       "2  106380000  17694.679688  \n",
       "3  112190000  17409.720703  \n",
       "4  138740000  17140.240234  "
      ]
     },
     "execution_count": 61,
     "metadata": {},
     "output_type": "execute_result"
    }
   ],
   "source": [
    "df.rename(columns= {'Adj Close' : 'Adjclose'}).head()"
   ]
  },
  {
   "cell_type": "markdown",
   "metadata": {
    "papermill": {
     "duration": 0.10356,
     "end_time": "2021-01-23T09:51:10.727719",
     "exception": false,
     "start_time": "2021-01-23T09:51:10.624159",
     "status": "completed"
    },
    "tags": []
   },
   "source": [
    "<hr>\n",
    "\n",
    "### Defining New Column\n",
    "Create a new column"
   ]
  },
  {
   "cell_type": "code",
   "execution_count": 62,
   "metadata": {
    "execution": {
     "iopub.execute_input": "2021-01-23T09:51:10.937537Z",
     "iopub.status.busy": "2021-01-23T09:51:10.936895Z",
     "iopub.status.idle": "2021-01-23T09:51:10.952700Z",
     "shell.execute_reply": "2021-01-23T09:51:10.953225Z"
    },
    "papermill": {
     "duration": 0.122291,
     "end_time": "2021-01-23T09:51:10.953383",
     "exception": false,
     "start_time": "2021-01-23T09:51:10.831092",
     "status": "completed"
    },
    "tags": []
   },
   "outputs": [
    {
     "data": {
      "text/html": [
       "<div>\n",
       "<style scoped>\n",
       "    .dataframe tbody tr th:only-of-type {\n",
       "        vertical-align: middle;\n",
       "    }\n",
       "\n",
       "    .dataframe tbody tr th {\n",
       "        vertical-align: top;\n",
       "    }\n",
       "\n",
       "    .dataframe thead th {\n",
       "        text-align: right;\n",
       "    }\n",
       "</style>\n",
       "<table border=\"1\" class=\"dataframe\">\n",
       "  <thead>\n",
       "    <tr style=\"text-align: right;\">\n",
       "      <th></th>\n",
       "      <th>Date</th>\n",
       "      <th>Open</th>\n",
       "      <th>High</th>\n",
       "      <th>Low</th>\n",
       "      <th>Close</th>\n",
       "      <th>Volume</th>\n",
       "      <th>Adj Close</th>\n",
       "      <th>Difference</th>\n",
       "    </tr>\n",
       "  </thead>\n",
       "  <tbody>\n",
       "    <tr>\n",
       "      <th>0</th>\n",
       "      <td>2016-07-01</td>\n",
       "      <td>17924.240234</td>\n",
       "      <td>18002.380859</td>\n",
       "      <td>17916.910156</td>\n",
       "      <td>17949.369141</td>\n",
       "      <td>82160000</td>\n",
       "      <td>17949.369141</td>\n",
       "      <td>85.470703</td>\n",
       "    </tr>\n",
       "    <tr>\n",
       "      <th>1</th>\n",
       "      <td>2016-06-30</td>\n",
       "      <td>17712.759766</td>\n",
       "      <td>17930.609375</td>\n",
       "      <td>17711.800781</td>\n",
       "      <td>17929.990234</td>\n",
       "      <td>133030000</td>\n",
       "      <td>17929.990234</td>\n",
       "      <td>218.808594</td>\n",
       "    </tr>\n",
       "    <tr>\n",
       "      <th>2</th>\n",
       "      <td>2016-06-29</td>\n",
       "      <td>17456.019531</td>\n",
       "      <td>17704.509766</td>\n",
       "      <td>17456.019531</td>\n",
       "      <td>17694.679688</td>\n",
       "      <td>106380000</td>\n",
       "      <td>17694.679688</td>\n",
       "      <td>248.490235</td>\n",
       "    </tr>\n",
       "    <tr>\n",
       "      <th>3</th>\n",
       "      <td>2016-06-28</td>\n",
       "      <td>17190.509766</td>\n",
       "      <td>17409.720703</td>\n",
       "      <td>17190.509766</td>\n",
       "      <td>17409.720703</td>\n",
       "      <td>112190000</td>\n",
       "      <td>17409.720703</td>\n",
       "      <td>219.210937</td>\n",
       "    </tr>\n",
       "    <tr>\n",
       "      <th>4</th>\n",
       "      <td>2016-06-27</td>\n",
       "      <td>17355.210938</td>\n",
       "      <td>17355.210938</td>\n",
       "      <td>17063.080078</td>\n",
       "      <td>17140.240234</td>\n",
       "      <td>138740000</td>\n",
       "      <td>17140.240234</td>\n",
       "      <td>292.130860</td>\n",
       "    </tr>\n",
       "  </tbody>\n",
       "</table>\n",
       "</div>"
      ],
      "text/plain": [
       "         Date          Open          High           Low         Close  \\\n",
       "0  2016-07-01  17924.240234  18002.380859  17916.910156  17949.369141   \n",
       "1  2016-06-30  17712.759766  17930.609375  17711.800781  17929.990234   \n",
       "2  2016-06-29  17456.019531  17704.509766  17456.019531  17694.679688   \n",
       "3  2016-06-28  17190.509766  17409.720703  17190.509766  17409.720703   \n",
       "4  2016-06-27  17355.210938  17355.210938  17063.080078  17140.240234   \n",
       "\n",
       "      Volume     Adj Close  Difference  \n",
       "0   82160000  17949.369141   85.470703  \n",
       "1  133030000  17929.990234  218.808594  \n",
       "2  106380000  17694.679688  248.490235  \n",
       "3  112190000  17409.720703  219.210937  \n",
       "4  138740000  17140.240234  292.130860  "
      ]
     },
     "execution_count": 62,
     "metadata": {},
     "output_type": "execute_result"
    }
   ],
   "source": [
    "df[\"Difference\"] = df.High - df.Low\n",
    "df.head()"
   ]
  },
  {
   "cell_type": "markdown",
   "metadata": {
    "papermill": {
     "duration": 0.103148,
     "end_time": "2021-01-23T09:51:11.162053",
     "exception": false,
     "start_time": "2021-01-23T09:51:11.058905",
     "status": "completed"
    },
    "tags": []
   },
   "source": [
    "<hr>\n",
    "\n",
    "### Change Index Name\n",
    "Change index name to new index name"
   ]
  },
  {
   "cell_type": "code",
   "execution_count": 63,
   "metadata": {
    "execution": {
     "iopub.execute_input": "2021-01-23T09:51:11.390702Z",
     "iopub.status.busy": "2021-01-23T09:51:11.389700Z",
     "iopub.status.idle": "2021-01-23T09:51:11.410874Z",
     "shell.execute_reply": "2021-01-23T09:51:11.411583Z"
    },
    "papermill": {
     "duration": 0.146617,
     "end_time": "2021-01-23T09:51:11.411797",
     "exception": false,
     "start_time": "2021-01-23T09:51:11.265180",
     "status": "completed"
    },
    "tags": []
   },
   "outputs": [
    {
     "name": "stdout",
     "output_type": "stream",
     "text": [
      "None\n"
     ]
    },
    {
     "data": {
      "text/html": [
       "<div>\n",
       "<style scoped>\n",
       "    .dataframe tbody tr th:only-of-type {\n",
       "        vertical-align: middle;\n",
       "    }\n",
       "\n",
       "    .dataframe tbody tr th {\n",
       "        vertical-align: top;\n",
       "    }\n",
       "\n",
       "    .dataframe thead th {\n",
       "        text-align: right;\n",
       "    }\n",
       "</style>\n",
       "<table border=\"1\" class=\"dataframe\">\n",
       "  <thead>\n",
       "    <tr style=\"text-align: right;\">\n",
       "      <th></th>\n",
       "      <th>Date</th>\n",
       "      <th>Open</th>\n",
       "      <th>High</th>\n",
       "      <th>Low</th>\n",
       "      <th>Close</th>\n",
       "      <th>Volume</th>\n",
       "      <th>Adj Close</th>\n",
       "      <th>Difference</th>\n",
       "    </tr>\n",
       "    <tr>\n",
       "      <th>index_name</th>\n",
       "      <th></th>\n",
       "      <th></th>\n",
       "      <th></th>\n",
       "      <th></th>\n",
       "      <th></th>\n",
       "      <th></th>\n",
       "      <th></th>\n",
       "      <th></th>\n",
       "    </tr>\n",
       "  </thead>\n",
       "  <tbody>\n",
       "    <tr>\n",
       "      <th>0</th>\n",
       "      <td>2016-07-01</td>\n",
       "      <td>17924.240234</td>\n",
       "      <td>18002.380859</td>\n",
       "      <td>17916.910156</td>\n",
       "      <td>17949.369141</td>\n",
       "      <td>82160000</td>\n",
       "      <td>17949.369141</td>\n",
       "      <td>85.470703</td>\n",
       "    </tr>\n",
       "    <tr>\n",
       "      <th>1</th>\n",
       "      <td>2016-06-30</td>\n",
       "      <td>17712.759766</td>\n",
       "      <td>17930.609375</td>\n",
       "      <td>17711.800781</td>\n",
       "      <td>17929.990234</td>\n",
       "      <td>133030000</td>\n",
       "      <td>17929.990234</td>\n",
       "      <td>218.808594</td>\n",
       "    </tr>\n",
       "    <tr>\n",
       "      <th>2</th>\n",
       "      <td>2016-06-29</td>\n",
       "      <td>17456.019531</td>\n",
       "      <td>17704.509766</td>\n",
       "      <td>17456.019531</td>\n",
       "      <td>17694.679688</td>\n",
       "      <td>106380000</td>\n",
       "      <td>17694.679688</td>\n",
       "      <td>248.490235</td>\n",
       "    </tr>\n",
       "    <tr>\n",
       "      <th>3</th>\n",
       "      <td>2016-06-28</td>\n",
       "      <td>17190.509766</td>\n",
       "      <td>17409.720703</td>\n",
       "      <td>17190.509766</td>\n",
       "      <td>17409.720703</td>\n",
       "      <td>112190000</td>\n",
       "      <td>17409.720703</td>\n",
       "      <td>219.210937</td>\n",
       "    </tr>\n",
       "    <tr>\n",
       "      <th>4</th>\n",
       "      <td>2016-06-27</td>\n",
       "      <td>17355.210938</td>\n",
       "      <td>17355.210938</td>\n",
       "      <td>17063.080078</td>\n",
       "      <td>17140.240234</td>\n",
       "      <td>138740000</td>\n",
       "      <td>17140.240234</td>\n",
       "      <td>292.130860</td>\n",
       "    </tr>\n",
       "  </tbody>\n",
       "</table>\n",
       "</div>"
      ],
      "text/plain": [
       "                  Date          Open          High           Low  \\\n",
       "index_name                                                         \n",
       "0           2016-07-01  17924.240234  18002.380859  17916.910156   \n",
       "1           2016-06-30  17712.759766  17930.609375  17711.800781   \n",
       "2           2016-06-29  17456.019531  17704.509766  17456.019531   \n",
       "3           2016-06-28  17190.509766  17409.720703  17190.509766   \n",
       "4           2016-06-27  17355.210938  17355.210938  17063.080078   \n",
       "\n",
       "                   Close     Volume     Adj Close  Difference  \n",
       "index_name                                                     \n",
       "0           17949.369141   82160000  17949.369141   85.470703  \n",
       "1           17929.990234  133030000  17929.990234  218.808594  \n",
       "2           17694.679688  106380000  17694.679688  248.490235  \n",
       "3           17409.720703  112190000  17409.720703  219.210937  \n",
       "4           17140.240234  138740000  17140.240234  292.130860  "
      ]
     },
     "execution_count": 63,
     "metadata": {},
     "output_type": "execute_result"
    }
   ],
   "source": [
    "print(df.index.name)\n",
    "df.index.name = \"index_name\"\n",
    "df.head()"
   ]
  },
  {
   "cell_type": "markdown",
   "metadata": {
    "papermill": {
     "duration": 0.1371,
     "end_time": "2021-01-23T09:51:11.691082",
     "exception": false,
     "start_time": "2021-01-23T09:51:11.553982",
     "status": "completed"
    },
    "tags": []
   },
   "source": [
    "<hr>\n",
    "\n",
    "## 10. Drop Data"
   ]
  },
  {
   "cell_type": "markdown",
   "metadata": {
    "papermill": {
     "duration": 0.107329,
     "end_time": "2021-01-23T09:51:11.904255",
     "exception": false,
     "start_time": "2021-01-23T09:51:11.796926",
     "status": "completed"
    },
    "tags": []
   },
   "source": [
    "<hr>\n",
    "\n",
    "### df.drop(columns=['columnName']"
   ]
  },
  {
   "cell_type": "code",
   "execution_count": 64,
   "metadata": {
    "execution": {
     "iopub.execute_input": "2021-01-23T09:51:12.141258Z",
     "iopub.status.busy": "2021-01-23T09:51:12.139987Z",
     "iopub.status.idle": "2021-01-23T09:51:12.154030Z",
     "shell.execute_reply": "2021-01-23T09:51:12.154560Z"
    },
    "papermill": {
     "duration": 0.130052,
     "end_time": "2021-01-23T09:51:12.154703",
     "exception": false,
     "start_time": "2021-01-23T09:51:12.024651",
     "status": "completed"
    },
    "tags": []
   },
   "outputs": [
    {
     "data": {
      "text/html": [
       "<div>\n",
       "<style scoped>\n",
       "    .dataframe tbody tr th:only-of-type {\n",
       "        vertical-align: middle;\n",
       "    }\n",
       "\n",
       "    .dataframe tbody tr th {\n",
       "        vertical-align: top;\n",
       "    }\n",
       "\n",
       "    .dataframe thead th {\n",
       "        text-align: right;\n",
       "    }\n",
       "</style>\n",
       "<table border=\"1\" class=\"dataframe\">\n",
       "  <thead>\n",
       "    <tr style=\"text-align: right;\">\n",
       "      <th></th>\n",
       "      <th>Date</th>\n",
       "      <th>Open</th>\n",
       "      <th>High</th>\n",
       "      <th>Low</th>\n",
       "      <th>Close</th>\n",
       "      <th>Volume</th>\n",
       "      <th>Difference</th>\n",
       "    </tr>\n",
       "    <tr>\n",
       "      <th>index_name</th>\n",
       "      <th></th>\n",
       "      <th></th>\n",
       "      <th></th>\n",
       "      <th></th>\n",
       "      <th></th>\n",
       "      <th></th>\n",
       "      <th></th>\n",
       "    </tr>\n",
       "  </thead>\n",
       "  <tbody>\n",
       "    <tr>\n",
       "      <th>0</th>\n",
       "      <td>2016-07-01</td>\n",
       "      <td>17924.240234</td>\n",
       "      <td>18002.380859</td>\n",
       "      <td>17916.910156</td>\n",
       "      <td>17949.369141</td>\n",
       "      <td>82160000</td>\n",
       "      <td>85.470703</td>\n",
       "    </tr>\n",
       "    <tr>\n",
       "      <th>1</th>\n",
       "      <td>2016-06-30</td>\n",
       "      <td>17712.759766</td>\n",
       "      <td>17930.609375</td>\n",
       "      <td>17711.800781</td>\n",
       "      <td>17929.990234</td>\n",
       "      <td>133030000</td>\n",
       "      <td>218.808594</td>\n",
       "    </tr>\n",
       "    <tr>\n",
       "      <th>2</th>\n",
       "      <td>2016-06-29</td>\n",
       "      <td>17456.019531</td>\n",
       "      <td>17704.509766</td>\n",
       "      <td>17456.019531</td>\n",
       "      <td>17694.679688</td>\n",
       "      <td>106380000</td>\n",
       "      <td>248.490235</td>\n",
       "    </tr>\n",
       "    <tr>\n",
       "      <th>3</th>\n",
       "      <td>2016-06-28</td>\n",
       "      <td>17190.509766</td>\n",
       "      <td>17409.720703</td>\n",
       "      <td>17190.509766</td>\n",
       "      <td>17409.720703</td>\n",
       "      <td>112190000</td>\n",
       "      <td>219.210937</td>\n",
       "    </tr>\n",
       "    <tr>\n",
       "      <th>4</th>\n",
       "      <td>2016-06-27</td>\n",
       "      <td>17355.210938</td>\n",
       "      <td>17355.210938</td>\n",
       "      <td>17063.080078</td>\n",
       "      <td>17140.240234</td>\n",
       "      <td>138740000</td>\n",
       "      <td>292.130860</td>\n",
       "    </tr>\n",
       "  </tbody>\n",
       "</table>\n",
       "</div>"
      ],
      "text/plain": [
       "                  Date          Open          High           Low  \\\n",
       "index_name                                                         \n",
       "0           2016-07-01  17924.240234  18002.380859  17916.910156   \n",
       "1           2016-06-30  17712.759766  17930.609375  17711.800781   \n",
       "2           2016-06-29  17456.019531  17704.509766  17456.019531   \n",
       "3           2016-06-28  17190.509766  17409.720703  17190.509766   \n",
       "4           2016-06-27  17355.210938  17355.210938  17063.080078   \n",
       "\n",
       "                   Close     Volume  Difference  \n",
       "index_name                                       \n",
       "0           17949.369141   82160000   85.470703  \n",
       "1           17929.990234  133030000  218.808594  \n",
       "2           17694.679688  106380000  248.490235  \n",
       "3           17409.720703  112190000  219.210937  \n",
       "4           17140.240234  138740000  292.130860  "
      ]
     },
     "execution_count": 64,
     "metadata": {},
     "output_type": "execute_result"
    }
   ],
   "source": [
    "df.drop(columns=['Adj Close']).head()"
   ]
  },
  {
   "cell_type": "markdown",
   "metadata": {
    "papermill": {
     "duration": 0.106792,
     "end_time": "2021-01-23T09:51:12.366988",
     "exception": false,
     "start_time": "2021-01-23T09:51:12.260196",
     "status": "completed"
    },
    "tags": []
   },
   "source": [
    "<hr>\n",
    "\n",
    "### mySeries.drop(['a'])\n",
    "This code allows us to delete the value specified in the series."
   ]
  },
  {
   "cell_type": "code",
   "execution_count": 65,
   "metadata": {
    "execution": {
     "iopub.execute_input": "2021-01-23T09:51:12.592326Z",
     "iopub.status.busy": "2021-01-23T09:51:12.591249Z",
     "iopub.status.idle": "2021-01-23T09:51:12.599195Z",
     "shell.execute_reply": "2021-01-23T09:51:12.599755Z"
    },
    "papermill": {
     "duration": 0.120676,
     "end_time": "2021-01-23T09:51:12.599917",
     "exception": false,
     "start_time": "2021-01-23T09:51:12.479241",
     "status": "completed"
    },
    "tags": []
   },
   "outputs": [
    {
     "data": {
      "text/plain": [
       "b   -5\n",
       "c    7\n",
       "d    4\n",
       "dtype: int64"
      ]
     },
     "execution_count": 65,
     "metadata": {},
     "output_type": "execute_result"
    }
   ],
   "source": [
    "Series.drop(['a'])"
   ]
  },
  {
   "cell_type": "markdown",
   "metadata": {
    "papermill": {
     "duration": 0.105265,
     "end_time": "2021-01-23T09:51:12.813066",
     "exception": false,
     "start_time": "2021-01-23T09:51:12.707801",
     "status": "completed"
    },
    "tags": []
   },
   "source": [
    "<hr>\n",
    "\n",
    "## 11. Convert Data Types"
   ]
  },
  {
   "cell_type": "markdown",
   "metadata": {
    "papermill": {
     "duration": 0.108186,
     "end_time": "2021-01-23T09:51:13.027815",
     "exception": false,
     "start_time": "2021-01-23T09:51:12.919629",
     "status": "completed"
    },
    "tags": []
   },
   "source": [
    "<hr>\n",
    "\n",
    "### df.dtypes\n",
    "This code shows what data type of columns are. Boolean,int,float,object(String),data and categorical."
   ]
  },
  {
   "cell_type": "code",
   "execution_count": 66,
   "metadata": {
    "execution": {
     "iopub.execute_input": "2021-01-23T09:51:13.245897Z",
     "iopub.status.busy": "2021-01-23T09:51:13.244934Z",
     "iopub.status.idle": "2021-01-23T09:51:13.251936Z",
     "shell.execute_reply": "2021-01-23T09:51:13.252450Z"
    },
    "papermill": {
     "duration": 0.11728,
     "end_time": "2021-01-23T09:51:13.252599",
     "exception": false,
     "start_time": "2021-01-23T09:51:13.135319",
     "status": "completed"
    },
    "tags": []
   },
   "outputs": [
    {
     "data": {
      "text/plain": [
       "Date           object\n",
       "Open          float64\n",
       "High          float64\n",
       "Low           float64\n",
       "Close         float64\n",
       "Volume          int64\n",
       "Adj Close     float64\n",
       "Difference    float64\n",
       "dtype: object"
      ]
     },
     "execution_count": 66,
     "metadata": {},
     "output_type": "execute_result"
    }
   ],
   "source": [
    "df.dtypes"
   ]
  },
  {
   "cell_type": "markdown",
   "metadata": {
    "papermill": {
     "duration": 0.107742,
     "end_time": "2021-01-23T09:51:13.467002",
     "exception": false,
     "start_time": "2021-01-23T09:51:13.359260",
     "status": "completed"
    },
    "tags": []
   },
   "source": [
    "<hr>\n",
    "\n",
    "### df['columnName'] = df['columnName'].astype('dataType') \n",
    "This code convert the column we specify into the data type we specify."
   ]
  },
  {
   "cell_type": "code",
   "execution_count": 67,
   "metadata": {
    "execution": {
     "iopub.execute_input": "2021-01-23T09:51:13.686767Z",
     "iopub.status.busy": "2021-01-23T09:51:13.685784Z",
     "iopub.status.idle": "2021-01-23T09:51:13.695996Z",
     "shell.execute_reply": "2021-01-23T09:51:13.696546Z"
    },
    "papermill": {
     "duration": 0.122009,
     "end_time": "2021-01-23T09:51:13.696695",
     "exception": false,
     "start_time": "2021-01-23T09:51:13.574686",
     "status": "completed"
    },
    "tags": []
   },
   "outputs": [
    {
     "data": {
      "text/plain": [
       "CategoricalDtype(categories=['2008-08-08', '2008-08-11', '2008-08-12', '2008-08-13',\n",
       "                  '2008-08-14', '2008-08-15', '2008-08-18', '2008-08-19',\n",
       "                  '2008-08-20', '2008-08-21',\n",
       "                  ...\n",
       "                  '2016-06-20', '2016-06-21', '2016-06-22', '2016-06-23',\n",
       "                  '2016-06-24', '2016-06-27', '2016-06-28', '2016-06-29',\n",
       "                  '2016-06-30', '2016-07-01'],\n",
       "                 ordered=False)"
      ]
     },
     "execution_count": 67,
     "metadata": {},
     "output_type": "execute_result"
    }
   ],
   "source": [
    "df.Date.astype('category').dtypes\n"
   ]
  },
  {
   "cell_type": "code",
   "execution_count": 68,
   "metadata": {
    "execution": {
     "iopub.execute_input": "2021-01-23T09:51:13.926550Z",
     "iopub.status.busy": "2021-01-23T09:51:13.925549Z",
     "iopub.status.idle": "2021-01-23T09:51:13.929657Z",
     "shell.execute_reply": "2021-01-23T09:51:13.930110Z"
    },
    "papermill": {
     "duration": 0.126622,
     "end_time": "2021-01-23T09:51:13.930253",
     "exception": false,
     "start_time": "2021-01-23T09:51:13.803631",
     "status": "completed"
    },
    "tags": []
   },
   "outputs": [
    {
     "data": {
      "text/html": [
       "<div>\n",
       "<style scoped>\n",
       "    .dataframe tbody tr th:only-of-type {\n",
       "        vertical-align: middle;\n",
       "    }\n",
       "\n",
       "    .dataframe tbody tr th {\n",
       "        vertical-align: top;\n",
       "    }\n",
       "\n",
       "    .dataframe thead th {\n",
       "        text-align: right;\n",
       "    }\n",
       "</style>\n",
       "<table border=\"1\" class=\"dataframe\">\n",
       "  <thead>\n",
       "    <tr style=\"text-align: right;\">\n",
       "      <th></th>\n",
       "      <th>Date</th>\n",
       "      <th>Open</th>\n",
       "      <th>High</th>\n",
       "      <th>Low</th>\n",
       "      <th>Close</th>\n",
       "      <th>Volume</th>\n",
       "      <th>Adj Close</th>\n",
       "      <th>Difference</th>\n",
       "    </tr>\n",
       "    <tr>\n",
       "      <th>index_name</th>\n",
       "      <th></th>\n",
       "      <th></th>\n",
       "      <th></th>\n",
       "      <th></th>\n",
       "      <th></th>\n",
       "      <th></th>\n",
       "      <th></th>\n",
       "      <th></th>\n",
       "    </tr>\n",
       "  </thead>\n",
       "  <tbody>\n",
       "    <tr>\n",
       "      <th>0</th>\n",
       "      <td>2016-07-01</td>\n",
       "      <td>17924.240234</td>\n",
       "      <td>18002.380859</td>\n",
       "      <td>17916.910156</td>\n",
       "      <td>17949.369141</td>\n",
       "      <td>82160000</td>\n",
       "      <td>17949.369141</td>\n",
       "      <td>85.470703</td>\n",
       "    </tr>\n",
       "    <tr>\n",
       "      <th>1</th>\n",
       "      <td>2016-06-30</td>\n",
       "      <td>17712.759766</td>\n",
       "      <td>17930.609375</td>\n",
       "      <td>17711.800781</td>\n",
       "      <td>17929.990234</td>\n",
       "      <td>133030000</td>\n",
       "      <td>17929.990234</td>\n",
       "      <td>218.808594</td>\n",
       "    </tr>\n",
       "    <tr>\n",
       "      <th>2</th>\n",
       "      <td>2016-06-29</td>\n",
       "      <td>17456.019531</td>\n",
       "      <td>17704.509766</td>\n",
       "      <td>17456.019531</td>\n",
       "      <td>17694.679688</td>\n",
       "      <td>106380000</td>\n",
       "      <td>17694.679688</td>\n",
       "      <td>248.490235</td>\n",
       "    </tr>\n",
       "    <tr>\n",
       "      <th>3</th>\n",
       "      <td>2016-06-28</td>\n",
       "      <td>17190.509766</td>\n",
       "      <td>17409.720703</td>\n",
       "      <td>17190.509766</td>\n",
       "      <td>17409.720703</td>\n",
       "      <td>112190000</td>\n",
       "      <td>17409.720703</td>\n",
       "      <td>219.210937</td>\n",
       "    </tr>\n",
       "    <tr>\n",
       "      <th>4</th>\n",
       "      <td>2016-06-27</td>\n",
       "      <td>17355.210938</td>\n",
       "      <td>17355.210938</td>\n",
       "      <td>17063.080078</td>\n",
       "      <td>17140.240234</td>\n",
       "      <td>138740000</td>\n",
       "      <td>17140.240234</td>\n",
       "      <td>292.130860</td>\n",
       "    </tr>\n",
       "  </tbody>\n",
       "</table>\n",
       "</div>"
      ],
      "text/plain": [
       "                  Date          Open          High           Low  \\\n",
       "index_name                                                         \n",
       "0           2016-07-01  17924.240234  18002.380859  17916.910156   \n",
       "1           2016-06-30  17712.759766  17930.609375  17711.800781   \n",
       "2           2016-06-29  17456.019531  17704.509766  17456.019531   \n",
       "3           2016-06-28  17190.509766  17409.720703  17190.509766   \n",
       "4           2016-06-27  17355.210938  17355.210938  17063.080078   \n",
       "\n",
       "                   Close     Volume     Adj Close  Difference  \n",
       "index_name                                                     \n",
       "0           17949.369141   82160000  17949.369141   85.470703  \n",
       "1           17929.990234  133030000  17929.990234  218.808594  \n",
       "2           17694.679688  106380000  17694.679688  248.490235  \n",
       "3           17409.720703  112190000  17409.720703  219.210937  \n",
       "4           17140.240234  138740000  17140.240234  292.130860  "
      ]
     },
     "execution_count": 68,
     "metadata": {},
     "output_type": "execute_result"
    }
   ],
   "source": [
    "df.head()"
   ]
  },
  {
   "cell_type": "markdown",
   "metadata": {
    "papermill": {
     "duration": 0.126227,
     "end_time": "2021-01-23T09:51:14.172938",
     "exception": false,
     "start_time": "2021-01-23T09:51:14.046711",
     "status": "completed"
    },
    "tags": []
   },
   "source": [
    "<hr>\n",
    "\n",
    "### pd.melt(frame=dataFrameName,id_vars = 'columnName', value_vars= ['columnName']) \n",
    "This code is confusing, so lets look at the example."
   ]
  },
  {
   "cell_type": "code",
   "execution_count": 69,
   "metadata": {
    "execution": {
     "iopub.execute_input": "2021-01-23T09:51:14.392224Z",
     "iopub.status.busy": "2021-01-23T09:51:14.391222Z",
     "iopub.status.idle": "2021-01-23T09:51:14.406204Z",
     "shell.execute_reply": "2021-01-23T09:51:14.406728Z"
    },
    "papermill": {
     "duration": 0.126258,
     "end_time": "2021-01-23T09:51:14.406875",
     "exception": false,
     "start_time": "2021-01-23T09:51:14.280617",
     "status": "completed"
    },
    "tags": []
   },
   "outputs": [
    {
     "data": {
      "text/html": [
       "<div>\n",
       "<style scoped>\n",
       "    .dataframe tbody tr th:only-of-type {\n",
       "        vertical-align: middle;\n",
       "    }\n",
       "\n",
       "    .dataframe tbody tr th {\n",
       "        vertical-align: top;\n",
       "    }\n",
       "\n",
       "    .dataframe thead th {\n",
       "        text-align: right;\n",
       "    }\n",
       "</style>\n",
       "<table border=\"1\" class=\"dataframe\">\n",
       "  <thead>\n",
       "    <tr style=\"text-align: right;\">\n",
       "      <th></th>\n",
       "      <th>Date</th>\n",
       "      <th>variable</th>\n",
       "      <th>value</th>\n",
       "    </tr>\n",
       "  </thead>\n",
       "  <tbody>\n",
       "    <tr>\n",
       "      <th>0</th>\n",
       "      <td>2016-07-01</td>\n",
       "      <td>Low</td>\n",
       "      <td>17916.910156</td>\n",
       "    </tr>\n",
       "    <tr>\n",
       "      <th>1</th>\n",
       "      <td>2016-06-30</td>\n",
       "      <td>Low</td>\n",
       "      <td>17711.800781</td>\n",
       "    </tr>\n",
       "    <tr>\n",
       "      <th>2</th>\n",
       "      <td>2016-06-29</td>\n",
       "      <td>Low</td>\n",
       "      <td>17456.019531</td>\n",
       "    </tr>\n",
       "    <tr>\n",
       "      <th>3</th>\n",
       "      <td>2016-06-28</td>\n",
       "      <td>Low</td>\n",
       "      <td>17190.509766</td>\n",
       "    </tr>\n",
       "    <tr>\n",
       "      <th>4</th>\n",
       "      <td>2016-06-27</td>\n",
       "      <td>Low</td>\n",
       "      <td>17063.080078</td>\n",
       "    </tr>\n",
       "  </tbody>\n",
       "</table>\n",
       "</div>"
      ],
      "text/plain": [
       "         Date variable         value\n",
       "0  2016-07-01      Low  17916.910156\n",
       "1  2016-06-30      Low  17711.800781\n",
       "2  2016-06-29      Low  17456.019531\n",
       "3  2016-06-28      Low  17190.509766\n",
       "4  2016-06-27      Low  17063.080078"
      ]
     },
     "execution_count": 69,
     "metadata": {},
     "output_type": "execute_result"
    }
   ],
   "source": [
    "\n",
    "df_new = df.head()\n",
    "melted = pd.melt(frame=df_new,id_vars = 'Date', value_vars= ['Low'])\n",
    "melted"
   ]
  },
  {
   "cell_type": "code",
   "execution_count": 70,
   "metadata": {
    "execution": {
     "iopub.execute_input": "2021-01-23T09:51:14.629034Z",
     "iopub.status.busy": "2021-01-23T09:51:14.627971Z",
     "iopub.status.idle": "2021-01-23T09:51:14.646762Z",
     "shell.execute_reply": "2021-01-23T09:51:14.646075Z"
    },
    "papermill": {
     "duration": 0.130718,
     "end_time": "2021-01-23T09:51:14.646876",
     "exception": false,
     "start_time": "2021-01-23T09:51:14.516158",
     "status": "completed"
    },
    "tags": []
   },
   "outputs": [
    {
     "data": {
      "text/html": [
       "<div>\n",
       "<style scoped>\n",
       "    .dataframe tbody tr th:only-of-type {\n",
       "        vertical-align: middle;\n",
       "    }\n",
       "\n",
       "    .dataframe tbody tr th {\n",
       "        vertical-align: top;\n",
       "    }\n",
       "\n",
       "    .dataframe thead th {\n",
       "        text-align: right;\n",
       "    }\n",
       "</style>\n",
       "<table border=\"1\" class=\"dataframe\">\n",
       "  <thead>\n",
       "    <tr style=\"text-align: right;\">\n",
       "      <th></th>\n",
       "      <th>Date</th>\n",
       "      <th>variable</th>\n",
       "      <th>value</th>\n",
       "    </tr>\n",
       "  </thead>\n",
       "  <tbody>\n",
       "    <tr>\n",
       "      <th>0</th>\n",
       "      <td>2008-08-14</td>\n",
       "      <td>Low</td>\n",
       "      <td>11450.889648</td>\n",
       "    </tr>\n",
       "    <tr>\n",
       "      <th>1</th>\n",
       "      <td>2008-08-13</td>\n",
       "      <td>Low</td>\n",
       "      <td>11453.339844</td>\n",
       "    </tr>\n",
       "    <tr>\n",
       "      <th>2</th>\n",
       "      <td>2008-08-12</td>\n",
       "      <td>Low</td>\n",
       "      <td>11601.519531</td>\n",
       "    </tr>\n",
       "    <tr>\n",
       "      <th>3</th>\n",
       "      <td>2008-08-11</td>\n",
       "      <td>Low</td>\n",
       "      <td>11675.530273</td>\n",
       "    </tr>\n",
       "    <tr>\n",
       "      <th>4</th>\n",
       "      <td>2008-08-08</td>\n",
       "      <td>Low</td>\n",
       "      <td>11388.040039</td>\n",
       "    </tr>\n",
       "    <tr>\n",
       "      <th>5</th>\n",
       "      <td>2008-08-14</td>\n",
       "      <td>Close</td>\n",
       "      <td>11615.929688</td>\n",
       "    </tr>\n",
       "    <tr>\n",
       "      <th>6</th>\n",
       "      <td>2008-08-13</td>\n",
       "      <td>Close</td>\n",
       "      <td>11532.959961</td>\n",
       "    </tr>\n",
       "    <tr>\n",
       "      <th>7</th>\n",
       "      <td>2008-08-12</td>\n",
       "      <td>Close</td>\n",
       "      <td>11642.469727</td>\n",
       "    </tr>\n",
       "    <tr>\n",
       "      <th>8</th>\n",
       "      <td>2008-08-11</td>\n",
       "      <td>Close</td>\n",
       "      <td>11782.349609</td>\n",
       "    </tr>\n",
       "    <tr>\n",
       "      <th>9</th>\n",
       "      <td>2008-08-08</td>\n",
       "      <td>Close</td>\n",
       "      <td>11734.320312</td>\n",
       "    </tr>\n",
       "    <tr>\n",
       "      <th>10</th>\n",
       "      <td>2008-08-14</td>\n",
       "      <td>High</td>\n",
       "      <td>11718.280273</td>\n",
       "    </tr>\n",
       "    <tr>\n",
       "      <th>11</th>\n",
       "      <td>2008-08-13</td>\n",
       "      <td>High</td>\n",
       "      <td>11633.780273</td>\n",
       "    </tr>\n",
       "    <tr>\n",
       "      <th>12</th>\n",
       "      <td>2008-08-12</td>\n",
       "      <td>High</td>\n",
       "      <td>11782.349609</td>\n",
       "    </tr>\n",
       "    <tr>\n",
       "      <th>13</th>\n",
       "      <td>2008-08-11</td>\n",
       "      <td>High</td>\n",
       "      <td>11867.110352</td>\n",
       "    </tr>\n",
       "    <tr>\n",
       "      <th>14</th>\n",
       "      <td>2008-08-08</td>\n",
       "      <td>High</td>\n",
       "      <td>11759.959961</td>\n",
       "    </tr>\n",
       "  </tbody>\n",
       "</table>\n",
       "</div>"
      ],
      "text/plain": [
       "          Date variable         value\n",
       "0   2008-08-14      Low  11450.889648\n",
       "1   2008-08-13      Low  11453.339844\n",
       "2   2008-08-12      Low  11601.519531\n",
       "3   2008-08-11      Low  11675.530273\n",
       "4   2008-08-08      Low  11388.040039\n",
       "5   2008-08-14    Close  11615.929688\n",
       "6   2008-08-13    Close  11532.959961\n",
       "7   2008-08-12    Close  11642.469727\n",
       "8   2008-08-11    Close  11782.349609\n",
       "9   2008-08-08    Close  11734.320312\n",
       "10  2008-08-14     High  11718.280273\n",
       "11  2008-08-13     High  11633.780273\n",
       "12  2008-08-12     High  11782.349609\n",
       "13  2008-08-11     High  11867.110352\n",
       "14  2008-08-08     High  11759.959961"
      ]
     },
     "execution_count": 70,
     "metadata": {},
     "output_type": "execute_result"
    }
   ],
   "source": [
    "df_new_1 = df.tail()\n",
    "melted = pd.melt(frame=df_new_1,id_vars = 'Date', value_vars= ['Low','Close','High'])\n",
    "melted"
   ]
  },
  {
   "cell_type": "markdown",
   "metadata": {
    "papermill": {
     "duration": 0.108518,
     "end_time": "2021-01-23T09:51:14.865113",
     "exception": false,
     "start_time": "2021-01-23T09:51:14.756595",
     "status": "completed"
    },
    "tags": []
   },
   "source": [
    "<hr>\n",
    "\n",
    "## Reference\n",
    "\n",
    "- Pandas Tutorial For Beginners\n",
    "(https://www.kaggle.com/kralmachine/pandas-tutorial-for-beginners#Sort-Data-)"
   ]
  },
  {
   "cell_type": "code",
   "execution_count": null,
   "metadata": {
    "papermill": {
     "duration": 0.109566,
     "end_time": "2021-01-23T09:51:15.096201",
     "exception": false,
     "start_time": "2021-01-23T09:51:14.986635",
     "status": "completed"
    },
    "tags": []
   },
   "outputs": [],
   "source": []
  }
 ],
 "metadata": {
  "kernelspec": {
   "display_name": "Python 3",
   "language": "python",
   "name": "python3"
  },
  "language_info": {
   "codemirror_mode": {
    "name": "ipython",
    "version": 3
   },
   "file_extension": ".py",
   "mimetype": "text/x-python",
   "name": "python",
   "nbconvert_exporter": "python",
   "pygments_lexer": "ipython3",
   "version": "3.7.6"
  },
  "papermill": {
   "duration": 32.127082,
   "end_time": "2021-01-23T09:51:15.312668",
   "environment_variables": {},
   "exception": null,
   "input_path": "__notebook__.ipynb",
   "output_path": "__notebook__.ipynb",
   "parameters": {},
   "start_time": "2021-01-23T09:50:43.185586",
   "version": "2.1.0"
  }
 },
 "nbformat": 4,
 "nbformat_minor": 4
}
