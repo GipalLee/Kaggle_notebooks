{
 "cells": [
  {
   "attachments": {},
   "cell_type": "markdown",
   "metadata": {
    "papermill": {
     "duration": 0.013975,
     "end_time": "2021-01-29T11:58:43.425921",
     "exception": false,
     "start_time": "2021-01-29T11:58:43.411946",
     "status": "completed"
    },
    "tags": []
   },
   "source": [
    "# Simple ANN\n",
    "\n",
    "ANN (Artificail Neural Network)\n",
    "* **ANN (Artificail Neural Network):** usually simply called neural networks (NNs), are computing systems vaguely inspired by the biological neural networks \n",
    "* Our **ANN** is focusing on classification which number is, when **ANN** gets ficture of number (MNIST)\n",
    "* An artificial neural network is an interconnected group of nodes, there are input layer, hidden layer, output layer\n",
    "* We are using Keras module\n",
    "\n",
    "<hr>\n",
    "\n",
    "How to use this notebook :\n",
    "\n",
    "There is only minimum explanation\n",
    "\n",
    "This notebook could be helpful for who want to see how code works right away\n",
    "\n",
    "Please upvote if it was helpful !\n",
    "\n",
    "<hr>\n",
    "\n",
    "## Content\n",
    "1. [Libraries import](#one)\n",
    "2. [Prepare Data](#two)\n",
    "3. [Modeling](#three)\n",
    "4. [Training & Evaluation](#four)\n",
    "\n",
    "<hr>"
   ]
  },
  {
   "cell_type": "markdown",
   "metadata": {
    "papermill": {
     "duration": 0.012563,
     "end_time": "2021-01-29T11:58:43.451287",
     "exception": false,
     "start_time": "2021-01-29T11:58:43.438724",
     "status": "completed"
    },
    "tags": []
   },
   "source": [
    "<a id=\"one\"></a>\n",
    "# 1. Libraries import"
   ]
  },
  {
   "cell_type": "code",
   "execution_count": 1,
   "metadata": {
    "_cell_guid": "b1076dfc-b9ad-4769-8c92-a6c4dae69d19",
    "_uuid": "8f2839f25d086af736a60e9eeb907d3b93b6e0e5",
    "execution": {
     "iopub.execute_input": "2021-01-29T11:58:43.482704Z",
     "iopub.status.busy": "2021-01-29T11:58:43.482053Z",
     "iopub.status.idle": "2021-01-29T11:58:49.142838Z",
     "shell.execute_reply": "2021-01-29T11:58:49.142134Z"
    },
    "papermill": {
     "duration": 5.679288,
     "end_time": "2021-01-29T11:58:49.143068",
     "exception": false,
     "start_time": "2021-01-29T11:58:43.463780",
     "status": "completed"
    },
    "tags": []
   },
   "outputs": [],
   "source": [
    "from keras import layers, models\n",
    "import numpy as np # to use reshape()\n",
    "from keras import datasets  # we can bring our mnist data from here\n",
    "from keras.utils import np_utils  # to_categorical\n",
    "import matplotlib.pyplot as plt\n"
   ]
  },
  {
   "cell_type": "markdown",
   "metadata": {
    "papermill": {
     "duration": 0.012524,
     "end_time": "2021-01-29T11:58:49.168832",
     "exception": false,
     "start_time": "2021-01-29T11:58:49.156308",
     "status": "completed"
    },
    "tags": []
   },
   "source": [
    "<a id=\"two\"></a>\n",
    "# 2. Prepare Data"
   ]
  },
  {
   "attachments": {
    "d4e5709ebb4ba940126de44c76ca71b0@2x.png": {
     "image/png": "[encoded data removed]"
    }
   },
   "cell_type": "markdown",
   "metadata": {
    "papermill": {
     "duration": 0.012473,
     "end_time": "2021-01-29T11:58:49.193911",
     "exception": false,
     "start_time": "2021-01-29T11:58:49.181438",
     "status": "completed"
    },
    "tags": []
   },
   "source": [
    "* 70000 data ( 60000 for training, 10000 for test)\n",
    "* 28 * 28 (each pixel can have 0~255 value)\n",
    "* 0 ~ 9 (10 classes)\n",
    "* example)\n",
    "\n",
    "![d4e5709ebb4ba940126de44c76ca71b0@2x.png](attachment:d4e5709ebb4ba940126de44c76ca71b0@2x.png)"
   ]
  },
  {
   "cell_type": "code",
   "execution_count": 2,
   "metadata": {
    "execution": {
     "iopub.execute_input": "2021-01-29T11:58:49.226305Z",
     "iopub.status.busy": "2021-01-29T11:58:49.224541Z",
     "iopub.status.idle": "2021-01-29T11:58:50.004162Z",
     "shell.execute_reply": "2021-01-29T11:58:50.004699Z"
    },
    "papermill": {
     "duration": 0.797854,
     "end_time": "2021-01-29T11:58:50.004902",
     "exception": false,
     "start_time": "2021-01-29T11:58:49.207048",
     "status": "completed"
    },
    "tags": []
   },
   "outputs": [
    {
     "name": "stdout",
     "output_type": "stream",
     "text": [
      "Downloading data from https://storage.googleapis.com/tensorflow/tf-keras-datasets/mnist.npz\n",
      "11493376/11490434 [==============================] - 0s 0us/step\n"
     ]
    }
   ],
   "source": [
    "# bring our data\n",
    "\n",
    "(X_train, y_train), (X_test, y_test) = datasets.mnist.load_data()"
   ]
  },
  {
   "cell_type": "code",
   "execution_count": 3,
   "metadata": {
    "execution": {
     "iopub.execute_input": "2021-01-29T11:58:50.039199Z",
     "iopub.status.busy": "2021-01-29T11:58:50.038325Z",
     "iopub.status.idle": "2021-01-29T11:58:50.041849Z",
     "shell.execute_reply": "2021-01-29T11:58:50.042518Z"
    },
    "papermill": {
     "duration": 0.023081,
     "end_time": "2021-01-29T11:58:50.042734",
     "exception": false,
     "start_time": "2021-01-29T11:58:50.019653",
     "status": "completed"
    },
    "tags": []
   },
   "outputs": [
    {
     "name": "stdout",
     "output_type": "stream",
     "text": [
      "(60000, 28, 28)\n",
      "(10000, 28, 28)\n"
     ]
    }
   ],
   "source": [
    "# check \n",
    "\n",
    "print(X_train.shape)\n",
    "print(X_test.shape)\n"
   ]
  },
  {
   "cell_type": "code",
   "execution_count": 4,
   "metadata": {
    "execution": {
     "iopub.execute_input": "2021-01-29T11:58:50.079784Z",
     "iopub.status.busy": "2021-01-29T11:58:50.078960Z",
     "iopub.status.idle": "2021-01-29T11:58:50.088432Z",
     "shell.execute_reply": "2021-01-29T11:58:50.087862Z"
    },
    "papermill": {
     "duration": 0.029873,
     "end_time": "2021-01-29T11:58:50.088561",
     "exception": false,
     "start_time": "2021-01-29T11:58:50.058688",
     "status": "completed"
    },
    "tags": []
   },
   "outputs": [
    {
     "data": {
      "text/plain": [
       "array([[  0,   0,   0,   0,   0,   0,   0,   0,   0,   0,   0,   0,   0,\n",
       "          0,   0,   0,   0,   0,   0,   0,   0,   0,   0,   0,   0,   0,\n",
       "          0,   0],\n",
       "       [  0,   0,   0,   0,   0,   0,   0,   0,   0,   0,   0,   0,   0,\n",
       "          0,   0,   0,   0,   0,   0,   0,   0,   0,   0,   0,   0,   0,\n",
       "          0,   0],\n",
       "       [  0,   0,   0,   0,   0,   0,   0,   0,   0,   0,   0,   0,   0,\n",
       "          0,   0,   0,   0,   0,   0,   0,   0,   0,   0,   0,   0,   0,\n",
       "          0,   0],\n",
       "       [  0,   0,   0,   0,   0,   0,   0,   0,   0,   0,   0,   0,   0,\n",
       "          0,   0,   0,   0,   0,   0,   0,   0,   0,   0,   0,   0,   0,\n",
       "          0,   0],\n",
       "       [  0,   0,   0,   0,   0,   0,   0,   0,   0,   0,   0,   0,   0,\n",
       "          0,   0,   0,   0,   0,   0,   0,   0,   0,   0,   0,   0,   0,\n",
       "          0,   0],\n",
       "       [  0,   0,   0,   0,   0,   0,   0,   0,   0,   0,   0,   0,   3,\n",
       "         18,  18,  18, 126, 136, 175,  26, 166, 255, 247, 127,   0,   0,\n",
       "          0,   0],\n",
       "       [  0,   0,   0,   0,   0,   0,   0,   0,  30,  36,  94, 154, 170,\n",
       "        253, 253, 253, 253, 253, 225, 172, 253, 242, 195,  64,   0,   0,\n",
       "          0,   0],\n",
       "       [  0,   0,   0,   0,   0,   0,   0,  49, 238, 253, 253, 253, 253,\n",
       "        253, 253, 253, 253, 251,  93,  82,  82,  56,  39,   0,   0,   0,\n",
       "          0,   0],\n",
       "       [  0,   0,   0,   0,   0,   0,   0,  18, 219, 253, 253, 253, 253,\n",
       "        253, 198, 182, 247, 241,   0,   0,   0,   0,   0,   0,   0,   0,\n",
       "          0,   0],\n",
       "       [  0,   0,   0,   0,   0,   0,   0,   0,  80, 156, 107, 253, 253,\n",
       "        205,  11,   0,  43, 154,   0,   0,   0,   0,   0,   0,   0,   0,\n",
       "          0,   0],\n",
       "       [  0,   0,   0,   0,   0,   0,   0,   0,   0,  14,   1, 154, 253,\n",
       "         90,   0,   0,   0,   0,   0,   0,   0,   0,   0,   0,   0,   0,\n",
       "          0,   0],\n",
       "       [  0,   0,   0,   0,   0,   0,   0,   0,   0,   0,   0, 139, 253,\n",
       "        190,   2,   0,   0,   0,   0,   0,   0,   0,   0,   0,   0,   0,\n",
       "          0,   0],\n",
       "       [  0,   0,   0,   0,   0,   0,   0,   0,   0,   0,   0,  11, 190,\n",
       "        253,  70,   0,   0,   0,   0,   0,   0,   0,   0,   0,   0,   0,\n",
       "          0,   0],\n",
       "       [  0,   0,   0,   0,   0,   0,   0,   0,   0,   0,   0,   0,  35,\n",
       "        241, 225, 160, 108,   1,   0,   0,   0,   0,   0,   0,   0,   0,\n",
       "          0,   0],\n",
       "       [  0,   0,   0,   0,   0,   0,   0,   0,   0,   0,   0,   0,   0,\n",
       "         81, 240, 253, 253, 119,  25,   0,   0,   0,   0,   0,   0,   0,\n",
       "          0,   0],\n",
       "       [  0,   0,   0,   0,   0,   0,   0,   0,   0,   0,   0,   0,   0,\n",
       "          0,  45, 186, 253, 253, 150,  27,   0,   0,   0,   0,   0,   0,\n",
       "          0,   0],\n",
       "       [  0,   0,   0,   0,   0,   0,   0,   0,   0,   0,   0,   0,   0,\n",
       "          0,   0,  16,  93, 252, 253, 187,   0,   0,   0,   0,   0,   0,\n",
       "          0,   0],\n",
       "       [  0,   0,   0,   0,   0,   0,   0,   0,   0,   0,   0,   0,   0,\n",
       "          0,   0,   0,   0, 249, 253, 249,  64,   0,   0,   0,   0,   0,\n",
       "          0,   0],\n",
       "       [  0,   0,   0,   0,   0,   0,   0,   0,   0,   0,   0,   0,   0,\n",
       "          0,  46, 130, 183, 253, 253, 207,   2,   0,   0,   0,   0,   0,\n",
       "          0,   0],\n",
       "       [  0,   0,   0,   0,   0,   0,   0,   0,   0,   0,   0,   0,  39,\n",
       "        148, 229, 253, 253, 253, 250, 182,   0,   0,   0,   0,   0,   0,\n",
       "          0,   0],\n",
       "       [  0,   0,   0,   0,   0,   0,   0,   0,   0,   0,  24, 114, 221,\n",
       "        253, 253, 253, 253, 201,  78,   0,   0,   0,   0,   0,   0,   0,\n",
       "          0,   0],\n",
       "       [  0,   0,   0,   0,   0,   0,   0,   0,  23,  66, 213, 253, 253,\n",
       "        253, 253, 198,  81,   2,   0,   0,   0,   0,   0,   0,   0,   0,\n",
       "          0,   0],\n",
       "       [  0,   0,   0,   0,   0,   0,  18, 171, 219, 253, 253, 253, 253,\n",
       "        195,  80,   9,   0,   0,   0,   0,   0,   0,   0,   0,   0,   0,\n",
       "          0,   0],\n",
       "       [  0,   0,   0,   0,  55, 172, 226, 253, 253, 253, 253, 244, 133,\n",
       "         11,   0,   0,   0,   0,   0,   0,   0,   0,   0,   0,   0,   0,\n",
       "          0,   0],\n",
       "       [  0,   0,   0,   0, 136, 253, 253, 253, 212, 135, 132,  16,   0,\n",
       "          0,   0,   0,   0,   0,   0,   0,   0,   0,   0,   0,   0,   0,\n",
       "          0,   0],\n",
       "       [  0,   0,   0,   0,   0,   0,   0,   0,   0,   0,   0,   0,   0,\n",
       "          0,   0,   0,   0,   0,   0,   0,   0,   0,   0,   0,   0,   0,\n",
       "          0,   0],\n",
       "       [  0,   0,   0,   0,   0,   0,   0,   0,   0,   0,   0,   0,   0,\n",
       "          0,   0,   0,   0,   0,   0,   0,   0,   0,   0,   0,   0,   0,\n",
       "          0,   0],\n",
       "       [  0,   0,   0,   0,   0,   0,   0,   0,   0,   0,   0,   0,   0,\n",
       "          0,   0,   0,   0,   0,   0,   0,   0,   0,   0,   0,   0,   0,\n",
       "          0,   0]], dtype=uint8)"
      ]
     },
     "execution_count": 4,
     "metadata": {},
     "output_type": "execute_result"
    }
   ],
   "source": [
    "# check\n",
    "\n",
    "X_train[0]"
   ]
  },
  {
   "cell_type": "code",
   "execution_count": 5,
   "metadata": {
    "execution": {
     "iopub.execute_input": "2021-01-29T11:58:50.122525Z",
     "iopub.status.busy": "2021-01-29T11:58:50.121926Z",
     "iopub.status.idle": "2021-01-29T11:58:50.278459Z",
     "shell.execute_reply": "2021-01-29T11:58:50.277977Z"
    },
    "papermill": {
     "duration": 0.174634,
     "end_time": "2021-01-29T11:58:50.278583",
     "exception": false,
     "start_time": "2021-01-29T11:58:50.103949",
     "status": "completed"
    },
    "tags": []
   },
   "outputs": [
    {
     "data": {
      "image/png": "[encoded data removed]",
      "text/plain": [
       "<Figure size 432x288 with 1 Axes>"
      ]
     },
     "metadata": {
      "needs_background": "light"
     },
     "output_type": "display_data"
    }
   ],
   "source": [
    "# check\n",
    "\n",
    "plt.imshow(X_train[0])\n",
    "plt.show()"
   ]
  },
  {
   "cell_type": "code",
   "execution_count": 6,
   "metadata": {
    "execution": {
     "iopub.execute_input": "2021-01-29T11:58:50.316337Z",
     "iopub.status.busy": "2021-01-29T11:58:50.315572Z",
     "iopub.status.idle": "2021-01-29T11:58:50.320841Z",
     "shell.execute_reply": "2021-01-29T11:58:50.320163Z"
    },
    "papermill": {
     "duration": 0.026328,
     "end_time": "2021-01-29T11:58:50.320977",
     "exception": false,
     "start_time": "2021-01-29T11:58:50.294649",
     "status": "completed"
    },
    "tags": []
   },
   "outputs": [],
   "source": [
    "# we change from output(0~9) to output((0 or 1) * 10) vector for ANN classification\n",
    "\n",
    "Y_train = np_utils.to_categorical(y_train)\n",
    "Y_test = np_utils.to_categorical(y_test)"
   ]
  },
  {
   "cell_type": "code",
   "execution_count": 7,
   "metadata": {
    "execution": {
     "iopub.execute_input": "2021-01-29T11:58:50.356981Z",
     "iopub.status.busy": "2021-01-29T11:58:50.356000Z",
     "iopub.status.idle": "2021-01-29T11:58:50.360473Z",
     "shell.execute_reply": "2021-01-29T11:58:50.361036Z"
    },
    "papermill": {
     "duration": 0.024079,
     "end_time": "2021-01-29T11:58:50.361193",
     "exception": false,
     "start_time": "2021-01-29T11:58:50.337114",
     "status": "completed"
    },
    "tags": []
   },
   "outputs": [],
   "source": [
    "# we need to change 3 dimention data to 2 dimention for training\n",
    "\n",
    "L, H, W = X_train.shape\n",
    "X_train = X_train.reshape(-1,W*H) # -1 means auto\n",
    "X_test = X_test.reshape(-1,W*H)"
   ]
  },
  {
   "cell_type": "code",
   "execution_count": 8,
   "metadata": {
    "execution": {
     "iopub.execute_input": "2021-01-29T11:58:50.396858Z",
     "iopub.status.busy": "2021-01-29T11:58:50.395921Z",
     "iopub.status.idle": "2021-01-29T11:58:50.401187Z",
     "shell.execute_reply": "2021-01-29T11:58:50.401626Z"
    },
    "papermill": {
     "duration": 0.024552,
     "end_time": "2021-01-29T11:58:50.401805",
     "exception": false,
     "start_time": "2021-01-29T11:58:50.377253",
     "status": "completed"
    },
    "tags": []
   },
   "outputs": [
    {
     "data": {
      "text/plain": [
       "(60000, 784)"
      ]
     },
     "execution_count": 8,
     "metadata": {},
     "output_type": "execute_result"
    }
   ],
   "source": [
    "X_train.shape"
   ]
  },
  {
   "cell_type": "code",
   "execution_count": 9,
   "metadata": {
    "execution": {
     "iopub.execute_input": "2021-01-29T11:58:50.438444Z",
     "iopub.status.busy": "2021-01-29T11:58:50.437777Z",
     "iopub.status.idle": "2021-01-29T11:58:50.634793Z",
     "shell.execute_reply": "2021-01-29T11:58:50.635297Z"
    },
    "papermill": {
     "duration": 0.216879,
     "end_time": "2021-01-29T11:58:50.635485",
     "exception": false,
     "start_time": "2021-01-29T11:58:50.418606",
     "status": "completed"
    },
    "tags": []
   },
   "outputs": [],
   "source": [
    "# normalization\n",
    "\n",
    "X_train = X_train / 255.0\n",
    "X_test = X_test / 255.0"
   ]
  },
  {
   "cell_type": "code",
   "execution_count": 10,
   "metadata": {
    "execution": {
     "iopub.execute_input": "2021-01-29T11:58:50.672666Z",
     "iopub.status.busy": "2021-01-29T11:58:50.672031Z",
     "iopub.status.idle": "2021-01-29T11:58:50.678731Z",
     "shell.execute_reply": "2021-01-29T11:58:50.678163Z"
    },
    "papermill": {
     "duration": 0.026348,
     "end_time": "2021-01-29T11:58:50.678886",
     "exception": false,
     "start_time": "2021-01-29T11:58:50.652538",
     "status": "completed"
    },
    "tags": []
   },
   "outputs": [],
   "source": [
    "def Data_func():\n",
    "    (X_train, y_train), (X_test, y_test) = datasets.mnist.load_data()\n",
    "\n",
    "    Y_train = np_utils.to_categorical(y_train)\n",
    "    Y_test = np_utils.to_categorical(y_test)\n",
    "\n",
    "    L, W, H = X_train.shape\n",
    "    X_train = X_train.reshape(-1, W * H)\n",
    "    X_test = X_test.reshape(-1, W * H)\n",
    "\n",
    "    X_train = X_train / 255.0\n",
    "    X_test = X_test / 255.0\n",
    "\n",
    "    return (X_train, Y_train), (X_test, Y_test)"
   ]
  },
  {
   "cell_type": "markdown",
   "metadata": {
    "papermill": {
     "duration": 0.01712,
     "end_time": "2021-01-29T11:58:50.712829",
     "exception": false,
     "start_time": "2021-01-29T11:58:50.695709",
     "status": "completed"
    },
    "tags": []
   },
   "source": [
    "<a id=\"three\"></a>\n",
    "# 3. Modeliing"
   ]
  },
  {
   "cell_type": "code",
   "execution_count": 11,
   "metadata": {
    "execution": {
     "iopub.execute_input": "2021-01-29T11:58:50.754805Z",
     "iopub.status.busy": "2021-01-29T11:58:50.754163Z",
     "iopub.status.idle": "2021-01-29T11:58:50.756321Z",
     "shell.execute_reply": "2021-01-29T11:58:50.756916Z"
    },
    "papermill": {
     "duration": 0.026572,
     "end_time": "2021-01-29T11:58:50.757084",
     "exception": false,
     "start_time": "2021-01-29T11:58:50.730512",
     "status": "completed"
    },
    "tags": []
   },
   "outputs": [],
   "source": [
    "class ANN_models_class(models.Model) :\n",
    "    def __init__(self,Nin,Nh,Nout) : # (Nin : input layer nodes), (Nh : hidden layer nodes), (Nout : output layer nodes)\n",
    "        \n",
    "        # Prepare network layers and activate functions\n",
    "        hidden = layers.Dense(Nh) # our ANN has only one hidden layer\n",
    "        output = layers.Dense(Nout)\n",
    "        relu = layers.Activation('relu') \n",
    "        softmax = layers.Activation('softmax')\n",
    "        \n",
    "        # Connect network elements\n",
    "        x = layers.Input(shape=(Nin,))\n",
    "        h = relu(hidden(x))\n",
    "        y = softmax(output(h))\n",
    "        \n",
    "        super().__init__(x,y)\n",
    "        self.compile(loss='categorical_crossentropy',optimizer='adam',metrics=['accuracy'])"
   ]
  },
  {
   "cell_type": "markdown",
   "metadata": {
    "papermill": {
     "duration": 0.016778,
     "end_time": "2021-01-29T11:58:50.790802",
     "exception": false,
     "start_time": "2021-01-29T11:58:50.774024",
     "status": "completed"
    },
    "tags": []
   },
   "source": [
    "<a id=\"four\"></a>\n",
    "# 4. Training & Evaluation"
   ]
  },
  {
   "cell_type": "code",
   "execution_count": 12,
   "metadata": {
    "execution": {
     "iopub.execute_input": "2021-01-29T11:58:50.827548Z",
     "iopub.status.busy": "2021-01-29T11:58:50.826819Z",
     "iopub.status.idle": "2021-01-29T11:58:50.834354Z",
     "shell.execute_reply": "2021-01-29T11:58:50.834903Z"
    },
    "papermill": {
     "duration": 0.027714,
     "end_time": "2021-01-29T11:58:50.835106",
     "exception": false,
     "start_time": "2021-01-29T11:58:50.807392",
     "status": "completed"
    },
    "tags": []
   },
   "outputs": [],
   "source": [
    "# check for accuracy\n",
    "\n",
    "def plot_acc(history, title=None):\n",
    "    # summarize history for accuracy\n",
    "    if not isinstance(history, dict):\n",
    "        history = history.history\n",
    "\n",
    "    plt.plot(history['accuracy'])\n",
    "    plt.plot(history['val_accuracy'])\n",
    "    if title is not None:\n",
    "        plt.title(title)\n",
    "    plt.ylabel('Accuracy')\n",
    "    plt.xlabel('Epoch')\n",
    "    plt.legend(['Training', 'Verification'], loc=0)\n",
    "    # plt.show()\n",
    "    \n",
    "# check for loss\n",
    "\n",
    "def plot_loss(history, title=None):\n",
    "    # summarize history for loss\n",
    "    if not isinstance(history, dict):\n",
    "        history = history.history\n",
    "\n",
    "    plt.plot(history['loss'])     # training loss\n",
    "    plt.plot(history['val_loss']) # validation loss\n",
    "    if title is not None:\n",
    "        plt.title(title)\n",
    "    plt.ylabel('Loss')\n",
    "    plt.xlabel('Epoch')\n",
    "    plt.legend(['Training', 'Verification'], loc=0)\n",
    "    # plt.show()"
   ]
  },
  {
   "cell_type": "code",
   "execution_count": 13,
   "metadata": {
    "execution": {
     "iopub.execute_input": "2021-01-29T11:58:50.872634Z",
     "iopub.status.busy": "2021-01-29T11:58:50.872025Z",
     "iopub.status.idle": "2021-01-29T11:59:10.063555Z",
     "shell.execute_reply": "2021-01-29T11:59:10.063065Z"
    },
    "papermill": {
     "duration": 19.211371,
     "end_time": "2021-01-29T11:59:10.063695",
     "exception": false,
     "start_time": "2021-01-29T11:58:50.852324",
     "status": "completed"
    },
    "tags": []
   },
   "outputs": [
    {
     "name": "stdout",
     "output_type": "stream",
     "text": [
      "Epoch 1/15\n",
      "480/480 [==============================] - 2s 3ms/step - loss: 0.6705 - accuracy: 0.8158 - val_loss: 0.2037 - val_accuracy: 0.9421\n",
      "Epoch 2/15\n",
      "480/480 [==============================] - 1s 2ms/step - loss: 0.1929 - accuracy: 0.9457 - val_loss: 0.1574 - val_accuracy: 0.9573\n",
      "Epoch 3/15\n",
      "480/480 [==============================] - 1s 2ms/step - loss: 0.1424 - accuracy: 0.9591 - val_loss: 0.1352 - val_accuracy: 0.9615\n",
      "Epoch 4/15\n",
      "480/480 [==============================] - 1s 3ms/step - loss: 0.1120 - accuracy: 0.9686 - val_loss: 0.1172 - val_accuracy: 0.9653\n",
      "Epoch 5/15\n",
      "480/480 [==============================] - 1s 2ms/step - loss: 0.0893 - accuracy: 0.9753 - val_loss: 0.1101 - val_accuracy: 0.9674\n",
      "Epoch 6/15\n",
      "480/480 [==============================] - 1s 2ms/step - loss: 0.0742 - accuracy: 0.9794 - val_loss: 0.1031 - val_accuracy: 0.9682\n",
      "Epoch 7/15\n",
      "480/480 [==============================] - 1s 2ms/step - loss: 0.0613 - accuracy: 0.9828 - val_loss: 0.1032 - val_accuracy: 0.9691\n",
      "Epoch 8/15\n",
      "480/480 [==============================] - 1s 2ms/step - loss: 0.0528 - accuracy: 0.9854 - val_loss: 0.0947 - val_accuracy: 0.9710\n",
      "Epoch 9/15\n",
      "480/480 [==============================] - 1s 2ms/step - loss: 0.0469 - accuracy: 0.9875 - val_loss: 0.0924 - val_accuracy: 0.9740\n",
      "Epoch 10/15\n",
      "480/480 [==============================] - 1s 2ms/step - loss: 0.0376 - accuracy: 0.9900 - val_loss: 0.0906 - val_accuracy: 0.9747\n",
      "Epoch 11/15\n",
      "480/480 [==============================] - 1s 2ms/step - loss: 0.0327 - accuracy: 0.9917 - val_loss: 0.0907 - val_accuracy: 0.9744\n",
      "Epoch 12/15\n",
      "480/480 [==============================] - 1s 2ms/step - loss: 0.0278 - accuracy: 0.9931 - val_loss: 0.0902 - val_accuracy: 0.9734\n",
      "Epoch 13/15\n",
      "480/480 [==============================] - 1s 2ms/step - loss: 0.0245 - accuracy: 0.9935 - val_loss: 0.0909 - val_accuracy: 0.9745\n",
      "Epoch 14/15\n",
      "480/480 [==============================] - 1s 2ms/step - loss: 0.0207 - accuracy: 0.9956 - val_loss: 0.0914 - val_accuracy: 0.9747\n",
      "Epoch 15/15\n",
      "480/480 [==============================] - 1s 2ms/step - loss: 0.0178 - accuracy: 0.9962 - val_loss: 0.0890 - val_accuracy: 0.9756\n",
      "100/100 [==============================] - 0s 1ms/step - loss: 0.0798 - accuracy: 0.9773\n",
      "Test Loss and Accuracy -> [0.07976904511451721, 0.9772999882698059]\n"
     ]
    },
    {
     "data": {
      "image/png": "[encoded data removed]",
      "text/plain": [
       "<Figure size 432x288 with 1 Axes>"
      ]
     },
     "metadata": {
      "needs_background": "light"
     },
     "output_type": "display_data"
    },
    {
     "data": {
      "image/png": "[encoded data removed]",
      "text/plain": [
       "<Figure size 432x288 with 1 Axes>"
      ]
     },
     "metadata": {
      "needs_background": "light"
     },
     "output_type": "display_data"
    }
   ],
   "source": [
    "def main():\n",
    "    Nin = 784 # input layer nodes\n",
    "    Nh = 100 # hidden layer nodes\n",
    "    number_of_class = 10 # output layer nodes\n",
    "    Nout = number_of_class\n",
    "\n",
    "    model = ANN_models_class(Nin, Nh, Nout)\n",
    "    (X_train, Y_train), (X_test, Y_test) = Data_func()\n",
    "\n",
    " \n",
    "    # Training\n",
    "    history = model.fit(X_train, Y_train, epochs=15, batch_size=100, validation_split=0.2)\n",
    "    \n",
    "    # test\n",
    "    performace_test = model.evaluate(X_test, Y_test, batch_size=100)\n",
    "    print('Test Loss and Accuracy ->', performace_test)\n",
    "\n",
    "    plot_loss(history)\n",
    "    plt.show()\n",
    "    plot_acc(history)\n",
    "    plt.show()\n",
    "\n",
    "\n",
    "\n",
    "# Run code\n",
    "if __name__ == '__main__':\n",
    "    main()"
   ]
  },
  {
   "cell_type": "markdown",
   "metadata": {
    "papermill": {
     "duration": 0.103036,
     "end_time": "2021-01-29T11:59:10.279613",
     "exception": false,
     "start_time": "2021-01-29T11:59:10.176577",
     "status": "completed"
    },
    "tags": []
   },
   "source": [
    "## Reference\n",
    "* Coding chef 3 minute deep learning  -(https://github.com/jskDr/keraspp/blob/master/ex2_1_ann_mnist_cl.py)"
   ]
  }
 ],
 "metadata": {
  "kernelspec": {
   "display_name": "Python 3",
   "language": "python",
   "name": "python3"
  },
  "language_info": {
   "codemirror_mode": {
    "name": "ipython",
    "version": 3
   },
   "file_extension": ".py",
   "mimetype": "text/x-python",
   "name": "python",
   "nbconvert_exporter": "python",
   "pygments_lexer": "ipython3",
   "version": "3.7.9"
  },
  "papermill": {
   "default_parameters": {},
   "duration": 33.432008,
   "end_time": "2021-01-29T11:59:11.397522",
   "environment_variables": {},
   "exception": null,
   "input_path": "__notebook__.ipynb",
   "output_path": "__notebook__.ipynb",
   "parameters": {},
   "start_time": "2021-01-29T11:58:37.965514",
   "version": "2.2.2"
  }
 },
 "nbformat": 4,
 "nbformat_minor": 4
}
