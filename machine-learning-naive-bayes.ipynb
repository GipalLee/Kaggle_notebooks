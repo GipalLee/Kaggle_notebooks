{
 "cells": [
  {
   "cell_type": "markdown",
   "metadata": {
    "papermill": {
     "duration": 0.026539,
     "end_time": "2021-03-10T08:10:08.717712",
     "exception": false,
     "start_time": "2021-03-10T08:10:08.691173",
     "status": "completed"
    },
    "tags": []
   },
   "source": [
    "# Naive Bayes\n",
    "\n",
    "* Supervised learning\n",
    "* Independence assumptions between the features\n",
    "\n"
   ]
  },
  {
   "cell_type": "markdown",
   "metadata": {
    "papermill": {
     "duration": 0.025916,
     "end_time": "2021-03-10T08:10:08.769628",
     "exception": false,
     "start_time": "2021-03-10T08:10:08.743712",
     "status": "completed"
    },
    "tags": []
   },
   "source": [
    "## Content\n",
    "\n",
    "1. [Gaussian Naive Bayes Model](#one)\n",
    "2. [Bernoulli Naive Bayes Model](#two)\n",
    "3. [Multinorminal Naive Bayes](#three)\n",
    "\n",
    "<hr>\n"
   ]
  },
  {
   "cell_type": "markdown",
   "metadata": {
    "papermill": {
     "duration": 0.025354,
     "end_time": "2021-03-10T08:10:08.820727",
     "exception": false,
     "start_time": "2021-03-10T08:10:08.795373",
     "status": "completed"
    },
    "tags": []
   },
   "source": [
    "<a id=\"one\"></a>\n",
    "\n",
    "# 1. Gaussian Naive Bayes Model\n",
    "\n",
    "<hr>"
   ]
  },
  {
   "cell_type": "code",
   "execution_count": 1,
   "metadata": {
    "_cell_guid": "b1076dfc-b9ad-4769-8c92-a6c4dae69d19",
    "_uuid": "8f2839f25d086af736a60e9eeb907d3b93b6e0e5",
    "execution": {
     "iopub.execute_input": "2021-03-10T08:10:08.878926Z",
     "iopub.status.busy": "2021-03-10T08:10:08.878219Z",
     "iopub.status.idle": "2021-03-10T08:10:09.924102Z",
     "shell.execute_reply": "2021-03-10T08:10:09.923290Z"
    },
    "papermill": {
     "duration": 1.077909,
     "end_time": "2021-03-10T08:10:09.924306",
     "exception": false,
     "start_time": "2021-03-10T08:10:08.846397",
     "status": "completed"
    },
    "tags": []
   },
   "outputs": [],
   "source": [
    "import pandas as pd\n",
    "from sklearn.datasets import load_iris\n",
    "from sklearn.model_selection import train_test_split\n",
    "from sklearn.naive_bayes import GaussianNB\n",
    "from sklearn import metrics\n",
    "from sklearn.metrics import accuracy_score"
   ]
  },
  {
   "cell_type": "code",
   "execution_count": 2,
   "metadata": {
    "execution": {
     "iopub.execute_input": "2021-03-10T08:10:09.980274Z",
     "iopub.status.busy": "2021-03-10T08:10:09.979594Z",
     "iopub.status.idle": "2021-03-10T08:10:10.016173Z",
     "shell.execute_reply": "2021-03-10T08:10:10.015610Z"
    },
    "papermill": {
     "duration": 0.066292,
     "end_time": "2021-03-10T08:10:10.016329",
     "exception": false,
     "start_time": "2021-03-10T08:10:09.950037",
     "status": "completed"
    },
    "tags": []
   },
   "outputs": [
    {
     "data": {
      "text/html": [
       "<div>\n",
       "<style scoped>\n",
       "    .dataframe tbody tr th:only-of-type {\n",
       "        vertical-align: middle;\n",
       "    }\n",
       "\n",
       "    .dataframe tbody tr th {\n",
       "        vertical-align: top;\n",
       "    }\n",
       "\n",
       "    .dataframe thead th {\n",
       "        text-align: right;\n",
       "    }\n",
       "</style>\n",
       "<table border=\"1\" class=\"dataframe\">\n",
       "  <thead>\n",
       "    <tr style=\"text-align: right;\">\n",
       "      <th></th>\n",
       "      <th>sepal length (cm)</th>\n",
       "      <th>sepal width (cm)</th>\n",
       "      <th>petal length (cm)</th>\n",
       "      <th>petal width (cm)</th>\n",
       "    </tr>\n",
       "  </thead>\n",
       "  <tbody>\n",
       "    <tr>\n",
       "      <th>0</th>\n",
       "      <td>5.1</td>\n",
       "      <td>3.5</td>\n",
       "      <td>1.4</td>\n",
       "      <td>0.2</td>\n",
       "    </tr>\n",
       "    <tr>\n",
       "      <th>1</th>\n",
       "      <td>4.9</td>\n",
       "      <td>3.0</td>\n",
       "      <td>1.4</td>\n",
       "      <td>0.2</td>\n",
       "    </tr>\n",
       "    <tr>\n",
       "      <th>2</th>\n",
       "      <td>4.7</td>\n",
       "      <td>3.2</td>\n",
       "      <td>1.3</td>\n",
       "      <td>0.2</td>\n",
       "    </tr>\n",
       "    <tr>\n",
       "      <th>3</th>\n",
       "      <td>4.6</td>\n",
       "      <td>3.1</td>\n",
       "      <td>1.5</td>\n",
       "      <td>0.2</td>\n",
       "    </tr>\n",
       "    <tr>\n",
       "      <th>4</th>\n",
       "      <td>5.0</td>\n",
       "      <td>3.6</td>\n",
       "      <td>1.4</td>\n",
       "      <td>0.2</td>\n",
       "    </tr>\n",
       "    <tr>\n",
       "      <th>...</th>\n",
       "      <td>...</td>\n",
       "      <td>...</td>\n",
       "      <td>...</td>\n",
       "      <td>...</td>\n",
       "    </tr>\n",
       "    <tr>\n",
       "      <th>145</th>\n",
       "      <td>6.7</td>\n",
       "      <td>3.0</td>\n",
       "      <td>5.2</td>\n",
       "      <td>2.3</td>\n",
       "    </tr>\n",
       "    <tr>\n",
       "      <th>146</th>\n",
       "      <td>6.3</td>\n",
       "      <td>2.5</td>\n",
       "      <td>5.0</td>\n",
       "      <td>1.9</td>\n",
       "    </tr>\n",
       "    <tr>\n",
       "      <th>147</th>\n",
       "      <td>6.5</td>\n",
       "      <td>3.0</td>\n",
       "      <td>5.2</td>\n",
       "      <td>2.0</td>\n",
       "    </tr>\n",
       "    <tr>\n",
       "      <th>148</th>\n",
       "      <td>6.2</td>\n",
       "      <td>3.4</td>\n",
       "      <td>5.4</td>\n",
       "      <td>2.3</td>\n",
       "    </tr>\n",
       "    <tr>\n",
       "      <th>149</th>\n",
       "      <td>5.9</td>\n",
       "      <td>3.0</td>\n",
       "      <td>5.1</td>\n",
       "      <td>1.8</td>\n",
       "    </tr>\n",
       "  </tbody>\n",
       "</table>\n",
       "<p>150 rows × 4 columns</p>\n",
       "</div>"
      ],
      "text/plain": [
       "     sepal length (cm)  sepal width (cm)  petal length (cm)  petal width (cm)\n",
       "0                  5.1               3.5                1.4               0.2\n",
       "1                  4.9               3.0                1.4               0.2\n",
       "2                  4.7               3.2                1.3               0.2\n",
       "3                  4.6               3.1                1.5               0.2\n",
       "4                  5.0               3.6                1.4               0.2\n",
       "..                 ...               ...                ...               ...\n",
       "145                6.7               3.0                5.2               2.3\n",
       "146                6.3               2.5                5.0               1.9\n",
       "147                6.5               3.0                5.2               2.0\n",
       "148                6.2               3.4                5.4               2.3\n",
       "149                5.9               3.0                5.1               1.8\n",
       "\n",
       "[150 rows x 4 columns]"
      ]
     },
     "execution_count": 2,
     "metadata": {},
     "output_type": "execute_result"
    }
   ],
   "source": [
    "dataset = load_iris()\n",
    "df = pd.DataFrame(dataset.data, columns=dataset.feature_names)\n",
    "df"
   ]
  },
  {
   "cell_type": "code",
   "execution_count": 3,
   "metadata": {
    "execution": {
     "iopub.execute_input": "2021-03-10T08:10:10.089088Z",
     "iopub.status.busy": "2021-03-10T08:10:10.088388Z",
     "iopub.status.idle": "2021-03-10T08:10:10.092444Z",
     "shell.execute_reply": "2021-03-10T08:10:10.091833Z"
    },
    "papermill": {
     "duration": 0.049585,
     "end_time": "2021-03-10T08:10:10.092598",
     "exception": false,
     "start_time": "2021-03-10T08:10:10.043013",
     "status": "completed"
    },
    "tags": []
   },
   "outputs": [
    {
     "data": {
      "text/html": [
       "<div>\n",
       "<style scoped>\n",
       "    .dataframe tbody tr th:only-of-type {\n",
       "        vertical-align: middle;\n",
       "    }\n",
       "\n",
       "    .dataframe tbody tr th {\n",
       "        vertical-align: top;\n",
       "    }\n",
       "\n",
       "    .dataframe thead th {\n",
       "        text-align: right;\n",
       "    }\n",
       "</style>\n",
       "<table border=\"1\" class=\"dataframe\">\n",
       "  <thead>\n",
       "    <tr style=\"text-align: right;\">\n",
       "      <th></th>\n",
       "      <th>sepal length (cm)</th>\n",
       "      <th>sepal width (cm)</th>\n",
       "      <th>petal length (cm)</th>\n",
       "      <th>petal width (cm)</th>\n",
       "      <th>target</th>\n",
       "    </tr>\n",
       "  </thead>\n",
       "  <tbody>\n",
       "    <tr>\n",
       "      <th>0</th>\n",
       "      <td>5.1</td>\n",
       "      <td>3.5</td>\n",
       "      <td>1.4</td>\n",
       "      <td>0.2</td>\n",
       "      <td>setosa</td>\n",
       "    </tr>\n",
       "    <tr>\n",
       "      <th>1</th>\n",
       "      <td>4.9</td>\n",
       "      <td>3.0</td>\n",
       "      <td>1.4</td>\n",
       "      <td>0.2</td>\n",
       "      <td>setosa</td>\n",
       "    </tr>\n",
       "    <tr>\n",
       "      <th>2</th>\n",
       "      <td>4.7</td>\n",
       "      <td>3.2</td>\n",
       "      <td>1.3</td>\n",
       "      <td>0.2</td>\n",
       "      <td>setosa</td>\n",
       "    </tr>\n",
       "    <tr>\n",
       "      <th>3</th>\n",
       "      <td>4.6</td>\n",
       "      <td>3.1</td>\n",
       "      <td>1.5</td>\n",
       "      <td>0.2</td>\n",
       "      <td>setosa</td>\n",
       "    </tr>\n",
       "    <tr>\n",
       "      <th>4</th>\n",
       "      <td>5.0</td>\n",
       "      <td>3.6</td>\n",
       "      <td>1.4</td>\n",
       "      <td>0.2</td>\n",
       "      <td>setosa</td>\n",
       "    </tr>\n",
       "  </tbody>\n",
       "</table>\n",
       "</div>"
      ],
      "text/plain": [
       "   sepal length (cm)  sepal width (cm)  petal length (cm)  petal width (cm)  \\\n",
       "0                5.1               3.5                1.4               0.2   \n",
       "1                4.9               3.0                1.4               0.2   \n",
       "2                4.7               3.2                1.3               0.2   \n",
       "3                4.6               3.1                1.5               0.2   \n",
       "4                5.0               3.6                1.4               0.2   \n",
       "\n",
       "   target  \n",
       "0  setosa  \n",
       "1  setosa  \n",
       "2  setosa  \n",
       "3  setosa  \n",
       "4  setosa  "
      ]
     },
     "execution_count": 3,
     "metadata": {},
     "output_type": "execute_result"
    }
   ],
   "source": [
    "df['target'] = dataset.target\n",
    "df.target = df.target.map({0:'setosa',1:'versicolor',2:'virginica'})\n",
    "df.head()"
   ]
  },
  {
   "cell_type": "code",
   "execution_count": 4,
   "metadata": {
    "execution": {
     "iopub.execute_input": "2021-03-10T08:10:10.150364Z",
     "iopub.status.busy": "2021-03-10T08:10:10.149746Z",
     "iopub.status.idle": "2021-03-10T08:10:10.155967Z",
     "shell.execute_reply": "2021-03-10T08:10:10.156509Z"
    },
    "papermill": {
     "duration": 0.037187,
     "end_time": "2021-03-10T08:10:10.156685",
     "exception": false,
     "start_time": "2021-03-10T08:10:10.119498",
     "status": "completed"
    },
    "tags": []
   },
   "outputs": [],
   "source": [
    "setosa_df = df[df.target == 'setosa']\n",
    "versicolor_df = df[df.target == 'versicolor']\n",
    "virginica_df = df[df.target == 'virginica']"
   ]
  },
  {
   "cell_type": "code",
   "execution_count": 5,
   "metadata": {
    "execution": {
     "iopub.execute_input": "2021-03-10T08:10:10.217368Z",
     "iopub.status.busy": "2021-03-10T08:10:10.216734Z",
     "iopub.status.idle": "2021-03-10T08:10:10.618549Z",
     "shell.execute_reply": "2021-03-10T08:10:10.619013Z"
    },
    "papermill": {
     "duration": 0.435251,
     "end_time": "2021-03-10T08:10:10.619187",
     "exception": false,
     "start_time": "2021-03-10T08:10:10.183936",
     "status": "completed"
    },
    "tags": []
   },
   "outputs": [
    {
     "data": {
      "text/plain": [
       "<AxesSubplot:label='00248e95-ed3f-4b3f-a203-0731cb958899'>"
      ]
     },
     "execution_count": 5,
     "metadata": {},
     "output_type": "execute_result"
    },
    {
     "data": {
      "image/png": "[encoded data removed]",
      "text/plain": [
       "<Figure size 576x288 with 2 Axes>"
      ]
     },
     "metadata": {
      "needs_background": "light"
     },
     "output_type": "display_data"
    }
   ],
   "source": [
    "ax = setosa_df['sepal length (cm)'].plot(kind='hist')\n",
    "setosa_df['sepal length (cm)'].plot(kind='kde',ax=ax,\n",
    "                                   secondary_y = True,\n",
    "                                   title='setosa sepal length (cm) distribution',\n",
    "                                   figsize = (8,4))\n"
   ]
  },
  {
   "cell_type": "code",
   "execution_count": 6,
   "metadata": {
    "execution": {
     "iopub.execute_input": "2021-03-10T08:10:10.679768Z",
     "iopub.status.busy": "2021-03-10T08:10:10.678808Z",
     "iopub.status.idle": "2021-03-10T08:10:10.934894Z",
     "shell.execute_reply": "2021-03-10T08:10:10.935501Z"
    },
    "papermill": {
     "duration": 0.288161,
     "end_time": "2021-03-10T08:10:10.935720",
     "exception": false,
     "start_time": "2021-03-10T08:10:10.647559",
     "status": "completed"
    },
    "tags": []
   },
   "outputs": [
    {
     "data": {
      "text/plain": [
       "<AxesSubplot:label='4eaa8e42-3768-41b1-957c-cd44ffb18e70'>"
      ]
     },
     "execution_count": 6,
     "metadata": {},
     "output_type": "execute_result"
    },
    {
     "data": {
      "image/png": "[encoded data removed]",
      "text/plain": [
       "<Figure size 576x288 with 2 Axes>"
      ]
     },
     "metadata": {
      "needs_background": "light"
     },
     "output_type": "display_data"
    }
   ],
   "source": [
    "ax = versicolor_df['sepal length (cm)'].plot(kind='hist')\n",
    "versicolor_df['sepal length (cm)'].plot(kind='kde',ax=ax,\n",
    "                                   secondary_y = True,\n",
    "                                   title='versicolor sepal length (cm) distribution',\n",
    "                                   figsize = (8,4))\n"
   ]
  },
  {
   "cell_type": "code",
   "execution_count": 7,
   "metadata": {
    "execution": {
     "iopub.execute_input": "2021-03-10T08:10:11.000116Z",
     "iopub.status.busy": "2021-03-10T08:10:10.999121Z",
     "iopub.status.idle": "2021-03-10T08:10:11.257751Z",
     "shell.execute_reply": "2021-03-10T08:10:11.258315Z"
    },
    "papermill": {
     "duration": 0.29143,
     "end_time": "2021-03-10T08:10:11.258487",
     "exception": false,
     "start_time": "2021-03-10T08:10:10.967057",
     "status": "completed"
    },
    "tags": []
   },
   "outputs": [
    {
     "data": {
      "text/plain": [
       "<AxesSubplot:label='4b339dba-1ecc-4ef1-808b-5dbc732fb431'>"
      ]
     },
     "execution_count": 7,
     "metadata": {},
     "output_type": "execute_result"
    },
    {
     "data": {
      "image/png": "[encoded data removed]",
      "text/plain": [
       "<Figure size 576x288 with 2 Axes>"
      ]
     },
     "metadata": {
      "needs_background": "light"
     },
     "output_type": "display_data"
    }
   ],
   "source": [
    "ax = virginica_df['sepal length (cm)'].plot(kind='hist')\n",
    "virginica_df['sepal length (cm)'].plot(kind='kde',ax=ax,\n",
    "                                   secondary_y = True,\n",
    "                                   title='virginica sepal length (cm) distribution',\n",
    "                                   figsize = (8,4))"
   ]
  },
  {
   "cell_type": "markdown",
   "metadata": {
    "papermill": {
     "duration": 0.030723,
     "end_time": "2021-03-10T08:10:11.320237",
     "exception": false,
     "start_time": "2021-03-10T08:10:11.289514",
     "status": "completed"
    },
    "tags": []
   },
   "source": [
    "We can find out sepal length feature follows Gaussian distribution\n",
    "\n",
    "We will skip other features, other features follow Gaussian distribution as well\n",
    "\n",
    "So, we will use Gaussian Naive classifier"
   ]
  },
  {
   "cell_type": "code",
   "execution_count": 8,
   "metadata": {
    "execution": {
     "iopub.execute_input": "2021-03-10T08:10:11.384579Z",
     "iopub.status.busy": "2021-03-10T08:10:11.383621Z",
     "iopub.status.idle": "2021-03-10T08:10:11.388711Z",
     "shell.execute_reply": "2021-03-10T08:10:11.389268Z"
    },
    "papermill": {
     "duration": 0.039321,
     "end_time": "2021-03-10T08:10:11.389464",
     "exception": false,
     "start_time": "2021-03-10T08:10:11.350143",
     "status": "completed"
    },
    "tags": []
   },
   "outputs": [],
   "source": [
    "X_train,X_test,y_train,y_test = train_test_split(dataset.data,dataset.target,test_size=0.2)"
   ]
  },
  {
   "cell_type": "code",
   "execution_count": 9,
   "metadata": {
    "execution": {
     "iopub.execute_input": "2021-03-10T08:10:11.455187Z",
     "iopub.status.busy": "2021-03-10T08:10:11.454196Z",
     "iopub.status.idle": "2021-03-10T08:10:11.462909Z",
     "shell.execute_reply": "2021-03-10T08:10:11.463373Z"
    },
    "papermill": {
     "duration": 0.042975,
     "end_time": "2021-03-10T08:10:11.463545",
     "exception": false,
     "start_time": "2021-03-10T08:10:11.420570",
     "status": "completed"
    },
    "tags": []
   },
   "outputs": [
    {
     "data": {
      "text/plain": [
       "GaussianNB()"
      ]
     },
     "execution_count": 9,
     "metadata": {},
     "output_type": "execute_result"
    }
   ],
   "source": [
    "model = GaussianNB()\n",
    "model.fit (X_train,y_train)"
   ]
  },
  {
   "cell_type": "code",
   "execution_count": 10,
   "metadata": {
    "execution": {
     "iopub.execute_input": "2021-03-10T08:10:11.528767Z",
     "iopub.status.busy": "2021-03-10T08:10:11.527849Z",
     "iopub.status.idle": "2021-03-10T08:10:11.538152Z",
     "shell.execute_reply": "2021-03-10T08:10:11.538802Z"
    },
    "papermill": {
     "duration": 0.044778,
     "end_time": "2021-03-10T08:10:11.539012",
     "exception": false,
     "start_time": "2021-03-10T08:10:11.494234",
     "status": "completed"
    },
    "tags": []
   },
   "outputs": [
    {
     "name": "stdout",
     "output_type": "stream",
     "text": [
      "              precision    recall  f1-score   support\n",
      "\n",
      "           0       1.00      1.00      1.00        12\n",
      "           1       1.00      1.00      1.00         8\n",
      "           2       1.00      1.00      1.00        10\n",
      "\n",
      "    accuracy                           1.00        30\n",
      "   macro avg       1.00      1.00      1.00        30\n",
      "weighted avg       1.00      1.00      1.00        30\n",
      "\n"
     ]
    }
   ],
   "source": [
    "expected = y_test\n",
    "predicted = model.predict(X_test)\n",
    "print(metrics.classification_report(y_test,predicted))"
   ]
  },
  {
   "cell_type": "code",
   "execution_count": 11,
   "metadata": {
    "execution": {
     "iopub.execute_input": "2021-03-10T08:10:11.607950Z",
     "iopub.status.busy": "2021-03-10T08:10:11.606926Z",
     "iopub.status.idle": "2021-03-10T08:10:11.610820Z",
     "shell.execute_reply": "2021-03-10T08:10:11.611377Z"
    },
    "papermill": {
     "duration": 0.040851,
     "end_time": "2021-03-10T08:10:11.611546",
     "exception": false,
     "start_time": "2021-03-10T08:10:11.570695",
     "status": "completed"
    },
    "tags": []
   },
   "outputs": [
    {
     "data": {
      "text/plain": [
       "1.0"
      ]
     },
     "execution_count": 11,
     "metadata": {},
     "output_type": "execute_result"
    }
   ],
   "source": [
    "accuracy_score(y_test,predicted)"
   ]
  },
  {
   "cell_type": "markdown",
   "metadata": {
    "papermill": {
     "duration": 0.031604,
     "end_time": "2021-03-10T08:10:11.675155",
     "exception": false,
     "start_time": "2021-03-10T08:10:11.643551",
     "status": "completed"
    },
    "tags": []
   },
   "source": [
    "<a id=\"two\"></a>\n",
    "\n",
    "# 2. Bernoulli Naive Bayes Model\n",
    "\n",
    "<hr>"
   ]
  },
  {
   "cell_type": "code",
   "execution_count": 12,
   "metadata": {
    "execution": {
     "iopub.execute_input": "2021-03-10T08:10:11.743016Z",
     "iopub.status.busy": "2021-03-10T08:10:11.741924Z",
     "iopub.status.idle": "2021-03-10T08:10:11.746542Z",
     "shell.execute_reply": "2021-03-10T08:10:11.747032Z"
    },
    "papermill": {
     "duration": 0.040087,
     "end_time": "2021-03-10T08:10:11.747205",
     "exception": false,
     "start_time": "2021-03-10T08:10:11.707118",
     "status": "completed"
    },
    "tags": []
   },
   "outputs": [],
   "source": [
    "import numpy as np\n",
    "import pandas as pd\n",
    "from sklearn.feature_extraction.text import CountVectorizer\n",
    "from sklearn.naive_bayes import BernoulliNB\n",
    "from sklearn.metrics import accuracy_score"
   ]
  },
  {
   "cell_type": "code",
   "execution_count": 13,
   "metadata": {
    "execution": {
     "iopub.execute_input": "2021-03-10T08:10:11.814158Z",
     "iopub.status.busy": "2021-03-10T08:10:11.813211Z",
     "iopub.status.idle": "2021-03-10T08:10:11.819200Z",
     "shell.execute_reply": "2021-03-10T08:10:11.819684Z"
    },
    "papermill": {
     "duration": 0.040911,
     "end_time": "2021-03-10T08:10:11.819874",
     "exception": false,
     "start_time": "2021-03-10T08:10:11.778963",
     "status": "completed"
    },
    "tags": []
   },
   "outputs": [],
   "source": [
    "email_list = [\n",
    "                {'email title': 'free game only today', 'spam': True},\n",
    "                {'email title': 'cheapest flight deal', 'spam': True},\n",
    "                {'email title': 'limited time offer only today only today', 'spam': True},\n",
    "                {'email title': 'today meeting schedule', 'spam': False},\n",
    "                {'email title': 'your flight schedule attached', 'spam': False},\n",
    "                {'email title': 'your credit card statement', 'spam': False}\n",
    "             ]\n",
    "df = pd.DataFrame(email_list)"
   ]
  },
  {
   "cell_type": "code",
   "execution_count": 14,
   "metadata": {
    "execution": {
     "iopub.execute_input": "2021-03-10T08:10:11.886708Z",
     "iopub.status.busy": "2021-03-10T08:10:11.885815Z",
     "iopub.status.idle": "2021-03-10T08:10:11.894874Z",
     "shell.execute_reply": "2021-03-10T08:10:11.895294Z"
    },
    "papermill": {
     "duration": 0.043968,
     "end_time": "2021-03-10T08:10:11.895469",
     "exception": false,
     "start_time": "2021-03-10T08:10:11.851501",
     "status": "completed"
    },
    "tags": []
   },
   "outputs": [
    {
     "data": {
      "text/html": [
       "<div>\n",
       "<style scoped>\n",
       "    .dataframe tbody tr th:only-of-type {\n",
       "        vertical-align: middle;\n",
       "    }\n",
       "\n",
       "    .dataframe tbody tr th {\n",
       "        vertical-align: top;\n",
       "    }\n",
       "\n",
       "    .dataframe thead th {\n",
       "        text-align: right;\n",
       "    }\n",
       "</style>\n",
       "<table border=\"1\" class=\"dataframe\">\n",
       "  <thead>\n",
       "    <tr style=\"text-align: right;\">\n",
       "      <th></th>\n",
       "      <th>email title</th>\n",
       "      <th>spam</th>\n",
       "    </tr>\n",
       "  </thead>\n",
       "  <tbody>\n",
       "    <tr>\n",
       "      <th>0</th>\n",
       "      <td>free game only today</td>\n",
       "      <td>True</td>\n",
       "    </tr>\n",
       "    <tr>\n",
       "      <th>1</th>\n",
       "      <td>cheapest flight deal</td>\n",
       "      <td>True</td>\n",
       "    </tr>\n",
       "    <tr>\n",
       "      <th>2</th>\n",
       "      <td>limited time offer only today only today</td>\n",
       "      <td>True</td>\n",
       "    </tr>\n",
       "    <tr>\n",
       "      <th>3</th>\n",
       "      <td>today meeting schedule</td>\n",
       "      <td>False</td>\n",
       "    </tr>\n",
       "    <tr>\n",
       "      <th>4</th>\n",
       "      <td>your flight schedule attached</td>\n",
       "      <td>False</td>\n",
       "    </tr>\n",
       "    <tr>\n",
       "      <th>5</th>\n",
       "      <td>your credit card statement</td>\n",
       "      <td>False</td>\n",
       "    </tr>\n",
       "  </tbody>\n",
       "</table>\n",
       "</div>"
      ],
      "text/plain": [
       "                                email title   spam\n",
       "0                      free game only today   True\n",
       "1                      cheapest flight deal   True\n",
       "2  limited time offer only today only today   True\n",
       "3                    today meeting schedule  False\n",
       "4             your flight schedule attached  False\n",
       "5                your credit card statement  False"
      ]
     },
     "execution_count": 14,
     "metadata": {},
     "output_type": "execute_result"
    }
   ],
   "source": [
    "df"
   ]
  },
  {
   "cell_type": "code",
   "execution_count": 15,
   "metadata": {
    "execution": {
     "iopub.execute_input": "2021-03-10T08:10:11.964167Z",
     "iopub.status.busy": "2021-03-10T08:10:11.963180Z",
     "iopub.status.idle": "2021-03-10T08:10:11.968878Z",
     "shell.execute_reply": "2021-03-10T08:10:11.969378Z"
    },
    "papermill": {
     "duration": 0.041832,
     "end_time": "2021-03-10T08:10:11.969558",
     "exception": false,
     "start_time": "2021-03-10T08:10:11.927726",
     "status": "completed"
    },
    "tags": []
   },
   "outputs": [],
   "source": [
    "df['label'] = df['spam'].map({True:1,False:0})"
   ]
  },
  {
   "cell_type": "code",
   "execution_count": 16,
   "metadata": {
    "execution": {
     "iopub.execute_input": "2021-03-10T08:10:12.037486Z",
     "iopub.status.busy": "2021-03-10T08:10:12.036547Z",
     "iopub.status.idle": "2021-03-10T08:10:12.046457Z",
     "shell.execute_reply": "2021-03-10T08:10:12.046898Z"
    },
    "papermill": {
     "duration": 0.045122,
     "end_time": "2021-03-10T08:10:12.047064",
     "exception": false,
     "start_time": "2021-03-10T08:10:12.001942",
     "status": "completed"
    },
    "tags": []
   },
   "outputs": [
    {
     "data": {
      "text/html": [
       "<div>\n",
       "<style scoped>\n",
       "    .dataframe tbody tr th:only-of-type {\n",
       "        vertical-align: middle;\n",
       "    }\n",
       "\n",
       "    .dataframe tbody tr th {\n",
       "        vertical-align: top;\n",
       "    }\n",
       "\n",
       "    .dataframe thead th {\n",
       "        text-align: right;\n",
       "    }\n",
       "</style>\n",
       "<table border=\"1\" class=\"dataframe\">\n",
       "  <thead>\n",
       "    <tr style=\"text-align: right;\">\n",
       "      <th></th>\n",
       "      <th>email title</th>\n",
       "      <th>spam</th>\n",
       "      <th>label</th>\n",
       "    </tr>\n",
       "  </thead>\n",
       "  <tbody>\n",
       "    <tr>\n",
       "      <th>0</th>\n",
       "      <td>free game only today</td>\n",
       "      <td>True</td>\n",
       "      <td>1</td>\n",
       "    </tr>\n",
       "    <tr>\n",
       "      <th>1</th>\n",
       "      <td>cheapest flight deal</td>\n",
       "      <td>True</td>\n",
       "      <td>1</td>\n",
       "    </tr>\n",
       "    <tr>\n",
       "      <th>2</th>\n",
       "      <td>limited time offer only today only today</td>\n",
       "      <td>True</td>\n",
       "      <td>1</td>\n",
       "    </tr>\n",
       "    <tr>\n",
       "      <th>3</th>\n",
       "      <td>today meeting schedule</td>\n",
       "      <td>False</td>\n",
       "      <td>0</td>\n",
       "    </tr>\n",
       "    <tr>\n",
       "      <th>4</th>\n",
       "      <td>your flight schedule attached</td>\n",
       "      <td>False</td>\n",
       "      <td>0</td>\n",
       "    </tr>\n",
       "    <tr>\n",
       "      <th>5</th>\n",
       "      <td>your credit card statement</td>\n",
       "      <td>False</td>\n",
       "      <td>0</td>\n",
       "    </tr>\n",
       "  </tbody>\n",
       "</table>\n",
       "</div>"
      ],
      "text/plain": [
       "                                email title   spam  label\n",
       "0                      free game only today   True      1\n",
       "1                      cheapest flight deal   True      1\n",
       "2  limited time offer only today only today   True      1\n",
       "3                    today meeting schedule  False      0\n",
       "4             your flight schedule attached  False      0\n",
       "5                your credit card statement  False      0"
      ]
     },
     "execution_count": 16,
     "metadata": {},
     "output_type": "execute_result"
    }
   ],
   "source": [
    "df"
   ]
  },
  {
   "cell_type": "code",
   "execution_count": 17,
   "metadata": {
    "execution": {
     "iopub.execute_input": "2021-03-10T08:10:12.118166Z",
     "iopub.status.busy": "2021-03-10T08:10:12.117510Z",
     "iopub.status.idle": "2021-03-10T08:10:12.120791Z",
     "shell.execute_reply": "2021-03-10T08:10:12.120220Z"
    },
    "papermill": {
     "duration": 0.040471,
     "end_time": "2021-03-10T08:10:12.120929",
     "exception": false,
     "start_time": "2021-03-10T08:10:12.080458",
     "status": "completed"
    },
    "tags": []
   },
   "outputs": [],
   "source": [
    "df_x = df['email title']\n",
    "df_y = df['label']"
   ]
  },
  {
   "cell_type": "markdown",
   "metadata": {
    "papermill": {
     "duration": 0.032315,
     "end_time": "2021-03-10T08:10:12.185612",
     "exception": false,
     "start_time": "2021-03-10T08:10:12.153297",
     "status": "completed"
    },
    "tags": []
   },
   "source": [
    "Bernoulli Naive Bayes's input data should be fixing vecotr"
   ]
  },
  {
   "cell_type": "code",
   "execution_count": 18,
   "metadata": {
    "execution": {
     "iopub.execute_input": "2021-03-10T08:10:12.278858Z",
     "iopub.status.busy": "2021-03-10T08:10:12.277864Z",
     "iopub.status.idle": "2021-03-10T08:10:12.281289Z",
     "shell.execute_reply": "2021-03-10T08:10:12.280611Z"
    },
    "papermill": {
     "duration": 0.058561,
     "end_time": "2021-03-10T08:10:12.281457",
     "exception": false,
     "start_time": "2021-03-10T08:10:12.222896",
     "status": "completed"
    },
    "tags": []
   },
   "outputs": [],
   "source": [
    "# CountVectorizer change to fixing vector from all words in specific data\n",
    "cv = CountVectorizer(binary = True)\n",
    "x_traincv = cv.fit_transform(df_x)\n"
   ]
  },
  {
   "cell_type": "markdown",
   "metadata": {
    "papermill": {
     "duration": 0.040368,
     "end_time": "2021-03-10T08:10:12.360895",
     "exception": false,
     "start_time": "2021-03-10T08:10:12.320527",
     "status": "completed"
    },
    "tags": []
   },
   "source": [
    "Let's check difference"
   ]
  },
  {
   "cell_type": "code",
   "execution_count": 19,
   "metadata": {
    "execution": {
     "iopub.execute_input": "2021-03-10T08:10:12.430833Z",
     "iopub.status.busy": "2021-03-10T08:10:12.430227Z",
     "iopub.status.idle": "2021-03-10T08:10:12.433139Z",
     "shell.execute_reply": "2021-03-10T08:10:12.433594Z"
    },
    "papermill": {
     "duration": 0.040217,
     "end_time": "2021-03-10T08:10:12.433750",
     "exception": false,
     "start_time": "2021-03-10T08:10:12.393533",
     "status": "completed"
    },
    "tags": []
   },
   "outputs": [
    {
     "data": {
      "text/plain": [
       "array([[0, 0, 0, 0, 0, 0, 1, 1, 0, 0, 0, 1, 0, 0, 0, 1, 0],\n",
       "       [0, 0, 1, 0, 1, 1, 0, 0, 0, 0, 0, 0, 0, 0, 0, 0, 0],\n",
       "       [0, 0, 0, 0, 0, 0, 0, 0, 1, 0, 1, 1, 0, 0, 1, 1, 0],\n",
       "       [0, 0, 0, 0, 0, 0, 0, 0, 0, 1, 0, 0, 1, 0, 0, 1, 0],\n",
       "       [1, 0, 0, 0, 0, 1, 0, 0, 0, 0, 0, 0, 1, 0, 0, 0, 1],\n",
       "       [0, 1, 0, 1, 0, 0, 0, 0, 0, 0, 0, 0, 0, 1, 0, 0, 1]])"
      ]
     },
     "execution_count": 19,
     "metadata": {},
     "output_type": "execute_result"
    }
   ],
   "source": [
    "encoded_input = x_traincv.toarray()\n",
    "encoded_input"
   ]
  },
  {
   "cell_type": "code",
   "execution_count": 20,
   "metadata": {
    "execution": {
     "iopub.execute_input": "2021-03-10T08:10:12.503847Z",
     "iopub.status.busy": "2021-03-10T08:10:12.503250Z",
     "iopub.status.idle": "2021-03-10T08:10:12.508143Z",
     "shell.execute_reply": "2021-03-10T08:10:12.508611Z"
    },
    "papermill": {
     "duration": 0.041714,
     "end_time": "2021-03-10T08:10:12.508788",
     "exception": false,
     "start_time": "2021-03-10T08:10:12.467074",
     "status": "completed"
    },
    "tags": []
   },
   "outputs": [
    {
     "data": {
      "text/plain": [
       "[array(['free', 'game', 'only', 'today'], dtype='<U9')]"
      ]
     },
     "execution_count": 20,
     "metadata": {},
     "output_type": "execute_result"
    }
   ],
   "source": [
    "# if you want to check which words in vector\n",
    "cv.inverse_transform(encoded_input[0])"
   ]
  },
  {
   "cell_type": "code",
   "execution_count": 21,
   "metadata": {
    "execution": {
     "iopub.execute_input": "2021-03-10T08:10:12.580397Z",
     "iopub.status.busy": "2021-03-10T08:10:12.579842Z",
     "iopub.status.idle": "2021-03-10T08:10:12.584562Z",
     "shell.execute_reply": "2021-03-10T08:10:12.585140Z"
    },
    "papermill": {
     "duration": 0.041962,
     "end_time": "2021-03-10T08:10:12.585298",
     "exception": false,
     "start_time": "2021-03-10T08:10:12.543336",
     "status": "completed"
    },
    "tags": []
   },
   "outputs": [
    {
     "data": {
      "text/plain": [
       "['attached',\n",
       " 'card',\n",
       " 'cheapest',\n",
       " 'credit',\n",
       " 'deal',\n",
       " 'flight',\n",
       " 'free',\n",
       " 'game',\n",
       " 'limited',\n",
       " 'meeting',\n",
       " 'offer',\n",
       " 'only',\n",
       " 'schedule',\n",
       " 'statement',\n",
       " 'time',\n",
       " 'today',\n",
       " 'your']"
      ]
     },
     "execution_count": 21,
     "metadata": {},
     "output_type": "execute_result"
    }
   ],
   "source": [
    "cv.get_feature_names()"
   ]
  },
  {
   "cell_type": "code",
   "execution_count": 22,
   "metadata": {
    "execution": {
     "iopub.execute_input": "2021-03-10T08:10:12.656830Z",
     "iopub.status.busy": "2021-03-10T08:10:12.656228Z",
     "iopub.status.idle": "2021-03-10T08:10:12.664416Z",
     "shell.execute_reply": "2021-03-10T08:10:12.664911Z"
    },
    "papermill": {
     "duration": 0.045902,
     "end_time": "2021-03-10T08:10:12.665083",
     "exception": false,
     "start_time": "2021-03-10T08:10:12.619181",
     "status": "completed"
    },
    "tags": []
   },
   "outputs": [
    {
     "data": {
      "text/plain": [
       "BernoulliNB()"
      ]
     },
     "execution_count": 22,
     "metadata": {},
     "output_type": "execute_result"
    }
   ],
   "source": [
    "bnb = BernoulliNB()\n",
    "y_train = df_y.astype('int')\n",
    "bnb.fit(x_traincv,y_train)"
   ]
  },
  {
   "cell_type": "code",
   "execution_count": 23,
   "metadata": {
    "execution": {
     "iopub.execute_input": "2021-03-10T08:10:12.738738Z",
     "iopub.status.busy": "2021-03-10T08:10:12.738088Z",
     "iopub.status.idle": "2021-03-10T08:10:12.746849Z",
     "shell.execute_reply": "2021-03-10T08:10:12.747326Z"
    },
    "papermill": {
     "duration": 0.047101,
     "end_time": "2021-03-10T08:10:12.747507",
     "exception": false,
     "start_time": "2021-03-10T08:10:12.700406",
     "status": "completed"
    },
    "tags": []
   },
   "outputs": [],
   "source": [
    "# make data for test\n",
    "test_email_list = [\n",
    "                {'email title': 'free flight offer', 'spam': True},\n",
    "                {'email title': 'hey traveler free flight deal', 'spam': True},\n",
    "                {'email title': 'limited free game offer', 'spam': True},\n",
    "                {'email title': 'today flight schedule', 'spam': False},\n",
    "                {'email title': 'your credit card attached', 'spam': False},\n",
    "                {'email title': 'free credit card offer only today', 'spam': False}\n",
    "             ]\n",
    "test_df = pd.DataFrame(test_email_list)\n",
    "test_df['label'] = test_df['spam'].map({True:1,False:0})\n",
    "test_x=test_df[\"email title\"]\n",
    "test_y=test_df[\"label\"]\n",
    "x_testcv=cv.transform(test_x)"
   ]
  },
  {
   "cell_type": "code",
   "execution_count": 24,
   "metadata": {
    "execution": {
     "iopub.execute_input": "2021-03-10T08:10:12.823290Z",
     "iopub.status.busy": "2021-03-10T08:10:12.822609Z",
     "iopub.status.idle": "2021-03-10T08:10:12.827374Z",
     "shell.execute_reply": "2021-03-10T08:10:12.826726Z"
    },
    "papermill": {
     "duration": 0.043951,
     "end_time": "2021-03-10T08:10:12.827513",
     "exception": false,
     "start_time": "2021-03-10T08:10:12.783562",
     "status": "completed"
    },
    "tags": []
   },
   "outputs": [],
   "source": [
    "predictions=bnb.predict(x_testcv)"
   ]
  },
  {
   "cell_type": "code",
   "execution_count": 25,
   "metadata": {
    "execution": {
     "iopub.execute_input": "2021-03-10T08:10:12.904280Z",
     "iopub.status.busy": "2021-03-10T08:10:12.903657Z",
     "iopub.status.idle": "2021-03-10T08:10:12.907158Z",
     "shell.execute_reply": "2021-03-10T08:10:12.907639Z"
    },
    "papermill": {
     "duration": 0.044481,
     "end_time": "2021-03-10T08:10:12.907825",
     "exception": false,
     "start_time": "2021-03-10T08:10:12.863344",
     "status": "completed"
    },
    "tags": []
   },
   "outputs": [
    {
     "data": {
      "text/plain": [
       "0.8333333333333334"
      ]
     },
     "execution_count": 25,
     "metadata": {},
     "output_type": "execute_result"
    }
   ],
   "source": [
    "accuracy_score(test_y, predictions)"
   ]
  },
  {
   "cell_type": "markdown",
   "metadata": {
    "papermill": {
     "duration": 0.035686,
     "end_time": "2021-03-10T08:10:12.979893",
     "exception": false,
     "start_time": "2021-03-10T08:10:12.944207",
     "status": "completed"
    },
    "tags": []
   },
   "source": [
    "<a id=\"three\"></a>\n",
    "\n",
    "# 3. Multinorminal Naive Bayes\n",
    "<hr>"
   ]
  },
  {
   "cell_type": "code",
   "execution_count": 26,
   "metadata": {
    "execution": {
     "iopub.execute_input": "2021-03-10T08:10:13.055645Z",
     "iopub.status.busy": "2021-03-10T08:10:13.054988Z",
     "iopub.status.idle": "2021-03-10T08:10:13.058683Z",
     "shell.execute_reply": "2021-03-10T08:10:13.059171Z"
    },
    "papermill": {
     "duration": 0.043188,
     "end_time": "2021-03-10T08:10:13.059334",
     "exception": false,
     "start_time": "2021-03-10T08:10:13.016146",
     "status": "completed"
    },
    "tags": []
   },
   "outputs": [],
   "source": [
    "import numpy as np\n",
    "import pandas as pd\n",
    "\n",
    "from sklearn.feature_extraction.text import CountVectorizer\n",
    "from sklearn.naive_bayes import MultinomialNB\n",
    "from sklearn.metrics import accuracy_score"
   ]
  },
  {
   "cell_type": "code",
   "execution_count": 27,
   "metadata": {
    "execution": {
     "iopub.execute_input": "2021-03-10T08:10:13.134878Z",
     "iopub.status.busy": "2021-03-10T08:10:13.134200Z",
     "iopub.status.idle": "2021-03-10T08:10:13.148126Z",
     "shell.execute_reply": "2021-03-10T08:10:13.147444Z"
    },
    "papermill": {
     "duration": 0.052087,
     "end_time": "2021-03-10T08:10:13.148264",
     "exception": false,
     "start_time": "2021-03-10T08:10:13.096177",
     "status": "completed"
    },
    "tags": []
   },
   "outputs": [
    {
     "data": {
      "text/html": [
       "<div>\n",
       "<style scoped>\n",
       "    .dataframe tbody tr th:only-of-type {\n",
       "        vertical-align: middle;\n",
       "    }\n",
       "\n",
       "    .dataframe tbody tr th {\n",
       "        vertical-align: top;\n",
       "    }\n",
       "\n",
       "    .dataframe thead th {\n",
       "        text-align: right;\n",
       "    }\n",
       "</style>\n",
       "<table border=\"1\" class=\"dataframe\">\n",
       "  <thead>\n",
       "    <tr style=\"text-align: right;\">\n",
       "      <th></th>\n",
       "      <th>movie_review</th>\n",
       "      <th>type</th>\n",
       "    </tr>\n",
       "  </thead>\n",
       "  <tbody>\n",
       "    <tr>\n",
       "      <th>0</th>\n",
       "      <td>this is great great movie. I will watch again</td>\n",
       "      <td>positive</td>\n",
       "    </tr>\n",
       "    <tr>\n",
       "      <th>1</th>\n",
       "      <td>I like this movie</td>\n",
       "      <td>positive</td>\n",
       "    </tr>\n",
       "    <tr>\n",
       "      <th>2</th>\n",
       "      <td>amazing movie in this year</td>\n",
       "      <td>positive</td>\n",
       "    </tr>\n",
       "    <tr>\n",
       "      <th>3</th>\n",
       "      <td>cool my boyfriend also said the movie is cool</td>\n",
       "      <td>positive</td>\n",
       "    </tr>\n",
       "    <tr>\n",
       "      <th>4</th>\n",
       "      <td>awesome of the awesome movie ever</td>\n",
       "      <td>positive</td>\n",
       "    </tr>\n",
       "    <tr>\n",
       "      <th>5</th>\n",
       "      <td>shame I wasted money and time</td>\n",
       "      <td>negative</td>\n",
       "    </tr>\n",
       "    <tr>\n",
       "      <th>6</th>\n",
       "      <td>regret on this move. I will never never what m...</td>\n",
       "      <td>negative</td>\n",
       "    </tr>\n",
       "    <tr>\n",
       "      <th>7</th>\n",
       "      <td>I do not like this movie</td>\n",
       "      <td>negative</td>\n",
       "    </tr>\n",
       "    <tr>\n",
       "      <th>8</th>\n",
       "      <td>I do not like actors in this movie</td>\n",
       "      <td>negative</td>\n",
       "    </tr>\n",
       "    <tr>\n",
       "      <th>9</th>\n",
       "      <td>boring boring sleeping movie</td>\n",
       "      <td>negative</td>\n",
       "    </tr>\n",
       "  </tbody>\n",
       "</table>\n",
       "</div>"
      ],
      "text/plain": [
       "                                        movie_review      type\n",
       "0      this is great great movie. I will watch again  positive\n",
       "1                                  I like this movie  positive\n",
       "2                         amazing movie in this year  positive\n",
       "3      cool my boyfriend also said the movie is cool  positive\n",
       "4                  awesome of the awesome movie ever  positive\n",
       "5                      shame I wasted money and time  negative\n",
       "6  regret on this move. I will never never what m...  negative\n",
       "7                           I do not like this movie  negative\n",
       "8                 I do not like actors in this movie  negative\n",
       "9                       boring boring sleeping movie  negative"
      ]
     },
     "execution_count": 27,
     "metadata": {},
     "output_type": "execute_result"
    }
   ],
   "source": [
    "review_list = [\n",
    "                {'movie_review': 'this is great great movie. I will watch again', 'type': 'positive'},\n",
    "                {'movie_review': 'I like this movie', 'type': 'positive'},\n",
    "                {'movie_review': 'amazing movie in this year', 'type': 'positive'},\n",
    "                {'movie_review': 'cool my boyfriend also said the movie is cool', 'type': 'positive'},\n",
    "                {'movie_review': 'awesome of the awesome movie ever', 'type': 'positive'},\n",
    "                {'movie_review': 'shame I wasted money and time', 'type': 'negative'},\n",
    "                {'movie_review': 'regret on this move. I will never never what movie from this director', 'type': 'negative'},\n",
    "                {'movie_review': 'I do not like this movie', 'type': 'negative'},\n",
    "                {'movie_review': 'I do not like actors in this movie', 'type': 'negative'},\n",
    "                {'movie_review': 'boring boring sleeping movie', 'type': 'negative'}\n",
    "             ]\n",
    "df = pd.DataFrame(review_list)\n",
    "df"
   ]
  },
  {
   "cell_type": "code",
   "execution_count": 28,
   "metadata": {
    "execution": {
     "iopub.execute_input": "2021-03-10T08:10:13.233592Z",
     "iopub.status.busy": "2021-03-10T08:10:13.232622Z",
     "iopub.status.idle": "2021-03-10T08:10:13.236901Z",
     "shell.execute_reply": "2021-03-10T08:10:13.236270Z"
    },
    "papermill": {
     "duration": 0.052051,
     "end_time": "2021-03-10T08:10:13.237073",
     "exception": false,
     "start_time": "2021-03-10T08:10:13.185022",
     "status": "completed"
    },
    "tags": []
   },
   "outputs": [
    {
     "data": {
      "text/html": [
       "<div>\n",
       "<style scoped>\n",
       "    .dataframe tbody tr th:only-of-type {\n",
       "        vertical-align: middle;\n",
       "    }\n",
       "\n",
       "    .dataframe tbody tr th {\n",
       "        vertical-align: top;\n",
       "    }\n",
       "\n",
       "    .dataframe thead th {\n",
       "        text-align: right;\n",
       "    }\n",
       "</style>\n",
       "<table border=\"1\" class=\"dataframe\">\n",
       "  <thead>\n",
       "    <tr style=\"text-align: right;\">\n",
       "      <th></th>\n",
       "      <th>movie_review</th>\n",
       "      <th>type</th>\n",
       "      <th>label</th>\n",
       "    </tr>\n",
       "  </thead>\n",
       "  <tbody>\n",
       "    <tr>\n",
       "      <th>0</th>\n",
       "      <td>this is great great movie. I will watch again</td>\n",
       "      <td>positive</td>\n",
       "      <td>1</td>\n",
       "    </tr>\n",
       "    <tr>\n",
       "      <th>1</th>\n",
       "      <td>I like this movie</td>\n",
       "      <td>positive</td>\n",
       "      <td>1</td>\n",
       "    </tr>\n",
       "    <tr>\n",
       "      <th>2</th>\n",
       "      <td>amazing movie in this year</td>\n",
       "      <td>positive</td>\n",
       "      <td>1</td>\n",
       "    </tr>\n",
       "    <tr>\n",
       "      <th>3</th>\n",
       "      <td>cool my boyfriend also said the movie is cool</td>\n",
       "      <td>positive</td>\n",
       "      <td>1</td>\n",
       "    </tr>\n",
       "    <tr>\n",
       "      <th>4</th>\n",
       "      <td>awesome of the awesome movie ever</td>\n",
       "      <td>positive</td>\n",
       "      <td>1</td>\n",
       "    </tr>\n",
       "    <tr>\n",
       "      <th>5</th>\n",
       "      <td>shame I wasted money and time</td>\n",
       "      <td>negative</td>\n",
       "      <td>0</td>\n",
       "    </tr>\n",
       "    <tr>\n",
       "      <th>6</th>\n",
       "      <td>regret on this move. I will never never what m...</td>\n",
       "      <td>negative</td>\n",
       "      <td>0</td>\n",
       "    </tr>\n",
       "    <tr>\n",
       "      <th>7</th>\n",
       "      <td>I do not like this movie</td>\n",
       "      <td>negative</td>\n",
       "      <td>0</td>\n",
       "    </tr>\n",
       "    <tr>\n",
       "      <th>8</th>\n",
       "      <td>I do not like actors in this movie</td>\n",
       "      <td>negative</td>\n",
       "      <td>0</td>\n",
       "    </tr>\n",
       "    <tr>\n",
       "      <th>9</th>\n",
       "      <td>boring boring sleeping movie</td>\n",
       "      <td>negative</td>\n",
       "      <td>0</td>\n",
       "    </tr>\n",
       "  </tbody>\n",
       "</table>\n",
       "</div>"
      ],
      "text/plain": [
       "                                        movie_review      type  label\n",
       "0      this is great great movie. I will watch again  positive      1\n",
       "1                                  I like this movie  positive      1\n",
       "2                         amazing movie in this year  positive      1\n",
       "3      cool my boyfriend also said the movie is cool  positive      1\n",
       "4                  awesome of the awesome movie ever  positive      1\n",
       "5                      shame I wasted money and time  negative      0\n",
       "6  regret on this move. I will never never what m...  negative      0\n",
       "7                           I do not like this movie  negative      0\n",
       "8                 I do not like actors in this movie  negative      0\n",
       "9                       boring boring sleeping movie  negative      0"
      ]
     },
     "execution_count": 28,
     "metadata": {},
     "output_type": "execute_result"
    }
   ],
   "source": [
    "\n",
    "df['label'] = df['type'].map({\"positive\":1,\"negative\":0})\n",
    "df"
   ]
  },
  {
   "cell_type": "code",
   "execution_count": 29,
   "metadata": {
    "execution": {
     "iopub.execute_input": "2021-03-10T08:10:13.315419Z",
     "iopub.status.busy": "2021-03-10T08:10:13.314591Z",
     "iopub.status.idle": "2021-03-10T08:10:13.317542Z",
     "shell.execute_reply": "2021-03-10T08:10:13.317042Z"
    },
    "papermill": {
     "duration": 0.044035,
     "end_time": "2021-03-10T08:10:13.317699",
     "exception": false,
     "start_time": "2021-03-10T08:10:13.273664",
     "status": "completed"
    },
    "tags": []
   },
   "outputs": [],
   "source": [
    "\n",
    "df_x=df[\"movie_review\"]\n",
    "df_y=df[\"label\"]"
   ]
  },
  {
   "cell_type": "code",
   "execution_count": 30,
   "metadata": {
    "execution": {
     "iopub.execute_input": "2021-03-10T08:10:13.396272Z",
     "iopub.status.busy": "2021-03-10T08:10:13.395275Z",
     "iopub.status.idle": "2021-03-10T08:10:13.400213Z",
     "shell.execute_reply": "2021-03-10T08:10:13.400678Z"
    },
    "papermill": {
     "duration": 0.046156,
     "end_time": "2021-03-10T08:10:13.400889",
     "exception": false,
     "start_time": "2021-03-10T08:10:13.354733",
     "status": "completed"
    },
    "tags": []
   },
   "outputs": [],
   "source": [
    "cv = CountVectorizer()\n",
    "x_traincv=cv.fit_transform(df_x)\n",
    "encoded_input=x_traincv.toarray()"
   ]
  },
  {
   "cell_type": "code",
   "execution_count": 31,
   "metadata": {
    "execution": {
     "iopub.execute_input": "2021-03-10T08:10:13.478104Z",
     "iopub.status.busy": "2021-03-10T08:10:13.477227Z",
     "iopub.status.idle": "2021-03-10T08:10:13.483252Z",
     "shell.execute_reply": "2021-03-10T08:10:13.483738Z"
    },
    "papermill": {
     "duration": 0.045937,
     "end_time": "2021-03-10T08:10:13.483931",
     "exception": false,
     "start_time": "2021-03-10T08:10:13.437994",
     "status": "completed"
    },
    "tags": []
   },
   "outputs": [
    {
     "data": {
      "text/plain": [
       "array([[0, 1, 0, 0, 0, 0, 0, 0, 0, 0, 0, 0, 0, 2, 0, 1, 0, 0, 0, 1, 0, 0,\n",
       "        0, 0, 0, 0, 0, 0, 0, 0, 1, 0, 0, 1, 0, 1, 0],\n",
       "       [0, 0, 0, 0, 0, 0, 0, 0, 0, 0, 0, 0, 0, 0, 0, 0, 1, 0, 0, 1, 0, 0,\n",
       "        0, 0, 0, 0, 0, 0, 0, 0, 1, 0, 0, 0, 0, 0, 0],\n",
       "       [0, 0, 0, 1, 0, 0, 0, 0, 0, 0, 0, 0, 0, 0, 1, 0, 0, 0, 0, 1, 0, 0,\n",
       "        0, 0, 0, 0, 0, 0, 0, 0, 1, 0, 0, 0, 0, 0, 1],\n",
       "       [0, 0, 1, 0, 0, 0, 0, 1, 2, 0, 0, 0, 0, 0, 0, 1, 0, 0, 0, 1, 1, 0,\n",
       "        0, 0, 0, 0, 1, 0, 0, 1, 0, 0, 0, 0, 0, 0, 0],\n",
       "       [0, 0, 0, 0, 0, 2, 0, 0, 0, 0, 0, 1, 0, 0, 0, 0, 0, 0, 0, 1, 0, 0,\n",
       "        0, 1, 0, 0, 0, 0, 0, 1, 0, 0, 0, 0, 0, 0, 0],\n",
       "       [0, 0, 0, 0, 1, 0, 0, 0, 0, 0, 0, 0, 0, 0, 0, 0, 0, 1, 0, 0, 0, 0,\n",
       "        0, 0, 0, 0, 0, 1, 0, 0, 0, 1, 1, 0, 0, 0, 0],\n",
       "       [0, 0, 0, 0, 0, 0, 0, 0, 0, 1, 0, 0, 1, 0, 0, 0, 0, 0, 1, 1, 0, 2,\n",
       "        0, 0, 1, 1, 0, 0, 0, 0, 2, 0, 0, 0, 1, 1, 0],\n",
       "       [0, 0, 0, 0, 0, 0, 0, 0, 0, 0, 1, 0, 0, 0, 0, 0, 1, 0, 0, 1, 0, 0,\n",
       "        1, 0, 0, 0, 0, 0, 0, 0, 1, 0, 0, 0, 0, 0, 0],\n",
       "       [1, 0, 0, 0, 0, 0, 0, 0, 0, 0, 1, 0, 0, 0, 1, 0, 1, 0, 0, 1, 0, 0,\n",
       "        1, 0, 0, 0, 0, 0, 0, 0, 1, 0, 0, 0, 0, 0, 0],\n",
       "       [0, 0, 0, 0, 0, 0, 2, 0, 0, 0, 0, 0, 0, 0, 0, 0, 0, 0, 0, 1, 0, 0,\n",
       "        0, 0, 0, 0, 0, 0, 1, 0, 0, 0, 0, 0, 0, 0, 0]])"
      ]
     },
     "execution_count": 31,
     "metadata": {},
     "output_type": "execute_result"
    }
   ],
   "source": [
    "\n",
    "encoded_input"
   ]
  },
  {
   "cell_type": "code",
   "execution_count": 32,
   "metadata": {
    "execution": {
     "iopub.execute_input": "2021-03-10T08:10:13.564089Z",
     "iopub.status.busy": "2021-03-10T08:10:13.563152Z",
     "iopub.status.idle": "2021-03-10T08:10:13.569455Z",
     "shell.execute_reply": "2021-03-10T08:10:13.568923Z"
    },
    "papermill": {
     "duration": 0.047415,
     "end_time": "2021-03-10T08:10:13.569587",
     "exception": false,
     "start_time": "2021-03-10T08:10:13.522172",
     "status": "completed"
    },
    "tags": []
   },
   "outputs": [
    {
     "data": {
      "text/plain": [
       "[array(['again', 'great', 'is', 'movie', 'this', 'watch', 'will'],\n",
       "       dtype='<U9')]"
      ]
     },
     "execution_count": 32,
     "metadata": {},
     "output_type": "execute_result"
    }
   ],
   "source": [
    "cv.inverse_transform(encoded_input[0])"
   ]
  },
  {
   "cell_type": "code",
   "execution_count": 33,
   "metadata": {
    "execution": {
     "iopub.execute_input": "2021-03-10T08:10:13.652619Z",
     "iopub.status.busy": "2021-03-10T08:10:13.651665Z",
     "iopub.status.idle": "2021-03-10T08:10:13.656279Z",
     "shell.execute_reply": "2021-03-10T08:10:13.655674Z"
    },
    "papermill": {
     "duration": 0.048653,
     "end_time": "2021-03-10T08:10:13.656411",
     "exception": false,
     "start_time": "2021-03-10T08:10:13.607758",
     "status": "completed"
    },
    "tags": []
   },
   "outputs": [
    {
     "data": {
      "text/plain": [
       "['actors',\n",
       " 'again',\n",
       " 'also',\n",
       " 'amazing',\n",
       " 'and',\n",
       " 'awesome',\n",
       " 'boring',\n",
       " 'boyfriend',\n",
       " 'cool',\n",
       " 'director',\n",
       " 'do',\n",
       " 'ever',\n",
       " 'from',\n",
       " 'great',\n",
       " 'in',\n",
       " 'is',\n",
       " 'like',\n",
       " 'money',\n",
       " 'move',\n",
       " 'movie',\n",
       " 'my',\n",
       " 'never',\n",
       " 'not',\n",
       " 'of',\n",
       " 'on',\n",
       " 'regret',\n",
       " 'said',\n",
       " 'shame',\n",
       " 'sleeping',\n",
       " 'the',\n",
       " 'this',\n",
       " 'time',\n",
       " 'wasted',\n",
       " 'watch',\n",
       " 'what',\n",
       " 'will',\n",
       " 'year']"
      ]
     },
     "execution_count": 33,
     "metadata": {},
     "output_type": "execute_result"
    }
   ],
   "source": [
    "cv.get_feature_names()"
   ]
  },
  {
   "cell_type": "code",
   "execution_count": 34,
   "metadata": {
    "execution": {
     "iopub.execute_input": "2021-03-10T08:10:13.739333Z",
     "iopub.status.busy": "2021-03-10T08:10:13.738635Z",
     "iopub.status.idle": "2021-03-10T08:10:13.744653Z",
     "shell.execute_reply": "2021-03-10T08:10:13.744122Z"
    },
    "papermill": {
     "duration": 0.049856,
     "end_time": "2021-03-10T08:10:13.744810",
     "exception": false,
     "start_time": "2021-03-10T08:10:13.694954",
     "status": "completed"
    },
    "tags": []
   },
   "outputs": [
    {
     "data": {
      "text/plain": [
       "MultinomialNB()"
      ]
     },
     "execution_count": 34,
     "metadata": {},
     "output_type": "execute_result"
    }
   ],
   "source": [
    "mnb = MultinomialNB()\n",
    "y_train=df_y.astype('int')\n",
    "mnb.fit(x_traincv,y_train)"
   ]
  },
  {
   "cell_type": "code",
   "execution_count": 35,
   "metadata": {
    "execution": {
     "iopub.execute_input": "2021-03-10T08:10:13.824821Z",
     "iopub.status.busy": "2021-03-10T08:10:13.824199Z",
     "iopub.status.idle": "2021-03-10T08:10:13.832693Z",
     "shell.execute_reply": "2021-03-10T08:10:13.833168Z"
    },
    "papermill": {
     "duration": 0.048801,
     "end_time": "2021-03-10T08:10:13.833331",
     "exception": false,
     "start_time": "2021-03-10T08:10:13.784530",
     "status": "completed"
    },
    "tags": []
   },
   "outputs": [],
   "source": [
    "# for test\n",
    "test_feedback_list = [\n",
    "                {'movie_review': 'great great great movie ever', 'type': 'positive'},\n",
    "                {'movie_review': 'I like this amazing movie', 'type': 'positive'},\n",
    "                {'movie_review': 'my boyfriend said great movie ever', 'type': 'positive'},\n",
    "                {'movie_review': 'cool cool cool', 'type': 'positive'},\n",
    "                {'movie_review': 'awesome boyfriend said cool movie ever', 'type': 'positive'},\n",
    "                {'movie_review': 'shame shame shame', 'type': 'negative'},\n",
    "                {'movie_review': 'awesome director shame movie boring movie', 'type': 'negative'},\n",
    "                {'movie_review': 'do not like this movie', 'type': 'negative'},\n",
    "                {'movie_review': 'I do not like this boring movie', 'type': 'negative'},\n",
    "                {'movie_review': 'aweful terrible boring movie', 'type': 'negative'}\n",
    "             ]\n",
    "test_df = pd.DataFrame(test_feedback_list)\n",
    "test_df['label'] = test_df['type'].map({\"positive\":1,\"negative\":0})\n",
    "test_x=test_df[\"movie_review\"]\n",
    "test_y=test_df[\"label\"]"
   ]
  },
  {
   "cell_type": "code",
   "execution_count": 36,
   "metadata": {
    "execution": {
     "iopub.execute_input": "2021-03-10T08:10:13.913147Z",
     "iopub.status.busy": "2021-03-10T08:10:13.912521Z",
     "iopub.status.idle": "2021-03-10T08:10:13.916835Z",
     "shell.execute_reply": "2021-03-10T08:10:13.917357Z"
    },
    "papermill": {
     "duration": 0.045583,
     "end_time": "2021-03-10T08:10:13.917529",
     "exception": false,
     "start_time": "2021-03-10T08:10:13.871946",
     "status": "completed"
    },
    "tags": []
   },
   "outputs": [],
   "source": [
    "x_testcv=cv.transform(test_x)\n",
    "predictions=mnb.predict(x_testcv)"
   ]
  },
  {
   "cell_type": "code",
   "execution_count": 37,
   "metadata": {
    "execution": {
     "iopub.execute_input": "2021-03-10T08:10:14.002949Z",
     "iopub.status.busy": "2021-03-10T08:10:14.002288Z",
     "iopub.status.idle": "2021-03-10T08:10:14.005060Z",
     "shell.execute_reply": "2021-03-10T08:10:14.005690Z"
    },
    "papermill": {
     "duration": 0.048335,
     "end_time": "2021-03-10T08:10:14.005874",
     "exception": false,
     "start_time": "2021-03-10T08:10:13.957539",
     "status": "completed"
    },
    "tags": []
   },
   "outputs": [
    {
     "data": {
      "text/plain": [
       "1.0"
      ]
     },
     "execution_count": 37,
     "metadata": {},
     "output_type": "execute_result"
    }
   ],
   "source": [
    "accuracy_score(test_y, predictions)"
   ]
  },
  {
   "cell_type": "markdown",
   "metadata": {
    "papermill": {
     "duration": 0.03944,
     "end_time": "2021-03-10T08:10:14.084117",
     "exception": false,
     "start_time": "2021-03-10T08:10:14.044677",
     "status": "completed"
    },
    "tags": []
   },
   "source": [
    "## Reference\n",
    "\n",
    "[My first machine-learning/deep-learning by Minsuk Heo](https://github.com/wikibook/machine-learning/tree/master/data)\n",
    "\n"
   ]
  }
 ],
 "metadata": {
  "kernelspec": {
   "display_name": "Python 3",
   "language": "python",
   "name": "python3"
  },
  "language_info": {
   "codemirror_mode": {
    "name": "ipython",
    "version": 3
   },
   "file_extension": ".py",
   "mimetype": "text/x-python",
   "name": "python",
   "nbconvert_exporter": "python",
   "pygments_lexer": "ipython3",
   "version": "3.7.9"
  },
  "papermill": {
   "default_parameters": {},
   "duration": 11.455991,
   "end_time": "2021-03-10T08:10:14.732343",
   "environment_variables": {},
   "exception": null,
   "input_path": "__notebook__.ipynb",
   "output_path": "__notebook__.ipynb",
   "parameters": {},
   "start_time": "2021-03-10T08:10:03.276352",
   "version": "2.2.2"
  }
 },
 "nbformat": 4,
 "nbformat_minor": 4
}
