{
 "cells": [
  {
   "cell_type": "markdown",
   "metadata": {
    "papermill": {
     "duration": 0.015754,
     "end_time": "2021-01-26T15:51:33.918373",
     "exception": false,
     "start_time": "2021-01-26T15:51:33.902619",
     "status": "completed"
    },
    "tags": []
   },
   "source": [
    "# Simple Time series LSTM \n",
    "\n",
    "LSTM (Long term Short Term memory)\n",
    "* **RNN (Recurrent Neural Network)** has problem about long term memory, **LSTM** has improvement about that\n",
    "* Our **Time series LSTM** is focusing on predicting passanger's count on next month, when **LSTM** gets passanger's count during before 12 months\n",
    "\n",
    "<hr>\n",
    "\n",
    "How to use this notebook :\n",
    "\n",
    "There is only minimum explanation\n",
    "\n",
    "This notebook could be helpful for who want to see how code works right away\n",
    "\n",
    "Please upvote if it was helpful !\n",
    "\n",
    "<hr>\n",
    "\n",
    "## Content\n",
    "1. [Libraries import](#one)\n",
    "2. [Prepare Data](#two)\n",
    "3. [Modeling](#three)\n",
    "4. [Training & Evaluation](#four)\n",
    "\n",
    "<hr>"
   ]
  },
  {
   "cell_type": "markdown",
   "metadata": {
    "papermill": {
     "duration": 0.012538,
     "end_time": "2021-01-26T15:51:33.944143",
     "exception": false,
     "start_time": "2021-01-26T15:51:33.931605",
     "status": "completed"
    },
    "tags": []
   },
   "source": [
    "<a id=\"one\"></a>\n",
    "# 1. Libraries import"
   ]
  },
  {
   "cell_type": "code",
   "execution_count": 1,
   "metadata": {
    "_cell_guid": "b1076dfc-b9ad-4769-8c92-a6c4dae69d19",
    "_uuid": "8f2839f25d086af736a60e9eeb907d3b93b6e0e5",
    "execution": {
     "iopub.execute_input": "2021-01-26T15:51:33.976347Z",
     "iopub.status.busy": "2021-01-26T15:51:33.975644Z",
     "iopub.status.idle": "2021-01-26T15:51:41.791987Z",
     "shell.execute_reply": "2021-01-26T15:51:41.790259Z"
    },
    "papermill": {
     "duration": 7.835243,
     "end_time": "2021-01-26T15:51:41.792126",
     "exception": false,
     "start_time": "2021-01-26T15:51:33.956883",
     "status": "completed"
    },
    "tags": []
   },
   "outputs": [],
   "source": [
    "import seaborn as sns\n",
    "import pandas as pd\n",
    "import numpy as np\n",
    "import os\n",
    "import matplotlib\n",
    "import matplotlib.pyplot as plt\n",
    "from sklearn import model_selection\n",
    "from keras import models, layers\n"
   ]
  },
  {
   "cell_type": "code",
   "execution_count": 2,
   "metadata": {
    "execution": {
     "iopub.execute_input": "2021-01-26T15:51:41.838041Z",
     "iopub.status.busy": "2021-01-26T15:51:41.837241Z",
     "iopub.status.idle": "2021-01-26T15:51:41.840949Z",
     "shell.execute_reply": "2021-01-26T15:51:41.840249Z"
    },
    "papermill": {
     "duration": 0.03584,
     "end_time": "2021-01-26T15:51:41.841065",
     "exception": false,
     "start_time": "2021-01-26T15:51:41.805225",
     "status": "completed"
    },
    "tags": []
   },
   "outputs": [],
   "source": [
    "# this is for visualization\n",
    "# we can skip this part (not important)\n",
    "\n",
    "class skeras() :\n",
    "    def save_history_history(fname, history_history, fold=''):\n",
    "        np.save(os.path.join(fold, fname), history_history)\n",
    "\n",
    "\n",
    "    def load_history_history(fname, fold=''):\n",
    "        history_history = np.load(os.path.join(fold, fname)).item(0)\n",
    "        return history_history\n",
    "\n",
    "\n",
    "    def plot_acc(history, title=None):\n",
    "        # summarize history for accuracy\n",
    "        if not isinstance(history, dict):\n",
    "            history = history.history\n",
    "\n",
    "        plt.plot(history['acc'])\n",
    "        plt.plot(history['val_acc'])\n",
    "        if title is not None:\n",
    "            plt.title(title)\n",
    "        plt.ylabel('Accracy')\n",
    "        plt.xlabel('Epoch')\n",
    "        plt.legend(['Training data', 'Validation data'], loc=0)\n",
    "        # plt.show()\n",
    "\n",
    "\n",
    "    def plot_loss(history, title=None):\n",
    "        # summarize history for loss\n",
    "        if not isinstance(history, dict):\n",
    "            history = history.history\n",
    "\n",
    "        plt.plot(history['loss'])\n",
    "        plt.plot(history['val_loss'])\n",
    "        if title is not None:\n",
    "            plt.title(title)\n",
    "        plt.ylabel('Loss')\n",
    "        plt.xlabel('Epoch')\n",
    "        plt.legend(['Training data', 'Validation data'], loc=0)\n",
    "        # plt.show()\n",
    "\n",
    "\n",
    "    def plot_history(history):\n",
    "        plt.figure(figsize=(15, 5))\n",
    "        plt.subplot(1, 2, 1)\n",
    "        plot_acc(history)\n",
    "        plt.subplot(1, 2, 2)\n",
    "        plot_loss(history)\n",
    "\n",
    "\n",
    "    def plot_loss_acc(history):\n",
    "        plot_loss(history, '(a) Loss trajectory')\n",
    "        plt.show()            \n",
    "        plot_acc(history, '(b) Accracy trajectory')\n",
    "        plt.show()\n",
    "\n",
    "\n",
    "    def plot_acc_loss(history):\n",
    "        plot_acc(history, '(a) Accracy trajectory')\n",
    "        plt.show()\n",
    "        plot_loss(history, '(b) Loss trajectory')\n",
    "        plt.show()"
   ]
  },
  {
   "cell_type": "markdown",
   "metadata": {
    "papermill": {
     "duration": 0.012852,
     "end_time": "2021-01-26T15:51:41.866933",
     "exception": false,
     "start_time": "2021-01-26T15:51:41.854081",
     "status": "completed"
    },
    "tags": []
   },
   "source": [
    "<a id=\"two\"></a>\n",
    "# 2. Prepare Data"
   ]
  },
  {
   "cell_type": "markdown",
   "metadata": {
    "papermill": {
     "duration": 0.013137,
     "end_time": "2021-01-26T15:51:41.893228",
     "exception": false,
     "start_time": "2021-01-26T15:51:41.880091",
     "status": "completed"
    },
    "tags": []
   },
   "source": [
    "* We need to put **'international-airline-passengers.csv'** in our input data\n",
    "* 144 rows\n",
    "* Data has 2 columns (Month and passangers)\n",
    "* **Month** ex) 1949-01, **passangers** ex) 112"
   ]
  },
  {
   "cell_type": "code",
   "execution_count": 3,
   "metadata": {
    "execution": {
     "iopub.execute_input": "2021-01-26T15:51:41.924922Z",
     "iopub.status.busy": "2021-01-26T15:51:41.924187Z",
     "iopub.status.idle": "2021-01-26T15:51:42.215320Z",
     "shell.execute_reply": "2021-01-26T15:51:42.215868Z"
    },
    "papermill": {
     "duration": 0.309739,
     "end_time": "2021-01-26T15:51:42.216011",
     "exception": false,
     "start_time": "2021-01-26T15:51:41.906272",
     "status": "completed"
    },
    "tags": []
   },
   "outputs": [
    {
     "data": {
      "text/html": [
       "<div>\n",
       "<style scoped>\n",
       "    .dataframe tbody tr th:only-of-type {\n",
       "        vertical-align: middle;\n",
       "    }\n",
       "\n",
       "    .dataframe tbody tr th {\n",
       "        vertical-align: top;\n",
       "    }\n",
       "\n",
       "    .dataframe thead th {\n",
       "        text-align: right;\n",
       "    }\n",
       "</style>\n",
       "<table border=\"1\" class=\"dataframe\">\n",
       "  <thead>\n",
       "    <tr style=\"text-align: right;\">\n",
       "      <th></th>\n",
       "      <th>Month</th>\n",
       "      <th>International airline passengers: monthly totals in thousands. Jan 49 ? Dec 60</th>\n",
       "    </tr>\n",
       "  </thead>\n",
       "  <tbody>\n",
       "    <tr>\n",
       "      <th>0</th>\n",
       "      <td>1949-01</td>\n",
       "      <td>112</td>\n",
       "    </tr>\n",
       "    <tr>\n",
       "      <th>1</th>\n",
       "      <td>1949-02</td>\n",
       "      <td>118</td>\n",
       "    </tr>\n",
       "    <tr>\n",
       "      <th>2</th>\n",
       "      <td>1949-03</td>\n",
       "      <td>132</td>\n",
       "    </tr>\n",
       "    <tr>\n",
       "      <th>3</th>\n",
       "      <td>1949-04</td>\n",
       "      <td>129</td>\n",
       "    </tr>\n",
       "    <tr>\n",
       "      <th>4</th>\n",
       "      <td>1949-05</td>\n",
       "      <td>121</td>\n",
       "    </tr>\n",
       "    <tr>\n",
       "      <th>...</th>\n",
       "      <td>...</td>\n",
       "      <td>...</td>\n",
       "    </tr>\n",
       "    <tr>\n",
       "      <th>139</th>\n",
       "      <td>1960-08</td>\n",
       "      <td>606</td>\n",
       "    </tr>\n",
       "    <tr>\n",
       "      <th>140</th>\n",
       "      <td>1960-09</td>\n",
       "      <td>508</td>\n",
       "    </tr>\n",
       "    <tr>\n",
       "      <th>141</th>\n",
       "      <td>1960-10</td>\n",
       "      <td>461</td>\n",
       "    </tr>\n",
       "    <tr>\n",
       "      <th>142</th>\n",
       "      <td>1960-11</td>\n",
       "      <td>390</td>\n",
       "    </tr>\n",
       "    <tr>\n",
       "      <th>143</th>\n",
       "      <td>1960-12</td>\n",
       "      <td>432</td>\n",
       "    </tr>\n",
       "  </tbody>\n",
       "</table>\n",
       "<p>144 rows × 2 columns</p>\n",
       "</div>"
      ],
      "text/plain": [
       "       Month  \\\n",
       "0    1949-01   \n",
       "1    1949-02   \n",
       "2    1949-03   \n",
       "3    1949-04   \n",
       "4    1949-05   \n",
       "..       ...   \n",
       "139  1960-08   \n",
       "140  1960-09   \n",
       "141  1960-10   \n",
       "142  1960-11   \n",
       "143  1960-12   \n",
       "\n",
       "     International airline passengers: monthly totals in thousands. Jan 49 ? Dec 60  \n",
       "0                                                  112                               \n",
       "1                                                  118                               \n",
       "2                                                  132                               \n",
       "3                                                  129                               \n",
       "4                                                  121                               \n",
       "..                                                 ...                               \n",
       "139                                                606                               \n",
       "140                                                508                               \n",
       "141                                                461                               \n",
       "142                                                390                               \n",
       "143                                                432                               \n",
       "\n",
       "[144 rows x 2 columns]"
      ]
     },
     "execution_count": 3,
     "metadata": {},
     "output_type": "execute_result"
    }
   ],
   "source": [
    "fname='../input/international-airline-passengers/international-airline-passengers.csv'\n",
    "pd.read_csv(fname, engine='python', skipfooter=3)"
   ]
  },
  {
   "cell_type": "code",
   "execution_count": 4,
   "metadata": {
    "execution": {
     "iopub.execute_input": "2021-01-26T15:51:42.248989Z",
     "iopub.status.busy": "2021-01-26T15:51:42.247855Z",
     "iopub.status.idle": "2021-01-26T15:51:42.258944Z",
     "shell.execute_reply": "2021-01-26T15:51:42.258213Z"
    },
    "papermill": {
     "duration": 0.02872,
     "end_time": "2021-01-26T15:51:42.259067",
     "exception": false,
     "start_time": "2021-01-26T15:51:42.230347",
     "status": "completed"
    },
    "tags": []
   },
   "outputs": [],
   "source": [
    "# bring our data as pandas dataframe\n",
    "def load_data(fname='../input/international-airline-passengers/international-airline-passengers.csv'):\n",
    "        \n",
    "    # usecols=[1] means only passangers count\n",
    "    dataset = pd.read_csv(fname, usecols=[1], engine='python', skipfooter=3)        \n",
    "        \n",
    "    # we change data type from dataframe to 1-dimension numpy \n",
    "    data = dataset.values.reshape(-1)\n",
    "        \n",
    "    # check\n",
    "    plt.plot(data)\n",
    "    plt.xlabel('Time'); plt.ylabel('#Passengers')\n",
    "    plt.title('Original Data')\n",
    "    plt.show()\n",
    "\n",
    "    # data normalize (because LSTM learn 0~1 values)\n",
    "    data_dn = (data - np.mean(data)) / np.std(data) / 5\n",
    "    plt.plot(data_dn)\n",
    "    plt.xlabel('Time'); plt.ylabel('Normalized #Passengers')\n",
    "    plt.title('Normalized data by $E[]$ and $5\\sigma$')\n",
    "    plt.show()\n",
    "\n",
    "    return data_dn    \n"
   ]
  },
  {
   "cell_type": "markdown",
   "metadata": {
    "papermill": {
     "duration": 0.013415,
     "end_time": "2021-01-26T15:51:42.286193",
     "exception": false,
     "start_time": "2021-01-26T15:51:42.272778",
     "status": "completed"
    },
    "tags": []
   },
   "source": [
    "**Here is important**\n",
    "\n",
    "we will make time series dataset\n",
    "\n",
    "* x = last 12 months passanger count     ex) 1(Jan) ~ 12(Dec)\n",
    "* y = right after x month                ex ) 13(1)(Jan)\n"
   ]
  },
  {
   "cell_type": "code",
   "execution_count": 5,
   "metadata": {
    "execution": {
     "iopub.execute_input": "2021-01-26T15:51:42.323922Z",
     "iopub.status.busy": "2021-01-26T15:51:42.322816Z",
     "iopub.status.idle": "2021-01-26T15:51:42.326401Z",
     "shell.execute_reply": "2021-01-26T15:51:42.325853Z"
    },
    "papermill": {
     "duration": 0.026665,
     "end_time": "2021-01-26T15:51:42.326511",
     "exception": false,
     "start_time": "2021-01-26T15:51:42.299846",
     "status": "completed"
    },
    "tags": []
   },
   "outputs": [],
   "source": [
    "# this function makes dataset for Using Rate of change about D months predict next month passanger count\n",
    "def get_Xy(data, D=12):\n",
    "    # make X and y\n",
    "    X_l = []\n",
    "    y_l = []\n",
    "    N = len(data) # 144\n",
    "    assert N > D, \"N should be larger than D, where N is len(data)\"\n",
    "    for ii in range(N-D-1): # 0 ~ 131\n",
    "        X_l.append(data[ii:ii+D])\n",
    "        y_l.append(data[ii+D])\n",
    "    X = np.array(X_l)\n",
    "    X = X.reshape(X.shape[0], X.shape[1], 1)\n",
    "    y = np.array(y_l)\n",
    "    print(X.shape, y.shape)\n",
    "    return X, y"
   ]
  },
  {
   "cell_type": "code",
   "execution_count": 6,
   "metadata": {
    "execution": {
     "iopub.execute_input": "2021-01-26T15:51:42.361629Z",
     "iopub.status.busy": "2021-01-26T15:51:42.360525Z",
     "iopub.status.idle": "2021-01-26T15:51:42.370974Z",
     "shell.execute_reply": "2021-01-26T15:51:42.371522Z"
    },
    "papermill": {
     "duration": 0.031162,
     "end_time": "2021-01-26T15:51:42.371681",
     "exception": false,
     "start_time": "2021-01-26T15:51:42.340519",
     "status": "completed"
    },
    "tags": []
   },
   "outputs": [
    {
     "name": "stdout",
     "output_type": "stream",
     "text": [
      "(131, 12, 1) (131,)\n",
      "(array([[[112],\n",
      "        [118],\n",
      "        [132],\n",
      "        ...,\n",
      "        [119],\n",
      "        [104],\n",
      "        [118]],\n",
      "\n",
      "       [[118],\n",
      "        [132],\n",
      "        [129],\n",
      "        ...,\n",
      "        [104],\n",
      "        [118],\n",
      "        [115]],\n",
      "\n",
      "       [[132],\n",
      "        [129],\n",
      "        [121],\n",
      "        ...,\n",
      "        [118],\n",
      "        [115],\n",
      "        [126]],\n",
      "\n",
      "       ...,\n",
      "\n",
      "       [[463],\n",
      "        [407],\n",
      "        [362],\n",
      "        ...,\n",
      "        [535],\n",
      "        [622],\n",
      "        [606]],\n",
      "\n",
      "       [[407],\n",
      "        [362],\n",
      "        [405],\n",
      "        ...,\n",
      "        [622],\n",
      "        [606],\n",
      "        [508]],\n",
      "\n",
      "       [[362],\n",
      "        [405],\n",
      "        [417],\n",
      "        ...,\n",
      "        [606],\n",
      "        [508],\n",
      "        [461]]]), array([115, 126, 141, 135, 125, 149, 170, 170, 158, 133, 114, 140, 145,\n",
      "       150, 178, 163, 172, 178, 199, 199, 184, 162, 146, 166, 171, 180,\n",
      "       193, 181, 183, 218, 230, 242, 209, 191, 172, 194, 196, 196, 236,\n",
      "       235, 229, 243, 264, 272, 237, 211, 180, 201, 204, 188, 235, 227,\n",
      "       234, 264, 302, 293, 259, 229, 203, 229, 242, 233, 267, 269, 270,\n",
      "       315, 364, 347, 312, 274, 237, 278, 284, 277, 317, 313, 318, 374,\n",
      "       413, 405, 355, 306, 271, 306, 315, 301, 356, 348, 355, 422, 465,\n",
      "       467, 404, 347, 305, 336, 340, 318, 362, 348, 363, 435, 491, 505,\n",
      "       404, 359, 310, 337, 360, 342, 406, 396, 420, 472, 548, 559, 463,\n",
      "       407, 362, 405, 417, 391, 419, 461, 472, 535, 622, 606, 508, 461,\n",
      "       390]))\n"
     ]
    }
   ],
   "source": [
    "data = pd.read_csv(fname, usecols=[1], engine='python', skipfooter=3).values.reshape(-1)\n",
    "\n",
    "# we can check x = (131,12,1), y = (131)\n",
    "print(get_Xy(data))"
   ]
  },
  {
   "cell_type": "code",
   "execution_count": 7,
   "metadata": {
    "execution": {
     "iopub.execute_input": "2021-01-26T15:51:42.411391Z",
     "iopub.status.busy": "2021-01-26T15:51:42.410319Z",
     "iopub.status.idle": "2021-01-26T15:51:42.414305Z",
     "shell.execute_reply": "2021-01-26T15:51:42.413624Z"
    },
    "papermill": {
     "duration": 0.027521,
     "end_time": "2021-01-26T15:51:42.414435",
     "exception": false,
     "start_time": "2021-01-26T15:51:42.386914",
     "status": "completed"
    },
    "tags": []
   },
   "outputs": [],
   "source": [
    "class Dataset:\n",
    "    \n",
    "    # initialize (data name & D (time-series length))\n",
    "    def __init__(self, fname='../input/international-airline-passengers/international-airline-passengers.csv', D=12):\n",
    "        data_dn = load_data(fname=fname)\n",
    "        X, y = get_Xy(data_dn, D=D)\n",
    "        X_train, X_test, y_train, y_test = model_selection.train_test_split(X, y, test_size=0.2, random_state=42)  \n",
    "        \n",
    "        # after initializing , we can see output when we use this class\n",
    "        self.X, self.y = X, y\n",
    "        self.X_train, self.X_test, self.y_train, self.y_test = X_train, X_test, y_train, y_test   \n",
    "\n",
    "    \n"
   ]
  },
  {
   "cell_type": "markdown",
   "metadata": {
    "papermill": {
     "duration": 0.013972,
     "end_time": "2021-01-26T15:51:42.442894",
     "exception": false,
     "start_time": "2021-01-26T15:51:42.428922",
     "status": "completed"
    },
    "tags": []
   },
   "source": [
    "<a id=\"three\"></a>\n",
    "# 3. Modeliing"
   ]
  },
  {
   "cell_type": "code",
   "execution_count": 8,
   "metadata": {
    "execution": {
     "iopub.execute_input": "2021-01-26T15:51:42.480139Z",
     "iopub.status.busy": "2021-01-26T15:51:42.479019Z",
     "iopub.status.idle": "2021-01-26T15:51:42.482072Z",
     "shell.execute_reply": "2021-01-26T15:51:42.481498Z"
    },
    "papermill": {
     "duration": 0.024885,
     "end_time": "2021-01-26T15:51:42.482181",
     "exception": false,
     "start_time": "2021-01-26T15:51:42.457296",
     "status": "completed"
    },
    "tags": []
   },
   "outputs": [],
   "source": [
    "def rnn_model(shape):\n",
    "    \n",
    "    # input (12,1)\n",
    "    m_x = layers.Input(shape=shape) #X.shape[1:]\n",
    "    \n",
    "    # hidden (10)\n",
    "    m_h = layers.LSTM(10)(m_x)\n",
    "    \n",
    "    # output (1)\n",
    "    m_y = layers.Dense(1)(m_h)\n",
    "    m = models.Model(m_x, m_y)\n",
    "    \n",
    "    # show me summary about model\n",
    "    m.compile('adam', 'mean_squared_error')\n",
    "    m.summary()\n",
    "    \n",
    "    return m"
   ]
  },
  {
   "cell_type": "markdown",
   "metadata": {
    "papermill": {
     "duration": 0.01395,
     "end_time": "2021-01-26T15:51:42.510683",
     "exception": false,
     "start_time": "2021-01-26T15:51:42.496733",
     "status": "completed"
    },
    "tags": []
   },
   "source": [
    "<a id=\"four\"></a>\n",
    "# 4. Training & Evaluation"
   ]
  },
  {
   "cell_type": "code",
   "execution_count": 9,
   "metadata": {
    "execution": {
     "iopub.execute_input": "2021-01-26T15:51:42.543317Z",
     "iopub.status.busy": "2021-01-26T15:51:42.542493Z",
     "iopub.status.idle": "2021-01-26T15:51:42.564203Z",
     "shell.execute_reply": "2021-01-26T15:51:42.564965Z"
    },
    "papermill": {
     "duration": 0.040013,
     "end_time": "2021-01-26T15:51:42.565146",
     "exception": false,
     "start_time": "2021-01-26T15:51:42.525133",
     "status": "completed"
    },
    "tags": []
   },
   "outputs": [],
   "source": [
    "class Machine():\n",
    "    def __init__(self):\n",
    "        # bring data\n",
    "        self.data = Dataset()\n",
    "        \n",
    "        # input data size (12,1)\n",
    "        shape = self.data.X.shape[1:]\n",
    "        \n",
    "        # make LSTM model\n",
    "        self.model = rnn_model(shape)\n",
    "        \n",
    "    def run(self, epochs=400):\n",
    "        d = self.data\n",
    "        \n",
    "        # we made internal variables in Class Dataset()\n",
    "        X_train, X_test, y_train, y_test = d.X_train, d.X_test, d.y_train, d.y_test\n",
    "        X, y = d.X, d.y\n",
    "        \n",
    "        # training\n",
    "        m = self.model \n",
    "        h = m.fit(X_train, y_train, epochs=epochs, validation_data=[X_test, y_test], verbose=0)\n",
    "\n",
    "        # after training show us training curve\n",
    "        skeras.plot_loss(h)\n",
    "        plt.title('History of training')\n",
    "        plt.show()\n",
    "\n",
    "        # evaluate() show us training efficiency after training\n",
    "        yp = m.predict(X_test)\n",
    "        print('Loss:', m.evaluate(X_test, y_test))\n",
    "        \n",
    "        # make two graph for comparing\n",
    "        plt.plot(yp, label='Origial')\n",
    "        plt.plot(y_test, label='Prediction')\n",
    "        plt.legend(loc=0)\n",
    "        plt.title('Validation Results')\n",
    "        plt.show()\n",
    "        \n",
    "        #   upside         >>>>>>>>>>>>>      we cant find out Time series relationship\n",
    "        #-----------------------------------------------------------------------------------------------\n",
    "        #   downside       >>>>>>>>>>>>>      we use seaborn and pandas's dataframe to find Time series relationship\n",
    "        \n",
    "        yp = m.predict(X_test).reshape(-1)\n",
    "        print('Loss:', m.evaluate(X_test, y_test))  \n",
    "        print(yp.shape, y_test.shape)\n",
    "\n",
    "        df = pd.DataFrame()\n",
    "        df['Sample'] = list(range(len(y_test))) * 2\n",
    "        # Sample column's first = purpose order, second = predict order\n",
    "        df['Normalized #Passengers'] = np.concatenate([y_test, yp], axis=0)\n",
    "        df['Type'] = ['Original'] * len(y_test) + ['Prediction'] * len(yp)\n",
    "\n",
    "        plt.figure(figsize=(7, 5))\n",
    "        sns.barplot(x=\"Sample\", y=\"Normalized #Passengers\", hue=\"Type\", data=df)\n",
    "        plt.ylabel('Normalized #Passengers')\n",
    "        plt.show()\n",
    "        \n",
    "        yp = m.predict(X)\n",
    "        plt.plot(yp, label='Origial')\n",
    "        plt.plot(y, label='Prediction')\n",
    "        plt.legend(loc=0)\n",
    "        plt.title('All Results')\n",
    "        plt.show()\n"
   ]
  },
  {
   "cell_type": "code",
   "execution_count": 10,
   "metadata": {
    "execution": {
     "iopub.execute_input": "2021-01-26T15:51:42.598606Z",
     "iopub.status.busy": "2021-01-26T15:51:42.597871Z",
     "iopub.status.idle": "2021-01-26T15:52:03.399675Z",
     "shell.execute_reply": "2021-01-26T15:52:03.399106Z"
    },
    "papermill": {
     "duration": 20.819372,
     "end_time": "2021-01-26T15:52:03.399803",
     "exception": false,
     "start_time": "2021-01-26T15:51:42.580431",
     "status": "completed"
    },
    "tags": []
   },
   "outputs": [
    {
     "data": {
      "image/png": "[encoded data removed]",
      "text/plain": [
       "<Figure size 432x288 with 1 Axes>"
      ]
     },
     "metadata": {
      "needs_background": "light"
     },
     "output_type": "display_data"
    },
    {
     "data": {
      "image/png": "[encoded data removed]",
      "text/plain": [
       "<Figure size 432x288 with 1 Axes>"
      ]
     },
     "metadata": {
      "needs_background": "light"
     },
     "output_type": "display_data"
    },
    {
     "name": "stdout",
     "output_type": "stream",
     "text": [
      "(131, 12, 1) (131,)\n",
      "Model: \"functional_1\"\n",
      "_________________________________________________________________\n",
      "Layer (type)                 Output Shape              Param #   \n",
      "=================================================================\n",
      "input_1 (InputLayer)         [(None, 12, 1)]           0         \n",
      "_________________________________________________________________\n",
      "lstm (LSTM)                  (None, 10)                480       \n",
      "_________________________________________________________________\n",
      "dense (Dense)                (None, 1)                 11        \n",
      "=================================================================\n",
      "Total params: 491\n",
      "Trainable params: 491\n",
      "Non-trainable params: 0\n",
      "_________________________________________________________________\n"
     ]
    },
    {
     "data": {
      "image/png": "[encoded data removed]",
      "text/plain": [
       "<Figure size 432x288 with 1 Axes>"
      ]
     },
     "metadata": {
      "needs_background": "light"
     },
     "output_type": "display_data"
    },
    {
     "name": "stdout",
     "output_type": "stream",
     "text": [
      "1/1 [==============================] - 0s 1ms/step - loss: 0.0014\n",
      "Loss: 0.0014429162256419659\n"
     ]
    },
    {
     "data": {
      "image/png": "[encoded data removed]",
      "text/plain": [
       "<Figure size 432x288 with 1 Axes>"
      ]
     },
     "metadata": {
      "needs_background": "light"
     },
     "output_type": "display_data"
    },
    {
     "name": "stdout",
     "output_type": "stream",
     "text": [
      "1/1 [==============================] - 0s 2ms/step - loss: 0.0014\n",
      "Loss: 0.0014429162256419659\n",
      "(27,) (27,)\n"
     ]
    },
    {
     "data": {
      "image/png": "[encoded data removed]",
      "text/plain": [
       "<Figure size 504x360 with 1 Axes>"
      ]
     },
     "metadata": {
      "needs_background": "light"
     },
     "output_type": "display_data"
    },
    {
     "data": {
      "image/png": "[encoded data removed]",
      "text/plain": [
       "<Figure size 432x288 with 1 Axes>"
      ]
     },
     "metadata": {
      "needs_background": "light"
     },
     "output_type": "display_data"
    }
   ],
   "source": [
    "def main():        \n",
    "    machine = Machine() \n",
    "    machine.run(epochs=400)\n",
    "\n",
    "if __name__ == '__main__' :\n",
    "    main()"
   ]
  },
  {
   "cell_type": "markdown",
   "metadata": {
    "papermill": {
     "duration": 0.022906,
     "end_time": "2021-01-26T15:52:03.446688",
     "exception": false,
     "start_time": "2021-01-26T15:52:03.423782",
     "status": "completed"
    },
    "tags": []
   },
   "source": [
    "## Reference\n",
    "* Coding chef 3 minute deep learning  - [ex5_1_lstm_imdb](https://github.com/jskDr/keraspp/blob/master/ex5_2_lstm_airplane.py)\n",
    "* [Simple LSTM](https://www.kaggle.com/gigunlee/beginner-simple-lstm)"
   ]
  },
  {
   "cell_type": "code",
   "execution_count": null,
   "metadata": {
    "papermill": {
     "duration": 0.022938,
     "end_time": "2021-01-26T15:52:03.492725",
     "exception": false,
     "start_time": "2021-01-26T15:52:03.469787",
     "status": "completed"
    },
    "tags": []
   },
   "outputs": [],
   "source": []
  }
 ],
 "metadata": {
  "kernelspec": {
   "display_name": "Python 3",
   "language": "python",
   "name": "python3"
  },
  "language_info": {
   "codemirror_mode": {
    "name": "ipython",
    "version": 3
   },
   "file_extension": ".py",
   "mimetype": "text/x-python",
   "name": "python",
   "nbconvert_exporter": "python",
   "pygments_lexer": "ipython3",
   "version": "3.7.6"
  },
  "papermill": {
   "duration": 35.064653,
   "end_time": "2021-01-26T15:52:03.624090",
   "environment_variables": {},
   "exception": null,
   "input_path": "__notebook__.ipynb",
   "output_path": "__notebook__.ipynb",
   "parameters": {},
   "start_time": "2021-01-26T15:51:28.559437",
   "version": "2.1.0"
  }
 },
 "nbformat": 4,
 "nbformat_minor": 4
}
