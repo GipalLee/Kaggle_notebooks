{
 "cells": [
  {
   "cell_type": "markdown",
   "metadata": {
    "papermill": {
     "duration": 0.031725,
     "end_time": "2021-01-10T17:05:34.486666",
     "exception": false,
     "start_time": "2021-01-10T17:05:34.454941",
     "status": "completed"
    },
    "tags": []
   },
   "source": [
    "# [Beginner] - Numpy Basic Tutorial\n",
    "\n",
    "\n",
    "How to use this notebook :\n",
    "\n",
    "There is only minimum explanation\n",
    "\n",
    "This notebook could be helpful for who want to see how code works right away\n",
    "\n",
    "<HR>\n"
   ]
  },
  {
   "cell_type": "code",
   "execution_count": 1,
   "metadata": {
    "_cell_guid": "79c7e3d0-c299-4dcb-8224-4455121ee9b0",
    "_uuid": "d629ff2d2480ee46fbb7e2d37f6b5fab8052498a",
    "execution": {
     "iopub.execute_input": "2021-01-10T17:05:34.552555Z",
     "iopub.status.busy": "2021-01-10T17:05:34.551930Z",
     "iopub.status.idle": "2021-01-10T17:05:34.555923Z",
     "shell.execute_reply": "2021-01-10T17:05:34.555411Z"
    },
    "papermill": {
     "duration": 0.038789,
     "end_time": "2021-01-10T17:05:34.556030",
     "exception": false,
     "start_time": "2021-01-10T17:05:34.517241",
     "status": "completed"
    },
    "tags": []
   },
   "outputs": [],
   "source": [
    "# linear algebra\n",
    "import numpy as np \n",
    "\n",
    "# data processing, CSV file I/O (e.g. pd.read_csv)\n",
    "import pandas as pd "
   ]
  },
  {
   "cell_type": "code",
   "execution_count": 2,
   "metadata": {
    "execution": {
     "iopub.execute_input": "2021-01-10T17:05:34.600855Z",
     "iopub.status.busy": "2021-01-10T17:05:34.600269Z",
     "iopub.status.idle": "2021-01-10T17:05:34.610605Z",
     "shell.execute_reply": "2021-01-10T17:05:34.611053Z"
    },
    "papermill": {
     "duration": 0.034505,
     "end_time": "2021-01-10T17:05:34.611220",
     "exception": false,
     "start_time": "2021-01-10T17:05:34.576715",
     "status": "completed"
    },
    "tags": []
   },
   "outputs": [
    {
     "name": "stdout",
     "output_type": "stream",
     "text": [
      "[1 2 3]\n",
      "[[1 2 3]\n",
      " [4 5 6]]\n"
     ]
    }
   ],
   "source": [
    "a = np.array([1, 2, 3])\n",
    "b = np.array([(1,2,3), (4,5,6)])\n",
    "\n",
    "print(a)\n",
    "print(b)"
   ]
  },
  {
   "cell_type": "markdown",
   "metadata": {
    "papermill": {
     "duration": 0.020401,
     "end_time": "2021-01-10T17:05:34.653741",
     "exception": false,
     "start_time": "2021-01-10T17:05:34.633340",
     "status": "completed"
    },
    "tags": []
   },
   "source": [
    "## 1. Ndarray function\n",
    "<HR>\n",
    "\n",
    "* **ndarray.ndim :** the dimension number of the array\n",
    "* **ndarray.shape :** the dimension of the array, n rows and m columns is n,m\n",
    "* **ndarray.size :** the number of all elements in the array\n",
    "* **ndarray.dtype :** the type of the element in the array, such as int32, float64\n",
    "* **ndarray.itemsize :** the size of each element in the array, in bytes\n",
    "* **ndarray.data :** the buffering for storing the array elements"
   ]
  },
  {
   "cell_type": "code",
   "execution_count": 3,
   "metadata": {
    "execution": {
     "iopub.execute_input": "2021-01-10T17:05:34.706058Z",
     "iopub.status.busy": "2021-01-10T17:05:34.705459Z",
     "iopub.status.idle": "2021-01-10T17:05:34.714072Z",
     "shell.execute_reply": "2021-01-10T17:05:34.713552Z"
    },
    "papermill": {
     "duration": 0.039694,
     "end_time": "2021-01-10T17:05:34.714216",
     "exception": false,
     "start_time": "2021-01-10T17:05:34.674522",
     "status": "completed"
    },
    "tags": []
   },
   "outputs": [
    {
     "name": "stdout",
     "output_type": "stream",
     "text": [
      "a=\n",
      "[1 2 3]\n",
      "a's ndim : 1\n",
      "a's shape : (3,)\n",
      "a's size : 3\n",
      "a's dtype : int64\n",
      "a's itemsize : 8\n",
      "\n",
      "b=\n",
      "[[1 2 3]\n",
      " [4 5 6]]\n",
      "b's ndim : 2\n",
      "b's shape : (2, 3)\n",
      "b's size : 6\n",
      "b's dtype : int64\n",
      "b's itemsize : 8\n"
     ]
    }
   ],
   "source": [
    "print('a=')\n",
    "print(a)\n",
    "print(\"a's ndim :\",a.ndim)\n",
    "print(\"a's shape :\",a.shape)\n",
    "print(\"a's size :\",a.size)\n",
    "print(\"a's dtype :\",a.dtype)\n",
    "print(\"a's itemsize :\",a.itemsize)\n",
    "\n",
    "print('')\n",
    "\n",
    "print('b=')\n",
    "print(b)\n",
    "print(\"b's ndim :\",b.ndim)\n",
    "print(\"b's shape :\",b.shape)\n",
    "print(\"b's size :\",b.size)\n",
    "print(\"b's dtype :\",b.dtype)\n",
    "print(\"b's itemsize :\",b.itemsize)"
   ]
  },
  {
   "cell_type": "markdown",
   "metadata": {
    "papermill": {
     "duration": 0.021037,
     "end_time": "2021-01-10T17:05:34.756573",
     "exception": false,
     "start_time": "2021-01-10T17:05:34.735536",
     "status": "completed"
    },
    "tags": []
   },
   "source": [
    "\n",
    "## 2. Create a specific array\n",
    "<HR>\n",
    "    \n",
    "* **zeros :** create an array whose elements are all 0\n",
    "* **ones :** create an array whose elements are all 1\n",
    "* **empty :** create uninitialized data. so the content is undefined.\n",
    "* **arange :** create an array by specifying the scope and step-length\n",
    "* **linespace :** create an array by specifying the range and the number of elements\n",
    "* **random :** generate random numbers"
   ]
  },
  {
   "cell_type": "code",
   "execution_count": 4,
   "metadata": {
    "execution": {
     "iopub.execute_input": "2021-01-10T17:05:34.815569Z",
     "iopub.status.busy": "2021-01-10T17:05:34.814694Z",
     "iopub.status.idle": "2021-01-10T17:05:34.824076Z",
     "shell.execute_reply": "2021-01-10T17:05:34.823566Z"
    },
    "papermill": {
     "duration": 0.046248,
     "end_time": "2021-01-10T17:05:34.824203",
     "exception": false,
     "start_time": "2021-01-10T17:05:34.777955",
     "status": "completed"
    },
    "tags": []
   },
   "outputs": [
    {
     "name": "stdout",
     "output_type": "stream",
     "text": [
      "np.zeros((2,3) :\n",
      " [[0. 0. 0.]\n",
      " [0. 0. 0.]]\n",
      "\n",
      "\n",
      "np.ones((2,3)) :\n",
      " [[1. 1. 1.]\n",
      " [1. 1. 1.]]\n",
      "\n",
      "\n",
      "np.empty((2,3)) :\n",
      " [[1. 1. 1.]\n",
      " [1. 1. 1.]]\n",
      "\n",
      "\n",
      "np.arange(1, 2, 0.3):\n",
      " [1.  1.3 1.6 1.9]\n",
      "\n",
      "\n",
      "np.linspace(1, 2, 7) :\n",
      " [1.         1.16666667 1.33333333 1.5        1.66666667 1.83333333\n",
      " 2.        ]\n",
      "\n",
      "\n",
      "np.random.random((2,3)) :\n",
      " [[0.25256187 0.59014604 0.69543674]\n",
      " [0.94722945 0.40656084 0.82981093]]\n"
     ]
    }
   ],
   "source": [
    "a = np.zeros((2,3))\n",
    "print('np.zeros((2,3) :\\n',a)\n",
    "print('\\n')\n",
    "b = np.ones((2,3))\n",
    "print('np.ones((2,3)) :\\n',b)\n",
    "print('\\n')\n",
    "c = np.empty((2,3))\n",
    "print('np.empty((2,3)) :\\n',c)\n",
    "print('\\n')\n",
    "d = np.arange(1, 2, 0.3)    # 0.3 means gap\n",
    "print('np.arange(1, 2, 0.3):\\n',d)\n",
    "print('\\n')\n",
    "e = np.linspace(1, 2, 7)    # 7 means how many\n",
    "print('np.linspace(1, 2, 7) :\\n',e)\n",
    "print('\\n')\n",
    "f = np.random.random((2,3))\n",
    "print('np.random.random((2,3)) :\\n',f)"
   ]
  },
  {
   "cell_type": "markdown",
   "metadata": {
    "papermill": {
     "duration": 0.021501,
     "end_time": "2021-01-10T17:05:34.868017",
     "exception": false,
     "start_time": "2021-01-10T17:05:34.846516",
     "status": "completed"
    },
    "tags": []
   },
   "source": [
    "## 3. Shape and operation\n",
    "<HR>\n",
    "\n",
    "* **reshape :** generate a new array based on the existing array \n",
    "* **vstack :** stack multiple arrays in vertical direction\n",
    "* **hstack :** stack multiple arrays in horizontal direction\n",
    "* **hsplit :** split the array horizontally\n",
    "* **vsplit :** split the array vertically"
   ]
  },
  {
   "cell_type": "markdown",
   "metadata": {
    "papermill": {
     "duration": 0.021719,
     "end_time": "2021-01-10T17:05:34.911636",
     "exception": false,
     "start_time": "2021-01-10T17:05:34.889917",
     "status": "completed"
    },
    "tags": []
   },
   "source": [
    "### reshape"
   ]
  },
  {
   "cell_type": "code",
   "execution_count": 5,
   "metadata": {
    "execution": {
     "iopub.execute_input": "2021-01-10T17:05:34.964085Z",
     "iopub.status.busy": "2021-01-10T17:05:34.963281Z",
     "iopub.status.idle": "2021-01-10T17:05:34.967258Z",
     "shell.execute_reply": "2021-01-10T17:05:34.966444Z"
    },
    "papermill": {
     "duration": 0.033621,
     "end_time": "2021-01-10T17:05:34.967390",
     "exception": false,
     "start_time": "2021-01-10T17:05:34.933769",
     "status": "completed"
    },
    "tags": []
   },
   "outputs": [
    {
     "name": "stdout",
     "output_type": "stream",
     "text": [
      "[11 12 13 14 15 16 17 18 19]\n",
      "\n",
      "\n",
      "[[11 12 13]\n",
      " [14 15 16]\n",
      " [17 18 19]]\n"
     ]
    }
   ],
   "source": [
    "a = np.arange(11, 20)\n",
    "print(a)\n",
    "print('\\n')\n",
    "\n",
    "\n",
    "# -1 means automatically\n",
    "a = a.reshape(3, -1)\n",
    "print(a)"
   ]
  },
  {
   "cell_type": "markdown",
   "metadata": {
    "papermill": {
     "duration": 0.033462,
     "end_time": "2021-01-10T17:05:35.035230",
     "exception": false,
     "start_time": "2021-01-10T17:05:35.001768",
     "status": "completed"
    },
    "tags": []
   },
   "source": [
    "### vstack"
   ]
  },
  {
   "cell_type": "code",
   "execution_count": 6,
   "metadata": {
    "execution": {
     "iopub.execute_input": "2021-01-10T17:05:35.110715Z",
     "iopub.status.busy": "2021-01-10T17:05:35.109714Z",
     "iopub.status.idle": "2021-01-10T17:05:35.114753Z",
     "shell.execute_reply": "2021-01-10T17:05:35.114029Z"
    },
    "papermill": {
     "duration": 0.045606,
     "end_time": "2021-01-10T17:05:35.114897",
     "exception": false,
     "start_time": "2021-01-10T17:05:35.069291",
     "status": "completed"
    },
    "tags": []
   },
   "outputs": [
    {
     "name": "stdout",
     "output_type": "stream",
     "text": [
      "a :\n",
      " [[1 2 3]\n",
      " [4 5 6]]\n",
      "\n",
      "\n",
      "b :\n",
      " [[11 12 13]\n",
      " [14 15 16]\n",
      " [17 18 19]]\n"
     ]
    }
   ],
   "source": [
    "a = np.array([(1,2,3), (4,5,6)])\n",
    "print('a :\\n',a)\n",
    "print('\\n')\n",
    "\n",
    "b = np.arange(11, 20)\n",
    "b = b.reshape((3,-1))\n",
    "print('b :\\n',b)\n"
   ]
  },
  {
   "cell_type": "code",
   "execution_count": 7,
   "metadata": {
    "execution": {
     "iopub.execute_input": "2021-01-10T17:05:35.167891Z",
     "iopub.status.busy": "2021-01-10T17:05:35.167067Z",
     "iopub.status.idle": "2021-01-10T17:05:35.170068Z",
     "shell.execute_reply": "2021-01-10T17:05:35.170748Z"
    },
    "papermill": {
     "duration": 0.032183,
     "end_time": "2021-01-10T17:05:35.170907",
     "exception": false,
     "start_time": "2021-01-10T17:05:35.138724",
     "status": "completed"
    },
    "tags": []
   },
   "outputs": [
    {
     "name": "stdout",
     "output_type": "stream",
     "text": [
      "c :\n",
      " [[ 1  2  3]\n",
      " [ 4  5  6]\n",
      " [11 12 13]\n",
      " [14 15 16]\n",
      " [17 18 19]]\n"
     ]
    }
   ],
   "source": [
    "c = np.vstack((a, b))\n",
    "print(\"c :\\n\",c)"
   ]
  },
  {
   "cell_type": "markdown",
   "metadata": {
    "papermill": {
     "duration": 0.034598,
     "end_time": "2021-01-10T17:05:35.240528",
     "exception": false,
     "start_time": "2021-01-10T17:05:35.205930",
     "status": "completed"
    },
    "tags": []
   },
   "source": [
    "### hstack"
   ]
  },
  {
   "cell_type": "code",
   "execution_count": 8,
   "metadata": {
    "execution": {
     "iopub.execute_input": "2021-01-10T17:05:35.318830Z",
     "iopub.status.busy": "2021-01-10T17:05:35.317992Z",
     "iopub.status.idle": "2021-01-10T17:05:35.321225Z",
     "shell.execute_reply": "2021-01-10T17:05:35.321992Z"
    },
    "papermill": {
     "duration": 0.045406,
     "end_time": "2021-01-10T17:05:35.322140",
     "exception": false,
     "start_time": "2021-01-10T17:05:35.276734",
     "status": "completed"
    },
    "tags": []
   },
   "outputs": [
    {
     "name": "stdout",
     "output_type": "stream",
     "text": [
      "a :\n",
      " [[1 2]\n",
      " [3 4]\n",
      " [5 6]]\n",
      "\n",
      "\n",
      "b :\n",
      " [[11 12 13]\n",
      " [14 15 16]\n",
      " [17 18 19]]\n"
     ]
    }
   ],
   "source": [
    "a = a.reshape(3,2)\n",
    "print('a :\\n',a)\n",
    "print('\\n')\n",
    "print('b :\\n',b)"
   ]
  },
  {
   "cell_type": "code",
   "execution_count": 9,
   "metadata": {
    "execution": {
     "iopub.execute_input": "2021-01-10T17:05:35.397658Z",
     "iopub.status.busy": "2021-01-10T17:05:35.396869Z",
     "iopub.status.idle": "2021-01-10T17:05:35.404562Z",
     "shell.execute_reply": "2021-01-10T17:05:35.403846Z"
    },
    "papermill": {
     "duration": 0.046332,
     "end_time": "2021-01-10T17:05:35.404682",
     "exception": false,
     "start_time": "2021-01-10T17:05:35.358350",
     "status": "completed"
    },
    "tags": []
   },
   "outputs": [
    {
     "name": "stdout",
     "output_type": "stream",
     "text": [
      "d :\n",
      " [[ 1  2 11 12 13]\n",
      " [ 3  4 14 15 16]\n",
      " [ 5  6 17 18 19]]\n"
     ]
    }
   ],
   "source": [
    "d = np.hstack((a,b))\n",
    "print(\"d :\\n\",d)"
   ]
  },
  {
   "cell_type": "markdown",
   "metadata": {
    "papermill": {
     "duration": 0.03695,
     "end_time": "2021-01-10T17:05:35.478669",
     "exception": false,
     "start_time": "2021-01-10T17:05:35.441719",
     "status": "completed"
    },
    "tags": []
   },
   "source": [
    "### hsplit"
   ]
  },
  {
   "cell_type": "code",
   "execution_count": 10,
   "metadata": {
    "execution": {
     "iopub.execute_input": "2021-01-10T17:05:35.559571Z",
     "iopub.status.busy": "2021-01-10T17:05:35.558562Z",
     "iopub.status.idle": "2021-01-10T17:05:35.565637Z",
     "shell.execute_reply": "2021-01-10T17:05:35.564883Z"
    },
    "papermill": {
     "duration": 0.050327,
     "end_time": "2021-01-10T17:05:35.565765",
     "exception": false,
     "start_time": "2021-01-10T17:05:35.515438",
     "status": "completed"
    },
    "tags": []
   },
   "outputs": [
    {
     "name": "stdout",
     "output_type": "stream",
     "text": [
      "e :\n",
      " [array([[1],\n",
      "       [3],\n",
      "       [5]]), array([[2],\n",
      "       [4],\n",
      "       [6]]), array([[11],\n",
      "       [14],\n",
      "       [17]]), array([[12],\n",
      "       [15],\n",
      "       [18]]), array([[13],\n",
      "       [16],\n",
      "       [19]])]\n"
     ]
    }
   ],
   "source": [
    "e = np.hsplit(d, 5) # Split a into 5\n",
    "print(\"e :\\n\",e)"
   ]
  },
  {
   "cell_type": "markdown",
   "metadata": {
    "papermill": {
     "duration": 0.037414,
     "end_time": "2021-01-10T17:05:35.640897",
     "exception": false,
     "start_time": "2021-01-10T17:05:35.603483",
     "status": "completed"
    },
    "tags": []
   },
   "source": [
    "### vsplit"
   ]
  },
  {
   "cell_type": "code",
   "execution_count": 11,
   "metadata": {
    "execution": {
     "iopub.execute_input": "2021-01-10T17:05:35.722174Z",
     "iopub.status.busy": "2021-01-10T17:05:35.721507Z",
     "iopub.status.idle": "2021-01-10T17:05:35.727218Z",
     "shell.execute_reply": "2021-01-10T17:05:35.726499Z"
    },
    "papermill": {
     "duration": 0.048742,
     "end_time": "2021-01-10T17:05:35.727358",
     "exception": false,
     "start_time": "2021-01-10T17:05:35.678616",
     "status": "completed"
    },
    "tags": []
   },
   "outputs": [
    {
     "name": "stdout",
     "output_type": "stream",
     "text": [
      "g :\n",
      " [array([[ 1,  2, 11, 12, 13]]), array([[ 3,  4, 14, 15, 16]]), array([[ 5,  6, 17, 18, 19]])]\n"
     ]
    }
   ],
   "source": [
    "g = np.vsplit(d, 3)\n",
    "print(\"g :\\n\",g)\n"
   ]
  },
  {
   "cell_type": "code",
   "execution_count": 12,
   "metadata": {
    "execution": {
     "iopub.execute_input": "2021-01-10T17:05:35.812774Z",
     "iopub.status.busy": "2021-01-10T17:05:35.811962Z",
     "iopub.status.idle": "2021-01-10T17:05:35.816212Z",
     "shell.execute_reply": "2021-01-10T17:05:35.815194Z"
    },
    "papermill": {
     "duration": 0.049995,
     "end_time": "2021-01-10T17:05:35.816392",
     "exception": false,
     "start_time": "2021-01-10T17:05:35.766397",
     "status": "completed"
    },
    "tags": []
   },
   "outputs": [
    {
     "name": "stdout",
     "output_type": "stream",
     "text": [
      "[[ 1  2 11 12 13]]\n",
      "[[ 3  4 14 15 16]]\n",
      "[[ 5  6 17 18 19]]\n"
     ]
    }
   ],
   "source": [
    "print(g[0])\n",
    "print(g[1])\n",
    "print(g[2])"
   ]
  },
  {
   "cell_type": "markdown",
   "metadata": {
    "papermill": {
     "duration": 0.0388,
     "end_time": "2021-01-10T17:05:35.895433",
     "exception": false,
     "start_time": "2021-01-10T17:05:35.856633",
     "status": "completed"
    },
    "tags": []
   },
   "source": [
    "## 4. Index\n",
    "<HR>"
   ]
  },
  {
   "cell_type": "code",
   "execution_count": 13,
   "metadata": {
    "execution": {
     "iopub.execute_input": "2021-01-10T17:05:35.979660Z",
     "iopub.status.busy": "2021-01-10T17:05:35.978850Z",
     "iopub.status.idle": "2021-01-10T17:05:35.981924Z",
     "shell.execute_reply": "2021-01-10T17:05:35.982788Z"
    },
    "papermill": {
     "duration": 0.048083,
     "end_time": "2021-01-10T17:05:35.982958",
     "exception": false,
     "start_time": "2021-01-10T17:05:35.934875",
     "status": "completed"
    },
    "tags": []
   },
   "outputs": [
    {
     "name": "stdout",
     "output_type": "stream",
     "text": [
      "base_data :\n",
      " [100 101 102 103 104 105 106 107 108 109 110 111 112 113 114 115 116 117\n",
      " 118 119 120 121 122 123 124 125 126 127 128 129 130 131 132 133 134 135\n",
      " 136 137 138 139 140 141 142 143 144 145 146 147 148 149 150 151 152 153\n",
      " 154 155 156 157 158 159 160 161 162 163 164 165 166 167 168 169 170 171\n",
      " 172 173 174 175 176 177 178 179 180 181 182 183 184 185 186 187 188 189\n",
      " 190 191 192 193 194 195 196 197 198 199]\n",
      "base_data[10] :\n",
      " 110\n"
     ]
    }
   ],
   "source": [
    "# This is usual index in single dimension\n",
    "\n",
    "base_data = np.arange(100, 200)\n",
    "print(\"base_data :\\n\",base_data)\n",
    "\n",
    "print(\"base_data[10] :\\n\",base_data[10]) "
   ]
  },
  {
   "cell_type": "code",
   "execution_count": 14,
   "metadata": {
    "execution": {
     "iopub.execute_input": "2021-01-10T17:05:36.070088Z",
     "iopub.status.busy": "2021-01-10T17:05:36.069433Z",
     "iopub.status.idle": "2021-01-10T17:05:36.073335Z",
     "shell.execute_reply": "2021-01-10T17:05:36.072683Z"
    },
    "papermill": {
     "duration": 0.049435,
     "end_time": "2021-01-10T17:05:36.073447",
     "exception": false,
     "start_time": "2021-01-10T17:05:36.024012",
     "status": "completed"
    },
    "tags": []
   },
   "outputs": [
    {
     "name": "stdout",
     "output_type": "stream",
     "text": [
      "base_data2 :\n",
      " [[100 101 102 103 104 105 106 107 108 109]\n",
      " [110 111 112 113 114 115 116 117 118 119]\n",
      " [120 121 122 123 124 125 126 127 128 129]\n",
      " [130 131 132 133 134 135 136 137 138 139]\n",
      " [140 141 142 143 144 145 146 147 148 149]\n",
      " [150 151 152 153 154 155 156 157 158 159]\n",
      " [160 161 162 163 164 165 166 167 168 169]\n",
      " [170 171 172 173 174 175 176 177 178 179]\n",
      " [180 181 182 183 184 185 186 187 188 189]\n",
      " [190 191 192 193 194 195 196 197 198 199]]\n"
     ]
    }
   ],
   "source": [
    "base_data2 = base_data.reshape(10, -1)\n",
    "print(\"base_data2 :\\n\",base_data2)"
   ]
  },
  {
   "cell_type": "code",
   "execution_count": 15,
   "metadata": {
    "execution": {
     "iopub.execute_input": "2021-01-10T17:05:36.136055Z",
     "iopub.status.busy": "2021-01-10T17:05:36.135084Z",
     "iopub.status.idle": "2021-01-10T17:05:36.139545Z",
     "shell.execute_reply": "2021-01-10T17:05:36.138731Z"
    },
    "papermill": {
     "duration": 0.038433,
     "end_time": "2021-01-10T17:05:36.139669",
     "exception": false,
     "start_time": "2021-01-10T17:05:36.101236",
     "status": "completed"
    },
    "tags": []
   },
   "outputs": [
    {
     "name": "stdout",
     "output_type": "stream",
     "text": [
      "base_data2[2] :\n",
      " [120 121 122 123 124 125 126 127 128 129]\n",
      "base_data2[2, 3] :\n",
      " 123\n",
      "base_data2[-1, -1] :\n",
      " 199\n"
     ]
    }
   ],
   "source": [
    "# This is usual index in multiple dimention\n",
    "\n",
    "print(\"base_data2[2] :\\n\",base_data2[2])\n",
    "print(\"base_data2[2, 3] :\\n\",base_data2[2, 3])\n",
    "print(\"base_data2[-1, -1] :\\n\",base_data2[-1, -1])"
   ]
  },
  {
   "cell_type": "code",
   "execution_count": 16,
   "metadata": {
    "execution": {
     "iopub.execute_input": "2021-01-10T17:05:36.228724Z",
     "iopub.status.busy": "2021-01-10T17:05:36.227665Z",
     "iopub.status.idle": "2021-01-10T17:05:36.233370Z",
     "shell.execute_reply": "2021-01-10T17:05:36.232554Z"
    },
    "papermill": {
     "duration": 0.052528,
     "end_time": "2021-01-10T17:05:36.233496",
     "exception": false,
     "start_time": "2021-01-10T17:05:36.180968",
     "status": "completed"
    },
    "tags": []
   },
   "outputs": [
    {
     "name": "stdout",
     "output_type": "stream",
     "text": [
      "base_data[every_five] :\n",
      " [100 105 110 115 120 125 130 135 140 145 150 155 160 165 170 175 180 185\n",
      " 190 195]\n"
     ]
    }
   ],
   "source": [
    "# This is numpy index\n",
    "\n",
    "every_five = np.arange(0, 100, 5)\n",
    "print(\"base_data[every_five] :\\n\",base_data[every_five]) # we can put nparray as index\n"
   ]
  },
  {
   "cell_type": "code",
   "execution_count": 17,
   "metadata": {
    "execution": {
     "iopub.execute_input": "2021-01-10T17:05:36.325497Z",
     "iopub.status.busy": "2021-01-10T17:05:36.324672Z",
     "iopub.status.idle": "2021-01-10T17:05:36.327717Z",
     "shell.execute_reply": "2021-01-10T17:05:36.328435Z"
    },
    "papermill": {
     "duration": 0.051719,
     "end_time": "2021-01-10T17:05:36.328570",
     "exception": false,
     "start_time": "2021-01-10T17:05:36.276851",
     "status": "completed"
    },
    "tags": []
   },
   "outputs": [
    {
     "name": "stdout",
     "output_type": "stream",
     "text": [
      "a :\n",
      " [[ 1  2]\n",
      " [10 20]]\n",
      "base_data[a] :\n",
      " [[101 102]\n",
      " [110 120]]\n"
     ]
    }
   ],
   "source": [
    "# This is numpy index\n",
    "\n",
    "a = np.array([(1,2), (10,20)])\n",
    "print(\"a :\\n\",a)\n",
    "print(\"base_data[a] :\\n\",base_data[a])"
   ]
  },
  {
   "cell_type": "markdown",
   "metadata": {
    "papermill": {
     "duration": 0.04249,
     "end_time": "2021-01-10T17:05:36.413918",
     "exception": false,
     "start_time": "2021-01-10T17:05:36.371428",
     "status": "completed"
    },
    "tags": []
   },
   "source": [
    "## 5. Mathematics\n",
    "<HR>"
   ]
  },
  {
   "cell_type": "code",
   "execution_count": 18,
   "metadata": {
    "execution": {
     "iopub.execute_input": "2021-01-10T17:05:36.512147Z",
     "iopub.status.busy": "2021-01-10T17:05:36.511367Z",
     "iopub.status.idle": "2021-01-10T17:05:36.516108Z",
     "shell.execute_reply": "2021-01-10T17:05:36.515344Z"
    },
    "papermill": {
     "duration": 0.059464,
     "end_time": "2021-01-10T17:05:36.516245",
     "exception": false,
     "start_time": "2021-01-10T17:05:36.456781",
     "status": "completed"
    },
    "tags": []
   },
   "outputs": [
    {
     "name": "stdout",
     "output_type": "stream",
     "text": [
      "base_data :\n",
      " [[-47.37358914  43.05665751  -8.01401311 -47.51953896 -33.73957878]\n",
      " [  8.11759541 -15.3577967  -19.72132879  40.51680225  32.67193153]\n",
      " [-18.7501255   46.99148948   0.68850922 -43.45685166 -46.31867274]\n",
      " [ 11.33343388 -10.1636808  -16.90275188  -5.50630738  30.73912355]\n",
      " [-24.45651033  -1.35429392  33.03810492 -42.45172832 -47.94544409]]\n",
      "\n",
      "\n",
      "\n",
      "\n",
      "\n",
      "\n",
      "np.amin(base_data) : -47.9454440851134\n",
      "\n",
      "\n",
      "np.amax(base_data) : 46.991489475306246\n",
      "\n",
      "\n",
      "np.average(base_data) : -7.275142573683922\n",
      "\n",
      "\n",
      "np.sum(base_data) : -181.87856434209806\n",
      "\n",
      "\n",
      "np.sin(base_data) :\n",
      " [[ 0.24711263 -0.79900556 -0.98722227  0.38540727 -0.72973919]\n",
      " [ 0.96545464 -0.34305427 -0.76547093  0.31826831  0.95086101]\n",
      " [ 0.09926667  0.13201384  0.63538672  0.50159845 -0.72098108]\n",
      " [-0.9434663   0.67347729  0.93013805  0.70105647 -0.62630391]\n",
      " [ 0.62585781 -0.97665476  0.99868023  0.99919098  0.73220531]]\n"
     ]
    }
   ],
   "source": [
    "base_data = (np.random.random((5, 5)) - 0.5) * 100 # random values in (0~1), So -0.5 makes negative, *100 makes (-50~50)\n",
    "print(\"base_data :\\n\",base_data)\n",
    "print('\\n')\n",
    "print('\\n')\n",
    "print('\\n')\n",
    "print(\"np.amin(base_data) :\",np.amin(base_data)) # minimum\n",
    "print('\\n')\n",
    "print(\"np.amax(base_data) :\",np.amax(base_data)) # maximum\n",
    "print('\\n')\n",
    "print(\"np.average(base_data) :\",np.average(base_data)) # average\n",
    "print('\\n')\n",
    "print(\"np.sum(base_data) :\",np.sum(base_data)) # sum\n",
    "print('\\n')\n",
    "print(\"np.sin(base_data) :\\n\",np.sin(base_data)) # trigonometric"
   ]
  },
  {
   "cell_type": "code",
   "execution_count": 19,
   "metadata": {
    "execution": {
     "iopub.execute_input": "2021-01-10T17:05:36.613520Z",
     "iopub.status.busy": "2021-01-10T17:05:36.612714Z",
     "iopub.status.idle": "2021-01-10T17:05:36.617654Z",
     "shell.execute_reply": "2021-01-10T17:05:36.616487Z"
    },
    "papermill": {
     "duration": 0.058026,
     "end_time": "2021-01-10T17:05:36.617803",
     "exception": false,
     "start_time": "2021-01-10T17:05:36.559777",
     "status": "completed"
    },
    "tags": []
   },
   "outputs": [
    {
     "name": "stdout",
     "output_type": "stream",
     "text": [
      "arr : [ 1  2  3  4  5  6  7  8  9 10 11 12 13 14 15 16 17 18 19]\n",
      "Multpiles :  [  1   4   9  16  25  36  49  64  81 100 121 144 169 196 225 256 289 324\n",
      " 361]\n",
      "Substracts :  [0 0 0 0 0 0 0 0 0 0 0 0 0 0 0 0 0 0 0]\n",
      "Add :  [ 2  4  6  8 10 12 14 16 18 20 22 24 26 28 30 32 34 36 38]\n",
      "Divide :  [1. 1. 1. 1. 1. 1. 1. 1. 1. 1. 1. 1. 1. 1. 1. 1. 1. 1. 1.]\n",
      "Add +50 :  [51 52 53 54 55 56 57 58 59 60 61 62 63 64 65 66 67 68 69]\n"
     ]
    }
   ],
   "source": [
    "arr = np.arange(1,20)\n",
    "print('arr :',arr)\n",
    "arr = arr * arr              #Multiplies each element by itself \n",
    "print(\"Multpiles : \",arr)\n",
    "arr = arr - arr              #Subtracts each element from itself\n",
    "print(\"Substracts : \",arr)\n",
    "arr = np.arange(1,20)\n",
    "arr = arr + arr              #Adds each element to itself\n",
    "print(\"Add : \",arr)\n",
    "arr = arr / arr              #Divides each element by itself\n",
    "print(\"Divide : \",arr)\n",
    "arr = np.arange(1,20)\n",
    "arr = arr + 50\n",
    "print(\"Add +50 : \",arr)"
   ]
  },
  {
   "cell_type": "code",
   "execution_count": 20,
   "metadata": {
    "execution": {
     "iopub.execute_input": "2021-01-10T17:05:36.717015Z",
     "iopub.status.busy": "2021-01-10T17:05:36.715402Z",
     "iopub.status.idle": "2021-01-10T17:05:36.726326Z",
     "shell.execute_reply": "2021-01-10T17:05:36.725589Z"
    },
    "papermill": {
     "duration": 0.064976,
     "end_time": "2021-01-10T17:05:36.726475",
     "exception": false,
     "start_time": "2021-01-10T17:05:36.661499",
     "status": "completed"
    },
    "tags": []
   },
   "outputs": [
    {
     "name": "stdout",
     "output_type": "stream",
     "text": [
      "Sqrt:  [7.14142843 7.21110255 7.28010989 7.34846923 7.41619849 7.48331477\n",
      " 7.54983444 7.61577311 7.68114575 7.74596669 7.81024968 7.87400787\n",
      " 7.93725393 8.         8.06225775 8.1240384  8.18535277 8.24621125\n",
      " 8.30662386]\n",
      "Exp:  [1.40934908e+22 3.83100800e+22 1.04137594e+23 2.83075330e+23\n",
      " 7.69478527e+23 2.09165950e+24 5.68572000e+24 1.54553894e+25\n",
      " 4.20121040e+25 1.14200739e+26 3.10429794e+26 8.43835667e+26\n",
      " 2.29378316e+27 6.23514908e+27 1.69488924e+28 4.60718663e+28\n",
      " 1.25236317e+29 3.40427605e+29 9.25378173e+29]\n",
      "Sin:  [ 0.67022918  0.98662759  0.39592515 -0.55878905 -0.99975517 -0.521551\n",
      "  0.43616476  0.99287265  0.63673801 -0.30481062 -0.96611777 -0.7391807\n",
      "  0.1673557   0.92002604  0.82682868 -0.02655115 -0.85551998 -0.89792768\n",
      " -0.11478481]\n",
      "Cos:  [ 0.7421542  -0.16299078 -0.91828279 -0.82930983  0.02212676  0.85322011\n",
      "  0.89986683  0.11918014 -0.77108022 -0.95241298 -0.25810164  0.67350716\n",
      "  0.98589658  0.39185723 -0.56245385 -0.99964746 -0.5177698   0.44014302\n",
      "  0.99339038]\n",
      "Log:  [3.93182563 3.95124372 3.97029191 3.98898405 4.00733319 4.02535169\n",
      " 4.04305127 4.06044301 4.07753744 4.09434456 4.11087386 4.12713439\n",
      " 4.14313473 4.15888308 4.17438727 4.18965474 4.20469262 4.21950771\n",
      " 4.2341065 ]\n",
      "Sum:  1140\n",
      "Std:  5.477225575051661\n"
     ]
    }
   ],
   "source": [
    "print(\"Sqrt: \",np.sqrt(arr))   #Returns the square root of each element \n",
    "print(\"Exp: \",np.exp(arr))     #Returns the exponentials of each element\n",
    "print(\"Sin: \",np.sin(arr))     #Returns the sin of each element\n",
    "print(\"Cos: \",np.cos(arr))     #Returns the cosine of each element\n",
    "print(\"Log: \",np.log(arr))     #Returns the logarithm of each element\n",
    "print(\"Sum: \",np.sum(arr))     #Returns the sum total of elements in the array\n",
    "print(\"Std: \",np.std(arr))     #Returns the standard deviation of in the array"
   ]
  },
  {
   "cell_type": "markdown",
   "metadata": {
    "papermill": {
     "duration": 0.031338,
     "end_time": "2021-01-10T17:05:36.789258",
     "exception": false,
     "start_time": "2021-01-10T17:05:36.757920",
     "status": "completed"
    },
    "tags": []
   },
   "source": [
    "## 6. Matrix\n",
    "<HR>"
   ]
  },
  {
   "cell_type": "code",
   "execution_count": 21,
   "metadata": {
    "execution": {
     "iopub.execute_input": "2021-01-10T17:05:36.861217Z",
     "iopub.status.busy": "2021-01-10T17:05:36.860354Z",
     "iopub.status.idle": "2021-01-10T17:05:36.895569Z",
     "shell.execute_reply": "2021-01-10T17:05:36.894872Z"
    },
    "papermill": {
     "duration": 0.076313,
     "end_time": "2021-01-10T17:05:36.895719",
     "exception": false,
     "start_time": "2021-01-10T17:05:36.819406",
     "status": "completed"
    },
    "tags": []
   },
   "outputs": [
    {
     "name": "stdout",
     "output_type": "stream",
     "text": [
      "base_data :\n",
      " [[ -9. -12. -35. -14. -35.]\n",
      " [-49.   3.  39.   6.   9.]\n",
      " [-33. -40.   5. -43. -13.]\n",
      " [  2.  -4. -48.  31. -44.]\n",
      " [ 37.  -1. -24.  -4.  -8.]]\n",
      "\n",
      "\n",
      "base_data.T :\n",
      " [[ -9. -49. -33.   2.  37.]\n",
      " [-12.   3. -40.  -4.  -1.]\n",
      " [-35.  39.   5. -48. -24.]\n",
      " [-14.   6. -43.  31.  -4.]\n",
      " [-35.   9. -13. -44.  -8.]]\n",
      "base_data.transpose() :\n",
      " [[ -9. -49. -33.   2.  37.]\n",
      " [-12.   3. -40.  -4.  -1.]\n",
      " [-35.  39.   5. -48. -24.]\n",
      " [-14.   6. -43.  31.  -4.]\n",
      " [-35.   9. -13. -44.  -8.]]\n",
      "\n",
      "\n",
      "matrix_one :\n",
      " [[1. 1. 1. 1. 1.]\n",
      " [1. 1. 1. 1. 1.]\n",
      " [1. 1. 1. 1. 1.]\n",
      " [1. 1. 1. 1. 1.]\n",
      " [1. 1. 1. 1. 1.]]\n",
      "\n",
      "\n",
      "minus_one :\n",
      " [[-1. -1. -1. -1. -1.]\n",
      " [-1. -1. -1. -1. -1.]\n",
      " [-1. -1. -1. -1. -1.]\n",
      " [-1. -1. -1. -1. -1.]\n",
      " [-1. -1. -1. -1. -1.]]\n",
      "np.dot(base_data, minus_one) :\n",
      " [[105. 105. 105. 105. 105.]\n",
      " [ -8.  -8.  -8.  -8.  -8.]\n",
      " [124. 124. 124. 124. 124.]\n",
      " [ 63.  63.  63.  63.  63.]\n",
      " [  0.   0.   0.   0.   0.]]\n"
     ]
    }
   ],
   "source": [
    "base_data = np.floor((np.random.random((5, 5)) - 0.5) * 100) # floor function is descending\n",
    "print(\"base_data :\\n\",base_data)\n",
    "print(\"\\n\")\n",
    "print(\"base_data.T :\\n\",base_data.T)       # T means Transpose\n",
    "print(\"base_data.transpose() :\\n\",base_data.transpose())\n",
    "print(\"\\n\")\n",
    "matrix_one = np.ones((5, 5))\n",
    "print(\"matrix_one :\\n\",matrix_one)\n",
    "print(\"\\n\")\n",
    "minus_one = np.dot(matrix_one, -1) # dot function is multipy\n",
    "print(\"minus_one :\\n\",minus_one)\n",
    "print(\"np.dot(base_data, minus_one) :\\n\",np.dot(base_data, minus_one))"
   ]
  },
  {
   "cell_type": "markdown",
   "metadata": {
    "papermill": {
     "duration": 0.030136,
     "end_time": "2021-01-10T17:05:36.956608",
     "exception": false,
     "start_time": "2021-01-10T17:05:36.926472",
     "status": "completed"
    },
    "tags": []
   },
   "source": [
    "## 7. Random Number"
   ]
  },
  {
   "cell_type": "code",
   "execution_count": 22,
   "metadata": {
    "execution": {
     "iopub.execute_input": "2021-01-10T17:05:37.026292Z",
     "iopub.status.busy": "2021-01-10T17:05:37.024259Z",
     "iopub.status.idle": "2021-01-10T17:05:37.032791Z",
     "shell.execute_reply": "2021-01-10T17:05:37.031516Z"
    },
    "papermill": {
     "duration": 0.045922,
     "end_time": "2021-01-10T17:05:37.033000",
     "exception": false,
     "start_time": "2021-01-10T17:05:36.987078",
     "status": "completed"
    },
    "tags": []
   },
   "outputs": [
    {
     "name": "stdout",
     "output_type": "stream",
     "text": [
      "random :\n",
      " [0.50066025 0.57670265 0.86052304 0.13525801 0.44125741 0.68464687\n",
      " 0.36513901 0.19127523 0.27071564 0.18702844 0.79535844 0.88014615\n",
      " 0.65229383 0.06089206 0.66412353 0.18335499 0.9712447  0.65774262\n",
      " 0.58551518 0.07254361]\n",
      "rand :\n",
      " [[0.98886724 0.27470265 0.86985346 0.69596657]\n",
      " [0.39366931 0.15766929 0.73751404 0.76760804]\n",
      " [0.93543212 0.61649699 0.83084235 0.74433715]]\n",
      "randint :\n",
      " [85 36 18  3  3 83 82 37 38 30 73 68 90 43  4 71 55 30 77 28]\n",
      "permutation :\n",
      " [ 7 10  1 11  0  2 13  4 15 14 17 18  9 19 16  5  6  3  8 12]\n"
     ]
    }
   ],
   "source": [
    "print(\"random :\\n\",np.random.random(20)); # random numbers are between 0.0 ~ 1.0\n",
    "\n",
    "print(\"rand :\\n\",np.random.rand(3, 4)); # rand function makes specified shape\n",
    "\n",
    "print(\"randint :\\n\",np.random.randint(0, 100, 20)); # we can make specified range\n",
    "\n",
    "print(\"permutation :\\n\",np.random.permutation(np.arange(20))); # disorder"
   ]
  },
  {
   "cell_type": "markdown",
   "metadata": {
    "papermill": {
     "duration": 0.046401,
     "end_time": "2021-01-10T17:05:37.127691",
     "exception": false,
     "start_time": "2021-01-10T17:05:37.081290",
     "status": "completed"
    },
    "tags": []
   },
   "source": [
    "# Reference\n",
    "<HR>\n",
    "    \n",
    "* https://www.kaggle.com/abdullahsahin/numpy-tutorial-for-beginner - NumPy Tutorial For Beginner\n",
    "    "
   ]
  }
 ],
 "metadata": {
  "kernelspec": {
   "display_name": "Python 3",
   "language": "python",
   "name": "python3"
  },
  "language_info": {
   "codemirror_mode": {
    "name": "ipython",
    "version": 3
   },
   "file_extension": ".py",
   "mimetype": "text/x-python",
   "name": "python",
   "nbconvert_exporter": "python",
   "pygments_lexer": "ipython3",
   "version": "3.7.6"
  },
  "papermill": {
   "duration": 7.730631,
   "end_time": "2021-01-10T17:05:38.253939",
   "environment_variables": {},
   "exception": null,
   "input_path": "__notebook__.ipynb",
   "output_path": "__notebook__.ipynb",
   "parameters": {},
   "start_time": "2021-01-10T17:05:30.523308",
   "version": "2.1.0"
  }
 },
 "nbformat": 4,
 "nbformat_minor": 4
}
