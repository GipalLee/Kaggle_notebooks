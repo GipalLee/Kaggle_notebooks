{
 "cells": [
  {
   "attachments": {
    "14641.png": {
     "image/png": "[encoded data removed]"
    }
   },
   "cell_type": "markdown",
   "metadata": {
    "papermill": {
     "duration": 0.01909,
     "end_time": "2021-02-26T14:29:23.961591",
     "exception": false,
     "start_time": "2021-02-26T14:29:23.942501",
     "status": "completed"
    },
    "tags": []
   },
   "source": [
    "# K-Nearest_Neighbor\n",
    "\n",
    "* Supervised learning\n",
    "* To classify new data, check k closest training examples from new data in data set\n",
    "* If k=3, new data = Class B, if k=7, new data = Class A\n",
    "\n",
    "![14641.png](attachment:14641.png)"
   ]
  },
  {
   "cell_type": "markdown",
   "metadata": {
    "papermill": {
     "duration": 0.01765,
     "end_time": "2021-02-26T14:29:23.998039",
     "exception": false,
     "start_time": "2021-02-26T14:29:23.980389",
     "status": "completed"
    },
    "tags": []
   },
   "source": [
    "## Content\n",
    "1. [Data Exploration](#one)\n",
    "2. [Preprocessing](#two)\n",
    "3. [Modeling](#three)\n",
    "4. [Model Test](#four)\n",
    "\n",
    "<hr>\n"
   ]
  },
  {
   "cell_type": "code",
   "execution_count": 1,
   "metadata": {
    "_cell_guid": "b1076dfc-b9ad-4769-8c92-a6c4dae69d19",
    "_uuid": "8f2839f25d086af736a60e9eeb907d3b93b6e0e5",
    "execution": {
     "iopub.execute_input": "2021-02-26T14:29:24.039461Z",
     "iopub.status.busy": "2021-02-26T14:29:24.038746Z",
     "iopub.status.idle": "2021-02-26T14:29:24.850136Z",
     "shell.execute_reply": "2021-02-26T14:29:24.848872Z"
    },
    "papermill": {
     "duration": 0.834439,
     "end_time": "2021-02-26T14:29:24.850390",
     "exception": false,
     "start_time": "2021-02-26T14:29:24.015951",
     "status": "completed"
    },
    "tags": []
   },
   "outputs": [],
   "source": [
    "import pandas as pd\n",
    "import matplotlib.pyplot as plt\n",
    "import seaborn as sns\n"
   ]
  },
  {
   "cell_type": "code",
   "execution_count": 2,
   "metadata": {
    "execution": {
     "iopub.execute_input": "2021-02-26T14:29:24.890608Z",
     "iopub.status.busy": "2021-02-26T14:29:24.889937Z",
     "iopub.status.idle": "2021-02-26T14:29:24.920973Z",
     "shell.execute_reply": "2021-02-26T14:29:24.920244Z"
    },
    "papermill": {
     "duration": 0.052223,
     "end_time": "2021-02-26T14:29:24.921123",
     "exception": false,
     "start_time": "2021-02-26T14:29:24.868900",
     "status": "completed"
    },
    "tags": []
   },
   "outputs": [],
   "source": [
    "df = pd.read_csv('../input/basketball/basketball_stat.csv')"
   ]
  },
  {
   "cell_type": "markdown",
   "metadata": {
    "papermill": {
     "duration": 0.018491,
     "end_time": "2021-02-26T14:29:24.960613",
     "exception": false,
     "start_time": "2021-02-26T14:29:24.942122",
     "status": "completed"
    },
    "tags": []
   },
   "source": [
    "<a id=\"one\"></a>\n",
    "\n",
    "# 1. Data Exploration\n",
    "\n",
    "<hr>"
   ]
  },
  {
   "cell_type": "code",
   "execution_count": 3,
   "metadata": {
    "execution": {
     "iopub.execute_input": "2021-02-26T14:29:25.011196Z",
     "iopub.status.busy": "2021-02-26T14:29:25.010459Z",
     "iopub.status.idle": "2021-02-26T14:29:25.035573Z",
     "shell.execute_reply": "2021-02-26T14:29:25.034971Z"
    },
    "papermill": {
     "duration": 0.056753,
     "end_time": "2021-02-26T14:29:25.035730",
     "exception": false,
     "start_time": "2021-02-26T14:29:24.978977",
     "status": "completed"
    },
    "tags": []
   },
   "outputs": [
    {
     "data": {
      "text/html": [
       "<div>\n",
       "<style scoped>\n",
       "    .dataframe tbody tr th:only-of-type {\n",
       "        vertical-align: middle;\n",
       "    }\n",
       "\n",
       "    .dataframe tbody tr th {\n",
       "        vertical-align: top;\n",
       "    }\n",
       "\n",
       "    .dataframe thead th {\n",
       "        text-align: right;\n",
       "    }\n",
       "</style>\n",
       "<table border=\"1\" class=\"dataframe\">\n",
       "  <thead>\n",
       "    <tr style=\"text-align: right;\">\n",
       "      <th></th>\n",
       "      <th>Player</th>\n",
       "      <th>Pos</th>\n",
       "      <th>3P</th>\n",
       "      <th>2P</th>\n",
       "      <th>TRB</th>\n",
       "      <th>AST</th>\n",
       "      <th>STL</th>\n",
       "      <th>BLK</th>\n",
       "    </tr>\n",
       "  </thead>\n",
       "  <tbody>\n",
       "    <tr>\n",
       "      <th>0</th>\n",
       "      <td>Alex Abrines</td>\n",
       "      <td>SG</td>\n",
       "      <td>1.4</td>\n",
       "      <td>0.6</td>\n",
       "      <td>1.3</td>\n",
       "      <td>0.6</td>\n",
       "      <td>0.5</td>\n",
       "      <td>0.1</td>\n",
       "    </tr>\n",
       "    <tr>\n",
       "      <th>1</th>\n",
       "      <td>Steven Adams</td>\n",
       "      <td>C</td>\n",
       "      <td>0.0</td>\n",
       "      <td>4.7</td>\n",
       "      <td>7.7</td>\n",
       "      <td>1.1</td>\n",
       "      <td>1.1</td>\n",
       "      <td>1.0</td>\n",
       "    </tr>\n",
       "    <tr>\n",
       "      <th>2</th>\n",
       "      <td>Alexis Ajinca</td>\n",
       "      <td>C</td>\n",
       "      <td>0.0</td>\n",
       "      <td>2.3</td>\n",
       "      <td>4.5</td>\n",
       "      <td>0.3</td>\n",
       "      <td>0.5</td>\n",
       "      <td>0.6</td>\n",
       "    </tr>\n",
       "    <tr>\n",
       "      <th>3</th>\n",
       "      <td>Chris Andersen</td>\n",
       "      <td>C</td>\n",
       "      <td>0.0</td>\n",
       "      <td>0.8</td>\n",
       "      <td>2.6</td>\n",
       "      <td>0.4</td>\n",
       "      <td>0.4</td>\n",
       "      <td>0.6</td>\n",
       "    </tr>\n",
       "    <tr>\n",
       "      <th>4</th>\n",
       "      <td>Will Barton</td>\n",
       "      <td>SG</td>\n",
       "      <td>1.5</td>\n",
       "      <td>3.5</td>\n",
       "      <td>4.3</td>\n",
       "      <td>3.4</td>\n",
       "      <td>0.8</td>\n",
       "      <td>0.5</td>\n",
       "    </tr>\n",
       "  </tbody>\n",
       "</table>\n",
       "</div>"
      ],
      "text/plain": [
       "           Player Pos   3P   2P  TRB  AST  STL  BLK\n",
       "0    Alex Abrines  SG  1.4  0.6  1.3  0.6  0.5  0.1\n",
       "1    Steven Adams   C  0.0  4.7  7.7  1.1  1.1  1.0\n",
       "2   Alexis Ajinca   C  0.0  2.3  4.5  0.3  0.5  0.6\n",
       "3  Chris Andersen   C  0.0  0.8  2.6  0.4  0.4  0.6\n",
       "4     Will Barton  SG  1.5  3.5  4.3  3.4  0.8  0.5"
      ]
     },
     "execution_count": 3,
     "metadata": {},
     "output_type": "execute_result"
    }
   ],
   "source": [
    "df.head()"
   ]
  },
  {
   "cell_type": "markdown",
   "metadata": {
    "papermill": {
     "duration": 0.01874,
     "end_time": "2021-02-26T14:29:25.073910",
     "exception": false,
     "start_time": "2021-02-26T14:29:25.055170",
     "status": "completed"
    },
    "tags": []
   },
   "source": [
    "## Feature explanation\n",
    "* Player = name\n",
    "* Pos = Position\n",
    "* 3p = 3 point\n",
    "* 2p = 2 point\n",
    "* TRB = Rebound\n",
    "* AST = Assist\n",
    "* STL = Steal\n",
    "* BLK = Block"
   ]
  },
  {
   "cell_type": "code",
   "execution_count": 4,
   "metadata": {
    "execution": {
     "iopub.execute_input": "2021-02-26T14:29:25.120292Z",
     "iopub.status.busy": "2021-02-26T14:29:25.119570Z",
     "iopub.status.idle": "2021-02-26T14:29:25.124519Z",
     "shell.execute_reply": "2021-02-26T14:29:25.124020Z"
    },
    "papermill": {
     "duration": 0.031921,
     "end_time": "2021-02-26T14:29:25.124661",
     "exception": false,
     "start_time": "2021-02-26T14:29:25.092740",
     "status": "completed"
    },
    "tags": []
   },
   "outputs": [
    {
     "data": {
      "text/plain": [
       "SG    50\n",
       "C     50\n",
       "Name: Pos, dtype: int64"
      ]
     },
     "execution_count": 4,
     "metadata": {},
     "output_type": "execute_result"
    }
   ],
   "source": [
    "# check how many position there is\n",
    "df.Pos.value_counts()"
   ]
  },
  {
   "cell_type": "markdown",
   "metadata": {
    "papermill": {
     "duration": 0.018837,
     "end_time": "2021-02-26T14:29:25.162683",
     "exception": false,
     "start_time": "2021-02-26T14:29:25.143846",
     "status": "completed"
    },
    "tags": []
   },
   "source": [
    "## Check data with visualization"
   ]
  },
  {
   "cell_type": "code",
   "execution_count": 5,
   "metadata": {
    "execution": {
     "iopub.execute_input": "2021-02-26T14:29:25.206650Z",
     "iopub.status.busy": "2021-02-26T14:29:25.206036Z",
     "iopub.status.idle": "2021-02-26T14:29:25.601535Z",
     "shell.execute_reply": "2021-02-26T14:29:25.600967Z"
    },
    "papermill": {
     "duration": 0.419781,
     "end_time": "2021-02-26T14:29:25.601691",
     "exception": false,
     "start_time": "2021-02-26T14:29:25.181910",
     "status": "completed"
    },
    "tags": []
   },
   "outputs": [
    {
     "name": "stderr",
     "output_type": "stream",
     "text": [
      "/opt/conda/lib/python3.7/site-packages/seaborn/_decorators.py:43: FutureWarning: Pass the following variables as keyword args: x, y. From version 0.12, the only valid positional argument will be `data`, and passing other arguments without an explicit keyword will result in an error or misinterpretation.\n",
      "  FutureWarning\n"
     ]
    },
    {
     "data": {
      "text/plain": [
       "Text(0.5, 1.0, 'SLT and 2P in 2d plane')"
      ]
     },
     "execution_count": 5,
     "metadata": {},
     "output_type": "execute_result"
    },
    {
     "data": {
      "image/png": "[encoded data removed]",
      "text/plain": [
       "<Figure size 410x360 with 1 Axes>"
      ]
     },
     "metadata": {
      "needs_background": "light"
     },
     "output_type": "display_data"
    }
   ],
   "source": [
    "sns.lmplot('STL', '2P', data=df, fit_reg=False, # x, y, data, line\n",
    "          scatter_kws={\"s\":150}, # size of dot\n",
    "          markers=[\"o\",\"x\"],\n",
    "          hue=\"Pos\") # prediction\n",
    "\n",
    "plt.title(\"SLT and 2P in 2d plane\") # title"
   ]
  },
  {
   "cell_type": "markdown",
   "metadata": {
    "papermill": {
     "duration": 0.020757,
     "end_time": "2021-02-26T14:29:25.643863",
     "exception": false,
     "start_time": "2021-02-26T14:29:25.623106",
     "status": "completed"
    },
    "tags": []
   },
   "source": [
    "we can find out that these features cant classify \n",
    "because boundary is too close"
   ]
  },
  {
   "cell_type": "code",
   "execution_count": 6,
   "metadata": {
    "execution": {
     "iopub.execute_input": "2021-02-26T14:29:25.694621Z",
     "iopub.status.busy": "2021-02-26T14:29:25.690891Z",
     "iopub.status.idle": "2021-02-26T14:29:26.028076Z",
     "shell.execute_reply": "2021-02-26T14:29:26.027410Z"
    },
    "papermill": {
     "duration": 0.363236,
     "end_time": "2021-02-26T14:29:26.028225",
     "exception": false,
     "start_time": "2021-02-26T14:29:25.664989",
     "status": "completed"
    },
    "tags": []
   },
   "outputs": [
    {
     "name": "stderr",
     "output_type": "stream",
     "text": [
      "/opt/conda/lib/python3.7/site-packages/seaborn/_decorators.py:43: FutureWarning: Pass the following variables as keyword args: x, y. From version 0.12, the only valid positional argument will be `data`, and passing other arguments without an explicit keyword will result in an error or misinterpretation.\n",
      "  FutureWarning\n"
     ]
    },
    {
     "data": {
      "text/plain": [
       "Text(0.5, 1.0, 'AST and 2P in 2d plane')"
      ]
     },
     "execution_count": 6,
     "metadata": {},
     "output_type": "execute_result"
    },
    {
     "data": {
      "image/png": "[encoded data removed]",
      "text/plain": [
       "<Figure size 410x360 with 1 Axes>"
      ]
     },
     "metadata": {
      "needs_background": "light"
     },
     "output_type": "display_data"
    }
   ],
   "source": [
    "sns.lmplot('AST', '2P', data=df, fit_reg=False, # x, y, data, line\n",
    "          scatter_kws={\"s\":150}, # size of dot\n",
    "          markers=[\"o\",\"x\"],\n",
    "          hue=\"Pos\") # prediction\n",
    "\n",
    "plt.title(\"AST and 2P in 2d plane\") # title"
   ]
  },
  {
   "cell_type": "markdown",
   "metadata": {
    "papermill": {
     "duration": 0.023398,
     "end_time": "2021-02-26T14:29:26.075725",
     "exception": false,
     "start_time": "2021-02-26T14:29:26.052327",
     "status": "completed"
    },
    "tags": []
   },
   "source": [
    "we can find out that these features cant classify \n",
    "because boundary is too close"
   ]
  },
  {
   "cell_type": "code",
   "execution_count": 7,
   "metadata": {
    "execution": {
     "iopub.execute_input": "2021-02-26T14:29:26.229225Z",
     "iopub.status.busy": "2021-02-26T14:29:26.228091Z",
     "iopub.status.idle": "2021-02-26T14:29:26.580029Z",
     "shell.execute_reply": "2021-02-26T14:29:26.580521Z"
    },
    "papermill": {
     "duration": 0.481415,
     "end_time": "2021-02-26T14:29:26.580719",
     "exception": false,
     "start_time": "2021-02-26T14:29:26.099304",
     "status": "completed"
    },
    "tags": []
   },
   "outputs": [
    {
     "name": "stderr",
     "output_type": "stream",
     "text": [
      "/opt/conda/lib/python3.7/site-packages/seaborn/_decorators.py:43: FutureWarning: Pass the following variables as keyword args: x, y. From version 0.12, the only valid positional argument will be `data`, and passing other arguments without an explicit keyword will result in an error or misinterpretation.\n",
      "  FutureWarning\n"
     ]
    },
    {
     "data": {
      "text/plain": [
       "Text(0.5, 1.0, 'BLT and #3P in 2d plane')"
      ]
     },
     "execution_count": 7,
     "metadata": {},
     "output_type": "execute_result"
    },
    {
     "data": {
      "image/png": "[encoded data removed]",
      "text/plain": [
       "<Figure size 410x360 with 1 Axes>"
      ]
     },
     "metadata": {
      "needs_background": "light"
     },
     "output_type": "display_data"
    }
   ],
   "source": [
    "sns.lmplot('BLK', '3P', data=df, fit_reg=False, # x, y, data, line\n",
    "          scatter_kws={\"s\":150}, # size of dot\n",
    "          markers=[\"o\",\"x\"],\n",
    "          hue=\"Pos\") # prediction\n",
    "\n",
    "plt.title(\"BLT and #3P in 2d plane\") # title"
   ]
  },
  {
   "cell_type": "markdown",
   "metadata": {
    "papermill": {
     "duration": 0.025032,
     "end_time": "2021-02-26T14:29:26.631152",
     "exception": false,
     "start_time": "2021-02-26T14:29:26.606120",
     "status": "completed"
    },
    "tags": []
   },
   "source": [
    "we can find out that this is useful"
   ]
  },
  {
   "cell_type": "markdown",
   "metadata": {
    "papermill": {
     "duration": 0.024909,
     "end_time": "2021-02-26T14:29:26.681316",
     "exception": false,
     "start_time": "2021-02-26T14:29:26.656407",
     "status": "completed"
    },
    "tags": []
   },
   "source": [
    "<a id=\"two\"></a>\n",
    "\n",
    "# 2. Preprocessing\n",
    "\n",
    "<hr>"
   ]
  },
  {
   "cell_type": "code",
   "execution_count": 8,
   "metadata": {
    "execution": {
     "iopub.execute_input": "2021-02-26T14:29:26.738368Z",
     "iopub.status.busy": "2021-02-26T14:29:26.737492Z",
     "iopub.status.idle": "2021-02-26T14:29:26.740033Z",
     "shell.execute_reply": "2021-02-26T14:29:26.740633Z"
    },
    "papermill": {
     "duration": 0.03431,
     "end_time": "2021-02-26T14:29:26.740847",
     "exception": false,
     "start_time": "2021-02-26T14:29:26.706537",
     "status": "completed"
    },
    "tags": []
   },
   "outputs": [],
   "source": [
    "df.drop(['2P','AST','STL'], axis=1, inplace =True)"
   ]
  },
  {
   "cell_type": "markdown",
   "metadata": {
    "papermill": {
     "duration": 0.026541,
     "end_time": "2021-02-26T14:29:26.793447",
     "exception": false,
     "start_time": "2021-02-26T14:29:26.766906",
     "status": "completed"
    },
    "tags": []
   },
   "source": [
    "delete something useless"
   ]
  },
  {
   "cell_type": "code",
   "execution_count": 9,
   "metadata": {
    "execution": {
     "iopub.execute_input": "2021-02-26T14:29:26.861311Z",
     "iopub.status.busy": "2021-02-26T14:29:26.860642Z",
     "iopub.status.idle": "2021-02-26T14:29:26.864202Z",
     "shell.execute_reply": "2021-02-26T14:29:26.864673Z"
    },
    "papermill": {
     "duration": 0.043729,
     "end_time": "2021-02-26T14:29:26.864872",
     "exception": false,
     "start_time": "2021-02-26T14:29:26.821143",
     "status": "completed"
    },
    "tags": []
   },
   "outputs": [
    {
     "data": {
      "text/html": [
       "<div>\n",
       "<style scoped>\n",
       "    .dataframe tbody tr th:only-of-type {\n",
       "        vertical-align: middle;\n",
       "    }\n",
       "\n",
       "    .dataframe tbody tr th {\n",
       "        vertical-align: top;\n",
       "    }\n",
       "\n",
       "    .dataframe thead th {\n",
       "        text-align: right;\n",
       "    }\n",
       "</style>\n",
       "<table border=\"1\" class=\"dataframe\">\n",
       "  <thead>\n",
       "    <tr style=\"text-align: right;\">\n",
       "      <th></th>\n",
       "      <th>Player</th>\n",
       "      <th>Pos</th>\n",
       "      <th>3P</th>\n",
       "      <th>TRB</th>\n",
       "      <th>BLK</th>\n",
       "    </tr>\n",
       "  </thead>\n",
       "  <tbody>\n",
       "    <tr>\n",
       "      <th>0</th>\n",
       "      <td>Alex Abrines</td>\n",
       "      <td>SG</td>\n",
       "      <td>1.4</td>\n",
       "      <td>1.3</td>\n",
       "      <td>0.1</td>\n",
       "    </tr>\n",
       "    <tr>\n",
       "      <th>1</th>\n",
       "      <td>Steven Adams</td>\n",
       "      <td>C</td>\n",
       "      <td>0.0</td>\n",
       "      <td>7.7</td>\n",
       "      <td>1.0</td>\n",
       "    </tr>\n",
       "    <tr>\n",
       "      <th>2</th>\n",
       "      <td>Alexis Ajinca</td>\n",
       "      <td>C</td>\n",
       "      <td>0.0</td>\n",
       "      <td>4.5</td>\n",
       "      <td>0.6</td>\n",
       "    </tr>\n",
       "    <tr>\n",
       "      <th>3</th>\n",
       "      <td>Chris Andersen</td>\n",
       "      <td>C</td>\n",
       "      <td>0.0</td>\n",
       "      <td>2.6</td>\n",
       "      <td>0.6</td>\n",
       "    </tr>\n",
       "    <tr>\n",
       "      <th>4</th>\n",
       "      <td>Will Barton</td>\n",
       "      <td>SG</td>\n",
       "      <td>1.5</td>\n",
       "      <td>4.3</td>\n",
       "      <td>0.5</td>\n",
       "    </tr>\n",
       "  </tbody>\n",
       "</table>\n",
       "</div>"
      ],
      "text/plain": [
       "           Player Pos   3P  TRB  BLK\n",
       "0    Alex Abrines  SG  1.4  1.3  0.1\n",
       "1    Steven Adams   C  0.0  7.7  1.0\n",
       "2   Alexis Ajinca   C  0.0  4.5  0.6\n",
       "3  Chris Andersen   C  0.0  2.6  0.6\n",
       "4     Will Barton  SG  1.5  4.3  0.5"
      ]
     },
     "execution_count": 9,
     "metadata": {},
     "output_type": "execute_result"
    }
   ],
   "source": [
    "df.head()"
   ]
  },
  {
   "cell_type": "markdown",
   "metadata": {
    "papermill": {
     "duration": 0.025256,
     "end_time": "2021-02-26T14:29:26.915517",
     "exception": false,
     "start_time": "2021-02-26T14:29:26.890261",
     "status": "completed"
    },
    "tags": []
   },
   "source": [
    "## Split data for train and test"
   ]
  },
  {
   "cell_type": "code",
   "execution_count": 10,
   "metadata": {
    "execution": {
     "iopub.execute_input": "2021-02-26T14:29:26.969611Z",
     "iopub.status.busy": "2021-02-26T14:29:26.969011Z",
     "iopub.status.idle": "2021-02-26T14:29:27.188294Z",
     "shell.execute_reply": "2021-02-26T14:29:27.187567Z"
    },
    "papermill": {
     "duration": 0.247614,
     "end_time": "2021-02-26T14:29:27.188445",
     "exception": false,
     "start_time": "2021-02-26T14:29:26.940831",
     "status": "completed"
    },
    "tags": []
   },
   "outputs": [],
   "source": [
    "from sklearn.model_selection import train_test_split"
   ]
  },
  {
   "cell_type": "code",
   "execution_count": 11,
   "metadata": {
    "execution": {
     "iopub.execute_input": "2021-02-26T14:29:27.247189Z",
     "iopub.status.busy": "2021-02-26T14:29:27.246502Z",
     "iopub.status.idle": "2021-02-26T14:29:27.249555Z",
     "shell.execute_reply": "2021-02-26T14:29:27.249058Z"
    },
    "papermill": {
     "duration": 0.034752,
     "end_time": "2021-02-26T14:29:27.249698",
     "exception": false,
     "start_time": "2021-02-26T14:29:27.214946",
     "status": "completed"
    },
    "tags": []
   },
   "outputs": [],
   "source": [
    "train, test = train_test_split(df,test_size=0.2) # data, 20% for test"
   ]
  },
  {
   "cell_type": "code",
   "execution_count": 12,
   "metadata": {
    "execution": {
     "iopub.execute_input": "2021-02-26T14:29:27.306506Z",
     "iopub.status.busy": "2021-02-26T14:29:27.305844Z",
     "iopub.status.idle": "2021-02-26T14:29:27.309350Z",
     "shell.execute_reply": "2021-02-26T14:29:27.309942Z"
    },
    "papermill": {
     "duration": 0.034643,
     "end_time": "2021-02-26T14:29:27.310110",
     "exception": false,
     "start_time": "2021-02-26T14:29:27.275467",
     "status": "completed"
    },
    "tags": []
   },
   "outputs": [
    {
     "name": "stdout",
     "output_type": "stream",
     "text": [
      "80\n",
      "20\n"
     ]
    }
   ],
   "source": [
    "print(train.shape[0])\n",
    "print(test.shape[0])"
   ]
  },
  {
   "cell_type": "markdown",
   "metadata": {
    "papermill": {
     "duration": 0.027706,
     "end_time": "2021-02-26T14:29:27.366082",
     "exception": false,
     "start_time": "2021-02-26T14:29:27.338376",
     "status": "completed"
    },
    "tags": []
   },
   "source": [
    "<a id=\"three\"></a>\n",
    "\n",
    "# 3. Modeling\n",
    "\n",
    "<hr>"
   ]
  },
  {
   "cell_type": "code",
   "execution_count": 13,
   "metadata": {
    "execution": {
     "iopub.execute_input": "2021-02-26T14:29:27.433786Z",
     "iopub.status.busy": "2021-02-26T14:29:27.433054Z",
     "iopub.status.idle": "2021-02-26T14:29:28.692232Z",
     "shell.execute_reply": "2021-02-26T14:29:28.691616Z"
    },
    "papermill": {
     "duration": 1.30003,
     "end_time": "2021-02-26T14:29:28.692379",
     "exception": false,
     "start_time": "2021-02-26T14:29:27.392349",
     "status": "completed"
    },
    "tags": []
   },
   "outputs": [
    {
     "data": {
      "text/plain": [
       "[0.9625,\n",
       " 0.95,\n",
       " 0.95,\n",
       " 0.95,\n",
       " 0.925,\n",
       " 0.925,\n",
       " 0.925,\n",
       " 0.925,\n",
       " 0.925,\n",
       " 0.9125,\n",
       " 0.9125,\n",
       " 0.9125,\n",
       " 0.9125,\n",
       " 0.8875,\n",
       " 0.875,\n",
       " 0.875,\n",
       " 0.8625,\n",
       " 0.8625,\n",
       " 0.8625]"
      ]
     },
     "execution_count": 13,
     "metadata": {},
     "output_type": "execute_result"
    }
   ],
   "source": [
    "from sklearn.neighbors import KNeighborsClassifier\n",
    "from sklearn.model_selection import cross_val_score\n",
    "\n",
    "# to find best k parameter, we will do cross validation \n",
    "max_k_range = train.shape[0]//2\n",
    "k_list = []\n",
    "for i in range(3,max_k_range,2) : # range of k\n",
    "    k_list.append(i)\n",
    "\n",
    "cross_validation_scores = []\n",
    "x_train = train[['3P','BLK','TRB']]\n",
    "y_train = train[['Pos']]\n",
    "\n",
    "for k in k_list :\n",
    "    knn = KNeighborsClassifier(n_neighbors=k)\n",
    "    scores = cross_val_score(knn,x_train,y_train.values.ravel(),cv=10,scoring='accuracy')\n",
    "    cross_validation_scores.append(scores.mean())\n",
    "cross_validation_scores"
   ]
  },
  {
   "cell_type": "markdown",
   "metadata": {
    "papermill": {
     "duration": 0.027826,
     "end_time": "2021-02-26T14:29:28.748561",
     "exception": false,
     "start_time": "2021-02-26T14:29:28.720735",
     "status": "completed"
    },
    "tags": []
   },
   "source": [
    "Let's see with visualization"
   ]
  },
  {
   "cell_type": "code",
   "execution_count": 14,
   "metadata": {
    "execution": {
     "iopub.execute_input": "2021-02-26T14:29:28.825242Z",
     "iopub.status.busy": "2021-02-26T14:29:28.824514Z",
     "iopub.status.idle": "2021-02-26T14:29:28.962152Z",
     "shell.execute_reply": "2021-02-26T14:29:28.961480Z"
    },
    "papermill": {
     "duration": 0.185612,
     "end_time": "2021-02-26T14:29:28.962295",
     "exception": false,
     "start_time": "2021-02-26T14:29:28.776683",
     "status": "completed"
    },
    "tags": []
   },
   "outputs": [
    {
     "data": {
      "image/png": "[encoded data removed]",
      "text/plain": [
       "<Figure size 432x288 with 1 Axes>"
      ]
     },
     "metadata": {
      "needs_background": "light"
     },
     "output_type": "display_data"
    }
   ],
   "source": [
    "plt.plot(k_list, cross_validation_scores)\n",
    "plt.xlabel('the number of k')\n",
    "plt.ylabel('Accuracy')\n",
    "plt.show()"
   ]
  },
  {
   "cell_type": "markdown",
   "metadata": {
    "papermill": {
     "duration": 0.027612,
     "end_time": "2021-02-26T14:29:29.018185",
     "exception": false,
     "start_time": "2021-02-26T14:29:28.990573",
     "status": "completed"
    },
    "tags": []
   },
   "source": [
    "We can find out when k is under 5, Accuracy is highest"
   ]
  },
  {
   "cell_type": "code",
   "execution_count": 15,
   "metadata": {
    "execution": {
     "iopub.execute_input": "2021-02-26T14:29:29.079869Z",
     "iopub.status.busy": "2021-02-26T14:29:29.079044Z",
     "iopub.status.idle": "2021-02-26T14:29:29.082049Z",
     "shell.execute_reply": "2021-02-26T14:29:29.082555Z"
    },
    "papermill": {
     "duration": 0.036419,
     "end_time": "2021-02-26T14:29:29.082743",
     "exception": false,
     "start_time": "2021-02-26T14:29:29.046324",
     "status": "completed"
    },
    "tags": []
   },
   "outputs": [
    {
     "name": "stdout",
     "output_type": "stream",
     "text": [
      "The best number of k : 3\n"
     ]
    }
   ],
   "source": [
    "k = k_list[cross_validation_scores.index(max(cross_validation_scores))]\n",
    "print('The best number of k : '+str(k))"
   ]
  },
  {
   "cell_type": "markdown",
   "metadata": {
    "papermill": {
     "duration": 0.029084,
     "end_time": "2021-02-26T14:29:29.140806",
     "exception": false,
     "start_time": "2021-02-26T14:29:29.111722",
     "status": "completed"
    },
    "tags": []
   },
   "source": [
    "<a id=\"four\"></a>\n",
    "\n",
    "# 4. Model Test\n",
    "\n",
    "<hr>"
   ]
  },
  {
   "cell_type": "code",
   "execution_count": 16,
   "metadata": {
    "execution": {
     "iopub.execute_input": "2021-02-26T14:29:29.205201Z",
     "iopub.status.busy": "2021-02-26T14:29:29.204482Z",
     "iopub.status.idle": "2021-02-26T14:29:29.206413Z",
     "shell.execute_reply": "2021-02-26T14:29:29.207040Z"
    },
    "papermill": {
     "duration": 0.037736,
     "end_time": "2021-02-26T14:29:29.207228",
     "exception": false,
     "start_time": "2021-02-26T14:29:29.169492",
     "status": "completed"
    },
    "tags": []
   },
   "outputs": [],
   "source": [
    "knn = KNeighborsClassifier(n_neighbors=3)\n",
    "\n",
    "x_train = train[['3P','BLK','TRB']]\n",
    "y_train = train[['Pos']]"
   ]
  },
  {
   "cell_type": "code",
   "execution_count": 17,
   "metadata": {
    "execution": {
     "iopub.execute_input": "2021-02-26T14:29:29.267255Z",
     "iopub.status.busy": "2021-02-26T14:29:29.266583Z",
     "iopub.status.idle": "2021-02-26T14:29:29.275270Z",
     "shell.execute_reply": "2021-02-26T14:29:29.275803Z"
    },
    "papermill": {
     "duration": 0.040543,
     "end_time": "2021-02-26T14:29:29.275980",
     "exception": false,
     "start_time": "2021-02-26T14:29:29.235437",
     "status": "completed"
    },
    "tags": []
   },
   "outputs": [],
   "source": [
    "# training\n",
    "knn.fit(x_train, y_train.values.ravel())\n",
    "x_test = test[['3P','BLK','TRB']]\n",
    "y_test = test[['Pos']]"
   ]
  },
  {
   "cell_type": "code",
   "execution_count": 18,
   "metadata": {
    "execution": {
     "iopub.execute_input": "2021-02-26T14:29:29.340337Z",
     "iopub.status.busy": "2021-02-26T14:29:29.339655Z",
     "iopub.status.idle": "2021-02-26T14:29:29.356140Z",
     "shell.execute_reply": "2021-02-26T14:29:29.356749Z"
    },
    "papermill": {
     "duration": 0.05037,
     "end_time": "2021-02-26T14:29:29.356952",
     "exception": false,
     "start_time": "2021-02-26T14:29:29.306582",
     "status": "completed"
    },
    "tags": []
   },
   "outputs": [
    {
     "data": {
      "text/html": [
       "<div>\n",
       "<style scoped>\n",
       "    .dataframe tbody tr th:only-of-type {\n",
       "        vertical-align: middle;\n",
       "    }\n",
       "\n",
       "    .dataframe tbody tr th {\n",
       "        vertical-align: top;\n",
       "    }\n",
       "\n",
       "    .dataframe thead th {\n",
       "        text-align: right;\n",
       "    }\n",
       "</style>\n",
       "<table border=\"1\" class=\"dataframe\">\n",
       "  <thead>\n",
       "    <tr style=\"text-align: right;\">\n",
       "      <th></th>\n",
       "      <th>prediction</th>\n",
       "      <th>ground_truth</th>\n",
       "    </tr>\n",
       "  </thead>\n",
       "  <tbody>\n",
       "    <tr>\n",
       "      <th>0</th>\n",
       "      <td>SG</td>\n",
       "      <td>SG</td>\n",
       "    </tr>\n",
       "    <tr>\n",
       "      <th>1</th>\n",
       "      <td>C</td>\n",
       "      <td>C</td>\n",
       "    </tr>\n",
       "    <tr>\n",
       "      <th>2</th>\n",
       "      <td>C</td>\n",
       "      <td>SG</td>\n",
       "    </tr>\n",
       "    <tr>\n",
       "      <th>3</th>\n",
       "      <td>C</td>\n",
       "      <td>SG</td>\n",
       "    </tr>\n",
       "    <tr>\n",
       "      <th>4</th>\n",
       "      <td>SG</td>\n",
       "      <td>SG</td>\n",
       "    </tr>\n",
       "    <tr>\n",
       "      <th>5</th>\n",
       "      <td>C</td>\n",
       "      <td>C</td>\n",
       "    </tr>\n",
       "    <tr>\n",
       "      <th>6</th>\n",
       "      <td>SG</td>\n",
       "      <td>C</td>\n",
       "    </tr>\n",
       "    <tr>\n",
       "      <th>7</th>\n",
       "      <td>C</td>\n",
       "      <td>C</td>\n",
       "    </tr>\n",
       "    <tr>\n",
       "      <th>8</th>\n",
       "      <td>SG</td>\n",
       "      <td>SG</td>\n",
       "    </tr>\n",
       "    <tr>\n",
       "      <th>9</th>\n",
       "      <td>C</td>\n",
       "      <td>C</td>\n",
       "    </tr>\n",
       "    <tr>\n",
       "      <th>10</th>\n",
       "      <td>C</td>\n",
       "      <td>C</td>\n",
       "    </tr>\n",
       "    <tr>\n",
       "      <th>11</th>\n",
       "      <td>SG</td>\n",
       "      <td>SG</td>\n",
       "    </tr>\n",
       "    <tr>\n",
       "      <th>12</th>\n",
       "      <td>SG</td>\n",
       "      <td>SG</td>\n",
       "    </tr>\n",
       "    <tr>\n",
       "      <th>13</th>\n",
       "      <td>SG</td>\n",
       "      <td>C</td>\n",
       "    </tr>\n",
       "    <tr>\n",
       "      <th>14</th>\n",
       "      <td>C</td>\n",
       "      <td>C</td>\n",
       "    </tr>\n",
       "    <tr>\n",
       "      <th>15</th>\n",
       "      <td>C</td>\n",
       "      <td>C</td>\n",
       "    </tr>\n",
       "    <tr>\n",
       "      <th>16</th>\n",
       "      <td>SG</td>\n",
       "      <td>C</td>\n",
       "    </tr>\n",
       "    <tr>\n",
       "      <th>17</th>\n",
       "      <td>C</td>\n",
       "      <td>C</td>\n",
       "    </tr>\n",
       "    <tr>\n",
       "      <th>18</th>\n",
       "      <td>SG</td>\n",
       "      <td>SG</td>\n",
       "    </tr>\n",
       "    <tr>\n",
       "      <th>19</th>\n",
       "      <td>SG</td>\n",
       "      <td>SG</td>\n",
       "    </tr>\n",
       "  </tbody>\n",
       "</table>\n",
       "</div>"
      ],
      "text/plain": [
       "   prediction ground_truth\n",
       "0          SG           SG\n",
       "1           C            C\n",
       "2           C           SG\n",
       "3           C           SG\n",
       "4          SG           SG\n",
       "5           C            C\n",
       "6          SG            C\n",
       "7           C            C\n",
       "8          SG           SG\n",
       "9           C            C\n",
       "10          C            C\n",
       "11         SG           SG\n",
       "12         SG           SG\n",
       "13         SG            C\n",
       "14          C            C\n",
       "15          C            C\n",
       "16         SG            C\n",
       "17          C            C\n",
       "18         SG           SG\n",
       "19         SG           SG"
      ]
     },
     "execution_count": 18,
     "metadata": {},
     "output_type": "execute_result"
    }
   ],
   "source": [
    "pred = knn.predict(x_test)\n",
    "comparison = pd.DataFrame({'prediction':pred,'ground_truth':y_test.values.ravel()})\n",
    "comparison"
   ]
  },
  {
   "cell_type": "markdown",
   "metadata": {
    "papermill": {
     "duration": 0.029324,
     "end_time": "2021-02-26T14:29:29.418153",
     "exception": false,
     "start_time": "2021-02-26T14:29:29.388829",
     "status": "completed"
    },
    "tags": []
   },
   "source": [
    "## Reference\n",
    "\n",
    "[My first machine-learning/deep-learning by Minsuk Heo](https://github.com/wikibook/machine-learning/tree/master/data)\n",
    "\n",
    "[Wikipedia](https://en.wikipedia.org/wiki/K-nearest_neighbors_algorithm)"
   ]
  }
 ],
 "metadata": {
  "kernelspec": {
   "display_name": "Python 3",
   "language": "python",
   "name": "python3"
  },
  "language_info": {
   "codemirror_mode": {
    "name": "ipython",
    "version": 3
   },
   "file_extension": ".py",
   "mimetype": "text/x-python",
   "name": "python",
   "nbconvert_exporter": "python",
   "pygments_lexer": "ipython3",
   "version": "3.7.9"
  },
  "papermill": {
   "default_parameters": {},
   "duration": 11.835802,
   "end_time": "2021-02-26T14:29:30.057179",
   "environment_variables": {},
   "exception": null,
   "input_path": "__notebook__.ipynb",
   "output_path": "__notebook__.ipynb",
   "parameters": {},
   "start_time": "2021-02-26T14:29:18.221377",
   "version": "2.2.2"
  }
 },
 "nbformat": 4,
 "nbformat_minor": 4
}
